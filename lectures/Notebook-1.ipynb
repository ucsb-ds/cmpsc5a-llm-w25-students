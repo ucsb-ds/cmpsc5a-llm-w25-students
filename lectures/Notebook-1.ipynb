{
 "cells": [
  {
   "cell_type": "code",
   "execution_count": 1,
   "id": "e5b27903-baf3-40af-843b-c8b0fbbc2477",
   "metadata": {},
   "outputs": [],
   "source": [
    "# do not change this line\n",
    "%load_ext jupyter_ai_magics"
   ]
  },
  {
   "cell_type": "code",
   "execution_count": 8,
   "id": "b9e2756b-e444-449d-95b6-fc104712fc65",
   "metadata": {},
   "outputs": [
    {
     "name": "stdout",
     "output_type": "stream",
     "text": [
      "Hello World!\n"
     ]
    }
   ],
   "source": [
    "print(\"Hello World!\")"
   ]
  },
  {
   "cell_type": "code",
   "execution_count": null,
   "id": "7d5c3c9c-b75e-4e87-a395-1174d7bffa03",
   "metadata": {},
   "outputs": [],
   "source": [
    "# Hello World!"
   ]
  },
  {
   "cell_type": "markdown",
   "id": "10444f87-a5db-408d-bff7-462b58fb63c1",
   "metadata": {},
   "source": [
    "My notesThis means ..."
   ]
  },
  {
   "cell_type": "markdown",
   "id": "1adb7dc3-d047-4055-a1ee-8ea184793dec",
   "metadata": {},
   "source": [
    "## Introduction to Jupyter AI notebook\n",
    "\n",
    "##### Text cells\n",
    "In a notebook, each rectangle containing text or code is called a cell.\n",
    "\n",
    "Text cells (like this one) can be edited by double-clicking on them. They're written in a simple format called Markdown to add formatting and section headings. You don't need to learn Markdown, but you might want to.\n",
    "\n",
    "After you edit a text cell, click the \"run cell\" button at the top that looks like ▶| or hold down shift + return to confirm any changes. (Try not to delete the instructions of the lab.)\n",
    "\n",
    "##### Code cells\n",
    "Other cells contain code in the Python 3 language. Running a code cell will execute all of the code it contains.\n",
    "\n",
    "To run the code in a code cell, first click on that cell to activate it. It'll be highlighted with a little green or blue rectangle. Next, either press ▶| or hold down shift + return.\n",
    "\n",
    "##### AI cells with magic commands\n",
    "In this course, we will be using OpenAI's gpt-3.5-turbo model. These cells start with `%%ai openai-chat:gpt-3.5-turbo` and are followed by a `prompt` in the next line that works as an input to ChatGPT. This prompt will be sent to the AI assistant which will then respond with an output based on it.\n",
    "\n",
    "Please avoid using extremely lengthy and unnecessary prompts. Do not change the magic command and always use `%%ai openai-chat:gpt-3.5-turbo` in this course. Finalize and submit all your prompts that helped you solve questions as part of your work as we will be looking at how you think about the questions in this course.\n",
    "\n",
    "##### The Kernel\n",
    "The kernel is a program that executes the code inside your notebook and outputs the results. In the top right of your window, you can see a circle that indicates the status of your kernel. If the circle is empty (⚪), the kernel is idle and ready to execute code. If the circle is filled in (⚫), the kernel is busy running some code.\n",
    "\n",
    "Next to every code cell, you'll see some text that says In [...]. Before you run the cell, you'll see In [ ]. When the cell is running, you'll see In [*]. If you see an asterisk (*) next to a cell that doesn't go away, it's likely that the code inside the cell is taking too long to run, and it might be a good time to interrupt the kernel (discussed below). When a cell is finished running, you'll see a number inside the brackets, like so: In [1]. The number corresponds to the order in which you run the cells; so, the first cell you run will show a 1 when it's finished running, the second will show a 2, and so on.\n",
    "\n",
    "You may run into problems where your kernel is stuck for an excessive amount of time, your notebook is very slow and unresponsive, or your kernel loses its connection. If this happens, try the following steps:\n",
    "\n",
    "At the top of your screen, click Kernel, then Interrupt.\n",
    "If that doesn't help, click Kernel, then Restart. If you do this, you will have to run your code cells from the start of your notebook up until where you paused your work.\n",
    "If that doesn't help, restart your server. First, save your work by clicking File at the top left of your screen, then Save and Checkpoint. Next, click Control Panel at the top right. Choose Stop My Server to shut it down, then Start My Server to start it back up. Then, navigate back to the notebook you were working on. You'll still have to run your code cells again."
   ]
  },
  {
   "cell_type": "markdown",
   "id": "3201a40c-1902-409a-b0cd-4eb3ddb6f4f7",
   "metadata": {},
   "source": [
    "## Interacting with Python!\n",
    "\n",
    "We interact using human languages. In a similar way, you can interact with computers using programming languages through programs!"
   ]
  },
  {
   "cell_type": "markdown",
   "id": "15b4507c-63cd-4968-a363-fa67b4270c3b",
   "metadata": {},
   "source": [
    "Suggested Reading: https://inferentialthinking.com/chapters/03/programming-in-python.html "
   ]
  },
  {
   "cell_type": "markdown",
   "id": "b0e4eaa9-e03c-4ba6-a30b-f03635a9975e",
   "metadata": {},
   "source": [
    "## Expressions\n",
    "Programs are made up of expressions, which describe to the computer how to combine pieces of data."
   ]
  },
  {
   "cell_type": "markdown",
   "id": "bd66b199-ebd5-4613-a72c-a6d864b1f4ec",
   "metadata": {},
   "source": [
    "For example, let's look at a multiplication expression"
   ]
  },
  {
   "cell_type": "code",
   "execution_count": 3,
   "id": "4be40958-ee8d-49a4-b722-d0a79eb84055",
   "metadata": {},
   "outputs": [
    {
     "data": {
      "text/plain": [
       "12"
      ]
     },
     "execution_count": 3,
     "metadata": {},
     "output_type": "execute_result"
    }
   ],
   "source": [
    "3*4"
   ]
  },
  {
   "cell_type": "markdown",
   "id": "6aa79e28-8ca5-4573-9aea-dcaa06a54d27",
   "metadata": {},
   "source": [
    "What happens if we try using two `*`?"
   ]
  },
  {
   "cell_type": "code",
   "execution_count": 4,
   "id": "f6dde6f9-0d7d-476a-9353-6de782d8508c",
   "metadata": {},
   "outputs": [
    {
     "ename": "SyntaxError",
     "evalue": "invalid syntax (3671972048.py, line 1)",
     "output_type": "error",
     "traceback": [
      "\u001b[0;36m  Cell \u001b[0;32mIn[4], line 1\u001b[0;36m\u001b[0m\n\u001b[0;31m    3 * * 4\u001b[0m\n\u001b[0m        ^\u001b[0m\n\u001b[0;31mSyntaxError\u001b[0m\u001b[0;31m:\u001b[0m invalid syntax\n"
     ]
    }
   ],
   "source": [
    "3 * * 4"
   ]
  },
  {
   "cell_type": "markdown",
   "id": "366319ca-46fe-4896-a3b6-416690d74b57",
   "metadata": {},
   "source": [
    "The Syntax of a language is its set of grammar rules, and a SyntaxError indicates that an expression structure doesn’t match any of the rules of the language!"
   ]
  },
  {
   "cell_type": "code",
   "execution_count": 5,
   "id": "a0a6d84a-046a-40f9-bae0-e39303605e9b",
   "metadata": {},
   "outputs": [
    {
     "data": {
      "text/plain": [
       "81"
      ]
     },
     "execution_count": 5,
     "metadata": {},
     "output_type": "execute_result"
    }
   ],
   "source": [
    "3 ** 4"
   ]
  },
  {
   "cell_type": "code",
   "execution_count": 6,
   "id": "4de4fb5c-4de3-45f3-a54d-bd2fbe0f25de",
   "metadata": {},
   "outputs": [
    {
     "data": {
      "text/plain": [
       "24"
      ]
     },
     "execution_count": 6,
     "metadata": {},
     "output_type": "execute_result"
    }
   ],
   "source": [
    "3*2*4"
   ]
  },
  {
   "cell_type": "markdown",
   "id": "9b07549d-05c8-43b6-84ff-5c12d223e44b",
   "metadata": {},
   "source": [
    "The symbols `*` and `**` are called operators, and the values they combine are called operands. "
   ]
  },
  {
   "cell_type": "markdown",
   "id": "2232ee72-e706-4462-9a5c-d2dd419b0346",
   "metadata": {},
   "source": [
    "Some examples of common arithmetic expression types include Addition (`+`), Subtraction (`-`), Multiplication (`*`), Division (`/`), Exponentiation (`**`) and Remainder/Modulo (`%`). Reading suggestion: https://inferentialthinking.com/chapters/03/1/Expressions.html "
   ]
  },
  {
   "cell_type": "markdown",
   "id": "a3068f73-795b-48df-8ccb-c84bc2613362",
   "metadata": {},
   "source": [
    "##### chatgpt time!\n",
    "Now let us ask chatgpt what expressions are and if it can show us some examples! "
   ]
  },
  {
   "cell_type": "code",
   "execution_count": 17,
   "id": "fd4597d9-be01-440a-97d9-188477f936ea",
   "metadata": {},
   "outputs": [
    {
     "data": {
      "text/markdown": [
       "Expressions in Python are like little puzzles that we can solve using numbers and symbols. Just like how you solve puzzles by putting pieces together, we can put numbers and symbols together to get an answer.\n",
       "\n",
       "Here are some examples of arithmetic expressions and their values:\n",
       "\n",
       "| Expression       | Value     |\n",
       "|------------------|-----------|\n",
       "| 2 + 3            | 5         |\n",
       "| 7 - 4            | 3         |\n",
       "| 5 * 6            | 30        |\n",
       "| 12 / 4           | 3.0       |\n",
       "| 11 % 3           | 2         |\n",
       "| 2 ** 3           | 8         |\n",
       "\n",
       "So, if you see an expression like \"2 + 3\", you can solve it by adding 2 and 3 together to get the value 5. Expressions help us do math in Python!"
      ],
      "text/plain": [
       "<IPython.core.display.Markdown object>"
      ]
     },
     "execution_count": 17,
     "metadata": {
      "text/markdown": {
       "jupyter_ai": {
        "model_id": "gpt-3.5-turbo",
        "provider_id": "openai-chat"
       }
      }
     },
     "output_type": "execute_result"
    }
   ],
   "source": [
    "%%ai openai-chat:gpt-3.5-turbo\n",
    "What are expressions in Python? Explain it like you would to a 5 year old. Give me some examples and values of arithmetic expression types."
   ]
  },
  {
   "cell_type": "markdown",
   "id": "3cbed407-66b9-448e-8384-3452634c2512",
   "metadata": {},
   "source": [
    "Now, let's try an example that chatgpt showed us and verify what the value is! "
   ]
  },
  {
   "cell_type": "code",
   "execution_count": 7,
   "id": "b544cd4a-c3cc-45c8-b7e4-f0c4a615fdde",
   "metadata": {},
   "outputs": [
    {
     "data": {
      "text/plain": [
       "2"
      ]
     },
     "execution_count": 7,
     "metadata": {},
     "output_type": "execute_result"
    }
   ],
   "source": [
    "11 % 3"
   ]
  },
  {
   "cell_type": "markdown",
   "id": "a99b9dc6-2db2-4357-9fe0-e35d7019b133",
   "metadata": {},
   "source": [
    "##### chatgpt time!\n",
    "Now let's ask chatgpt about the Syntax Error!"
   ]
  },
  {
   "cell_type": "code",
   "execution_count": 24,
   "id": "4ae414a9-f503-4c56-b42f-cf22c0cb13d1",
   "metadata": {},
   "outputs": [
    {
     "data": {
      "text/markdown": [
       "The syntax error in your code occurs because there is a space between the two asterisks `* *`, which is not allowed in Python syntax. To correct it, remove the space so that it becomes `3 ** 4`.\n",
       "\n",
       "Exponentiation is performed using a double asterisk (`**`), with no space between them. \n",
       "\n",
       "So the corrected code would be:\n",
       "```python\n",
       "3 ** 4\n",
       "```\n",
       "\n",
       "This will correctly raise the number 3 to the power of 4, resulting in the value 81."
      ],
      "text/plain": [
       "<IPython.core.display.Markdown object>"
      ]
     },
     "execution_count": 24,
     "metadata": {
      "text/markdown": {
       "jupyter_ai": {
        "model_id": "gpt-3.5-turbo",
        "provider_id": "openai-chat"
       }
      }
     },
     "output_type": "execute_result"
    }
   ],
   "source": [
    "%%ai openai-chat:gpt-3.5-turbo\n",
    "I got a Syntax Error in Python when I ran `3 * * 4`. What is wrong with it? How should I correct it?"
   ]
  },
  {
   "cell_type": "markdown",
   "id": "76356252-edf4-44f2-8e67-46b0875157f8",
   "metadata": {},
   "source": [
    "## Names \n",
    "\n",
    "Names are incredibly important parts of human languages! It's the same for interactions with computers! Names are given to values in Python using an assignment statement. In an assignment, a name is followed by `=`, which is followed by any expression. The value of the expression to the right of `=` is assigned to the name. Once a name has a value assigned to it, the value will be substituted for that name in future expressions."
   ]
  },
  {
   "cell_type": "code",
   "execution_count": 9,
   "id": "7b51e74a-b450-4f4d-8742-79326be6401a",
   "metadata": {},
   "outputs": [
    {
     "data": {
      "text/plain": [
       "30"
      ]
     },
     "execution_count": 9,
     "metadata": {},
     "output_type": "execute_result"
    }
   ],
   "source": [
    "a = 10\n",
    "b = 20\n",
    "a + b"
   ]
  },
  {
   "cell_type": "code",
   "execution_count": 11,
   "id": "9ec33fc4-b84c-470f-ba42-104012626192",
   "metadata": {},
   "outputs": [
    {
     "data": {
      "text/plain": [
       "0.5"
      ]
     },
     "execution_count": 11,
     "metadata": {},
     "output_type": "execute_result"
    }
   ],
   "source": [
    "quarter = 1/4\n",
    "half = 2 * quarter\n",
    "half"
   ]
  },
  {
   "cell_type": "code",
   "execution_count": 12,
   "id": "4a436f96-a320-41ab-a4bc-9f460831702d",
   "metadata": {},
   "outputs": [
    {
     "name": "stdout",
     "output_type": "stream",
     "text": [
      "0.5\n"
     ]
    }
   ],
   "source": [
    "print(half)"
   ]
  },
  {
   "cell_type": "markdown",
   "id": "b983560d-8554-499b-81e6-33876ef5a15c",
   "metadata": {},
   "source": [
    "##### chatgpt time!\n",
    "Let'see what chatgpt thinks of assignment statements!"
   ]
  },
  {
   "cell_type": "code",
   "execution_count": 21,
   "id": "50132af5-c3f8-4338-8967-3db0101880e1",
   "metadata": {},
   "outputs": [
    {
     "data": {
      "text/markdown": [
       "Assignment statements in Python are like giving names to things. Just like how you have a name, like \"Emma\" or \"Jack\", we can give names to numbers or words in Python.\n",
       "\n",
       "For example, let's say we want to give a name to the number 5. We can write an assignment statement like this:\n",
       "\n",
       "```python\n",
       "x = 5\n",
       "```\n",
       "\n",
       "Now, we have given the name \"x\" to the number 5. So whenever we use the name \"x\", it represents the number 5.\n",
       "\n",
       "Another example is giving a name to a word. We can write an assignment statement like this:\n",
       "\n",
       "```python\n",
       "greeting = \"Hello\"\n",
       "```\n",
       "\n",
       "Now, we have given the name \"greeting\" to the word \"Hello\". So whenever we use the name \"greeting\", it represents the word \"Hello\".\n",
       "\n",
       "Assignment statements make it easier for us to work with numbers and words in Python."
      ],
      "text/plain": [
       "<IPython.core.display.Markdown object>"
      ]
     },
     "execution_count": 21,
     "metadata": {
      "text/markdown": {
       "jupyter_ai": {
        "model_id": "gpt-3.5-turbo",
        "provider_id": "openai-chat"
       }
      }
     },
     "output_type": "execute_result"
    }
   ],
   "source": [
    "%%ai openai-chat:gpt-3.5-turbo\n",
    "What are assignment statements in Python? Explain it like you would to a 5 year old. Give me some simple examples."
   ]
  },
  {
   "cell_type": "markdown",
   "id": "cc3d4cb1-1bec-4195-8c00-60e5b6fe5c97",
   "metadata": {},
   "source": [
    "Let's try it out!"
   ]
  },
  {
   "cell_type": "code",
   "execution_count": 22,
   "id": "7df3be82-698f-4eef-a0b7-d8619fb9b366",
   "metadata": {},
   "outputs": [
    {
     "data": {
      "text/plain": [
       "'Hello class!'"
      ]
     },
     "execution_count": 22,
     "metadata": {},
     "output_type": "execute_result"
    }
   ],
   "source": [
    "greeting = \"Hello\"\n",
    "greeting + \" class!\""
   ]
  },
  {
   "cell_type": "code",
   "execution_count": 14,
   "id": "1362014c-5950-4006-b5cc-daaa0fc3e9d7",
   "metadata": {},
   "outputs": [],
   "source": [
    "first = \"Hello\"\n",
    "second = \" class!\""
   ]
  },
  {
   "cell_type": "code",
   "execution_count": 13,
   "id": "fc1f669e-2563-4dff-b47f-dfceb2391aa7",
   "metadata": {},
   "outputs": [
    {
     "data": {
      "text/plain": [
       "'Hello'"
      ]
     },
     "execution_count": 13,
     "metadata": {},
     "output_type": "execute_result"
    }
   ],
   "source": [
    "Greeting = \"Hello\"\n",
    "Greeting"
   ]
  },
  {
   "cell_type": "markdown",
   "id": "bb7af8fa-842f-4501-8733-b29eb82c02b4",
   "metadata": {},
   "source": [
    "## Call Expressions\n",
    "\n",
    "Call expressions invoke functions, which are named operations. The name of the function appears first (what function you want to call), followed by arguments in parentheses. Let's look at some examples!"
   ]
  },
  {
   "cell_type": "code",
   "execution_count": 25,
   "id": "57497e1a-a31e-4412-80fe-6b23f23888e5",
   "metadata": {},
   "outputs": [
    {
     "data": {
      "text/plain": [
       "12"
      ]
     },
     "execution_count": 25,
     "metadata": {},
     "output_type": "execute_result"
    }
   ],
   "source": [
    "abs(-12)"
   ]
  },
  {
   "cell_type": "code",
   "execution_count": 26,
   "id": "d58963ad-d895-41c0-8d17-5651bb59042c",
   "metadata": {},
   "outputs": [
    {
     "data": {
      "text/plain": [
       "4"
      ]
     },
     "execution_count": 26,
     "metadata": {},
     "output_type": "execute_result"
    }
   ],
   "source": [
    "round(5 - 1.3)"
   ]
  },
  {
   "cell_type": "code",
   "execution_count": 27,
   "id": "c4e3ec29-92a6-44b4-b9be-21b7aa01e815",
   "metadata": {},
   "outputs": [
    {
     "data": {
      "text/plain": [
       "5"
      ]
     },
     "execution_count": 27,
     "metadata": {},
     "output_type": "execute_result"
    }
   ],
   "source": [
    "max(2, 2 + 3, 4)"
   ]
  },
  {
   "cell_type": "markdown",
   "id": "d96bc3d1-4f6b-4710-8e0d-8dbae9c69887",
   "metadata": {},
   "source": [
    "A few functions are available by default, such as `abs`, `max` and `round`, but most functions that are built into the Python language are stored in a collection of functions called a module. An import statement is used to provide access to a module. An example of a module you will be using is `math` module!"
   ]
  },
  {
   "cell_type": "markdown",
   "id": "d5c69af3-c79f-4df0-8f42-50354da0aabb",
   "metadata": {},
   "source": [
    "##### chatgpt time!\n",
    "Let's ask chatgpt about functions"
   ]
  },
  {
   "cell_type": "code",
   "execution_count": 29,
   "id": "4f0d3539-7264-479c-b9b4-d5b5fd8083a7",
   "metadata": {},
   "outputs": [
    {
     "data": {
      "text/markdown": [
       "Call expressions in Python are like using special magic words to make things happen instantly. Just like how you say \"abracadabra\" and something magical happens, in Python we use special words to make built-in functions do cool things for us.\n",
       "\n",
       "For example, let's say you want to know the length of a word. You can use the built-in function called \"len()\". When you say \"len('banana')\", it's like using your magic word to ask Python \"Hey Python, please tell me the length of the word 'banana'!\".\n",
       "\n",
       "Here is a very simple example:\n",
       "\n",
       "```python\n",
       "# Using the len() function\n",
       "word = 'banana'\n",
       "length = len(word)\n",
       "print(length)\n",
       "```\n",
       "\n",
       "When you run this code, the len() function is called with the word 'banana' as its input. The function will count the number of letters in the word and give you the result, which is 6 in this case. Then the value of length is printed out.\n",
       "\n",
       "So, call expressions help us use these magic words (functions) to get answers from Python, just like saying \"abracadabra\" to make something happen!"
      ],
      "text/plain": [
       "<IPython.core.display.Markdown object>"
      ]
     },
     "execution_count": 29,
     "metadata": {
      "text/markdown": {
       "jupyter_ai": {
        "model_id": "gpt-3.5-turbo",
        "provider_id": "openai-chat"
       }
      }
     },
     "output_type": "execute_result"
    }
   ],
   "source": [
    "%%ai openai-chat:gpt-3.5-turbo\n",
    "What are call expressions? Explain it like you would to a 5 year old using in built Python functions. Please give me a very simple example."
   ]
  },
  {
   "cell_type": "markdown",
   "id": "381a1be7-9efa-423b-9626-2587c4cdd8f8",
   "metadata": {},
   "source": [
    "Let's try out chatgpt's cool example!"
   ]
  },
  {
   "cell_type": "code",
   "execution_count": 30,
   "id": "a2c4b21f-4887-4d52-95bc-f9b8403d0af8",
   "metadata": {},
   "outputs": [
    {
     "name": "stdout",
     "output_type": "stream",
     "text": [
      "6\n"
     ]
    }
   ],
   "source": [
    "word = 'banana'\n",
    "length = len(word)\n",
    "print(length)"
   ]
  },
  {
   "cell_type": "markdown",
   "id": "8d6eaff8-1a0f-4884-b79c-cda92db60e33",
   "metadata": {},
   "source": [
    "## Tables\n",
    "\n",
    "One of the simplest ways to work with data is through `Table` structures. Tables are a fundamental way of representing data sets. They can be viewed as a sequence of named columns that each describe a single attribute of all entries in a data set, or \r\n",
    "a sequence of rows that each contain all information about a single individual in a data set."
   ]
  },
  {
   "cell_type": "code",
   "execution_count": 2,
   "id": "fc9cada3-e5db-4fb2-a29d-f961114602b9",
   "metadata": {},
   "outputs": [],
   "source": [
    "from datascience import *"
   ]
  },
  {
   "cell_type": "code",
   "execution_count": 3,
   "id": "fa7cea00-7555-4fb0-8541-7bbcf57d22ba",
   "metadata": {},
   "outputs": [
    {
     "data": {
      "text/html": [
       "<table border=\"1\" class=\"dataframe\">\n",
       "    <thead>\n",
       "        <tr>\n",
       "            <th>Flavor</th> <th>Color</th> <th>Price</th>\n",
       "        </tr>\n",
       "    </thead>\n",
       "    <tbody>\n",
       "        <tr>\n",
       "            <td>strawberry</td> <td>pink       </td> <td>3.55 </td>\n",
       "        </tr>\n",
       "        <tr>\n",
       "            <td>chocolate </td> <td>light brown</td> <td>4.75 </td>\n",
       "        </tr>\n",
       "        <tr>\n",
       "            <td>chocolate </td> <td>dark brown </td> <td>5.25 </td>\n",
       "        </tr>\n",
       "        <tr>\n",
       "            <td>bubblegum </td> <td>pink       </td> <td>4.75 </td>\n",
       "        </tr>\n",
       "    </tbody>\n",
       "</table>"
      ],
      "text/plain": [
       "Flavor     | Color       | Price\n",
       "strawberry | pink        | 3.55\n",
       "chocolate  | light brown | 4.75\n",
       "chocolate  | dark brown  | 5.25\n",
       "bubblegum  | pink        | 4.75"
      ]
     },
     "execution_count": 3,
     "metadata": {},
     "output_type": "execute_result"
    }
   ],
   "source": [
    "cones = Table.read_table(\"data/cones.csv\")\n",
    "cones"
   ]
  },
  {
   "cell_type": "markdown",
   "id": "a4c9984f-62ff-4dbb-a81c-6a1265fdc033",
   "metadata": {},
   "source": [
    "##### chatgpt time!\n",
    "Now let's ask chatgpt what it thinks of tables!"
   ]
  },
  {
   "cell_type": "code",
   "execution_count": 33,
   "id": "614ea866-b90d-4fce-ad49-a0f75cbe1477",
   "metadata": {},
   "outputs": [
    {
     "data": {
      "text/markdown": [
       "A table is a way of organizing data in a structured manner. Just like how you use a table to organize your toys or books, in data representation, a table helps us organize information in a clear and orderly fashion.\n",
       "\n",
       "In a table, we have rows and columns. Imagine a grid like a tic-tac-toe board. The rows go from left to right, like the rows of seats in a movie theater. The columns go from top to bottom, like the columns of a newspaper.\n",
       "\n",
       "Here's an example to help you understand:\n",
       "\n",
       "| Name     | Age | Gender |\n",
       "|----------|-----|--------|\n",
       "| Emma     | 8   | Female |\n",
       "| Liam     | 5   | Male   |\n",
       "| Sophia   | 7   | Female |\n",
       "| Noah     | 6   | Male   |\n",
       "\n",
       "In this table, we have four rows and three columns. Each row represents information about a person, and each column represents a specific attribute or characteristic of that person. For example, the first row tells us that \"Emma\" is 8 years old and is a female. \n",
       "\n",
       "Rows and columns help us organize and represent data in an easy-to-understand way. Just like how you arrange your toys or books neatly, a table allows us to see and compare information at a glance."
      ],
      "text/plain": [
       "<IPython.core.display.Markdown object>"
      ]
     },
     "execution_count": 33,
     "metadata": {
      "text/markdown": {
       "jupyter_ai": {
        "model_id": "gpt-3.5-turbo",
        "provider_id": "openai-chat"
       }
      }
     },
     "output_type": "execute_result"
    }
   ],
   "source": [
    "%%ai openai-chat:gpt-3.5-turbo\n",
    "What is a table? How can I understand data representations in a table? Explain to me what rows and columns are."
   ]
  },
  {
   "cell_type": "markdown",
   "id": "c22c3514-44a1-4525-8679-947d15186b9b",
   "metadata": {},
   "source": [
    "##### Some Table methods \n",
    "\n",
    "Now that you understand what a table is, we will learn what you can do with a table and manipulate it (and hence the data in it!) using different table methods! It works just like functions/call expressions you saw. The name of the table appears first (what table you want to apply a method on), followed by arguments in parentheses."
   ]
  },
  {
   "cell_type": "markdown",
   "id": "fe987e42-f438-4a36-8671-57fd58cd2b1d",
   "metadata": {},
   "source": [
    "###### show\n",
    "For example, if you want to see just the first two rows of a table, you can use the table method `show`. Two is just an example here, it can be any number."
   ]
  },
  {
   "cell_type": "code",
   "execution_count": 10,
   "id": "636c57fb-0b1b-4b5d-9218-d1a1337b0682",
   "metadata": {},
   "outputs": [
    {
     "data": {
      "text/html": [
       "<table border=\"1\" class=\"dataframe\">\n",
       "    <thead>\n",
       "        <tr>\n",
       "            <th>Flavor</th> <th>Color</th> <th>Price</th>\n",
       "        </tr>\n",
       "    </thead>\n",
       "    <tbody>\n",
       "        <tr>\n",
       "            <td>strawberry</td> <td>pink       </td> <td>3.55 </td>\n",
       "        </tr>\n",
       "        <tr>\n",
       "            <td>chocolate </td> <td>light brown</td> <td>4.75 </td>\n",
       "        </tr>\n",
       "    </tbody>\n",
       "</table>\n",
       "<p>... (2 rows omitted)</p>"
      ],
      "text/plain": [
       "<IPython.core.display.HTML object>"
      ]
     },
     "metadata": {},
     "output_type": "display_data"
    }
   ],
   "source": [
    "cones.show(2)"
   ]
  },
  {
   "cell_type": "markdown",
   "id": "3ca48134-fc32-4057-a561-38c5d5523eae",
   "metadata": {},
   "source": [
    "###### select\n",
    "\n",
    "The method `select` creates a new table consisting of only the specified columns and leaves the original table unchanged"
   ]
  },
  {
   "cell_type": "code",
   "execution_count": 11,
   "id": "19257311-ad47-4cf2-b3f7-65fd6c43722a",
   "metadata": {},
   "outputs": [
    {
     "data": {
      "text/html": [
       "<table border=\"1\" class=\"dataframe\">\n",
       "    <thead>\n",
       "        <tr>\n",
       "            <th>Flavor</th>\n",
       "        </tr>\n",
       "    </thead>\n",
       "    <tbody>\n",
       "        <tr>\n",
       "            <td>strawberry</td>\n",
       "        </tr>\n",
       "        <tr>\n",
       "            <td>chocolate </td>\n",
       "        </tr>\n",
       "        <tr>\n",
       "            <td>chocolate </td>\n",
       "        </tr>\n",
       "    </tbody>\n",
       "</table>\n",
       "<p>... (1 rows omitted)</p>"
      ],
      "text/plain": [
       "<IPython.core.display.HTML object>"
      ]
     },
     "metadata": {},
     "output_type": "display_data"
    }
   ],
   "source": [
    "flavor = cones.select('Flavor')\n",
    "flavor.show(3)"
   ]
  },
  {
   "cell_type": "code",
   "execution_count": 12,
   "id": "71bdf05a-1d1c-4516-974c-7dfea5ea8d0b",
   "metadata": {},
   "outputs": [
    {
     "data": {
      "text/html": [
       "<table border=\"1\" class=\"dataframe\">\n",
       "    <thead>\n",
       "        <tr>\n",
       "            <th>Flavor</th> <th>Color</th> <th>Price</th>\n",
       "        </tr>\n",
       "    </thead>\n",
       "    <tbody>\n",
       "        <tr>\n",
       "            <td>strawberry</td> <td>pink       </td> <td>3.55 </td>\n",
       "        </tr>\n",
       "        <tr>\n",
       "            <td>chocolate </td> <td>light brown</td> <td>4.75 </td>\n",
       "        </tr>\n",
       "        <tr>\n",
       "            <td>chocolate </td> <td>dark brown </td> <td>5.25 </td>\n",
       "        </tr>\n",
       "        <tr>\n",
       "            <td>bubblegum </td> <td>pink       </td> <td>4.75 </td>\n",
       "        </tr>\n",
       "    </tbody>\n",
       "</table>"
      ],
      "text/plain": [
       "Flavor     | Color       | Price\n",
       "strawberry | pink        | 3.55\n",
       "chocolate  | light brown | 4.75\n",
       "chocolate  | dark brown  | 5.25\n",
       "bubblegum  | pink        | 4.75"
      ]
     },
     "execution_count": 12,
     "metadata": {},
     "output_type": "execute_result"
    }
   ],
   "source": [
    "cones #original table"
   ]
  },
  {
   "cell_type": "markdown",
   "id": "91a6144b-7d5e-4d79-8ee9-9516e08707e1",
   "metadata": {},
   "source": [
    "You can select more than one column, by separating the column labels by commas"
   ]
  },
  {
   "cell_type": "code",
   "execution_count": 30,
   "id": "cc176554-d247-44de-ae2d-d0a8e02ae5d8",
   "metadata": {},
   "outputs": [
    {
     "data": {
      "text/html": [
       "<table border=\"1\" class=\"dataframe\">\n",
       "    <thead>\n",
       "        <tr>\n",
       "            <th>Flavor</th> <th>Price</th>\n",
       "        </tr>\n",
       "    </thead>\n",
       "    <tbody>\n",
       "        <tr>\n",
       "            <td>strawberry</td> <td>3.55 </td>\n",
       "        </tr>\n",
       "        <tr>\n",
       "            <td>chocolate </td> <td>4.75 </td>\n",
       "        </tr>\n",
       "        <tr>\n",
       "            <td>chocolate </td> <td>5.25 </td>\n",
       "        </tr>\n",
       "        <tr>\n",
       "            <td>bubblegum </td> <td>4.75 </td>\n",
       "        </tr>\n",
       "    </tbody>\n",
       "</table>"
      ],
      "text/plain": [
       "Flavor     | Price\n",
       "strawberry | 3.55\n",
       "chocolate  | 4.75\n",
       "chocolate  | 5.25\n",
       "bubblegum  | 4.75"
      ]
     },
     "execution_count": 30,
     "metadata": {},
     "output_type": "execute_result"
    }
   ],
   "source": [
    "cones.select('Flavor', 'Price')"
   ]
  },
  {
   "cell_type": "code",
   "execution_count": 13,
   "id": "65df83b0-dd3d-4324-9205-64d2d6c830cb",
   "metadata": {},
   "outputs": [
    {
     "ename": "ValueError",
     "evalue": "The column \"flavor\" is not in the table. The table contains these columns: Flavor, Color, Price",
     "output_type": "error",
     "traceback": [
      "\u001b[0;31m---------------------------------------------------------------------------\u001b[0m",
      "\u001b[0;31mValueError\u001b[0m                                Traceback (most recent call last)",
      "Cell \u001b[0;32mIn[13], line 1\u001b[0m\n\u001b[0;32m----> 1\u001b[0m \u001b[43mcones\u001b[49m\u001b[38;5;241;43m.\u001b[39;49m\u001b[43mselect\u001b[49m\u001b[43m(\u001b[49m\u001b[38;5;124;43m'\u001b[39;49m\u001b[38;5;124;43mflavor\u001b[39;49m\u001b[38;5;124;43m'\u001b[39;49m\u001b[43m)\u001b[49m\n",
      "File \u001b[0;32m/opt/conda/lib/python3.11/site-packages/datascience/tables.py:1252\u001b[0m, in \u001b[0;36mTable.select\u001b[0;34m(self, *column_or_columns)\u001b[0m\n\u001b[1;32m   1250\u001b[0m table \u001b[38;5;241m=\u001b[39m \u001b[38;5;28mtype\u001b[39m(\u001b[38;5;28mself\u001b[39m)()\n\u001b[1;32m   1251\u001b[0m \u001b[38;5;28;01mfor\u001b[39;00m label \u001b[38;5;129;01min\u001b[39;00m labels:\n\u001b[0;32m-> 1252\u001b[0m     \u001b[38;5;28mself\u001b[39m\u001b[38;5;241m.\u001b[39m_add_column_and_format(table, label, np\u001b[38;5;241m.\u001b[39mcopy(\u001b[38;5;28;43mself\u001b[39;49m\u001b[43m[\u001b[49m\u001b[43mlabel\u001b[49m\u001b[43m]\u001b[49m))\n\u001b[1;32m   1253\u001b[0m \u001b[38;5;28;01mreturn\u001b[39;00m table\n",
      "File \u001b[0;32m/opt/conda/lib/python3.11/site-packages/datascience/tables.py:261\u001b[0m, in \u001b[0;36mTable.__getitem__\u001b[0;34m(self, index_or_label)\u001b[0m\n\u001b[1;32m    260\u001b[0m \u001b[38;5;28;01mdef\u001b[39;00m \u001b[38;5;21m__getitem__\u001b[39m(\u001b[38;5;28mself\u001b[39m, index_or_label):\n\u001b[0;32m--> 261\u001b[0m     \u001b[38;5;28;01mreturn\u001b[39;00m \u001b[38;5;28;43mself\u001b[39;49m\u001b[38;5;241;43m.\u001b[39;49m\u001b[43mcolumn\u001b[49m\u001b[43m(\u001b[49m\u001b[43mindex_or_label\u001b[49m\u001b[43m)\u001b[49m\n",
      "File \u001b[0;32m/opt/conda/lib/python3.11/site-packages/datascience/tables.py:408\u001b[0m, in \u001b[0;36mTable.column\u001b[0;34m(self, index_or_label)\u001b[0m\n\u001b[1;32m    383\u001b[0m \u001b[38;5;250m\u001b[39m\u001b[38;5;124;03m\"\"\"Return the values of a column as an array.\u001b[39;00m\n\u001b[1;32m    384\u001b[0m \n\u001b[1;32m    385\u001b[0m \u001b[38;5;124;03mtable.column(label) is equivalent to table[label].\u001b[39;00m\n\u001b[0;32m   (...)\u001b[0m\n\u001b[1;32m    404\u001b[0m \u001b[38;5;124;03m    ``ValueError``: When the ``index_or_label`` is not in the table.\u001b[39;00m\n\u001b[1;32m    405\u001b[0m \u001b[38;5;124;03m\"\"\"\u001b[39;00m\n\u001b[1;32m    406\u001b[0m \u001b[38;5;28;01mif\u001b[39;00m (\u001b[38;5;28misinstance\u001b[39m(index_or_label, \u001b[38;5;28mstr\u001b[39m)\n\u001b[1;32m    407\u001b[0m         \u001b[38;5;129;01mand\u001b[39;00m index_or_label \u001b[38;5;129;01mnot\u001b[39;00m \u001b[38;5;129;01min\u001b[39;00m \u001b[38;5;28mself\u001b[39m\u001b[38;5;241m.\u001b[39mlabels):\n\u001b[0;32m--> 408\u001b[0m     \u001b[38;5;28;01mraise\u001b[39;00m \u001b[38;5;167;01mValueError\u001b[39;00m(\n\u001b[1;32m    409\u001b[0m         \u001b[38;5;124m'\u001b[39m\u001b[38;5;124mThe column \u001b[39m\u001b[38;5;124m\"\u001b[39m\u001b[38;5;132;01m{}\u001b[39;00m\u001b[38;5;124m\"\u001b[39m\u001b[38;5;124m is not in the table. The table contains \u001b[39m\u001b[38;5;124m'\u001b[39m\n\u001b[1;32m    410\u001b[0m         \u001b[38;5;124m'\u001b[39m\u001b[38;5;124mthese columns: \u001b[39m\u001b[38;5;132;01m{}\u001b[39;00m\u001b[38;5;124m'\u001b[39m\n\u001b[1;32m    411\u001b[0m         \u001b[38;5;241m.\u001b[39mformat(index_or_label, \u001b[38;5;124m'\u001b[39m\u001b[38;5;124m, \u001b[39m\u001b[38;5;124m'\u001b[39m\u001b[38;5;241m.\u001b[39mjoin(\u001b[38;5;28mself\u001b[39m\u001b[38;5;241m.\u001b[39mlabels))\n\u001b[1;32m    412\u001b[0m     )\n\u001b[1;32m    413\u001b[0m \u001b[38;5;28;01mif\u001b[39;00m (\u001b[38;5;28misinstance\u001b[39m(index_or_label, \u001b[38;5;28mint\u001b[39m)\n\u001b[1;32m    414\u001b[0m         \u001b[38;5;129;01mand\u001b[39;00m \u001b[38;5;129;01mnot\u001b[39;00m \u001b[38;5;241m0\u001b[39m \u001b[38;5;241m<\u001b[39m\u001b[38;5;241m=\u001b[39m index_or_label \u001b[38;5;241m<\u001b[39m \u001b[38;5;28mlen\u001b[39m(\u001b[38;5;28mself\u001b[39m\u001b[38;5;241m.\u001b[39mlabels)):\n\u001b[1;32m    415\u001b[0m     \u001b[38;5;28;01mraise\u001b[39;00m \u001b[38;5;167;01mValueError\u001b[39;00m(\n\u001b[1;32m    416\u001b[0m         \u001b[38;5;124m'\u001b[39m\u001b[38;5;124mThe index \u001b[39m\u001b[38;5;132;01m{}\u001b[39;00m\u001b[38;5;124m is not in the table. Only indices between \u001b[39m\u001b[38;5;124m'\u001b[39m\n\u001b[1;32m    417\u001b[0m         \u001b[38;5;124m'\u001b[39m\u001b[38;5;124m0 and \u001b[39m\u001b[38;5;132;01m{}\u001b[39;00m\u001b[38;5;124m are valid\u001b[39m\u001b[38;5;124m'\u001b[39m\n\u001b[1;32m    418\u001b[0m         \u001b[38;5;241m.\u001b[39mformat(index_or_label, \u001b[38;5;28mlen\u001b[39m(\u001b[38;5;28mself\u001b[39m\u001b[38;5;241m.\u001b[39mlabels) \u001b[38;5;241m-\u001b[39m \u001b[38;5;241m1\u001b[39m)\n\u001b[1;32m    419\u001b[0m     )\n",
      "\u001b[0;31mValueError\u001b[0m: The column \"flavor\" is not in the table. The table contains these columns: Flavor, Color, Price"
     ]
    }
   ],
   "source": [
    "cones.select('flavor')"
   ]
  },
  {
   "cell_type": "markdown",
   "id": "8ff6d6f7-802d-453c-ae10-968105c1f7a3",
   "metadata": {},
   "source": [
    "###### drop\n",
    "\n",
    "You can also `drop` columns you don’t want. The table above can be created by dropping the Color column. This method also leaves the original table unchanged."
   ]
  },
  {
   "cell_type": "code",
   "execution_count": 14,
   "id": "cc26e7d5-f30d-491c-9886-d59b888a732e",
   "metadata": {},
   "outputs": [
    {
     "data": {
      "text/html": [
       "<table border=\"1\" class=\"dataframe\">\n",
       "    <thead>\n",
       "        <tr>\n",
       "            <th>Flavor</th> <th>Price</th>\n",
       "        </tr>\n",
       "    </thead>\n",
       "    <tbody>\n",
       "        <tr>\n",
       "            <td>strawberry</td> <td>3.55 </td>\n",
       "        </tr>\n",
       "        <tr>\n",
       "            <td>chocolate </td> <td>4.75 </td>\n",
       "        </tr>\n",
       "        <tr>\n",
       "            <td>chocolate </td> <td>5.25 </td>\n",
       "        </tr>\n",
       "        <tr>\n",
       "            <td>bubblegum </td> <td>4.75 </td>\n",
       "        </tr>\n",
       "    </tbody>\n",
       "</table>"
      ],
      "text/plain": [
       "Flavor     | Price\n",
       "strawberry | 3.55\n",
       "chocolate  | 4.75\n",
       "chocolate  | 5.25\n",
       "bubblegum  | 4.75"
      ]
     },
     "execution_count": 14,
     "metadata": {},
     "output_type": "execute_result"
    }
   ],
   "source": [
    "no_colors = cones.drop('Color')\n",
    "no_colors"
   ]
  },
  {
   "cell_type": "code",
   "execution_count": 15,
   "id": "63be46fd-2bc7-410e-8488-b2d99b766262",
   "metadata": {},
   "outputs": [
    {
     "data": {
      "text/html": [
       "<table border=\"1\" class=\"dataframe\">\n",
       "    <thead>\n",
       "        <tr>\n",
       "            <th>Flavor</th> <th>Color</th> <th>Price</th>\n",
       "        </tr>\n",
       "    </thead>\n",
       "    <tbody>\n",
       "        <tr>\n",
       "            <td>strawberry</td> <td>pink       </td> <td>3.55 </td>\n",
       "        </tr>\n",
       "        <tr>\n",
       "            <td>chocolate </td> <td>light brown</td> <td>4.75 </td>\n",
       "        </tr>\n",
       "        <tr>\n",
       "            <td>chocolate </td> <td>dark brown </td> <td>5.25 </td>\n",
       "        </tr>\n",
       "        <tr>\n",
       "            <td>bubblegum </td> <td>pink       </td> <td>4.75 </td>\n",
       "        </tr>\n",
       "    </tbody>\n",
       "</table>"
      ],
      "text/plain": [
       "Flavor     | Color       | Price\n",
       "strawberry | pink        | 3.55\n",
       "chocolate  | light brown | 4.75\n",
       "chocolate  | dark brown  | 5.25\n",
       "bubblegum  | pink        | 4.75"
      ]
     },
     "execution_count": 15,
     "metadata": {},
     "output_type": "execute_result"
    }
   ],
   "source": [
    "cones"
   ]
  },
  {
   "cell_type": "markdown",
   "id": "5ec3e6c6-26d0-4f4f-af0b-869ea8c872bf",
   "metadata": {},
   "source": [
    "###### sort \n",
    "\n",
    "The `sort` method creates a new table by arranging the rows of the original table in ascending order of the values in the specified column. It leaves the original table unchanged."
   ]
  },
  {
   "cell_type": "code",
   "execution_count": 33,
   "id": "c0ac625f-8e11-4cb9-b810-d5b6e2bbea05",
   "metadata": {},
   "outputs": [
    {
     "data": {
      "text/html": [
       "<table border=\"1\" class=\"dataframe\">\n",
       "    <thead>\n",
       "        <tr>\n",
       "            <th>Flavor</th> <th>Color</th> <th>Price</th>\n",
       "        </tr>\n",
       "    </thead>\n",
       "    <tbody>\n",
       "        <tr>\n",
       "            <td>strawberry</td> <td>pink       </td> <td>3.55 </td>\n",
       "        </tr>\n",
       "        <tr>\n",
       "            <td>chocolate </td> <td>light brown</td> <td>4.75 </td>\n",
       "        </tr>\n",
       "        <tr>\n",
       "            <td>bubblegum </td> <td>pink       </td> <td>4.75 </td>\n",
       "        </tr>\n",
       "        <tr>\n",
       "            <td>chocolate </td> <td>dark brown </td> <td>5.25 </td>\n",
       "        </tr>\n",
       "    </tbody>\n",
       "</table>"
      ],
      "text/plain": [
       "Flavor     | Color       | Price\n",
       "strawberry | pink        | 3.55\n",
       "chocolate  | light brown | 4.75\n",
       "bubblegum  | pink        | 4.75\n",
       "chocolate  | dark brown  | 5.25"
      ]
     },
     "execution_count": 33,
     "metadata": {},
     "output_type": "execute_result"
    }
   ],
   "source": [
    "cones.sort('Price')"
   ]
  },
  {
   "cell_type": "code",
   "execution_count": 16,
   "id": "51d9b788-3d8e-4559-8021-9682e518fde6",
   "metadata": {},
   "outputs": [
    {
     "data": {
      "text/html": [
       "<table border=\"1\" class=\"dataframe\">\n",
       "    <thead>\n",
       "        <tr>\n",
       "            <th>Flavor</th> <th>Color</th> <th>Price</th>\n",
       "        </tr>\n",
       "    </thead>\n",
       "    <tbody>\n",
       "        <tr>\n",
       "            <td>chocolate </td> <td>dark brown </td> <td>5.25 </td>\n",
       "        </tr>\n",
       "        <tr>\n",
       "            <td>chocolate </td> <td>light brown</td> <td>4.75 </td>\n",
       "        </tr>\n",
       "        <tr>\n",
       "            <td>bubblegum </td> <td>pink       </td> <td>4.75 </td>\n",
       "        </tr>\n",
       "        <tr>\n",
       "            <td>strawberry</td> <td>pink       </td> <td>3.55 </td>\n",
       "        </tr>\n",
       "    </tbody>\n",
       "</table>"
      ],
      "text/plain": [
       "Flavor     | Color       | Price\n",
       "chocolate  | dark brown  | 5.25\n",
       "chocolate  | light brown | 4.75\n",
       "bubblegum  | pink        | 4.75\n",
       "strawberry | pink        | 3.55"
      ]
     },
     "execution_count": 16,
     "metadata": {},
     "output_type": "execute_result"
    }
   ],
   "source": [
    "cones.sort('Price', descending=True) # descending is an optional argument, meaning you don't have to use it unless you want to change the default behavior of the method!"
   ]
  },
  {
   "cell_type": "code",
   "execution_count": 17,
   "id": "ce5e6a0e-b716-484b-89f6-508afd7a6c24",
   "metadata": {},
   "outputs": [
    {
     "data": {
      "text/html": [
       "<table border=\"1\" class=\"dataframe\">\n",
       "    <thead>\n",
       "        <tr>\n",
       "            <th>Flavor</th> <th>Color</th> <th>Price</th>\n",
       "        </tr>\n",
       "    </thead>\n",
       "    <tbody>\n",
       "        <tr>\n",
       "            <td>chocolate </td> <td>dark brown </td> <td>5.25 </td>\n",
       "        </tr>\n",
       "        <tr>\n",
       "            <td>chocolate </td> <td>light brown</td> <td>4.75 </td>\n",
       "        </tr>\n",
       "        <tr>\n",
       "            <td>strawberry</td> <td>pink       </td> <td>3.55 </td>\n",
       "        </tr>\n",
       "        <tr>\n",
       "            <td>bubblegum </td> <td>pink       </td> <td>4.75 </td>\n",
       "        </tr>\n",
       "    </tbody>\n",
       "</table>"
      ],
      "text/plain": [
       "Flavor     | Color       | Price\n",
       "chocolate  | dark brown  | 5.25\n",
       "chocolate  | light brown | 4.75\n",
       "strawberry | pink        | 3.55\n",
       "bubblegum  | pink        | 4.75"
      ]
     },
     "execution_count": 17,
     "metadata": {},
     "output_type": "execute_result"
    }
   ],
   "source": [
    "cones.sort('Color')"
   ]
  },
  {
   "cell_type": "markdown",
   "id": "d1f84147-2f82-4708-8d52-d3db967ff4bc",
   "metadata": {},
   "source": [
    "###### where\n",
    "\n",
    "The `where` method creates a new table consisting only of the rows that satisfy a given condition. We will work with a very simple example here -  the value in a specified column must be equal to a value that we also specify."
   ]
  },
  {
   "cell_type": "code",
   "execution_count": 18,
   "id": "7e2cf1b5-c2df-468c-ad8d-6019a3856b26",
   "metadata": {},
   "outputs": [
    {
     "data": {
      "text/html": [
       "<table border=\"1\" class=\"dataframe\">\n",
       "    <thead>\n",
       "        <tr>\n",
       "            <th>Flavor</th> <th>Color</th> <th>Price</th>\n",
       "        </tr>\n",
       "    </thead>\n",
       "    <tbody>\n",
       "        <tr>\n",
       "            <td>strawberry</td> <td>pink </td> <td>3.55 </td>\n",
       "        </tr>\n",
       "    </tbody>\n",
       "</table>"
      ],
      "text/plain": [
       "Flavor     | Color | Price\n",
       "strawberry | pink  | 3.55"
      ]
     },
     "execution_count": 18,
     "metadata": {},
     "output_type": "execute_result"
    }
   ],
   "source": [
    "cones.where('Flavor', 'strawberry')"
   ]
  },
  {
   "cell_type": "code",
   "execution_count": 20,
   "id": "0a0d2a46-7473-42e5-a7ba-0f31faec7939",
   "metadata": {
    "scrolled": true
   },
   "outputs": [
    {
     "data": {
      "text/html": [
       "<table border=\"1\" class=\"dataframe\">\n",
       "    <thead>\n",
       "        <tr>\n",
       "            <th>Flavor</th> <th>Color</th> <th>Price</th>\n",
       "        </tr>\n",
       "    </thead>\n",
       "    <tbody>\n",
       "        <tr>\n",
       "            <td>chocolate</td> <td>light brown</td> <td>4.75 </td>\n",
       "        </tr>\n",
       "        <tr>\n",
       "            <td>chocolate</td> <td>dark brown </td> <td>5.25 </td>\n",
       "        </tr>\n",
       "    </tbody>\n",
       "</table>"
      ],
      "text/plain": [
       "Flavor    | Color       | Price\n",
       "chocolate | light brown | 4.75\n",
       "chocolate | dark brown  | 5.25"
      ]
     },
     "execution_count": 20,
     "metadata": {},
     "output_type": "execute_result"
    }
   ],
   "source": [
    "# Case matters!\n",
    "cones.where('Flavor', 'chocolate')"
   ]
  },
  {
   "cell_type": "markdown",
   "id": "f0a9a02e-0480-4da9-97b9-76e480ec15ba",
   "metadata": {},
   "source": [
    "##### chatgpt time!\n",
    "Now, let's talk to chatgpt about table methods!"
   ]
  },
  {
   "cell_type": "code",
   "execution_count": 33,
   "id": "534cb81a-df7c-4c3c-b57c-2c84f097433f",
   "metadata": {},
   "outputs": [
    {
     "data": {
      "text/markdown": [
       "| Method | Explanation | Example |\n",
       "| ------ | ----------- | ------- |\n",
       "| show   | Displays the content of a database table. | `SHOW TABLES;` |\n",
       "| select | Retrieves specific columns or rows from a table. | `SELECT column1, column2 FROM table;` |\n",
       "| drop   | Removes a table from the database. | `DROP TABLE table;` |\n",
       "| sort   | Arranges the records in a table in ascending or descending order based on a column. | `SELECT * FROM table ORDER BY column ASC;` |\n",
       "| where  | Filters the records based on a specific condition. | `SELECT * FROM table WHERE column = value;` |"
      ],
      "text/plain": [
       "<IPython.core.display.Markdown object>"
      ]
     },
     "execution_count": 33,
     "metadata": {
      "text/markdown": {
       "jupyter_ai": {
        "model_id": "gpt-3.5-turbo",
        "provider_id": "openai-chat"
       }
      }
     },
     "output_type": "execute_result"
    }
   ],
   "source": [
    "%%ai openai-chat:gpt-3.5-turbo\n",
    "Explain to me the table methods show, select, drop, sort and where with very simple examples. "
   ]
  },
  {
   "cell_type": "markdown",
   "id": "ef2e8058-afde-4f5c-920f-d4cf6aa8e37a",
   "metadata": {},
   "source": [
    "Look at the response above! Chatgpt doesn't always recognize the context and give you the expected output! Here, you can see it is showing us methods from another language called SQL!"
   ]
  },
  {
   "cell_type": "code",
   "execution_count": 32,
   "id": "bd899a6c-71a1-4ed7-aad5-576c477ef695",
   "metadata": {},
   "outputs": [
    {
     "data": {
      "text/markdown": [
       "| Method | Explanation | Python Example |\n",
       "| ------ | ----------- | -------------- |\n",
       "| show   | Displays the content of a database table. | ```python\\nimport mysql.connector\\n\\nmydb = mysql.connector.connect(\\n  host=\"localhost\",\\n  user=\"username\",\\n  password=\"password\",\\n  database=\"database_name\"\\n)\\n\\nmycursor = mydb.cursor()\\n\\nmycursor.execute(\"SHOW TABLES\")\\n\\nfor table in mycursor:\\n  print(table)\\n``` |\n",
       "| select | Retrieves specific columns or rows from a table. | ```python\\nimport mysql.connector\\n\\nmydb = mysql.connector.connect(\\n  host=\"localhost\",\\n  user=\"username\",\\n  password=\"password\",\\n  database=\"database_name\"\\n)\\n\\nmycursor = mydb.cursor()\\n\\nmycursor.execute(\"SELECT column1, column2 FROM table\")\\n\\nresult = mycursor.fetchall()\\n\\nfor row in result:\\n  print(row)\\n``` |\n",
       "| drop   | Removes a table from the database. | ```python\\nimport mysql.connector\\n\\nmydb = mysql.connector.connect(\\n  host=\"localhost\",\\n  user=\"username\",\\n  password=\"password\",\\n  database=\"database_name\"\\n)\\n\\nmycursor = mydb.cursor()\\n\\nmycursor.execute(\"DROP TABLE table\")\\n``` |\n",
       "| sort   | Arranges the records in a table in ascending or descending order based on a column. | ```python\\nimport mysql.connector\\n\\nmydb = mysql.connector.connect(\\n  host=\"localhost\",\\n  user=\"username\",\\n  password=\"password\",\\n  database=\"database_name\"\\n)\\n\\nmycursor = mydb.cursor()\\n\\nmycursor.execute(\"SELECT * FROM table ORDER BY column ASC\")\\n\\nresult = mycursor.fetchall()\\n\\nfor row in result:\\n  print(row)\\n``` |\n",
       "| where  | Filters the records based on a specific condition. | ```python\\nimport mysql.connector\\n\\nmydb = mysql.connector.connect(\\n  host=\"localhost\",\\n  user=\"username\",\\n  password=\"password\",\\n  database=\"database_name\"\\n)\\n\\nmycursor = mydb.cursor()\\n\\nmycursor.execute(\"SELECT * FROM table WHERE column = value\")\\n\\nresult = mycursor.fetchall()\\n\\nfor row in result:\\n  print(row)\\n``` |"
      ],
      "text/plain": [
       "<IPython.core.display.Markdown object>"
      ]
     },
     "execution_count": 32,
     "metadata": {
      "text/markdown": {
       "jupyter_ai": {
        "model_id": "gpt-3.5-turbo",
        "provider_id": "openai-chat"
       }
      }
     },
     "output_type": "execute_result"
    }
   ],
   "source": [
    "%%ai openai-chat:gpt-3.5-turbo\n",
    "Explain to me the table methods show, select, drop, sort and where in Python with very simple examples. "
   ]
  },
  {
   "cell_type": "markdown",
   "id": "8a14e907-bc83-4ca1-b146-ec3245152d99",
   "metadata": {},
   "source": [
    "Look at the above output again. Even specifying Python did not quite work! In this course, you are going to work with chatgpt smartly, understand the responses and tweak the prompts. "
   ]
  },
  {
   "cell_type": "code",
   "execution_count": 37,
   "id": "0c5b427a-4e36-498d-8973-674129fb8ab3",
   "metadata": {},
   "outputs": [
    {
     "data": {
      "text/markdown": [
       "Here is the example table data:\n",
       "\n",
       "| Name   | Age |\n",
       "| ------ | --- |\n",
       "| Alice  | 5   |\n",
       "| Bob    | 6   |\n",
       "| Charlie| 7   |\n",
       "\n",
       "| Method   | Explanation                                      | Example                                                                                          |\n",
       "| -------- | ------------------------------------------------ | ------------------------------------------------------------------------------------------------ |\n",
       "| show     | Displays the content of a data table.            | To see all the information in the table, you can use the `show()` method.                       |\n",
       "| select   | Retrieves specific columns or rows from a table. | If you want to see only the names of your friends, you can use the `select()` method.            |\n",
       "| drop     | Removes a column from a table.                    | If you don't need the 'Age' column in the table, you can remove it using the `drop()` method.    |\n",
       "| sort     | Sorts the rows of a table based on a column.     | If you want to arrange the rows of the table by age, you can use the `sort()` method.           |\n",
       "| where    | Filters the rows of a table based on a condition. | If you want to find friends older than a certain age, you can use the `where()` method.          |\n",
       "\n",
       "```python\n",
       "import datascience as ds\n",
       "\n",
       "table = ds.Table().with_columns(\n",
       "    'Name', ['Alice', 'Bob', 'Charlie'],\n",
       "    'Age', [5, 6, 7]\n",
       ")\n",
       "\n",
       "# Example usage of each method\n",
       "table.show()                          # Shows the entire table\n",
       "name_column = table.select('Name')    # Selects only the 'Name' column\n",
       "updated_table = table.drop('Age')     # Removes the 'Age' column from the table\n",
       "sorted_table = table.sort('Age')      # Sorts the table by the 'Age' column\n",
       "filtered_table = table.where('Age', ds.are.above(5))   # Filters the table to show friends older than 5\n",
       "```"
      ],
      "text/plain": [
       "<IPython.core.display.Markdown object>"
      ]
     },
     "execution_count": 37,
     "metadata": {
      "text/markdown": {
       "jupyter_ai": {
        "model_id": "gpt-3.5-turbo",
        "provider_id": "openai-chat"
       }
      }
     },
     "output_type": "execute_result"
    }
   ],
   "source": [
    "%%ai openai-chat:gpt-3.5-turbo\n",
    "Explain to me the table methods show, select, drop, sort and where from datascience module in Python like I am a 5 year old. Assume we have a few rows of data in a table of your choice (show me that data first) and then give me very simple examples."
   ]
  },
  {
   "cell_type": "markdown",
   "id": "d96233c1-b9cb-4af3-96db-d0d1e4cb222f",
   "metadata": {},
   "source": [
    "Now, that looks much better!"
   ]
  },
  {
   "cell_type": "code",
   "execution_count": null,
   "id": "5a3f9279-af1d-4b07-9df0-6956baac4646",
   "metadata": {},
   "outputs": [],
   "source": []
  }
 ],
 "metadata": {
  "kernelspec": {
   "display_name": "Python 3 (ipykernel)",
   "language": "python",
   "name": "python3"
  },
  "language_info": {
   "codemirror_mode": {
    "name": "ipython",
    "version": 3
   },
   "file_extension": ".py",
   "mimetype": "text/x-python",
   "name": "python",
   "nbconvert_exporter": "python",
   "pygments_lexer": "ipython3",
   "version": "3.11.5"
  }
 },
 "nbformat": 4,
 "nbformat_minor": 5
}
