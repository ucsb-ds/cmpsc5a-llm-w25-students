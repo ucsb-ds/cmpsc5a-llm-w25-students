{
 "cells": [
  {
   "cell_type": "code",
   "execution_count": 1,
   "id": "e5476a93-9f62-4b63-9553-b439c8377655",
   "metadata": {},
   "outputs": [],
   "source": [
    "%load_ext jupyter_ai_magics"
   ]
  },
  {
   "cell_type": "code",
   "execution_count": 10,
   "id": "e7843d73-12fe-4456-9afe-c3164a5389d0",
   "metadata": {},
   "outputs": [],
   "source": [
    "from datascience import *\n",
    "import numpy as np"
   ]
  },
  {
   "cell_type": "markdown",
   "id": "da028859-a7ca-488d-a099-ec52911206a1",
   "metadata": {},
   "source": [
    "## Data Types\n",
    "\n",
    "Every value has a type, and the built-in `type` function returns the type of the result of any expression. Suggested Reading: https://inferentialthinking.com/chapters/04/Data_Types.html."
   ]
  },
  {
   "cell_type": "code",
   "execution_count": 3,
   "id": "5c7cf419-d4d8-4504-ae40-e6d4fdb8eb24",
   "metadata": {},
   "outputs": [
    {
     "data": {
      "text/plain": [
       "int"
      ]
     },
     "execution_count": 3,
     "metadata": {},
     "output_type": "execute_result"
    }
   ],
   "source": [
    "type(5)"
   ]
  },
  {
   "cell_type": "code",
   "execution_count": 5,
   "id": "2b3c74b4-43ba-4507-9b91-51abe90ea742",
   "metadata": {},
   "outputs": [
    {
     "data": {
      "text/plain": [
       "str"
      ]
     },
     "execution_count": 5,
     "metadata": {},
     "output_type": "execute_result"
    }
   ],
   "source": [
    "type(\"banana\")"
   ]
  },
  {
   "cell_type": "code",
   "execution_count": 4,
   "id": "398fb76f-88f7-459e-9ddc-671b34fdda8f",
   "metadata": {},
   "outputs": [
    {
     "data": {
      "text/plain": [
       "builtin_function_or_method"
      ]
     },
     "execution_count": 4,
     "metadata": {},
     "output_type": "execute_result"
    }
   ],
   "source": [
    "type(abs)"
   ]
  },
  {
   "cell_type": "markdown",
   "id": "8126412b-75a0-4161-bb1e-1de485810feb",
   "metadata": {},
   "source": [
    "Most of the data you will encounter will either be textual (strings) or numerical (integers/floats). "
   ]
  },
  {
   "cell_type": "markdown",
   "id": "f8334d4a-99c8-4ab0-beda-f419a2725715",
   "metadata": {},
   "source": [
    "#### Numbers\n",
    "\n",
    "Integers are called `int` values in the Python language. They can only represent whole numbers (negative, zero, or positive) that don’t have a fractional component.\n",
    "\n",
    "Real numbers are called `float` values (or floating point values) in the Python language. They can represent whole or fractional numbers but have some limitations."
   ]
  },
  {
   "cell_type": "code",
   "execution_count": 9,
   "id": "cdf3e1ec-d642-4b1f-a549-2fbcaba5f72d",
   "metadata": {},
   "outputs": [
    {
     "name": "stdout",
     "output_type": "stream",
     "text": [
      "2\n",
      "5\n",
      "<class 'int'>\n"
     ]
    }
   ],
   "source": [
    "# Some int values\n",
    "print(2)\n",
    "print(2+3)\n",
    "print(type(3))"
   ]
  },
  {
   "cell_type": "code",
   "execution_count": 8,
   "id": "6b2f3327-8692-41cb-8d77-7b24f4504b9e",
   "metadata": {},
   "outputs": [
    {
     "name": "stdout",
     "output_type": "stream",
     "text": [
      "1.5\n",
      "2.0\n",
      "<class 'float'>\n"
     ]
    }
   ],
   "source": [
    "# Some float values\n",
    "print(1.5)\n",
    "print(2.0)\n",
    "print(type(1/3))"
   ]
  },
  {
   "cell_type": "markdown",
   "id": "1e7b9629-09e5-4124-b908-8da630d5a7a1",
   "metadata": {},
   "source": [
    "#### Strings \n",
    "\n",
    "A piece of text represented in a computer is called a string. A string can represent a word, a sentence, or even the contents of every book in a library. Since text can include numbers (like this: 5) or truth values (True), a string can also describe those things."
   ]
  },
  {
   "cell_type": "code",
   "execution_count": 10,
   "id": "644a6be4-ee52-4092-957e-93169e402a74",
   "metadata": {},
   "outputs": [
    {
     "data": {
      "text/plain": [
       "'datascience'"
      ]
     },
     "execution_count": 10,
     "metadata": {},
     "output_type": "execute_result"
    }
   ],
   "source": [
    "\"data\" + \"science\""
   ]
  },
  {
   "cell_type": "markdown",
   "id": "4278ef0e-91d4-48a8-b86f-8ab25865b114",
   "metadata": {},
   "source": [
    "The `str` function returns a string representation of any value"
   ]
  },
  {
   "cell_type": "code",
   "execution_count": 12,
   "id": "4e428c19-00c7-439d-a279-b9f0d1187197",
   "metadata": {},
   "outputs": [
    {
     "data": {
      "text/plain": [
       "\"That's 2 True\""
      ]
     },
     "execution_count": 12,
     "metadata": {},
     "output_type": "execute_result"
    }
   ],
   "source": [
    "\"That's \" + str(1 + 1) + ' ' + str(True)"
   ]
  },
  {
   "cell_type": "markdown",
   "id": "6d1b76d5-0415-4956-8721-123963a40b94",
   "metadata": {},
   "source": [
    "You just saw we converted an integer value (1+1) and a Boolean value (True) to string! You can also convert float to int and int to float similarly. This is simply done by specifying a type on to a variable. Read more about it https://www.w3schools.com/python/python_casting.asp. "
   ]
  },
  {
   "cell_type": "code",
   "execution_count": 6,
   "id": "6ffc6917-f530-4e96-b963-5559b230482b",
   "metadata": {},
   "outputs": [
    {
     "data": {
      "text/plain": [
       "2"
      ]
     },
     "execution_count": 6,
     "metadata": {},
     "output_type": "execute_result"
    }
   ],
   "source": [
    "int(2.0)"
   ]
  },
  {
   "cell_type": "code",
   "execution_count": 7,
   "id": "49cc98e2-507f-4662-b027-ce6e0e667780",
   "metadata": {},
   "outputs": [
    {
     "data": {
      "text/plain": [
       "2"
      ]
     },
     "execution_count": 7,
     "metadata": {},
     "output_type": "execute_result"
    }
   ],
   "source": [
    "int(2.6) # you lose information here"
   ]
  },
  {
   "cell_type": "code",
   "execution_count": 8,
   "id": "f351875c-a5b0-4638-aca9-df54c9d25562",
   "metadata": {},
   "outputs": [
    {
     "data": {
      "text/plain": [
       "2.0"
      ]
     },
     "execution_count": 8,
     "metadata": {},
     "output_type": "execute_result"
    }
   ],
   "source": [
    "float(2)"
   ]
  },
  {
   "cell_type": "markdown",
   "id": "60809445-ac55-440f-b8ed-ec9eb36a8528",
   "metadata": {},
   "source": [
    "##### chatgpt time! \n",
    "Now let's ask chatgpt about strings and numbers in Python!"
   ]
  },
  {
   "cell_type": "code",
   "execution_count": 16,
   "id": "5cec226d-147f-45fa-8fbb-669fae6a8f3f",
   "metadata": {},
   "outputs": [
    {
     "data": {
      "text/markdown": [
       "In Python, data types are like different kinds of things we can have. It's a way to group similar things together. \n",
       "\n",
       "Numbers in Python are just like numbers we use in math. They can be whole numbers (like 1, 2, 3) or numbers with decimal points (like 1.5, 2.8, 3.9). We can do math operations with numbers in Python, like adding, subtracting, multiplying or dividing them.\n",
       "\n",
       "Strings in Python are like a bunch of letters or words put together. They are written in quotes, like \"hello\" or \"apple\". We can think of them as a string of characters. We can do different things with strings, like joining them together, finding certain letters, or even changing some of the letters. \n",
       "\n",
       "So, in simple words, numbers in Python are for doing math and strings are for working with words and letters."
      ],
      "text/plain": [
       "<IPython.core.display.Markdown object>"
      ]
     },
     "execution_count": 16,
     "metadata": {
      "text/markdown": {
       "jupyter_ai": {
        "model_id": "gpt-3.5-turbo",
        "provider_id": "openai-chat"
       }
      }
     },
     "output_type": "execute_result"
    }
   ],
   "source": [
    "%%ai openai-chat:gpt-3.5-turbo\n",
    "What are data types in Python? Explain it like you would to a 5 year old. What are numbers and strings in Python?"
   ]
  },
  {
   "cell_type": "markdown",
   "id": "c138b0f8-03a1-4728-a22a-32aa7b64151b",
   "metadata": {},
   "source": [
    "#### String methods\n",
    "\n",
    "Just like you're familiar with arithmetic operations on numbers, we are now going to look at methods that can be applied on strings!"
   ]
  },
  {
   "cell_type": "markdown",
   "id": "e71ce250-4991-48f1-a83e-a4aba38b1841",
   "metadata": {},
   "source": [
    "###### upper/lower\n",
    "`upper` generates an upper cased version of a string and `lower` generates a lower cased version of a string."
   ]
  },
  {
   "cell_type": "code",
   "execution_count": 18,
   "id": "aeab4dc9-0ca4-4b80-bc96-9bec9a6fc5c9",
   "metadata": {},
   "outputs": [
    {
     "data": {
      "text/plain": [
       "'LOUD'"
      ]
     },
     "execution_count": 18,
     "metadata": {},
     "output_type": "execute_result"
    }
   ],
   "source": [
    "\"loud\".upper()"
   ]
  },
  {
   "cell_type": "code",
   "execution_count": 19,
   "id": "e7c30981-05d0-4e83-b561-43ea9d6bc259",
   "metadata": {},
   "outputs": [
    {
     "data": {
      "text/plain": [
       "'loud'"
      ]
     },
     "execution_count": 19,
     "metadata": {},
     "output_type": "execute_result"
    }
   ],
   "source": [
    "\"LOUD\".lower()"
   ]
  },
  {
   "cell_type": "markdown",
   "id": "a9262dd3-9c54-4d7f-b0bc-32bea9ea160c",
   "metadata": {},
   "source": [
    "###### replace \n",
    "`replace` replaces ALL instances of a substring within the string."
   ]
  },
  {
   "cell_type": "code",
   "execution_count": 22,
   "id": "81fdf471-9989-435e-9541-fd1bd907d0ca",
   "metadata": {},
   "outputs": [
    {
     "data": {
      "text/plain": [
       "'matchmaker'"
      ]
     },
     "execution_count": 22,
     "metadata": {},
     "output_type": "execute_result"
    }
   ],
   "source": [
    "'hitchhiker'.replace('hi', 'ma')"
   ]
  },
  {
   "cell_type": "markdown",
   "id": "9607d99b-2f21-4ae3-8415-ec2cdd09a94e",
   "metadata": {},
   "source": [
    "##### chatgpt time! \n",
    "Let's ask chatgpt to explain string methods!"
   ]
  },
  {
   "cell_type": "code",
   "execution_count": 23,
   "id": "eabcc90a-c563-45c5-9ab2-535a6789eb47",
   "metadata": {},
   "outputs": [
    {
     "data": {
      "text/markdown": [
       "String methods in Python are special actions or functions that we can perform on strings to do different things. They help us manipulate and work with strings in interesting ways. Here are a few simple examples of string methods:\n",
       "\n",
       "1. `upper()` - This method makes all the letters in a string uppercase:\n",
       "   ```python\n",
       "   name = \"john\"\n",
       "   print(name.upper())  # Output: JOHN\n",
       "   ```\n",
       "\n",
       "2. `lower()` - This method makes all the letters in a string lowercase:\n",
       "   ```python\n",
       "   message = \"Hello World\"\n",
       "   print(message.lower())  # Output: hello world\n",
       "   ```\n",
       "\n",
       "3. `replace()` - This method replaces specific parts of a string with something else:\n",
       "   ```python\n",
       "   sentence = \"I like apples\"\n",
       "   new_sentence = sentence.replace(\"apples\", \"bananas\")\n",
       "   print(new_sentence)  # Output: I like bananas\n",
       "   ```\n",
       "\n",
       "4. `count()` - This method counts the number of times a specific word or letter appears in a string:\n",
       "   ```python\n",
       "   sentence = \"I have three dogs\"\n",
       "   count_dogs = sentence.count(\"dogs\")\n",
       "   print(count_dogs)  # Output: 1\n",
       "   ```\n",
       "\n",
       "These are just a few examples of string methods in Python. There are many more useful methods that can help us work with strings effectively."
      ],
      "text/plain": [
       "<IPython.core.display.Markdown object>"
      ]
     },
     "execution_count": 23,
     "metadata": {
      "text/markdown": {
       "jupyter_ai": {
        "model_id": "gpt-3.5-turbo",
        "provider_id": "openai-chat"
       }
      }
     },
     "output_type": "execute_result"
    }
   ],
   "source": [
    "%%ai openai-chat:gpt-3.5-turbo\n",
    "What are string methods in Python? Give me some very simple examples."
   ]
  },
  {
   "cell_type": "markdown",
   "id": "930fca1b-4ac1-4bf7-ba72-f886625e7b00",
   "metadata": {},
   "source": [
    "Now let's try out one of the examples from chatgpt's response! See from the cell below that `count` indeed counts the number of occurrences of a specific word/letter and the output matches what the response above shows."
   ]
  },
  {
   "cell_type": "code",
   "execution_count": 31,
   "id": "0fa16c53-27c8-4139-a789-62ae9fe5cde2",
   "metadata": {},
   "outputs": [
    {
     "name": "stdout",
     "output_type": "stream",
     "text": [
      "1\n"
     ]
    }
   ],
   "source": [
    "sentence = \"I have three dogs\"\n",
    "count_dogs = sentence.count(\"dogs\")\n",
    "print(count_dogs)  # Output: 1"
   ]
  },
  {
   "cell_type": "markdown",
   "id": "cd62ad46-6283-43f0-bfe5-c3e4c11a957a",
   "metadata": {},
   "source": [
    "## Comparisons\n",
    "\n",
    "Python includes a variety of operators that compare values. The result of a comparison is often a `Boolean` value (e.g., `True` or `False`). This concept will be very useful when we learn about conditional statements!"
   ]
  },
  {
   "cell_type": "code",
   "execution_count": 25,
   "id": "caca2b1b-f00a-4ce7-8fab-0edb4d938500",
   "metadata": {},
   "outputs": [
    {
     "data": {
      "text/plain": [
       "True"
      ]
     },
     "execution_count": 25,
     "metadata": {},
     "output_type": "execute_result"
    }
   ],
   "source": [
    "3 > 1 + 1"
   ]
  },
  {
   "cell_type": "code",
   "execution_count": 26,
   "id": "daa97158-c386-4e36-9186-6229ff13cfa4",
   "metadata": {},
   "outputs": [
    {
     "data": {
      "text/plain": [
       "True"
      ]
     },
     "execution_count": 26,
     "metadata": {},
     "output_type": "execute_result"
    }
   ],
   "source": [
    "1 < 1 + 1 < 3"
   ]
  },
  {
   "cell_type": "code",
   "execution_count": 27,
   "id": "c7f6db88-aaa5-43f5-9bc0-2febaee2d89c",
   "metadata": {},
   "outputs": [
    {
     "data": {
      "text/plain": [
       "True"
      ]
     },
     "execution_count": 27,
     "metadata": {},
     "output_type": "execute_result"
    }
   ],
   "source": [
    "# Strings can also be compared, and their order is alphabetical. A shorter string is less than a longer string that begins with the shorter string.\n",
    "\"Dog\" > \"Catastrophe\" > \"Cat\" "
   ]
  },
  {
   "cell_type": "markdown",
   "id": "ce196ff4-3e4c-466b-88f3-c9736d662315",
   "metadata": {},
   "source": [
    "##### chatgpt time! \n",
    "Let's ask chatgpt for some more examples of comparison operators!"
   ]
  },
  {
   "cell_type": "code",
   "execution_count": 30,
   "id": "4e223e36-0430-44ba-899a-c1ec194c5efb",
   "metadata": {},
   "outputs": [
    {
     "data": {
      "text/markdown": [
       "Certainly! Here are some simple examples of comparison operators in Python, along with their usage and the resulting `True` or `False` values:\n",
       "\n",
       "| Operator | Description                 | Example                 | Result |\n",
       "|----------|-----------------------------|-------------------------|--------|\n",
       "| `==`     | Equality                    | `5 == 5`                | True   |\n",
       "| `!=`     | Inequality                  | `3 != 7`                | True   |\n",
       "| `>`      | Greater than                | `10 > 8`                | True   |\n",
       "| `<`      | Less than                   | `6 < 3`                 | False  |\n",
       "| `>=`     | Greater than or equal to    | `4 >= 4`                | True   |\n",
       "| `<=`     | Less than or equal to       | `9 <= 7`                | False  |\n",
       "\n",
       "These are some of the common comparison operators used in Python to compare values. When the comparison is true, it evaluates to `True`, and when the comparison is false, it evaluates to `False`."
      ],
      "text/plain": [
       "<IPython.core.display.Markdown object>"
      ]
     },
     "execution_count": 30,
     "metadata": {
      "text/markdown": {
       "jupyter_ai": {
        "model_id": "gpt-3.5-turbo",
        "provider_id": "openai-chat"
       }
      }
     },
     "output_type": "execute_result"
    }
   ],
   "source": [
    "%%ai openai-chat:gpt-3.5-turbo\n",
    "Give me some very simple examples of comparison operators in Python and their usage that results in True and False values. Display the output in a tabular form."
   ]
  },
  {
   "cell_type": "markdown",
   "id": "eeb1441e-94d2-49cc-85ea-96f9bdff5247",
   "metadata": {},
   "source": [
    "## Arrays \n",
    "\n",
    "Values can be grouped together into collections, and by grouping values together, we can write code that performs a computation on many pieces of data at once! We will mainly work with arrays in this class. Suggested Reading: https://inferentialthinking.com/chapters/05/Sequences.html\n",
    "\n",
    "An array in Python contains a sequence of values which have the same type. A column of a table is also an array!"
   ]
  },
  {
   "cell_type": "markdown",
   "id": "536970c1-05f2-4eae-aab9-17cee2039b7d",
   "metadata": {},
   "source": [
    "Calling the function `make_array` on several values places them into an array, which is a kind of sequential collection."
   ]
  },
  {
   "cell_type": "code",
   "execution_count": 35,
   "id": "da3e94bf-6063-42f6-ba21-fec17aad421a",
   "metadata": {},
   "outputs": [
    {
     "data": {
      "text/plain": [
       "array(['noun', 'pronoun', 'verb', 'adverb', 'adjective', 'conjunction',\n",
       "       'preposition', 'interjection'],\n",
       "      dtype='<U12')"
      ]
     },
     "execution_count": 35,
     "metadata": {},
     "output_type": "execute_result"
    }
   ],
   "source": [
    "english_parts_of_speech = make_array(\"noun\", \"pronoun\", \"verb\", \"adverb\", \"adjective\", \"conjunction\", \"preposition\", \"interjection\")\n",
    "english_parts_of_speech"
   ]
  },
  {
   "cell_type": "code",
   "execution_count": 4,
   "id": "e4942610-aa73-4dd3-8cce-5d62ed7aad4c",
   "metadata": {},
   "outputs": [
    {
     "data": {
      "text/plain": [
       "array([7, 5, 3, 1])"
      ]
     },
     "execution_count": 4,
     "metadata": {},
     "output_type": "execute_result"
    }
   ],
   "source": [
    "array_of_numbers = make_array(7,5,3,1)\n",
    "array_of_numbers"
   ]
  },
  {
   "cell_type": "markdown",
   "id": "03ee512c-1016-44ba-a36c-36370ed34716",
   "metadata": {},
   "source": [
    "##### item\n",
    "You can access an element of an array using `item` method"
   ]
  },
  {
   "cell_type": "code",
   "execution_count": 7,
   "id": "a81695da-d3f0-44c1-8ae5-ef22d4e76fd4",
   "metadata": {},
   "outputs": [
    {
     "data": {
      "text/plain": [
       "7"
      ]
     },
     "execution_count": 7,
     "metadata": {},
     "output_type": "execute_result"
    }
   ],
   "source": [
    "array_of_numbers.item(0) # Remember in Python, arrays are 0 indexed!"
   ]
  },
  {
   "cell_type": "code",
   "execution_count": 6,
   "id": "55cb7f48-9596-42c6-935c-80afdb86506d",
   "metadata": {},
   "outputs": [
    {
     "data": {
      "text/plain": [
       "3"
      ]
     },
     "execution_count": 6,
     "metadata": {},
     "output_type": "execute_result"
    }
   ],
   "source": [
    "array_of_numbers.item(2)"
   ]
  },
  {
   "cell_type": "markdown",
   "id": "fdae7c54-c1e7-45e4-b2a6-dca808376a0c",
   "metadata": {},
   "source": [
    "##### chatgpt time! \n",
    "Let's work with chatgpt to understand arrays!"
   ]
  },
  {
   "cell_type": "code",
   "execution_count": 2,
   "id": "5aad7c0f-07fb-4c2d-81ac-e3678d9ff10b",
   "metadata": {},
   "outputs": [
    {
     "data": {
      "text/markdown": [
       "Arrays in Python are like containers that hold a bunch of things, just like a box that can store many toys. Imagine you have a box of fruits, that is an array. Each fruit is like an element in the array. For example, let's say you have an array of three fruits: apple, banana, and orange. So, it would look something like this:\n",
       "\n",
       "`fruits = [\"apple\", \"banana\", \"orange\"]`\n",
       "\n",
       "The array 'fruits' holds these three fruits. It helps us organize and keep track of these fruits easily, just like putting all your toys in a box."
      ],
      "text/plain": [
       "<IPython.core.display.Markdown object>"
      ]
     },
     "execution_count": 2,
     "metadata": {
      "text/markdown": {
       "jupyter_ai": {
        "model_id": "gpt-3.5-turbo",
        "provider_id": "openai-chat"
       }
      }
     },
     "output_type": "execute_result"
    }
   ],
   "source": [
    "%%ai openai-chat:gpt-3.5-turbo\n",
    "What are arrays in Python? Explain it like you would to a 5 year old. Give me a very simple example."
   ]
  },
  {
   "cell_type": "markdown",
   "id": "8e800417-51cc-4857-9ee4-e163f7100717",
   "metadata": {},
   "source": [
    "#### Functions on Arrays\n",
    "We can manipulate all the entries in an array at once using some functions in Python (for example, using some functions in a package called `numpy`)!"
   ]
  },
  {
   "cell_type": "markdown",
   "id": "7f5e90b0-a485-4d6b-a42f-e1ff43aca14c",
   "metadata": {},
   "source": [
    "##### diff\n",
    "`diff` function computes the difference between each adjacent pair of elements in an array."
   ]
  },
  {
   "cell_type": "code",
   "execution_count": 41,
   "id": "7d3b034b-9d12-4340-a604-cc0d54729d44",
   "metadata": {},
   "outputs": [
    {
     "data": {
      "text/plain": [
       "array([-2, -2, -2])"
      ]
     },
     "execution_count": 41,
     "metadata": {},
     "output_type": "execute_result"
    }
   ],
   "source": [
    "np.diff(array_of_numbers)"
   ]
  },
  {
   "cell_type": "markdown",
   "id": "2dc2dcce-a441-4caf-aad8-f6c05ec1d831",
   "metadata": {},
   "source": [
    "##### sum\n",
    "`sum` adds all elements of an array together."
   ]
  },
  {
   "cell_type": "code",
   "execution_count": 42,
   "id": "b44f1f72-c6ad-4608-ae1d-3b446cc01a67",
   "metadata": {},
   "outputs": [
    {
     "data": {
      "text/plain": [
       "16"
      ]
     },
     "execution_count": 42,
     "metadata": {},
     "output_type": "execute_result"
    }
   ],
   "source": [
    "np.sum(array_of_numbers)"
   ]
  },
  {
   "cell_type": "markdown",
   "id": "b5a611b7-b9f2-47b6-a429-d4a67fefcd9a",
   "metadata": {},
   "source": [
    "##### chatgpt time! \n",
    "Let's work with chatgpt to understand different functions on arrays!"
   ]
  },
  {
   "cell_type": "code",
   "execution_count": 8,
   "id": "a39c949b-3b2a-4d08-9db2-2cd3fa5457c0",
   "metadata": {},
   "outputs": [
    {
     "data": {
      "text/markdown": [
       "Certainly! Here's a table of numpy reference functions that take an array as an argument and return a single value or an array of values, along with very simple examples:\n",
       "\n",
       "| Function                   | Description                                                          | Example                                      |\n",
       "|----------------------------|----------------------------------------------------------------------|----------------------------------------------|\n",
       "| `np.sum()`                 | Calculate the sum of array elements                                   | `total = np.sum(arr)`                         |\n",
       "| `np.mean()`                | Calculate the mean (average) of array elements                        | `avg = np.mean(arr)`                          |\n",
       "| `np.max()`                 | Find the maximum value in the array                                    | `maximum = np.max(arr)`                       |\n",
       "| `np.min()`                 | Find the minimum value in the array                                    | `minimum = np.min(arr)`                       |\n",
       "| `np.sort()`                | Sort the elements of an array in ascending order                      | `sorted_arr = np.sort(arr)`                    |\n",
       "| `np.argmax()`              | Find the index of the maximum value in the array                       | `index_max = np.argmax(arr)`                   |\n",
       "| `np.argmin()`              | Find the index of the minimum value in the array                       | `index_min = np.argmin(arr)`                   |\n",
       "| `np.unique()`              | Find the unique values in the array                                    | `unique_vals = np.unique(arr)`                 |\n",
       "| `np.where()`               | Find the indices where a condition is met                              | `indices = np.where(arr > 5)`                  |\n",
       "| `np.any()`                 | Check if any element in the array satisfies a condition                | `result_any = np.any(arr > 5)`                 |\n",
       "| `np.all()`                 | Check if all elements in the array satisfy a condition                 | `result_all = np.all(arr > 5)`                 |\n",
       "| `np.cumsum()`              | Calculate the cumulative sum of array elements                         | `cumulative_sum = np.cumsum(arr)`              |\n",
       "| `np.cumprod()`             | Calculate the cumulative product of array elements                     | `cumulative_prod = np.cumprod(arr)`            |\n",
       "| `np.diff()`                | Calculate the difference between consecutive elements in the array     | `differences = np.diff(arr)`                   |\n",
       "| `np.exp()`                 | Calculate the exponential of each element in the array                 | `exp_arr = np.exp(arr)`                        |\n",
       "| `np.log()`                 | Calculate the natural logarithm of each element in the array           | `log_arr = np.log(arr)`                        |\n",
       "| `np.sqrt()`                | Calculate the square root of each element in the array                 | `sqrt_arr = np.sqrt(arr)`                      |\n",
       "\n",
       "These functions can be used to perform calculations, obtain statistical information, and carry out element-wise operations on arrays to obtain desired outputs."
      ],
      "text/plain": [
       "<IPython.core.display.Markdown object>"
      ]
     },
     "execution_count": 8,
     "metadata": {
      "text/markdown": {
       "jupyter_ai": {
        "model_id": "gpt-3.5-turbo",
        "provider_id": "openai-chat"
       }
      }
     },
     "output_type": "execute_result"
    }
   ],
   "source": [
    "%%ai openai-chat:gpt-3.5-turbo\n",
    "Give me some very simple examples of different numpy reference functions (in a tabular form) that take an array as an argument and return a single value or an array of values. "
   ]
  },
  {
   "cell_type": "markdown",
   "id": "c444c1ef-73c0-4acb-aadd-ceda94fb42fe",
   "metadata": {},
   "source": [
    "##### arange\n",
    "A range is an array of numbers in increasing or decreasing order, each separated by a regular interval. Ranges are defined using the `arange` function, which takes either one, two, or three arguments: a 'start', an 'end', and a ‘step’.\n",
    "\n",
    "If you pass one argument to `arange`, this becomes the end value, with start=0, step=1 assumed. Two arguments give the start and end with step=1 assumed. Three arguments give the start, end and step explicitly.\n",
    "\n",
    "A range always includes its start value, but does not include its end value. It counts up by step, and it stops before it gets to the end."
   ]
  },
  {
   "cell_type": "code",
   "execution_count": 14,
   "id": "b5056b1b-0df7-4092-b437-698317f6952d",
   "metadata": {},
   "outputs": [
    {
     "data": {
      "text/plain": [
       "array([0, 1, 2, 3, 4])"
      ]
     },
     "execution_count": 14,
     "metadata": {},
     "output_type": "execute_result"
    }
   ],
   "source": [
    "np.arange(5) # assumes start=0 and step=1"
   ]
  },
  {
   "cell_type": "code",
   "execution_count": 15,
   "id": "b3232176-e67e-4814-bf09-10dac698212c",
   "metadata": {},
   "outputs": [
    {
     "data": {
      "text/plain": [
       "array([3, 4, 5, 6, 7, 8])"
      ]
     },
     "execution_count": 15,
     "metadata": {},
     "output_type": "execute_result"
    }
   ],
   "source": [
    "np.arange(3, 9) # assumes step=1"
   ]
  },
  {
   "cell_type": "code",
   "execution_count": 16,
   "id": "7c961396-390b-492b-8217-3378b1526e97",
   "metadata": {},
   "outputs": [
    {
     "data": {
      "text/plain": [
       "array([ 3,  8, 13, 18, 23, 28])"
      ]
     },
     "execution_count": 16,
     "metadata": {},
     "output_type": "execute_result"
    }
   ],
   "source": [
    "np.arange(3, 30, 5)"
   ]
  },
  {
   "cell_type": "markdown",
   "id": "42673d62-ae3a-488a-bb0f-3b8fb8122f68",
   "metadata": {},
   "source": [
    "##### append\n",
    "You can append to an array using `append` method."
   ]
  },
  {
   "cell_type": "code",
   "execution_count": 13,
   "id": "ebc53d66-1c12-4b62-ad19-a9155b6b6463",
   "metadata": {},
   "outputs": [
    {
     "data": {
      "text/plain": [
       "array([ 1,  6, 11, 16, 21, 26])"
      ]
     },
     "execution_count": 13,
     "metadata": {},
     "output_type": "execute_result"
    }
   ],
   "source": [
    "my_array = np.arange(1,30,5)\n",
    "my_array"
   ]
  },
  {
   "cell_type": "code",
   "execution_count": 16,
   "id": "44bd1cee-9f74-4e6c-bb83-764be4579b2f",
   "metadata": {},
   "outputs": [
    {
     "data": {
      "text/plain": [
       "array([ 1,  6, 11, 16, 21, 26, 30])"
      ]
     },
     "execution_count": 16,
     "metadata": {},
     "output_type": "execute_result"
    }
   ],
   "source": [
    "# Note that this will not change the original array! Assign it to a new array variable if you want to keep the changes!\n",
    "np.append(my_array, 30) # arguments to append are the array you want to append the value to followed by the value"
   ]
  },
  {
   "cell_type": "code",
   "execution_count": 19,
   "id": "e43aa850-b775-4f2f-aaaa-804c0326bb70",
   "metadata": {},
   "outputs": [
    {
     "data": {
      "text/plain": [
       "array([ 1,  6, 11, 16, 21, 26, 30, 34])"
      ]
     },
     "execution_count": 19,
     "metadata": {},
     "output_type": "execute_result"
    }
   ],
   "source": [
    "np.append(my_array, make_array(30, 34)) # you can append multiple values including an array!"
   ]
  },
  {
   "cell_type": "code",
   "execution_count": null,
   "id": "8ee31120-4073-442d-b45a-91812dffcb05",
   "metadata": {},
   "outputs": [],
   "source": []
  }
 ],
 "metadata": {
  "kernelspec": {
   "display_name": "Python 3 (ipykernel)",
   "language": "python",
   "name": "python3"
  },
  "language_info": {
   "codemirror_mode": {
    "name": "ipython",
    "version": 3
   },
   "file_extension": ".py",
   "mimetype": "text/x-python",
   "name": "python",
   "nbconvert_exporter": "python",
   "pygments_lexer": "ipython3",
   "version": "3.11.5"
  }
 },
 "nbformat": 4,
 "nbformat_minor": 5
}
