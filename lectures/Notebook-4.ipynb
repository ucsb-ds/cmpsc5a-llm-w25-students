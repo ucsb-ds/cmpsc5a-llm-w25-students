{
 "cells": [
  {
   "cell_type": "code",
   "execution_count": 1,
   "id": "a0d32f47-57f8-40fc-adf7-1cf593629161",
   "metadata": {},
   "outputs": [],
   "source": [
    "%load_ext jupyter_ai_magics"
   ]
  },
  {
   "cell_type": "code",
   "execution_count": 27,
   "id": "5dae308c-595f-4156-a5ae-d80e16604344",
   "metadata": {},
   "outputs": [],
   "source": [
    "from datascience import *"
   ]
  },
  {
   "cell_type": "markdown",
   "id": "ac4ee3ef-8d98-4dad-9a0c-4f457aa5be09",
   "metadata": {},
   "source": [
    "## Conditional Statements\n",
    "As you will work with more data, you will see that in many situations, actions and results depends on a specific set of conditions being satisfied. You already use conditional statements on a daily basis! For example, _if_ I complete my assignments on time, I will go to this party. \n",
    "\n",
    "A conditional statement is a multi-line statement that allows Python to choose among different alternatives based on the truth value of an expression. You can use conditional statements as part of functions (you'll learn about functions in a bit).\n",
    "\n",
    "Suggested Reading: https://inferentialthinking.com/chapters/09/1/Conditional_Statements.html"
   ]
  },
  {
   "cell_type": "code",
   "execution_count": 9,
   "id": "75dcccfe-00cb-4cbd-b0b2-81bf85b4763c",
   "metadata": {},
   "outputs": [
    {
     "name": "stdout",
     "output_type": "stream",
     "text": [
      "3 is greater than 1\n"
     ]
    }
   ],
   "source": [
    "x = 3\n",
    "if x > 1: # begins with an `if` header, which is a single line followed by an indented body (body executed if condition is True)\n",
    "    print(str(x)+\" is greater than 1\")"
   ]
  },
  {
   "cell_type": "code",
   "execution_count": 8,
   "id": "35693211-fefa-43f3-aaec-9402c8ca725d",
   "metadata": {},
   "outputs": [
    {
     "name": "stdout",
     "output_type": "stream",
     "text": [
      "4 is less than or equal to 5\n"
     ]
    }
   ],
   "source": [
    "# add additional conditions\n",
    "y = 4\n",
    "if y > 5: # skipped as it is not True\n",
    "    print(str(y)+\" is greater than 5\") \n",
    "else: # code is executed as the condition above is false\n",
    "    print(str(y)+\" is less than or equal to 5\")"
   ]
  },
  {
   "cell_type": "code",
   "execution_count": 7,
   "id": "0f1d7f0a-e287-4966-a9cc-c893e3df294a",
   "metadata": {},
   "outputs": [
    {
     "name": "stdout",
     "output_type": "stream",
     "text": [
      "5 is equal to 5\n"
     ]
    }
   ],
   "source": [
    "# add additional conditions\n",
    "z = 5\n",
    "if z > 5: # condition 1, skipped\n",
    "    print(str(z)+\" is greater than 5\")\n",
    "elif z < 5: # condition 2, skipped\n",
    "    print(str(z)+\" is less than 5\")\n",
    "else: # code is executed as all conditions above are false\n",
    "    print(str(z)+\" is equal to 5\")"
   ]
  },
  {
   "cell_type": "markdown",
   "id": "c9a01515-42fa-4b42-8caa-61f0803533f3",
   "metadata": {},
   "source": [
    "##### chatgpt time! \n",
    "Now let us understand what conditional statements are using chatgpt!"
   ]
  },
  {
   "cell_type": "code",
   "execution_count": 18,
   "id": "5c86e9bf-e0b1-46fc-bc97-9b800579a7f0",
   "metadata": {},
   "outputs": [
    {
     "name": "stderr",
     "output_type": "stream",
     "text": [
      "/opt/conda/lib/python3.11/site-packages/langchain_community/llms/openai.py:1057: UserWarning: You are trying to use a chat model. This way of initializing it is no longer supported. Instead, please use: `from langchain_community.chat_models import ChatOpenAI`\n",
      "  warnings.warn(\n"
     ]
    },
    {
     "data": {
      "text/markdown": [
       "Sure! \n",
       "\n",
       "Conditional statements in Python are like giving the computer instructions based on a certain condition. It's like telling the computer what to do if something is true or false. Let's imagine you have a bowl of apples, and you want to eat an apple only if it's red.\n",
       "\n",
       "Here's how it works:\n",
       "\n",
       "```python\n",
       "apple_color = \"red\"  # Let's say the apple in your hand is red\n",
       "\n",
       "if apple_color == \"red\":  # If the apple is red,\n",
       "    print(\"Eat the apple!\")  # Say \"Eat the apple!\"\n",
       "else:  # Otherwise, if the apple is not red,\n",
       "    print(\"Don't eat the apple!\")  # Say \"Don't eat the apple!\"\n",
       "```\n",
       "\n",
       "In this code, we have a variable called `apple_color` which is set to \"red\", indicating the color of the apple. The `if` statement checks whether the apple's color is \"red\" or not. If the condition is true (meaning the apple is red), it prints \"Eat the apple!\". If the condition is false (meaning the apple is not red), it prints \"Don't eat the apple!\".\n",
       "\n",
       "So, when we run this code, the computer will say:\n",
       "\n",
       "```\n",
       "Eat the apple!\n",
       "```\n",
       "\n",
       "This is because the apple's color is red, and the condition is true. The computer knows you should eat the apple! Conditional statements help the computer make decisions based on different conditions, just like you do when deciding whether to eat an apple or not based on its color."
      ],
      "text/plain": [
       "<IPython.core.display.Markdown object>"
      ]
     },
     "execution_count": 18,
     "metadata": {
      "text/markdown": {
       "jupyter_ai": {
        "model_id": "gpt-3.5-turbo",
        "provider_id": "openai-chat"
       }
      }
     },
     "output_type": "execute_result"
    }
   ],
   "source": [
    "%%ai openai-chat:gpt-3.5-turbo\n",
    "What are conditional statements in Python? Can you explain it like you would to a 5 year old with a simple example?"
   ]
  },
  {
   "cell_type": "markdown",
   "id": "3642e72b-1ef3-4318-b366-5d174676426a",
   "metadata": {},
   "source": [
    "## Iteration\n",
    "Many of the tasks that you will encounter will require repeating a process multiple times. We learned about call expressions (invoking functions), operations, conditional statements, etc. What if you want to perform a task, for example, some calculations, repeatedly? How can you avoid writing verbose code? Enter Iteration!\n",
    "\n",
    "Python allows you to do that using a `for` statement to loop over the contents of a sequence. A for statement begins with the word `for`, followed by a name we want to give each item in the sequence, followed by the word `in`, and ending with an expression that evaluates to a sequence. The indented body of the for statement is executed once for each item in that sequence.\n",
    "\n",
    "Suggested Reading: https://inferentialthinking.com/chapters/09/2/Iteration.html"
   ]
  },
  {
   "cell_type": "code",
   "execution_count": 15,
   "id": "2f5b951a-8d6f-4725-b625-e9f1d5c68107",
   "metadata": {},
   "outputs": [
    {
     "name": "stdout",
     "output_type": "stream",
     "text": [
      "Eating chocolate\n",
      "Eating gummy\n",
      "Eating lollipop\n",
      "Eating jelly bean\n"
     ]
    }
   ],
   "source": [
    "# Say you have a box of candies and you want to eat each candy one by one and show which candy you are eating!\n",
    "candies = make_array(\"chocolate\", \"gummy\", \"lollipop\", \"jelly bean\")\n",
    "for candy in candies:\n",
    "    print(\"Eating\", candy)"
   ]
  },
  {
   "cell_type": "code",
   "execution_count": 16,
   "id": "43cb97cb-8f36-4875-ba54-073084227650",
   "metadata": {},
   "outputs": [
    {
     "name": "stdout",
     "output_type": "stream",
     "text": [
      "Eating chocolate\n",
      "Eating gummy\n",
      "Eating lollipop\n",
      "Eating jelly bean\n"
     ]
    }
   ],
   "source": [
    "# without loops, it would be too tedious\n",
    "print(\"Eating\", candies.item(0)) # Recall .item(index) is used to get the element of an array at that index\n",
    "print(\"Eating\", candies.item(1))\n",
    "print(\"Eating\", candies.item(2))\n",
    "print(\"Eating\", candies.item(3))"
   ]
  },
  {
   "cell_type": "markdown",
   "id": "090f5127-1207-4579-a828-d2945ac5f1d2",
   "metadata": {},
   "source": [
    "##### chatgpt time! \n",
    "Now let us understand what for loops are using chatgpt!"
   ]
  },
  {
   "cell_type": "code",
   "execution_count": 20,
   "id": "bda50a33-d528-4ac1-99f0-75ed76f06825",
   "metadata": {},
   "outputs": [
    {
     "name": "stderr",
     "output_type": "stream",
     "text": [
      "/opt/conda/lib/python3.11/site-packages/langchain_community/llms/openai.py:1057: UserWarning: You are trying to use a chat model. This way of initializing it is no longer supported. Instead, please use: `from langchain_community.chat_models import ChatOpenAI`\n",
      "  warnings.warn(\n"
     ]
    },
    {
     "data": {
      "text/markdown": [
       "Sure!\n",
       "\n",
       "A for loop in Python is like a magic spell that makes the computer repeat something over and over again. It's like telling the computer to do a task for each item in a list. Let's imagine you have a basket of toys, and you want to play with each toy one by one.\n",
       "\n",
       "Here's how it works:\n",
       "\n",
       "```python\n",
       "toys = [\"car\", \"doll\", \"ball\", \"robot\"]\n",
       "\n",
       "for toy in toys:\n",
       "    print(\"Playing with\", toy)\n",
       "```\n",
       "\n",
       "In this code, we have a list of toys: car, doll, ball, and robot. The `for` loop helps us go through each toy in the list. Inside the loop, we print \"Playing with\" followed by the name of the toy.\n",
       "\n",
       "When we run this code, the computer will say:\n",
       "\n",
       "```\n",
       "Playing with car\n",
       "Playing with doll\n",
       "Playing with ball\n",
       "Playing with robot\n",
       "```\n",
       "\n",
       "See, the computer goes through each toy and tells us that it is playing with each one. The for loop is like magic because it automatically plays with each toy without us having to do it one by one. It makes playing with toys (or doing other things) fun and easy!"
      ],
      "text/plain": [
       "<IPython.core.display.Markdown object>"
      ]
     },
     "execution_count": 20,
     "metadata": {
      "text/markdown": {
       "jupyter_ai": {
        "model_id": "gpt-3.5-turbo",
        "provider_id": "openai-chat"
       }
      }
     },
     "output_type": "execute_result"
    }
   ],
   "source": [
    "%%ai openai-chat:gpt-3.5-turbo\n",
    "What are for loops in Python? Explain it like you would to a 5 year old with a simple example."
   ]
  },
  {
   "cell_type": "markdown",
   "id": "b1296f31-fdd1-410f-b821-c10267324e23",
   "metadata": {},
   "source": [
    "## Functions \n",
    "\n",
    "You learnt a lot of useful techniques using call expressions and built-in functions like `abs`, `round` or `max`! You saw that by importing a module, we are able to use its code in our own notebook (using an `import` statement as shown above) and we don't have to re-invent the wheel and write code that someone else already has!\n",
    "\n",
    "We will now explore a core feature of the Python programming language: function definition. This will allow you to write your own functions that you can use in your work and that can be potentially used by others!\n",
    "\n",
    "Suggested Reading: https://inferentialthinking.com/chapters/08/Functions_and_Tables.html\n",
    "\n",
    "## Why functions? Motivation with an an example (converting currency)\n",
    "\n",
    "Suppose we planning a trip to Europe. We are looking at prices of hotels, restaurants, travel, etc. in Euros, but we really only have a sense of what prices mean when they are in dollars.\n",
    "\n",
    "That means that every time we see an amount in Euros, we have to do a conversion. We do a quick web search on \"dollars to euros\" and \"euros to dollars\" and we get these results (these are as of 1/27/2025):\n",
    "\n",
    "* 1 United States Dollar equals 0.95 Euro\n",
    "* 1 Euro equals 1.05 United States Dollars\n",
    "\n",
    "We can use Python code to help us convert:\n"
   ]
  },
  {
   "cell_type": "code",
   "execution_count": 7,
   "id": "42fb46c1-619f-4f30-93b7-0432aa92a00c",
   "metadata": {},
   "outputs": [
    {
     "name": "stdout",
     "output_type": "stream",
     "text": [
      "hotel_price_dollars= 131.25\n",
      "restaurant_price_dollars= 15.75\n",
      "airport_shuttle_dollars= 26.25\n"
     ]
    }
   ],
   "source": [
    "hotel_price_euros = 125.00\n",
    "hotel_price_dollars = hotel_price_euros * 1.05\n",
    "\n",
    "restaurant_price_euros = 15.00\n",
    "restaurant_price_dollars = restaurant_price_euros * 1.05\n",
    "\n",
    "airport_shuttle_euros = 25.00\n",
    "airport_shuttle_dollars = 25.00 * 1.05\n",
    "\n",
    "print(\"hotel_price_dollars=\", hotel_price_dollars)\n",
    "print(\"restaurant_price_dollars=\", restaurant_price_dollars)\n",
    "print(\"airport_shuttle_dollars=\", airport_shuttle_dollars)\n"
   ]
  },
  {
   "cell_type": "markdown",
   "id": "bd09f7d3-5b29-4f23-9926-f900fc7e8324",
   "metadata": {},
   "source": [
    "Notice how we have this repeated operation `* 1.05` on three different lines of code.\n",
    "\n",
    "The thing is, exchange rates change all the time.  If we needed to update that, we'd have to update it in several places in our notebook, which is not efficient.\n",
    "\n",
    "In addition, it's not immediately clear where this `* 1.05` is coming from.\n",
    "\n",
    "## Defining a function \n",
    "Python has a way for us to *define our own functions* for any computation that will be repeated over and over.  *Learning to define new functions is one of the most important skills you can take away from this class*.  It's a fundamental computing skill, and in many ways, one of the foundational concepts of *Computer Science* (as compared to *Data Science*.)\n",
    "\n",
    "Here's an example of defining a function to convert euros to dollars:"
   ]
  },
  {
   "cell_type": "code",
   "execution_count": 9,
   "id": "4338bf10-e6c9-4c29-85fe-fcde1f22f7df",
   "metadata": {},
   "outputs": [],
   "source": [
    "def euros_to_dollars(euros):\n",
    "    return euros * 1.05"
   ]
  },
  {
   "cell_type": "markdown",
   "id": "a7ef4d25-bdae-43bf-96d1-8223a55b502e",
   "metadata": {},
   "source": [
    "A function definition has several important parts:\n",
    "* It always starts with `def`\n",
    "* The name of the function (in this case `euros_to_dollars`, comes next)\n",
    "* Then, there is a list of arguments to the function in parentheses.\n",
    "  * In this case, there is one argument, `euros`.\n",
    "  * There can be zero, 1, or more than one argument; when there is more than one, the arguments are separated by commas, e.g. `(height, length, depth)`\n",
    "* A colon `:` comes after the close paren to indicate that everything indented under this first line is part of the function\n",
    "* The function will typically have at least one `return` statement; the `return` statement is followed by an expression that computes the *value returned by the function*\n",
    "  * In this case, `euros * 1.05` is the value returned.\n",
    "\n",
    "To use the function, we make *function calls* like these:\n",
    "\n"
   ]
  },
  {
   "cell_type": "code",
   "execution_count": 10,
   "id": "d6e49586-9b5a-426e-aeb1-27403f4d4042",
   "metadata": {},
   "outputs": [
    {
     "data": {
      "text/plain": [
       "1.05"
      ]
     },
     "execution_count": 10,
     "metadata": {},
     "output_type": "execute_result"
    }
   ],
   "source": [
    "euros_to_dollars(1)"
   ]
  },
  {
   "cell_type": "code",
   "execution_count": 11,
   "id": "cf6d135e-5a62-4c08-992e-7c2fb184e629",
   "metadata": {},
   "outputs": [
    {
     "data": {
      "text/plain": [
       "26.25"
      ]
     },
     "execution_count": 11,
     "metadata": {},
     "output_type": "execute_result"
    }
   ],
   "source": [
    "euros_to_dollars(25.00)"
   ]
  },
  {
   "cell_type": "code",
   "execution_count": 12,
   "id": "0b82a22e-ed22-41a6-b6f5-a3c7e0e6eba3",
   "metadata": {},
   "outputs": [
    {
     "data": {
      "text/plain": [
       "131.25"
      ]
     },
     "execution_count": 12,
     "metadata": {},
     "output_type": "execute_result"
    }
   ],
   "source": [
    "hotel_price_euros = 125.00\n",
    "euros_to_dollars(hotel_price_euros)"
   ]
  },
  {
   "cell_type": "markdown",
   "id": "6de3a7b8-1c9c-4fe5-9acf-c5cf5805d990",
   "metadata": {},
   "source": [
    "Here's another function definition, one that takes a number a multiplies it by two.  We'll call it `double`"
   ]
  },
  {
   "cell_type": "code",
   "execution_count": 14,
   "id": "319ea9b8-68a2-492d-9f75-813aab98b549",
   "metadata": {},
   "outputs": [],
   "source": [
    "\n",
    "def double(x):\n",
    "    \"\"\" multiply x by two \"\"\"\n",
    "    return 2*x"
   ]
  },
  {
   "cell_type": "markdown",
   "id": "050752ff-158e-40a3-b5d5-6726776141e7",
   "metadata": {},
   "source": [
    "A few notes:\n",
    "* As noted above, we start any function definition by writing `def`.\n",
    "* In general, the number and type of input arguments the function takes and the type of the result the function returns refers to its `signature`.\n",
    "* It's optional, but good practice, to put a string on the first line after the signature that describes what the function does in text for a human.  The text that describes what the function does is referred to as the `docstring`, and can be obtained by typing `help(funciton_name)`, for example `help(double)`. For example:"
   ]
  },
  {
   "cell_type": "code",
   "execution_count": 15,
   "id": "217f1783-7fcc-44c3-971a-a760f4359e48",
   "metadata": {},
   "outputs": [
    {
     "name": "stdout",
     "output_type": "stream",
     "text": [
      "Help on function double in module __main__:\n",
      "\n",
      "double(x)\n",
      "    multiply x by two\n",
      "\n"
     ]
    }
   ],
   "source": [
    "help(double)"
   ]
  },
  {
   "cell_type": "markdown",
   "id": "6b0cd1f3-62d4-4dcf-8ae2-8fdb87dfef5a",
   "metadata": {},
   "source": [
    "The code that runs when the function is called is the `body`. \n",
    "\n",
    "Note that every line must be _indented_. Any lines that are not indented and left-aligned with the def statement is considered outside the function. The special instruction `return` is part of the function's body and tells Python to make the value of the function call equal to whatever comes right after return."
   ]
  },
  {
   "cell_type": "markdown",
   "id": "1c60231d-1536-4a0f-a704-3b70a7f963ce",
   "metadata": {},
   "source": [
    "Now, let's call the function `double`"
   ]
  },
  {
   "cell_type": "code",
   "execution_count": 2,
   "id": "a825b181-0cb9-4175-83b1-e912d88541d2",
   "metadata": {},
   "outputs": [
    {
     "data": {
      "text/plain": [
       "4"
      ]
     },
     "execution_count": 2,
     "metadata": {},
     "output_type": "execute_result"
    }
   ],
   "source": [
    "double(2) # double takes one argument (and the docstring or signature don't specify the type!)"
   ]
  },
  {
   "cell_type": "code",
   "execution_count": 3,
   "id": "93c419ec-35eb-4df2-8c59-bd0041a6f5eb",
   "metadata": {},
   "outputs": [
    {
     "data": {
      "text/plain": [
       "6"
      ]
     },
     "execution_count": 3,
     "metadata": {},
     "output_type": "execute_result"
    }
   ],
   "source": [
    "double(3)"
   ]
  },
  {
   "cell_type": "markdown",
   "id": "98e21e6d-6bd1-4518-993e-ae7e0197b145",
   "metadata": {},
   "source": [
    "In python, if you multiply a string by an integer, it repeats that string that many times.  So we can use double on a string as well:"
   ]
  },
  {
   "cell_type": "code",
   "execution_count": 4,
   "id": "d3050534-1ad8-42da-b13b-595b92898a2a",
   "metadata": {},
   "outputs": [
    {
     "data": {
      "text/plain": [
       "'bananabanana'"
      ]
     },
     "execution_count": 4,
     "metadata": {},
     "output_type": "execute_result"
    }
   ],
   "source": [
    "double(\"banana\")"
   ]
  },
  {
   "cell_type": "markdown",
   "id": "8578b0c9-33c5-4ca3-998a-9ed4e9a70d4e",
   "metadata": {},
   "source": [
    "We can also nest one function call inside another, like this.  The inside is done first, so \n",
    "* `double(double(3))` turns into `double(6)` which turns into `12`:\n"
   ]
  },
  {
   "cell_type": "code",
   "execution_count": 5,
   "id": "f14a5dd6-81d0-420b-9017-19b36ca55adb",
   "metadata": {},
   "outputs": [
    {
     "data": {
      "text/plain": [
       "12"
      ]
     },
     "execution_count": 5,
     "metadata": {},
     "output_type": "execute_result"
    }
   ],
   "source": [
    "double(double(3))"
   ]
  },
  {
   "cell_type": "markdown",
   "id": "16874b21-e81d-4adf-8439-0d95a856c2e7",
   "metadata": {
    "jp-MarkdownHeadingCollapsed": true
   },
   "source": [
    "##### chatgpt time! \n",
    "Now let us understand what functions are using chatgpt!"
   ]
  },
  {
   "cell_type": "code",
   "execution_count": 9,
   "id": "bbbce14d-6a19-4936-ac10-91ccd6850677",
   "metadata": {},
   "outputs": [
    {
     "data": {
      "text/markdown": [
       "A function definition in Python is like a set of instructions that you give to the computer to do something specific. It is like telling your friend how to do a task step by step. \n",
       "\n",
       "For example, imagine you want to make a peanut butter and jelly sandwich. You can define a function called \"make_sandwich\" that tells the computer how to make it. Here is a simple example of how you can define the function:\n",
       "\n",
       "```python\n",
       "def make_sandwich():\n",
       "    print(\"Take two slices of bread.\")\n",
       "    print(\"Spread peanut butter on one slice.\")\n",
       "    print(\"Spread jelly on the other slice.\")\n",
       "    print(\"Put the slices together to make a sandwich.\")\n",
       "```\n",
       "\n",
       "Now, whenever you want to make a sandwich, you can just tell the computer to \"make_sandwich()\" and it will follow the instructions in the function to make the sandwich for you."
      ],
      "text/plain": [
       "<IPython.core.display.Markdown object>"
      ]
     },
     "execution_count": 9,
     "metadata": {
      "text/markdown": {
       "jupyter_ai": {
        "model_id": "gpt-3.5-turbo",
        "provider_id": "openai-chat"
       }
      }
     },
     "output_type": "execute_result"
    }
   ],
   "source": [
    "%%ai openai-chat:gpt-3.5-turbo\n",
    "What is a function definition in Python? Explain it like you would to a 5 year old with a very simple example of a function."
   ]
  },
  {
   "cell_type": "markdown",
   "id": "25c37d2d-a02c-42df-9bce-4d1a659852d3",
   "metadata": {},
   "source": [
    "Now, let's call the function in chatgpt's response! Note that this function takes no arguments."
   ]
  },
  {
   "cell_type": "code",
   "execution_count": 10,
   "id": "8002473c-40c0-411d-be44-6cc1108a49ca",
   "metadata": {},
   "outputs": [
    {
     "name": "stdout",
     "output_type": "stream",
     "text": [
      "Take two slices of bread.\n",
      "Spread peanut butter on one slice.\n",
      "Spread jelly on the other slice.\n",
      "Put the slices together to make a sandwich.\n"
     ]
    }
   ],
   "source": [
    "# function definition\n",
    "def make_sandwich():\n",
    "    print(\"Take two slices of bread.\")\n",
    "    print(\"Spread peanut butter on one slice.\")\n",
    "    print(\"Spread jelly on the other slice.\")\n",
    "    print(\"Put the slices together to make a sandwich.\")\n",
    "\n",
    "# function call \n",
    "make_sandwich() "
   ]
  },
  {
   "cell_type": "code",
   "execution_count": 11,
   "id": "1d388a54-af09-4abf-9898-e8d8a1d68ce6",
   "metadata": {},
   "outputs": [
    {
     "data": {
      "text/markdown": [
       "Sometimes, we need a function to do something different based on some extra information we give it. It's like telling your friend what to do but giving them more than one instruction. \n",
       "\n",
       "Let's say we want to make a sandwich, but we want to choose the types of fillings for our sandwich. We can define a function called \"make_custom_sandwich\" that takes two pieces of information: one for the type of bread and another for the type of filling. Here is a simple example:\n",
       "\n",
       "```python\n",
       "def make_custom_sandwich(bread, filling):\n",
       "    print(\"Take two slices of\", bread, \"bread.\")\n",
       "    print(\"Spread\", filling, \"on one slice.\")\n",
       "    print(\"Put the slices together to make a sandwich.\")\n",
       "```\n",
       "\n",
       "Now, when we want to make a sandwich, we can tell the function what kind of bread and filling we want. For example, we can say \"make_custom_sandwich('wheat', 'ham')\" to make a sandwich with wheat bread and ham filling. Or we can say \"make_custom_sandwich('white', 'cheese')\" to make a sandwich with white bread and cheese filling."
      ],
      "text/plain": [
       "<IPython.core.display.Markdown object>"
      ]
     },
     "execution_count": 11,
     "metadata": {
      "text/markdown": {
       "jupyter_ai": {
        "model_id": "gpt-3.5-turbo",
        "provider_id": "openai-chat"
       }
      }
     },
     "output_type": "execute_result"
    }
   ],
   "source": [
    "%%ai openai-chat:gpt-3.5-turbo\n",
    "Now teach me about function definitions with more than 1 argument. Explain it like you would to a 5 year old with a very simple example of a function."
   ]
  },
  {
   "cell_type": "markdown",
   "id": "4e9844ab-3941-4f56-b3a6-e375ae2de00c",
   "metadata": {},
   "source": [
    "Now, let's call the function in chatgpt's response! Note that this function takes two arguments."
   ]
  },
  {
   "cell_type": "code",
   "execution_count": 16,
   "id": "e00b7173-3683-4348-a6fa-5e55f0851ae1",
   "metadata": {},
   "outputs": [],
   "source": [
    "# function definition\n",
    "def make_custom_sandwich(bread, filling):\n",
    "    print(\"Take two slices of\", bread, \"bread.\")\n",
    "    print(\"Spread\", filling, \"on one slice.\")\n",
    "    print(\"Put the slices together to make a sandwich.\")"
   ]
  },
  {
   "cell_type": "code",
   "execution_count": 17,
   "id": "14a99440-e350-475d-b17c-e75f68aa01a9",
   "metadata": {},
   "outputs": [
    {
     "ename": "SyntaxError",
     "evalue": "invalid syntax. Perhaps you forgot a comma? (960831606.py, line 2)",
     "output_type": "error",
     "traceback": [
      "\u001b[0;36m  Cell \u001b[0;32mIn[17], line 2\u001b[0;36m\u001b[0m\n\u001b[0;31m    make_custom_sandwich(brown, cream cheese)\u001b[0m\n\u001b[0m                                ^\u001b[0m\n\u001b[0;31mSyntaxError\u001b[0m\u001b[0;31m:\u001b[0m invalid syntax. Perhaps you forgot a comma?\n"
     ]
    }
   ],
   "source": [
    "# function call - choose your favorite bread and filling\n",
    "make_custom_sandwich(brown, cream cheese)"
   ]
  },
  {
   "cell_type": "code",
   "execution_count": 14,
   "id": "55edd556-aef2-4a9b-9c51-8f1a698bee85",
   "metadata": {},
   "outputs": [
    {
     "data": {
      "text/markdown": [
       "Certainly! The mistake is that Python treats `brown` and `cream cheese` as two separate variables, rather than as the actual values. To fix this, you need to put quotation marks (`'` or `\"`) around the arguments like this:\n",
       "\n",
       "```python\n",
       "make_custom_sandwich('brown', 'cream cheese')\n",
       "```\n",
       "\n",
       "By adding the quotation marks, Python understands that `brown` and `cream cheese` are the specific values you want to use for the `bread` and `filling` arguments."
      ],
      "text/plain": [
       "<IPython.core.display.Markdown object>"
      ]
     },
     "execution_count": 14,
     "metadata": {
      "text/markdown": {
       "jupyter_ai": {
        "model_id": "gpt-3.5-turbo",
        "provider_id": "openai-chat"
       }
      }
     },
     "output_type": "execute_result"
    }
   ],
   "source": [
    "%%ai openai-chat:gpt-3.5-turbo\n",
    "I tried this function with arguments brown and cream cheese but got the following error - \n",
    "Cell In[13], line 8\n",
    "    make_custom_sandwich(brown, cream cheese)\n",
    "                                ^\n",
    "SyntaxError: invalid syntax. Perhaps you forgot a comma?\n",
    "\n",
    "Could you help me correct my mistake?"
   ]
  },
  {
   "cell_type": "code",
   "execution_count": 18,
   "id": "c9bd0ebe-d637-400f-a1d5-838fb20cba7a",
   "metadata": {},
   "outputs": [
    {
     "name": "stdout",
     "output_type": "stream",
     "text": [
      "Take two slices of brown bread.\n",
      "Spread cream cheese on one slice.\n",
      "Put the slices together to make a sandwich.\n"
     ]
    }
   ],
   "source": [
    "make_custom_sandwich('brown', 'cream cheese')"
   ]
  },
  {
   "cell_type": "markdown",
   "id": "56e33cca-24c0-482b-9611-f1157f889670",
   "metadata": {},
   "source": [
    "### Applying functions to a column/array\n",
    "\n",
    "Its great to have to learned about arrays and tables, and to be able to read data and make new columns. But you must be wondering how we can manipulate all this data. We will learn about methods that allow you to do that for each of the entries in a column (or an array)!"
   ]
  },
  {
   "cell_type": "markdown",
   "id": "d16783e8-7f5b-46c6-b81f-0de84504e820",
   "metadata": {},
   "source": [
    "##### apply \n",
    "The `apply` method calls a function on each element of a column, forming a new array of return values. To indicate which function to call, just name it (without quotation marks or parentheses). The name of the column of input values is a string that must still appear within quotation marks."
   ]
  },
  {
   "cell_type": "code",
   "execution_count": 39,
   "id": "5f16ccbf-730f-4b0e-84ef-7ab2db40cf9d",
   "metadata": {},
   "outputs": [
    {
     "data": {
      "text/html": [
       "<table border=\"1\" class=\"dataframe\">\n",
       "    <thead>\n",
       "        <tr>\n",
       "            <th>Flavor</th> <th>Color</th> <th>Price</th>\n",
       "        </tr>\n",
       "    </thead>\n",
       "    <tbody>\n",
       "        <tr>\n",
       "            <td>strawberry</td> <td>pink       </td> <td>3.55 </td>\n",
       "        </tr>\n",
       "        <tr>\n",
       "            <td>chocolate </td> <td>light brown</td> <td>4.75 </td>\n",
       "        </tr>\n",
       "        <tr>\n",
       "            <td>chocolate </td> <td>dark brown </td> <td>5.25 </td>\n",
       "        </tr>\n",
       "        <tr>\n",
       "            <td>bubblegum </td> <td>pink       </td> <td>4.75 </td>\n",
       "        </tr>\n",
       "    </tbody>\n",
       "</table>"
      ],
      "text/plain": [
       "Flavor     | Color       | Price\n",
       "strawberry | pink        | 3.55\n",
       "chocolate  | light brown | 4.75\n",
       "chocolate  | dark brown  | 5.25\n",
       "bubblegum  | pink        | 4.75"
      ]
     },
     "execution_count": 39,
     "metadata": {},
     "output_type": "execute_result"
    }
   ],
   "source": [
    "cones = Table.read_table(\"data/cones.csv\")\n",
    "cones"
   ]
  },
  {
   "cell_type": "code",
   "execution_count": 40,
   "id": "37261efb-09b8-4a47-a895-e5f8b0d633b6",
   "metadata": {},
   "outputs": [
    {
     "data": {
      "text/plain": [
       "array([  7.1,   9.5,  10.5,   9.5])"
      ]
     },
     "execution_count": 40,
     "metadata": {},
     "output_type": "execute_result"
    }
   ],
   "source": [
    "cones.apply(double, 'Price')"
   ]
  },
  {
   "cell_type": "markdown",
   "id": "c851ca61-31dc-42c0-8c72-4c8139a5b30b",
   "metadata": {},
   "source": [
    "If the prices here are in dollars, and we wanted to convert to Euros, we could write a function:"
   ]
  },
  {
   "cell_type": "code",
   "execution_count": 41,
   "id": "153db6e1-afe6-44ae-8588-166144753ddb",
   "metadata": {},
   "outputs": [],
   "source": [
    "def dollars_to_euros(dollars):\n",
    "    \"\"\" convert dollars to euros \"\"\"\n",
    "    return dollars * 0.95"
   ]
  },
  {
   "cell_type": "markdown",
   "id": "51df452d-e0a6-4dad-b80b-67f99cb30171",
   "metadata": {},
   "source": [
    "And then apply that to a column:"
   ]
  },
  {
   "cell_type": "code",
   "execution_count": 42,
   "id": "0727d155-51c1-444f-99ca-fc88b9690dfc",
   "metadata": {},
   "outputs": [
    {
     "data": {
      "text/plain": [
       "array([ 3.3725,  4.5125,  4.9875,  4.5125])"
      ]
     },
     "execution_count": 42,
     "metadata": {},
     "output_type": "execute_result"
    }
   ],
   "source": [
    "cones.apply(dollars_to_euros, 'Price')"
   ]
  },
  {
   "cell_type": "code",
   "execution_count": null,
   "id": "e984a435-d63a-47c8-be95-2d2685e1a263",
   "metadata": {},
   "outputs": [],
   "source": [
    "And then add that to our table:"
   ]
  },
  {
   "cell_type": "code",
   "execution_count": 43,
   "id": "a66aaa10-7f9d-41c3-94e1-19262f4bb3d5",
   "metadata": {},
   "outputs": [
    {
     "data": {
      "text/html": [
       "<table border=\"1\" class=\"dataframe\">\n",
       "    <thead>\n",
       "        <tr>\n",
       "            <th>Flavor</th> <th>Color</th> <th>Price</th> <th>Price in Euros</th>\n",
       "        </tr>\n",
       "    </thead>\n",
       "    <tbody>\n",
       "        <tr>\n",
       "            <td>strawberry</td> <td>pink       </td> <td>3.55 </td> <td>3.3725        </td>\n",
       "        </tr>\n",
       "        <tr>\n",
       "            <td>chocolate </td> <td>light brown</td> <td>4.75 </td> <td>4.5125        </td>\n",
       "        </tr>\n",
       "        <tr>\n",
       "            <td>chocolate </td> <td>dark brown </td> <td>5.25 </td> <td>4.9875        </td>\n",
       "        </tr>\n",
       "        <tr>\n",
       "            <td>bubblegum </td> <td>pink       </td> <td>4.75 </td> <td>4.5125        </td>\n",
       "        </tr>\n",
       "    </tbody>\n",
       "</table>"
      ],
      "text/plain": [
       "Flavor     | Color       | Price | Price in Euros\n",
       "strawberry | pink        | 3.55  | 3.3725\n",
       "chocolate  | light brown | 4.75  | 4.5125\n",
       "chocolate  | dark brown  | 5.25  | 4.9875\n",
       "bubblegum  | pink        | 4.75  | 4.5125"
      ]
     },
     "execution_count": 43,
     "metadata": {},
     "output_type": "execute_result"
    }
   ],
   "source": [
    "euros_column = cones.apply(dollars_to_euros, 'Price')\n",
    "cones_with_euros = cones.append_column(\"Price in Euros\", euros_column)\n",
    "cones_with_euros"
   ]
  },
  {
   "cell_type": "markdown",
   "id": "41054244-d118-47ca-a122-914cab411ad1",
   "metadata": {},
   "source": [
    "# Grouping Values in a table\n",
    "The `group`method with a single argument counts the number of rows for each category in a column. The result contains one row per unique value in the grouped column."
   ]
  },
  {
   "cell_type": "code",
   "execution_count": 27,
   "id": "706d3b05-697d-46f2-9b4b-cd7320cb3ff0",
   "metadata": {},
   "outputs": [
    {
     "data": {
      "text/html": [
       "<table border=\"1\" class=\"dataframe\">\n",
       "    <thead>\n",
       "        <tr>\n",
       "            <th>Flavor</th> <th>count</th>\n",
       "        </tr>\n",
       "    </thead>\n",
       "    <tbody>\n",
       "        <tr>\n",
       "            <td>bubblegum </td> <td>1    </td>\n",
       "        </tr>\n",
       "        <tr>\n",
       "            <td>chocolate </td> <td>2    </td>\n",
       "        </tr>\n",
       "        <tr>\n",
       "            <td>strawberry</td> <td>1    </td>\n",
       "        </tr>\n",
       "    </tbody>\n",
       "</table>"
      ],
      "text/plain": [
       "Flavor     | count\n",
       "bubblegum  | 1\n",
       "chocolate  | 2\n",
       "strawberry | 1"
      ]
     },
     "execution_count": 27,
     "metadata": {},
     "output_type": "execute_result"
    }
   ],
   "source": [
    "cones.group('Flavor')"
   ]
  },
  {
   "cell_type": "markdown",
   "id": "dcc92a94-3cd2-4ea6-ac25-30e26c97110a",
   "metadata": {},
   "source": [
    "The optional second argument of `group` names the function that will be used to aggregate values in other columns for all of those rows. For instance, `sum` will sum up the prices in all rows that match each category. This result also contains one row per unique value in the grouped column, but it has the same number of columns as the original table."
   ]
  },
  {
   "cell_type": "code",
   "execution_count": 35,
   "id": "4b8afcc2-f220-44e1-ba49-ed155a6c87e9",
   "metadata": {},
   "outputs": [
    {
     "data": {
      "text/html": [
       "<table border=\"1\" class=\"dataframe\">\n",
       "    <thead>\n",
       "        <tr>\n",
       "            <th>Flavor</th> <th>Color list</th> <th>Price list</th>\n",
       "        </tr>\n",
       "    </thead>\n",
       "    <tbody>\n",
       "        <tr>\n",
       "            <td>bubblegum </td> <td>['pink']                     </td> <td>[4.75]              </td>\n",
       "        </tr>\n",
       "        <tr>\n",
       "            <td>chocolate </td> <td>['light brown', 'dark brown']</td> <td>[4.75, 5.25]        </td>\n",
       "        </tr>\n",
       "        <tr>\n",
       "            <td>strawberry</td> <td>['pink']                     </td> <td>[3.5499999999999998]</td>\n",
       "        </tr>\n",
       "    </tbody>\n",
       "</table>"
      ],
      "text/plain": [
       "Flavor     | Color list                    | Price list\n",
       "bubblegum  | ['pink']                      | [4.75]\n",
       "chocolate  | ['light brown', 'dark brown'] | [4.75, 5.25]\n",
       "strawberry | ['pink']                      | [3.5499999999999998]"
      ]
     },
     "execution_count": 35,
     "metadata": {},
     "output_type": "execute_result"
    }
   ],
   "source": [
    "cones.group('Flavor', list)"
   ]
  },
  {
   "cell_type": "code",
   "execution_count": 28,
   "id": "afa6facd-363d-489f-b3f8-fa879abbe32b",
   "metadata": {},
   "outputs": [],
   "source": [
    "cones = cones.drop('Color') # otherwise it will attempt to sum Color (which doesn't make sense)"
   ]
  },
  {
   "cell_type": "code",
   "execution_count": 15,
   "id": "050b9fed-34d4-41fa-bba2-9a0f61cdf965",
   "metadata": {},
   "outputs": [
    {
     "data": {
      "text/html": [
       "<table border=\"1\" class=\"dataframe\">\n",
       "    <thead>\n",
       "        <tr>\n",
       "            <th>Flavor</th> <th>Price sum</th>\n",
       "        </tr>\n",
       "    </thead>\n",
       "    <tbody>\n",
       "        <tr>\n",
       "            <td>bubblegum </td> <td>4.75     </td>\n",
       "        </tr>\n",
       "        <tr>\n",
       "            <td>chocolate </td> <td>10       </td>\n",
       "        </tr>\n",
       "        <tr>\n",
       "            <td>strawberry</td> <td>3.55     </td>\n",
       "        </tr>\n",
       "    </tbody>\n",
       "</table>"
      ],
      "text/plain": [
       "Flavor     | Price sum\n",
       "bubblegum  | 4.75\n",
       "chocolate  | 10\n",
       "strawberry | 3.55"
      ]
     },
     "execution_count": 15,
     "metadata": {},
     "output_type": "execute_result"
    }
   ],
   "source": [
    "cones.group('Flavor', sum)"
   ]
  },
  {
   "cell_type": "code",
   "execution_count": 16,
   "id": "d8aae92c-8160-4728-9d23-6e95756914dd",
   "metadata": {},
   "outputs": [
    {
     "data": {
      "text/html": [
       "<table border=\"1\" class=\"dataframe\">\n",
       "    <thead>\n",
       "        <tr>\n",
       "            <th>Flavor</th> <th>Price double</th>\n",
       "        </tr>\n",
       "    </thead>\n",
       "    <tbody>\n",
       "        <tr>\n",
       "            <td>bubblegum </td> <td>[ 9.5]       </td>\n",
       "        </tr>\n",
       "        <tr>\n",
       "            <td>chocolate </td> <td>[  9.5  10.5]</td>\n",
       "        </tr>\n",
       "        <tr>\n",
       "            <td>strawberry</td> <td>[ 7.1]       </td>\n",
       "        </tr>\n",
       "    </tbody>\n",
       "</table>"
      ],
      "text/plain": [
       "Flavor     | Price double\n",
       "bubblegum  | [ 9.5]\n",
       "chocolate  | [  9.5  10.5]\n",
       "strawberry | [ 7.1]"
      ]
     },
     "execution_count": 16,
     "metadata": {},
     "output_type": "execute_result"
    }
   ],
   "source": [
    "cones.group('Flavor', double)"
   ]
  },
  {
   "cell_type": "code",
   "execution_count": 18,
   "id": "584e5d9d-7c95-40d4-aeef-6d4e0ae983b9",
   "metadata": {},
   "outputs": [
    {
     "data": {
      "text/html": [
       "<table border=\"1\" class=\"dataframe\">\n",
       "    <thead>\n",
       "        <tr>\n",
       "            <th>Flavor</th> <th>Color</th> <th>count</th>\n",
       "        </tr>\n",
       "    </thead>\n",
       "    <tbody>\n",
       "        <tr>\n",
       "            <td>bubblegum </td> <td>pink       </td> <td>1    </td>\n",
       "        </tr>\n",
       "        <tr>\n",
       "            <td>chocolate </td> <td>dark brown </td> <td>1    </td>\n",
       "        </tr>\n",
       "        <tr>\n",
       "            <td>chocolate </td> <td>light brown</td> <td>1    </td>\n",
       "        </tr>\n",
       "        <tr>\n",
       "            <td>strawberry</td> <td>pink       </td> <td>1    </td>\n",
       "        </tr>\n",
       "    </tbody>\n",
       "</table>"
      ],
      "text/plain": [
       "Flavor     | Color       | count\n",
       "bubblegum  | pink        | 1\n",
       "chocolate  | dark brown  | 1\n",
       "chocolate  | light brown | 1\n",
       "strawberry | pink        | 1"
      ]
     },
     "execution_count": 18,
     "metadata": {},
     "output_type": "execute_result"
    }
   ],
   "source": [
    "more_cones = Table.read_table(\"data/cones.csv\")\n",
    "more_cones.group(['Flavor', 'Color'])"
   ]
  },
  {
   "cell_type": "code",
   "execution_count": 19,
   "id": "ee72f7dc-0d28-4411-9427-2bed11961bb5",
   "metadata": {},
   "outputs": [
    {
     "data": {
      "text/html": [
       "<table border=\"1\" class=\"dataframe\">\n",
       "    <thead>\n",
       "        <tr>\n",
       "            <th>Flavor</th> <th>Color</th> <th>Price sum</th>\n",
       "        </tr>\n",
       "    </thead>\n",
       "    <tbody>\n",
       "        <tr>\n",
       "            <td>bubblegum </td> <td>pink       </td> <td>4.75     </td>\n",
       "        </tr>\n",
       "        <tr>\n",
       "            <td>chocolate </td> <td>dark brown </td> <td>5.25     </td>\n",
       "        </tr>\n",
       "        <tr>\n",
       "            <td>chocolate </td> <td>light brown</td> <td>4.75     </td>\n",
       "        </tr>\n",
       "        <tr>\n",
       "            <td>strawberry</td> <td>pink       </td> <td>3.55     </td>\n",
       "        </tr>\n",
       "    </tbody>\n",
       "</table>"
      ],
      "text/plain": [
       "Flavor     | Color       | Price sum\n",
       "bubblegum  | pink        | 4.75\n",
       "chocolate  | dark brown  | 5.25\n",
       "chocolate  | light brown | 4.75\n",
       "strawberry | pink        | 3.55"
      ]
     },
     "execution_count": 19,
     "metadata": {},
     "output_type": "execute_result"
    }
   ],
   "source": [
    "more_cones.group(['Flavor', 'Color'], sum)"
   ]
  },
  {
   "cell_type": "markdown",
   "id": "d0ac724c-4cfb-4db4-8ae9-2306d57aac1a",
   "metadata": {},
   "source": [
    "##### pivot \n",
    "The same data can be displayed differenly using the Table method `pivot`.\n",
    "\n",
    "The `pivot` method is closely related to the `group` method: it groups together rows that share a combination of values. It differs from group because it organizes the resulting values in a grid. The first argument to pivot is the label of a column that contains the values that will be used to form new columns in the result. The second argument is the label of a column used for the rows. The result gives the count of all rows of the original table that share the combination of column and row values.\r\n",
    "\r\n",
    "Like group, pivot can be used with additional arguments to find characteristics of each paired category. An optional third argument called values indicates a column of values that will replace the counts in each cell of the grid. All of these values will not be displayed, however; the fourth argument collect indicates how to collect them all into one aggregated value to be displayed in the cell."
   ]
  },
  {
   "cell_type": "code",
   "execution_count": 20,
   "id": "425e96c4-a427-4ec1-9f33-f7f67a67df43",
   "metadata": {},
   "outputs": [
    {
     "data": {
      "text/html": [
       "<table border=\"1\" class=\"dataframe\">\n",
       "    <thead>\n",
       "        <tr>\n",
       "            <th>Color</th> <th>bubblegum</th> <th>chocolate</th> <th>strawberry</th>\n",
       "        </tr>\n",
       "    </thead>\n",
       "    <tbody>\n",
       "        <tr>\n",
       "            <td>dark brown </td> <td>0        </td> <td>1        </td> <td>0         </td>\n",
       "        </tr>\n",
       "        <tr>\n",
       "            <td>light brown</td> <td>0        </td> <td>1        </td> <td>0         </td>\n",
       "        </tr>\n",
       "        <tr>\n",
       "            <td>pink       </td> <td>1        </td> <td>0        </td> <td>1         </td>\n",
       "        </tr>\n",
       "    </tbody>\n",
       "</table>"
      ],
      "text/plain": [
       "Color       | bubblegum | chocolate | strawberry\n",
       "dark brown  | 0         | 1         | 0\n",
       "light brown | 0         | 1         | 0\n",
       "pink        | 1         | 0         | 1"
      ]
     },
     "execution_count": 20,
     "metadata": {},
     "output_type": "execute_result"
    }
   ],
   "source": [
    "more_cones.pivot('Flavor', 'Color')"
   ]
  },
  {
   "cell_type": "code",
   "execution_count": 21,
   "id": "ad1c1e64-f697-401f-86ba-6061049f601f",
   "metadata": {},
   "outputs": [
    {
     "data": {
      "text/html": [
       "<table border=\"1\" class=\"dataframe\">\n",
       "    <thead>\n",
       "        <tr>\n",
       "            <th>Color</th> <th>bubblegum</th> <th>chocolate</th> <th>strawberry</th>\n",
       "        </tr>\n",
       "    </thead>\n",
       "    <tbody>\n",
       "        <tr>\n",
       "            <td>dark brown </td> <td>0        </td> <td>5.25     </td> <td>0         </td>\n",
       "        </tr>\n",
       "        <tr>\n",
       "            <td>light brown</td> <td>0        </td> <td>4.75     </td> <td>0         </td>\n",
       "        </tr>\n",
       "        <tr>\n",
       "            <td>pink       </td> <td>4.75     </td> <td>0        </td> <td>3.55      </td>\n",
       "        </tr>\n",
       "    </tbody>\n",
       "</table>"
      ],
      "text/plain": [
       "Color       | bubblegum | chocolate | strawberry\n",
       "dark brown  | 0         | 5.25      | 0\n",
       "light brown | 0         | 4.75      | 0\n",
       "pink        | 4.75      | 0         | 3.55"
      ]
     },
     "execution_count": 21,
     "metadata": {},
     "output_type": "execute_result"
    }
   ],
   "source": [
    "more_cones.pivot('Flavor', 'Color', values='Price', collect=sum)"
   ]
  },
  {
   "cell_type": "markdown",
   "id": "d60a85a0-8c12-418d-bcdf-c92444fbd85b",
   "metadata": {},
   "source": [
    "##### chatgpt time!\n",
    "Now, let us learn more about how to apply functions to arrays/table columns using chatgpt!"
   ]
  },
  {
   "cell_type": "code",
   "execution_count": 6,
   "id": "7ba20379-2509-46f8-8fd6-6987390122cd",
   "metadata": {},
   "outputs": [
    {
     "data": {
      "text/html": [
       "AI generated code inserted below &#11015;&#65039;"
      ],
      "text/plain": [
       "<IPython.core.display.HTML object>"
      ]
     },
     "execution_count": 6,
     "metadata": {
      "text/html": {
       "jupyter_ai": {
        "model_id": "gpt-3.5-turbo",
        "provider_id": "openai-chat"
       }
      }
     },
     "output_type": "execute_result"
    }
   ],
   "source": [
    "%%ai openai-chat:gpt-3.5-turbo --format code\n",
    "I just learnt about apply that can be used on tables (a function in the datascience module). Explain it like you would to a 5 year old and give me a very simple code example."
   ]
  },
  {
   "cell_type": "code",
   "execution_count": 7,
   "id": "ebfc223f-f7ba-40cc-9a42-0eb9f5848325",
   "metadata": {},
   "outputs": [
    {
     "data": {
      "text/plain": [
       "array([ 6, 10,  4,  8])"
      ]
     },
     "execution_count": 7,
     "metadata": {},
     "output_type": "execute_result"
    }
   ],
   "source": [
    "from datascience import *\n",
    "\n",
    "# Create a table with two columns: \"Toys\" and \"Count\"\n",
    "toys_table = Table().with_columns(\n",
    "    \"Toys\", [\"Car\", \"Doll\", \"Train\", \"Ball\"],\n",
    "    \"Count\", [3, 5, 2, 4]\n",
    ")\n",
    "\n",
    "# Define a function that doubles the count of each toy\n",
    "def double_count(count):\n",
    "    return count * 2\n",
    "\n",
    "# Apply the function to the \"Count\" column of the table\n",
    "doubled_count_table = toys_table.apply(double_count, \"Count\")\n",
    "doubled_count_table"
   ]
  },
  {
   "cell_type": "code",
   "execution_count": 8,
   "id": "6d0274aa-f595-4d10-b634-d8442c4ce9f0",
   "metadata": {},
   "outputs": [
    {
     "data": {
      "text/html": [
       "AI generated code inserted below &#11015;&#65039;"
      ],
      "text/plain": [
       "<IPython.core.display.HTML object>"
      ]
     },
     "execution_count": 8,
     "metadata": {
      "text/html": {
       "jupyter_ai": {
        "model_id": "gpt-3.5-turbo",
        "provider_id": "openai-chat"
       }
      }
     },
     "output_type": "execute_result"
    }
   ],
   "source": [
    "%%ai openai-chat:gpt-3.5-turbo --format code\n",
    "I just learnt about group that can be used on tables (a function in the datascience module). Explain it like you would to a 5 year old and give me a very simple code example."
   ]
  },
  {
   "cell_type": "code",
   "execution_count": 9,
   "id": "a39e18c7-3c0f-4049-aadc-a9a911164ef4",
   "metadata": {},
   "outputs": [
    {
     "data": {
      "text/html": [
       "<table border=\"1\" class=\"dataframe\">\n",
       "    <thead>\n",
       "        <tr>\n",
       "            <th>Color</th> <th>count</th>\n",
       "        </tr>\n",
       "    </thead>\n",
       "    <tbody>\n",
       "        <tr>\n",
       "            <td>Blue </td> <td>2    </td>\n",
       "        </tr>\n",
       "        <tr>\n",
       "            <td>Green</td> <td>1    </td>\n",
       "        </tr>\n",
       "        <tr>\n",
       "            <td>Red  </td> <td>2    </td>\n",
       "        </tr>\n",
       "    </tbody>\n",
       "</table>"
      ],
      "text/plain": [
       "Color | count\n",
       "Blue  | 2\n",
       "Green | 1\n",
       "Red   | 2"
      ]
     },
     "execution_count": 9,
     "metadata": {},
     "output_type": "execute_result"
    }
   ],
   "source": [
    "from datascience import *\n",
    "\n",
    "# Create a table with two columns: \"Toys\" and \"Color\"\n",
    "toys_table = Table().with_columns(\n",
    "    \"Toys\", [\"Car\", \"Doll\", \"Car\", \"Doll\", \"Train\"],\n",
    "    \"Color\", [\"Red\", \"Blue\", \"Green\", \"Red\", \"Blue\"]\n",
    ")\n",
    "\n",
    "# Group the toys based on their color\n",
    "grouped_table = toys_table.group(\"Color\")\n",
    "grouped_table"
   ]
  },
  {
   "cell_type": "code",
   "execution_count": 10,
   "id": "6cbbbf31-a630-49bc-b0f4-53ce38feb0c2",
   "metadata": {},
   "outputs": [
    {
     "data": {
      "text/html": [
       "AI generated code inserted below &#11015;&#65039;"
      ],
      "text/plain": [
       "<IPython.core.display.HTML object>"
      ]
     },
     "execution_count": 10,
     "metadata": {
      "text/html": {
       "jupyter_ai": {
        "model_id": "gpt-3.5-turbo",
        "provider_id": "openai-chat"
       }
      }
     },
     "output_type": "execute_result"
    }
   ],
   "source": [
    "%%ai openai-chat:gpt-3.5-turbo --format code\n",
    "I just learnt about pivot that can be used on tables (a function in the datascience module). Explain it like you would to a 5 year old and give me a very simple code example."
   ]
  },
  {
   "cell_type": "code",
   "execution_count": 11,
   "id": "3d38e653-5b47-44ff-83fe-69b4ae688e07",
   "metadata": {},
   "outputs": [
    {
     "data": {
      "text/html": [
       "<table border=\"1\" class=\"dataframe\">\n",
       "    <thead>\n",
       "        <tr>\n",
       "            <th>Color</th> <th>Doll</th> <th>Vehicle</th>\n",
       "        </tr>\n",
       "    </thead>\n",
       "    <tbody>\n",
       "        <tr>\n",
       "            <td>Blue </td> <td>2   </td> <td>0      </td>\n",
       "        </tr>\n",
       "        <tr>\n",
       "            <td>Green</td> <td>0   </td> <td>1      </td>\n",
       "        </tr>\n",
       "        <tr>\n",
       "            <td>Red  </td> <td>0   </td> <td>2      </td>\n",
       "        </tr>\n",
       "    </tbody>\n",
       "</table>"
      ],
      "text/plain": [
       "Color | Doll | Vehicle\n",
       "Blue  | 2    | 0\n",
       "Green | 0    | 1\n",
       "Red   | 0    | 2"
      ]
     },
     "execution_count": 11,
     "metadata": {},
     "output_type": "execute_result"
    }
   ],
   "source": [
    "from datascience import *\n",
    "\n",
    "# Create a table with three columns: \"Toys\", \"Category\", and \"Color\"\n",
    "toys_table = Table().with_columns(\n",
    "    \"Toys\", [\"Car\", \"Doll\", \"Train\", \"Car\", \"Doll\"],\n",
    "    \"Category\", [\"Vehicle\", \"Doll\", \"Vehicle\", \"Vehicle\", \"Doll\"],\n",
    "    \"Color\", [\"Red\", \"Blue\", \"Green\", \"Red\", \"Blue\"]\n",
    ")\n",
    "\n",
    "# Pivot the table to organize toys by category and color\n",
    "pivoted_table = toys_table.pivot(\"Category\", \"Color\")\n",
    "pivoted_table"
   ]
  },
  {
   "cell_type": "markdown",
   "id": "bb8a7611-3e60-4265-a4f1-c8d34c5f2d77",
   "metadata": {},
   "source": [
    "### Joining tables by columns!\n",
    "\n",
    "Often, data about the same individuals is maintained in more than one table. For example, one university office might have data about each student’s time to completion of degree, while another has data about the student’s tuition and financial aid."
   ]
  },
  {
   "cell_type": "markdown",
   "id": "9932bf41-21b5-4d29-9a87-67bb553230db",
   "metadata": {},
   "source": [
    "We have been working with the `more_cones` table, let's make another table called `ratings`."
   ]
  },
  {
   "cell_type": "code",
   "execution_count": 41,
   "id": "98c0ba73-e5a2-43a3-b79b-6c524fa311ce",
   "metadata": {},
   "outputs": [
    {
     "data": {
      "text/html": [
       "<table border=\"1\" class=\"dataframe\">\n",
       "    <thead>\n",
       "        <tr>\n",
       "            <th>Kind</th> <th>Stars</th>\n",
       "        </tr>\n",
       "    </thead>\n",
       "    <tbody>\n",
       "        <tr>\n",
       "            <td>strawberry</td> <td>2.5  </td>\n",
       "        </tr>\n",
       "        <tr>\n",
       "            <td>chocolate </td> <td>3.5  </td>\n",
       "        </tr>\n",
       "        <tr>\n",
       "            <td>vanilla   </td> <td>4    </td>\n",
       "        </tr>\n",
       "        <tr>\n",
       "            <td>bubblegum </td> <td>3    </td>\n",
       "        </tr>\n",
       "    </tbody>\n",
       "</table>"
      ],
      "text/plain": [
       "Kind       | Stars\n",
       "strawberry | 2.5\n",
       "chocolate  | 3.5\n",
       "vanilla    | 4\n",
       "bubblegum  | 3"
      ]
     },
     "execution_count": 41,
     "metadata": {},
     "output_type": "execute_result"
    }
   ],
   "source": [
    "ratings = Table().with_columns(\n",
    "    'Kind', make_array('strawberry', 'chocolate', 'vanilla', 'bubblegum'),\n",
    "    'Stars', make_array(2.5, 3.5, 4, 3)\n",
    ")\n",
    "ratings"
   ]
  },
  {
   "cell_type": "markdown",
   "id": "008988af-699d-4c0f-9a52-3b7ec16dc4a4",
   "metadata": {},
   "source": [
    "##### join\n",
    "The method `join` creates a new table in which each cone in the `more_cones` table is augmented with the Stars information in the `ratings` table. For each cone in cones, join finds a row in ratings whose Kind matches the cone’s Flavor. We have to tell join to use those columns for matching. "
   ]
  },
  {
   "cell_type": "code",
   "execution_count": 42,
   "id": "e6352aae-f25e-4eaa-9ba8-b7262012d0cd",
   "metadata": {},
   "outputs": [
    {
     "data": {
      "text/html": [
       "<table border=\"1\" class=\"dataframe\">\n",
       "    <thead>\n",
       "        <tr>\n",
       "            <th>Flavor</th> <th>Color</th> <th>Price</th> <th>Stars</th>\n",
       "        </tr>\n",
       "    </thead>\n",
       "    <tbody>\n",
       "        <tr>\n",
       "            <td>bubblegum </td> <td>pink       </td> <td>4.75 </td> <td>3    </td>\n",
       "        </tr>\n",
       "        <tr>\n",
       "            <td>chocolate </td> <td>light brown</td> <td>4.75 </td> <td>3.5  </td>\n",
       "        </tr>\n",
       "        <tr>\n",
       "            <td>chocolate </td> <td>dark brown </td> <td>5.25 </td> <td>3.5  </td>\n",
       "        </tr>\n",
       "        <tr>\n",
       "            <td>strawberry</td> <td>pink       </td> <td>3.55 </td> <td>2.5  </td>\n",
       "        </tr>\n",
       "    </tbody>\n",
       "</table>"
      ],
      "text/plain": [
       "Flavor     | Color       | Price | Stars\n",
       "bubblegum  | pink        | 4.75  | 3\n",
       "chocolate  | light brown | 4.75  | 3.5\n",
       "chocolate  | dark brown  | 5.25  | 3.5\n",
       "strawberry | pink        | 3.55  | 2.5"
      ]
     },
     "execution_count": 42,
     "metadata": {},
     "output_type": "execute_result"
    }
   ],
   "source": [
    "rated = more_cones.join('Flavor', ratings, 'Kind')\n",
    "rated"
   ]
  },
  {
   "cell_type": "code",
   "execution_count": 44,
   "id": "265bb939-9b04-4726-b219-39d4e8c2f55f",
   "metadata": {},
   "outputs": [
    {
     "data": {
      "text/html": [
       "<table border=\"1\" class=\"dataframe\">\n",
       "    <thead>\n",
       "        <tr>\n",
       "            <th>Kind</th> <th>Stars</th> <th>Color</th> <th>Price</th>\n",
       "        </tr>\n",
       "    </thead>\n",
       "    <tbody>\n",
       "        <tr>\n",
       "            <td>bubblegum </td> <td>3    </td> <td>pink       </td> <td>4.75 </td>\n",
       "        </tr>\n",
       "        <tr>\n",
       "            <td>chocolate </td> <td>3.5  </td> <td>light brown</td> <td>4.75 </td>\n",
       "        </tr>\n",
       "        <tr>\n",
       "            <td>chocolate </td> <td>3.5  </td> <td>dark brown </td> <td>5.25 </td>\n",
       "        </tr>\n",
       "        <tr>\n",
       "            <td>strawberry</td> <td>2.5  </td> <td>pink       </td> <td>3.55 </td>\n",
       "        </tr>\n",
       "    </tbody>\n",
       "</table>"
      ],
      "text/plain": [
       "Kind       | Stars | Color       | Price\n",
       "bubblegum  | 3     | pink        | 4.75\n",
       "chocolate  | 3.5   | light brown | 4.75\n",
       "chocolate  | 3.5   | dark brown  | 5.25\n",
       "strawberry | 2.5   | pink        | 3.55"
      ]
     },
     "execution_count": 44,
     "metadata": {},
     "output_type": "execute_result"
    }
   ],
   "source": [
    "ratings.join('Kind', cones, 'Flavor') # the order in which we list the two tables changes the order that the columns appear in, and can potentially changes the order of the rows, but it doesn’t make any fundamental difference"
   ]
  },
  {
   "cell_type": "markdown",
   "id": "ab74fcdc-5984-4eef-9a64-d45636260557",
   "metadata": {},
   "source": [
    "##### chatgpt time! \n",
    "Now let us understand how to join two tables using chatgpt!"
   ]
  },
  {
   "cell_type": "code",
   "execution_count": 12,
   "id": "5aa28fdf-1715-4101-bdc0-916376b6bc3e",
   "metadata": {},
   "outputs": [
    {
     "data": {
      "text/html": [
       "AI generated code inserted below &#11015;&#65039;"
      ],
      "text/plain": [
       "<IPython.core.display.HTML object>"
      ]
     },
     "execution_count": 12,
     "metadata": {
      "text/html": {
       "jupyter_ai": {
        "model_id": "gpt-3.5-turbo",
        "provider_id": "openai-chat"
       }
      }
     },
     "output_type": "execute_result"
    }
   ],
   "source": [
    "%%ai openai-chat:gpt-3.5-turbo --format code\n",
    "I just learnt about join that can be used on tables (a function in the datascience module). Explain it like you would to a 5 year old and give me a very simple code example."
   ]
  },
  {
   "cell_type": "code",
   "execution_count": 13,
   "id": "675cfd07-fcdb-4167-bf59-27144513b2b9",
   "metadata": {},
   "outputs": [
    {
     "data": {
      "text/html": [
       "<table border=\"1\" class=\"dataframe\">\n",
       "    <thead>\n",
       "        <tr>\n",
       "            <th>Toy</th> <th>Count</th> <th>Color</th>\n",
       "        </tr>\n",
       "    </thead>\n",
       "    <tbody>\n",
       "        <tr>\n",
       "            <td>Car  </td> <td>3    </td> <td>Red  </td>\n",
       "        </tr>\n",
       "        <tr>\n",
       "            <td>Doll </td> <td>5    </td> <td>Blue </td>\n",
       "        </tr>\n",
       "        <tr>\n",
       "            <td>Train</td> <td>2    </td> <td>Green</td>\n",
       "        </tr>\n",
       "    </tbody>\n",
       "</table>"
      ],
      "text/plain": [
       "Toy   | Count | Color\n",
       "Car   | 3     | Red\n",
       "Doll  | 5     | Blue\n",
       "Train | 2     | Green"
      ]
     },
     "execution_count": 13,
     "metadata": {},
     "output_type": "execute_result"
    }
   ],
   "source": [
    "from datascience import *\n",
    "\n",
    "# Create two tables with a common column: \"Toy\"\n",
    "toys_table = Table().with_columns(\n",
    "    \"Toy\", [\"Car\", \"Doll\", \"Train\"],\n",
    "    \"Count\", [3, 5, 2]\n",
    ")\n",
    "\n",
    "colors_table = Table().with_columns(\n",
    "    \"Toy\", [\"Car\", \"Doll\", \"Train\"],\n",
    "    \"Color\", [\"Red\", \"Blue\", \"Green\"]\n",
    ")\n",
    "\n",
    "# Join the two tables based on the \"Toy\" column\n",
    "joined_table = toys_table.join(\"Toy\", colors_table)\n",
    "joined_table"
   ]
  },
  {
   "cell_type": "code",
   "execution_count": 51,
   "id": "62154d3c-be54-4bd6-879d-7ea72eeb4cfb",
   "metadata": {},
   "outputs": [
    {
     "data": {
      "text/markdown": [
       "Certainly! Let's understand joining two tables using the `join` method from the datascience module in a simple way:\n",
       "\n",
       "Imagine you have two sets of toy blocks, one set has shapes and the other set has colors. You want to combine these sets and find blocks that have both a specific shape and color. \n",
       "\n",
       "The `join` method helps you do that by matching the blocks based on a common attribute, like a label. Let's say you have the following sets of blocks:\n",
       "\n",
       "Set 1 (Shapes):\n",
       "\n",
       "| Block  | Shape    |\n",
       "|--------|----------|\n",
       "| Block1 | Circle   |\n",
       "| Block2 | Triangle |\n",
       "| Block3 | Square   |\n",
       "\n",
       "Set 2 (Colors):\n",
       "\n",
       "| Block  | Color |\n",
       "|--------|-------|\n",
       "| Block1 | Red   |\n",
       "| Block2 | Green |\n",
       "| Block3 | Blue  |\n",
       "\n",
       "Now, you can use the `join` method to combine these sets and find blocks that have both a specific shape and color. Suppose you want to find blocks that are both \"Circle\" shaped and \"Red\" colored. You can do it like this:\n",
       "\n",
       "```python\n",
       "shapes_table = Table().with_columns('Block', make_array('Block1', 'Block2', 'Block3'),\n",
       "                                    'Shape', make_array('Circle', 'Triangle', 'Square'))\n",
       "\n",
       "colors_table = Table().with_columns('Block', make_array('Block1', 'Block2', 'Block3'),\n",
       "                                    'Color', make_array('Red', 'Green', 'Blue'))\n",
       "\n",
       "combined_table = shapes_table.join('Block', colors_table)\n",
       "matched_blocks = combined_table.where('Shape', 'Circle').where('Color', 'Red')\n",
       "```\n",
       "\n",
       "After doing the join and filtering the desired shape and color, the `matched_blocks` table will look like this:\n",
       "\n",
       "| Block  | Shape    | Color |\n",
       "|--------|----------|-------|\n",
       "| Block1 | Circle   | Red   |\n",
       "\n",
       "Here, you have joined the two tables based on the common attribute \"Block\" and found the block that is both \"Circle\" shaped and \"Red\" colored.\n",
       "\n",
       "So, the `join` method helps you bring together information from different tables based on a common attribute, allowing you to find matching elements or combine relevant data. Just like when you combine your shape blocks with your color blocks to find the blocks you need!"
      ],
      "text/plain": [
       "<IPython.core.display.Markdown object>"
      ]
     },
     "execution_count": 51,
     "metadata": {
      "text/markdown": {
       "jupyter_ai": {
        "model_id": "gpt-3.5-turbo",
        "provider_id": "openai-chat"
       }
      }
     },
     "output_type": "execute_result"
    }
   ],
   "source": [
    "%%ai openai-chat:gpt-3.5-turbo\n",
    "I want to learn more about joining two tables. I just learnt about join method from datascience module in Python. Can you explain it like you would to a 5 year old with very simple examples?"
   ]
  },
  {
   "cell_type": "markdown",
   "id": "eff23c3a-8d03-49b0-b64d-e929e29e38b0",
   "metadata": {},
   "source": [
    "Let's try chatgpt's code response!"
   ]
  },
  {
   "cell_type": "code",
   "execution_count": 52,
   "id": "f282d154-21e6-46ed-a959-1400f2aca41e",
   "metadata": {},
   "outputs": [
    {
     "data": {
      "text/html": [
       "<table border=\"1\" class=\"dataframe\">\n",
       "    <thead>\n",
       "        <tr>\n",
       "            <th>Block</th> <th>Shape</th> <th>Color</th>\n",
       "        </tr>\n",
       "    </thead>\n",
       "    <tbody>\n",
       "        <tr>\n",
       "            <td>Block1</td> <td>Circle  </td> <td>Red  </td>\n",
       "        </tr>\n",
       "        <tr>\n",
       "            <td>Block2</td> <td>Triangle</td> <td>Green</td>\n",
       "        </tr>\n",
       "        <tr>\n",
       "            <td>Block3</td> <td>Square  </td> <td>Blue </td>\n",
       "        </tr>\n",
       "    </tbody>\n",
       "</table>"
      ],
      "text/plain": [
       "Block  | Shape    | Color\n",
       "Block1 | Circle   | Red\n",
       "Block2 | Triangle | Green\n",
       "Block3 | Square   | Blue"
      ]
     },
     "execution_count": 52,
     "metadata": {},
     "output_type": "execute_result"
    }
   ],
   "source": [
    "shapes_table = Table().with_columns('Block', make_array('Block1', 'Block2', 'Block3'),\n",
    "                                    'Shape', make_array('Circle', 'Triangle', 'Square'))\n",
    "\n",
    "colors_table = Table().with_columns('Block', make_array('Block1', 'Block2', 'Block3'),\n",
    "                                    'Color', make_array('Red', 'Green', 'Blue'))\n",
    "\n",
    "combined_table = shapes_table.join('Block', colors_table)\n",
    "combined_table"
   ]
  },
  {
   "cell_type": "code",
   "execution_count": null,
   "id": "b2b01bff-dc57-4de0-8fde-6a21b675a6ce",
   "metadata": {},
   "outputs": [],
   "source": []
  }
 ],
 "metadata": {
  "kernelspec": {
   "display_name": "Python 3 (ipykernel)",
   "language": "python",
   "name": "python3"
  },
  "language_info": {
   "codemirror_mode": {
    "name": "ipython",
    "version": 3
   },
   "file_extension": ".py",
   "mimetype": "text/x-python",
   "name": "python",
   "nbconvert_exporter": "python",
   "pygments_lexer": "ipython3",
   "version": "3.12.8"
  }
 },
 "nbformat": 4,
 "nbformat_minor": 5
}
