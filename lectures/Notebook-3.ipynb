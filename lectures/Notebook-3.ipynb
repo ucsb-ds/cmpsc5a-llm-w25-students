{
 "cells": [
  {
   "cell_type": "code",
   "execution_count": 1,
   "id": "322922bf-2aa0-47b7-9bb5-85720cea23cc",
   "metadata": {},
   "outputs": [],
   "source": [
    "%load_ext jupyter_ai_magics"
   ]
  },
  {
   "cell_type": "code",
   "execution_count": 2,
   "id": "82f1dd3e-a36a-4288-9b7e-741666b4b759",
   "metadata": {},
   "outputs": [],
   "source": [
    "from datascience import *"
   ]
  },
  {
   "cell_type": "markdown",
   "id": "a8b85eef-8b42-42ba-9cd3-aaaef2d35b69",
   "metadata": {},
   "source": [
    "## Coming back to Tables \n",
    "\n",
    "Now that you have learned about arrays, its going to be easy to learn how to create tables - each column of a table is an array! Suggested Reading: https://inferentialthinking.com/chapters/06/Tables.html"
   ]
  },
  {
   "cell_type": "markdown",
   "id": "339cb27c-e9f4-49f2-b224-d9d584a5a7b9",
   "metadata": {},
   "source": [
    "Let's look at how to create an empty Table. An empty table is useful because it can be extended to contain new rows and columns."
   ]
  },
  {
   "cell_type": "code",
   "execution_count": 4,
   "id": "f72b0910-7729-4030-aade-b6407e20274b",
   "metadata": {},
   "outputs": [
    {
     "data": {
      "text/html": [
       "<table border=\"1\" class=\"dataframe\">\n",
       "    <thead>\n",
       "        <tr>\n",
       "            \n",
       "        </tr>\n",
       "    </thead>\n",
       "    <tbody>\n",
       "    </tbody>\n",
       "</table>"
      ],
      "text/plain": []
     },
     "execution_count": 4,
     "metadata": {},
     "output_type": "execute_result"
    }
   ],
   "source": [
    "# create an empty Table\n",
    "Table()"
   ]
  },
  {
   "cell_type": "markdown",
   "id": "305d8dff-72e3-4e44-afab-8599aeff2256",
   "metadata": {},
   "source": [
    "##### with_columns\n",
    "The `with_columns` method on a table constructs a new table with additional labeled columns. "
   ]
  },
  {
   "cell_type": "code",
   "execution_count": 7,
   "id": "a32dd1d8-bb89-4c7d-94f8-3422d8bb5f6c",
   "metadata": {},
   "outputs": [
    {
     "data": {
      "text/html": [
       "<table border=\"1\" class=\"dataframe\">\n",
       "    <thead>\n",
       "        <tr>\n",
       "            <th>Number of petals</th>\n",
       "        </tr>\n",
       "    </thead>\n",
       "    <tbody>\n",
       "        <tr>\n",
       "            <td>8               </td>\n",
       "        </tr>\n",
       "        <tr>\n",
       "            <td>34              </td>\n",
       "        </tr>\n",
       "        <tr>\n",
       "            <td>5               </td>\n",
       "        </tr>\n",
       "    </tbody>\n",
       "</table>"
      ],
      "text/plain": [
       "Number of petals\n",
       "8\n",
       "34\n",
       "5"
      ]
     },
     "execution_count": 7,
     "metadata": {},
     "output_type": "execute_result"
    }
   ],
   "source": [
    "# add one column\n",
    "Table().with_columns('Number of petals', make_array(8, 34, 5))"
   ]
  },
  {
   "cell_type": "code",
   "execution_count": 8,
   "id": "6a837326-d829-4666-939b-b0735c85efb2",
   "metadata": {},
   "outputs": [
    {
     "data": {
      "text/html": [
       "<table border=\"1\" class=\"dataframe\">\n",
       "    <thead>\n",
       "        <tr>\n",
       "            <th>Number of petals</th> <th>Name</th>\n",
       "        </tr>\n",
       "    </thead>\n",
       "    <tbody>\n",
       "        <tr>\n",
       "            <td>8               </td> <td>lotus    </td>\n",
       "        </tr>\n",
       "        <tr>\n",
       "            <td>34              </td> <td>sunflower</td>\n",
       "        </tr>\n",
       "        <tr>\n",
       "            <td>5               </td> <td>rose     </td>\n",
       "        </tr>\n",
       "    </tbody>\n",
       "</table>"
      ],
      "text/plain": [
       "Number of petals | Name\n",
       "8                | lotus\n",
       "34               | sunflower\n",
       "5                | rose"
      ]
     },
     "execution_count": 8,
     "metadata": {},
     "output_type": "execute_result"
    }
   ],
   "source": [
    "# add two or more columns\n",
    "Table().with_columns(\n",
    "    'Number of petals', make_array(8, 34, 5),\n",
    "    'Name', make_array('lotus', 'sunflower', 'rose')\n",
    ")"
   ]
  },
  {
   "cell_type": "markdown",
   "id": "59ad56d9-6431-471e-bd40-a9e806bb4720",
   "metadata": {},
   "source": [
    "We can give it a name and further extend it!"
   ]
  },
  {
   "cell_type": "code",
   "execution_count": 9,
   "id": "dc708b82-6c73-4d1a-9158-8647bda34fea",
   "metadata": {},
   "outputs": [
    {
     "data": {
      "text/html": [
       "<table border=\"1\" class=\"dataframe\">\n",
       "    <thead>\n",
       "        <tr>\n",
       "            <th>Number of petals</th> <th>Name</th> <th>Color</th>\n",
       "        </tr>\n",
       "    </thead>\n",
       "    <tbody>\n",
       "        <tr>\n",
       "            <td>8               </td> <td>lotus    </td> <td>pink  </td>\n",
       "        </tr>\n",
       "        <tr>\n",
       "            <td>34              </td> <td>sunflower</td> <td>yellow</td>\n",
       "        </tr>\n",
       "        <tr>\n",
       "            <td>5               </td> <td>rose     </td> <td>red   </td>\n",
       "        </tr>\n",
       "    </tbody>\n",
       "</table>"
      ],
      "text/plain": [
       "Number of petals | Name      | Color\n",
       "8                | lotus     | pink\n",
       "34               | sunflower | yellow\n",
       "5                | rose      | red"
      ]
     },
     "execution_count": 9,
     "metadata": {},
     "output_type": "execute_result"
    }
   ],
   "source": [
    "flowers = Table().with_columns(\n",
    "    'Number of petals', make_array(8, 34, 5),\n",
    "    'Name', make_array('lotus', 'sunflower', 'rose')\n",
    ")\n",
    "\n",
    "flowers.with_columns(\n",
    "    'Color', make_array('pink', 'yellow', 'red')\n",
    ")"
   ]
  },
  {
   "cell_type": "markdown",
   "id": "453ee726-94bf-47ff-9764-df98cce90128",
   "metadata": {},
   "source": [
    "#### read_table\n",
    "You may have an existing table that you may want to read! We will use the Table method `read_table` to read a CSV (comma-separated values) file below. Open up this file on your devices and see what it looks like! You should get very familiar with looking at data in this course!"
   ]
  },
  {
   "cell_type": "code",
   "execution_count": 13,
   "id": "c188b67c-d4d9-4b80-86e2-e25fd23ab587",
   "metadata": {},
   "outputs": [
    {
     "data": {
      "text/html": [
       "<table border=\"1\" class=\"dataframe\">\n",
       "    <thead>\n",
       "        <tr>\n",
       "            <th>Year</th> <th>Average Ticket Price</th> <th>Total Gross</th> <th>Number of Movies</th> <th>#1 Movie</th>\n",
       "        </tr>\n",
       "    </thead>\n",
       "    <tbody>\n",
       "        <tr>\n",
       "            <td>2019</td> <td>9.16                </td> <td>11237.9    </td> <td>788             </td> <td>Avengers: Endgame                           </td>\n",
       "        </tr>\n",
       "        <tr>\n",
       "            <td>2018</td> <td>9.11                </td> <td>11611.3    </td> <td>878             </td> <td>Black Panther                               </td>\n",
       "        </tr>\n",
       "        <tr>\n",
       "            <td>2017</td> <td>8.97                </td> <td>11125.4    </td> <td>740             </td> <td>Star Wars: Episode VIII - The Last Jedi     </td>\n",
       "        </tr>\n",
       "        <tr>\n",
       "            <td>2016</td> <td>8.65                </td> <td>11373.7    </td> <td>737             </td> <td>Rogue One: A Star Wars Story                </td>\n",
       "        </tr>\n",
       "        <tr>\n",
       "            <td>2015</td> <td>8.43                </td> <td>11098.8    </td> <td>706             </td> <td>Star Wars: Episode VII - The Force Awakens  </td>\n",
       "        </tr>\n",
       "        <tr>\n",
       "            <td>2014</td> <td>8.17                </td> <td>10436.8    </td> <td>708             </td> <td>American Sniper                             </td>\n",
       "        </tr>\n",
       "        <tr>\n",
       "            <td>2013</td> <td>8.13                </td> <td>10955.9    </td> <td>689             </td> <td>The Hunger Games: Catching Fire             </td>\n",
       "        </tr>\n",
       "        <tr>\n",
       "            <td>2012</td> <td>7.96                </td> <td>10959.6    </td> <td>669             </td> <td>The Avengers                                </td>\n",
       "        </tr>\n",
       "        <tr>\n",
       "            <td>2011</td> <td>7.93                </td> <td>10114.1    </td> <td>601             </td> <td>Harry Potter and the Deathly Hallows: Part 2</td>\n",
       "        </tr>\n",
       "        <tr>\n",
       "            <td>2010</td> <td>7.89                </td> <td>10212.7    </td> <td>538             </td> <td>Toy Story 3                                 </td>\n",
       "        </tr>\n",
       "    </tbody>\n",
       "</table>\n",
       "<p>... (33 rows omitted)</p>"
      ],
      "text/plain": [
       "Year | Average Ticket Price | Total Gross | Number of Movies | #1 Movie\n",
       "2019 | 9.16                 | 11237.9     | 788              | Avengers: Endgame\n",
       "2018 | 9.11                 | 11611.3     | 878              | Black Panther\n",
       "2017 | 8.97                 | 11125.4     | 740              | Star Wars: Episode VIII - The Last Jedi\n",
       "2016 | 8.65                 | 11373.7     | 737              | Rogue One: A Star Wars Story\n",
       "2015 | 8.43                 | 11098.8     | 706              | Star Wars: Episode VII - The Force Awakens\n",
       "2014 | 8.17                 | 10436.8     | 708              | American Sniper\n",
       "2013 | 8.13                 | 10955.9     | 689              | The Hunger Games: Catching Fire\n",
       "2012 | 7.96                 | 10959.6     | 669              | The Avengers\n",
       "2011 | 7.93                 | 10114.1     | 601              | Harry Potter and the Deathly Hallows: Part 2\n",
       "2010 | 7.89                 | 10212.7     | 538              | Toy Story 3\n",
       "... (33 rows omitted)"
      ]
     },
     "execution_count": 13,
     "metadata": {},
     "output_type": "execute_result"
    }
   ],
   "source": [
    "movies = Table.read_table(\"data/movies_by_year_with_ticket_price.csv\")\n",
    "movies"
   ]
  },
  {
   "cell_type": "markdown",
   "id": "0be3b0d4-acfb-4285-ada5-369aa8daeaf1",
   "metadata": {},
   "source": [
    "#### num_columns/num_rows\n",
    "The method `num_columns` gives the number of columns in the table, and `num_rows` the number of rows."
   ]
  },
  {
   "cell_type": "code",
   "execution_count": 14,
   "id": "9634ac44-4917-457e-9ba8-77adf191a9e4",
   "metadata": {},
   "outputs": [
    {
     "data": {
      "text/plain": [
       "5"
      ]
     },
     "execution_count": 14,
     "metadata": {},
     "output_type": "execute_result"
    }
   ],
   "source": [
    "movies.num_columns"
   ]
  },
  {
   "cell_type": "markdown",
   "id": "e144c069-3d88-4eab-af1d-471651d40ad8",
   "metadata": {},
   "source": [
    "#### Accessing data in a column\n",
    "We can use a column’s label to access the array of data in the column as shown below. "
   ]
  },
  {
   "cell_type": "code",
   "execution_count": 18,
   "id": "8ee762ce-62f0-465f-86dd-5445267aafa2",
   "metadata": {},
   "outputs": [
    {
     "data": {
      "text/plain": [
       "array(['Avengers: Endgame', 'Black Panther',\n",
       "       'Star Wars: Episode VIII - The Last Jedi',\n",
       "       'Rogue One: A Star Wars Story',\n",
       "       'Star Wars: Episode VII - The Force Awakens', 'American Sniper',\n",
       "       'The Hunger Games: Catching Fire', 'The Avengers',\n",
       "       'Harry Potter and the Deathly Hallows: Part 2', 'Toy Story 3',\n",
       "       'Avatar', 'The Dark Knight', 'Spider-Man 3',\n",
       "       \"Pirates of the Caribbean: Dead Man's Chest\",\n",
       "       'Star Wars: Episode III - Revenge of the Sith', 'Shrek 2',\n",
       "       'The Lord of the Rings: The Return of the King', 'Spider-Man',\n",
       "       \"Harry Potter and the Sorcerer's Stone\",\n",
       "       'How the Grinch Stole Christmas',\n",
       "       'Star Wars: Episode I - The Phantom Menace', 'Saving Private Ryan',\n",
       "       'Titanic', 'Independence Day', 'Toy Story', 'Forrest Gump',\n",
       "       'Jurassic Park', 'Aladdin', 'Terminator 2: Judgment Day',\n",
       "       'Home Alone', 'Batman', 'Rain Man', 'Three Men and a Baby',\n",
       "       'Top Gun', 'Back to the Future', 'Beverly Hills Cop',\n",
       "       'Star Wars: Episode VI - Return of the Jedi',\n",
       "       'E.T. the Extra-Terrestrial', 'Raiders of the Lost Ark',\n",
       "       'Star Wars: Episode V - The Empire Strikes Back',\n",
       "       'Kramer vs. Kramer', 'Grease', 'Star Wars: Episode IV - A New Hope'],\n",
       "      dtype='<U46')"
      ]
     },
     "execution_count": 18,
     "metadata": {},
     "output_type": "execute_result"
    }
   ],
   "source": [
    "movies.column(\"#1 Movie\")"
   ]
  },
  {
   "cell_type": "markdown",
   "id": "493796fa-44f0-489d-be6c-5a8f74290824",
   "metadata": {},
   "source": [
    "Recall `show`, `select`, `drop`, `sort`, `where` and other methods - you can use all of those on the movies table!"
   ]
  },
  {
   "cell_type": "code",
   "execution_count": 19,
   "id": "24fae653-98c3-4ad2-bef4-9f1007dcdf58",
   "metadata": {},
   "outputs": [
    {
     "data": {
      "text/html": [
       "<table border=\"1\" class=\"dataframe\">\n",
       "    <thead>\n",
       "        <tr>\n",
       "            <th>Year</th> <th>Average Ticket Price</th> <th>Total Gross</th> <th>Number of Movies</th> <th>#1 Movie</th>\n",
       "        </tr>\n",
       "    </thead>\n",
       "    <tbody>\n",
       "        <tr>\n",
       "            <td>2019</td> <td>9.16                </td> <td>11237.9    </td> <td>788             </td> <td>Avengers: Endgame</td>\n",
       "        </tr>\n",
       "        <tr>\n",
       "            <td>2018</td> <td>9.11                </td> <td>11611.3    </td> <td>878             </td> <td>Black Panther    </td>\n",
       "        </tr>\n",
       "    </tbody>\n",
       "</table>\n",
       "<p>... (41 rows omitted)</p>"
      ],
      "text/plain": [
       "<IPython.core.display.HTML object>"
      ]
     },
     "metadata": {},
     "output_type": "display_data"
    }
   ],
   "source": [
    "movies.show(2)"
   ]
  },
  {
   "cell_type": "code",
   "execution_count": 20,
   "id": "9c6f471e-d44c-4be1-b9c8-280a0870c581",
   "metadata": {},
   "outputs": [
    {
     "data": {
      "text/html": [
       "<table border=\"1\" class=\"dataframe\">\n",
       "    <thead>\n",
       "        <tr>\n",
       "            <th>Year</th>\n",
       "        </tr>\n",
       "    </thead>\n",
       "    <tbody>\n",
       "        <tr>\n",
       "            <td>2019</td>\n",
       "        </tr>\n",
       "        <tr>\n",
       "            <td>2018</td>\n",
       "        </tr>\n",
       "        <tr>\n",
       "            <td>2017</td>\n",
       "        </tr>\n",
       "        <tr>\n",
       "            <td>2016</td>\n",
       "        </tr>\n",
       "        <tr>\n",
       "            <td>2015</td>\n",
       "        </tr>\n",
       "        <tr>\n",
       "            <td>2014</td>\n",
       "        </tr>\n",
       "        <tr>\n",
       "            <td>2013</td>\n",
       "        </tr>\n",
       "        <tr>\n",
       "            <td>2012</td>\n",
       "        </tr>\n",
       "        <tr>\n",
       "            <td>2011</td>\n",
       "        </tr>\n",
       "        <tr>\n",
       "            <td>2010</td>\n",
       "        </tr>\n",
       "    </tbody>\n",
       "</table>\n",
       "<p>... (33 rows omitted)</p>"
      ],
      "text/plain": [
       "Year\n",
       "2019\n",
       "2018\n",
       "2017\n",
       "2016\n",
       "2015\n",
       "2014\n",
       "2013\n",
       "2012\n",
       "2011\n",
       "2010\n",
       "... (33 rows omitted)"
      ]
     },
     "execution_count": 20,
     "metadata": {},
     "output_type": "execute_result"
    }
   ],
   "source": [
    "movies.select('Year')"
   ]
  },
  {
   "cell_type": "code",
   "execution_count": 21,
   "id": "c95ba0d5-a24f-41b5-b231-da64228d2609",
   "metadata": {},
   "outputs": [
    {
     "data": {
      "text/html": [
       "<table border=\"1\" class=\"dataframe\">\n",
       "    <thead>\n",
       "        <tr>\n",
       "            <th>Year</th> <th>Average Ticket Price</th> <th>Total Gross</th> <th>#1 Movie</th>\n",
       "        </tr>\n",
       "    </thead>\n",
       "    <tbody>\n",
       "        <tr>\n",
       "            <td>2019</td> <td>9.16                </td> <td>11237.9    </td> <td>Avengers: Endgame                           </td>\n",
       "        </tr>\n",
       "        <tr>\n",
       "            <td>2018</td> <td>9.11                </td> <td>11611.3    </td> <td>Black Panther                               </td>\n",
       "        </tr>\n",
       "        <tr>\n",
       "            <td>2017</td> <td>8.97                </td> <td>11125.4    </td> <td>Star Wars: Episode VIII - The Last Jedi     </td>\n",
       "        </tr>\n",
       "        <tr>\n",
       "            <td>2016</td> <td>8.65                </td> <td>11373.7    </td> <td>Rogue One: A Star Wars Story                </td>\n",
       "        </tr>\n",
       "        <tr>\n",
       "            <td>2015</td> <td>8.43                </td> <td>11098.8    </td> <td>Star Wars: Episode VII - The Force Awakens  </td>\n",
       "        </tr>\n",
       "        <tr>\n",
       "            <td>2014</td> <td>8.17                </td> <td>10436.8    </td> <td>American Sniper                             </td>\n",
       "        </tr>\n",
       "        <tr>\n",
       "            <td>2013</td> <td>8.13                </td> <td>10955.9    </td> <td>The Hunger Games: Catching Fire             </td>\n",
       "        </tr>\n",
       "        <tr>\n",
       "            <td>2012</td> <td>7.96                </td> <td>10959.6    </td> <td>The Avengers                                </td>\n",
       "        </tr>\n",
       "        <tr>\n",
       "            <td>2011</td> <td>7.93                </td> <td>10114.1    </td> <td>Harry Potter and the Deathly Hallows: Part 2</td>\n",
       "        </tr>\n",
       "        <tr>\n",
       "            <td>2010</td> <td>7.89                </td> <td>10212.7    </td> <td>Toy Story 3                                 </td>\n",
       "        </tr>\n",
       "    </tbody>\n",
       "</table>\n",
       "<p>... (33 rows omitted)</p>"
      ],
      "text/plain": [
       "Year | Average Ticket Price | Total Gross | #1 Movie\n",
       "2019 | 9.16                 | 11237.9     | Avengers: Endgame\n",
       "2018 | 9.11                 | 11611.3     | Black Panther\n",
       "2017 | 8.97                 | 11125.4     | Star Wars: Episode VIII - The Last Jedi\n",
       "2016 | 8.65                 | 11373.7     | Rogue One: A Star Wars Story\n",
       "2015 | 8.43                 | 11098.8     | Star Wars: Episode VII - The Force Awakens\n",
       "2014 | 8.17                 | 10436.8     | American Sniper\n",
       "2013 | 8.13                 | 10955.9     | The Hunger Games: Catching Fire\n",
       "2012 | 7.96                 | 10959.6     | The Avengers\n",
       "2011 | 7.93                 | 10114.1     | Harry Potter and the Deathly Hallows: Part 2\n",
       "2010 | 7.89                 | 10212.7     | Toy Story 3\n",
       "... (33 rows omitted)"
      ]
     },
     "execution_count": 21,
     "metadata": {},
     "output_type": "execute_result"
    }
   ],
   "source": [
    "movies.drop('Number of Movies')"
   ]
  },
  {
   "cell_type": "code",
   "execution_count": 23,
   "id": "d76e7876-2b7b-46b4-aabc-169621fe9463",
   "metadata": {},
   "outputs": [
    {
     "data": {
      "text/html": [
       "<table border=\"1\" class=\"dataframe\">\n",
       "    <thead>\n",
       "        <tr>\n",
       "            <th>Year</th> <th>Average Ticket Price</th> <th>Total Gross</th> <th>Number of Movies</th> <th>#1 Movie</th>\n",
       "        </tr>\n",
       "    </thead>\n",
       "    <tbody>\n",
       "        <tr>\n",
       "            <td>1977</td> <td>2.23                </td> <td>1373.1     </td> <td>35              </td> <td>Star Wars: Episode IV - A New Hope            </td>\n",
       "        </tr>\n",
       "        <tr>\n",
       "            <td>1978</td> <td>2.34                </td> <td>1552.3     </td> <td>55              </td> <td>Grease                                        </td>\n",
       "        </tr>\n",
       "        <tr>\n",
       "            <td>1979</td> <td>2.47                </td> <td>1957.5     </td> <td>83              </td> <td>Kramer vs. Kramer                             </td>\n",
       "        </tr>\n",
       "        <tr>\n",
       "            <td>1980</td> <td>2.69                </td> <td>2299       </td> <td>115             </td> <td>Star Wars: Episode V - The Empire Strikes Back</td>\n",
       "        </tr>\n",
       "        <tr>\n",
       "            <td>1981</td> <td>2.78                </td> <td>2281.9     </td> <td>112             </td> <td>Raiders of the Lost Ark                       </td>\n",
       "        </tr>\n",
       "        <tr>\n",
       "            <td>1982</td> <td>2.94                </td> <td>2866.2     </td> <td>131             </td> <td>E.T. the Extra-Terrestrial                    </td>\n",
       "        </tr>\n",
       "        <tr>\n",
       "            <td>1983</td> <td>3.15                </td> <td>2652.9     </td> <td>158             </td> <td>Star Wars: Episode VI - Return of the Jedi    </td>\n",
       "        </tr>\n",
       "        <tr>\n",
       "            <td>1984</td> <td>3.36                </td> <td>3347.7     </td> <td>165             </td> <td>Beverly Hills Cop                             </td>\n",
       "        </tr>\n",
       "        <tr>\n",
       "            <td>1985</td> <td>3.55                </td> <td>3056.4     </td> <td>180             </td> <td>Back to the Future                            </td>\n",
       "        </tr>\n",
       "        <tr>\n",
       "            <td>1986</td> <td>3.71                </td> <td>3200.5     </td> <td>207             </td> <td>Top Gun                                       </td>\n",
       "        </tr>\n",
       "    </tbody>\n",
       "</table>\n",
       "<p>... (33 rows omitted)</p>"
      ],
      "text/plain": [
       "Year | Average Ticket Price | Total Gross | Number of Movies | #1 Movie\n",
       "1977 | 2.23                 | 1373.1      | 35               | Star Wars: Episode IV - A New Hope\n",
       "1978 | 2.34                 | 1552.3      | 55               | Grease\n",
       "1979 | 2.47                 | 1957.5      | 83               | Kramer vs. Kramer\n",
       "1980 | 2.69                 | 2299        | 115              | Star Wars: Episode V - The Empire Strikes Back\n",
       "1981 | 2.78                 | 2281.9      | 112              | Raiders of the Lost Ark\n",
       "1982 | 2.94                 | 2866.2      | 131              | E.T. the Extra-Terrestrial\n",
       "1983 | 3.15                 | 2652.9      | 158              | Star Wars: Episode VI - Return of the Jedi\n",
       "1984 | 3.36                 | 3347.7      | 165              | Beverly Hills Cop\n",
       "1985 | 3.55                 | 3056.4      | 180              | Back to the Future\n",
       "1986 | 3.71                 | 3200.5      | 207              | Top Gun\n",
       "... (33 rows omitted)"
      ]
     },
     "execution_count": 23,
     "metadata": {},
     "output_type": "execute_result"
    }
   ],
   "source": [
    "movies.sort('Year')"
   ]
  },
  {
   "cell_type": "code",
   "execution_count": 25,
   "id": "3559a653-7a9e-4fbd-92c9-b85abf3b1b2b",
   "metadata": {},
   "outputs": [
    {
     "data": {
      "text/html": [
       "<table border=\"1\" class=\"dataframe\">\n",
       "    <thead>\n",
       "        <tr>\n",
       "            <th>Year</th> <th>Average Ticket Price</th> <th>Total Gross</th> <th>Number of Movies</th> <th>#1 Movie</th>\n",
       "        </tr>\n",
       "    </thead>\n",
       "    <tbody>\n",
       "        <tr>\n",
       "            <td>2019</td> <td>9.16                </td> <td>11237.9    </td> <td>788             </td> <td>Avengers: Endgame</td>\n",
       "        </tr>\n",
       "    </tbody>\n",
       "</table>"
      ],
      "text/plain": [
       "Year | Average Ticket Price | Total Gross | Number of Movies | #1 Movie\n",
       "2019 | 9.16                 | 11237.9     | 788              | Avengers: Endgame"
      ]
     },
     "execution_count": 25,
     "metadata": {},
     "output_type": "execute_result"
    }
   ],
   "source": [
    "movies.where('Year', 2019)"
   ]
  },
  {
   "cell_type": "markdown",
   "id": "d9b3019d-b74c-41d6-93a4-10965a7fb76b",
   "metadata": {},
   "source": [
    "##### chatgpt time! \n",
    "Let's work on an interesting problem on the movies table with chatgpt! Say we want to add a Tickets Sold column to our table. Think about how you would calculate the tickets sold in a year?"
   ]
  },
  {
   "cell_type": "code",
   "execution_count": 26,
   "id": "7c9cbdb5-a991-4272-a471-300040323b48",
   "metadata": {},
   "outputs": [
    {
     "data": {
      "text/markdown": [
       "Sure, I'd be happy to help you calculate the Tickets Sold column in the movies table using the datascience module in Python.\n",
       "\n",
       "To calculate the Tickets Sold, we can use the formula:\n",
       "\n",
       "Tickets Sold = Total Gross / Average Ticket Price\n",
       "\n",
       "Here's how you can do it in Python using the datascience module:\n",
       "\n",
       "``` python\n",
       "from datascience import Table\n",
       "\n",
       "# Load the movies table\n",
       "movies = Table.read_table('movies.csv')\n",
       "\n",
       "# Calculate the Tickets Sold column\n",
       "tickets_sold = movies.column('Total Gross') / movies.column('Average Ticket Price')\n",
       "\n",
       "# Add the Tickets Sold column to the movies table\n",
       "movies = movies.with_column('Tickets Sold', tickets_sold)\n",
       "\n",
       "# Print the updated movies table\n",
       "movies\n",
       "```\n",
       "\n",
       "This code assumes that you have a CSV file named \"movies.csv\" containing the movies table. You can modify the code to match your specific file and table name.\n",
       "\n",
       "The output will be a markdown table that includes the Tickets Sold column in addition to the existing columns (Year, Average Ticket Price, Total Gross, Number of Movies, and #1 Movie).\n",
       "\n",
       "Note: Make sure you have the datascience module installed before executing the code. You can install it using the following command:\n",
       "\n",
       "``` python\n",
       "pip install datascience\n",
       "```\n",
       "\n",
       "Let me know if you need any further assistance or clarification!"
      ],
      "text/plain": [
       "<IPython.core.display.Markdown object>"
      ]
     },
     "execution_count": 26,
     "metadata": {
      "text/markdown": {
       "jupyter_ai": {
        "model_id": "gpt-3.5-turbo",
        "provider_id": "openai-chat"
       }
      }
     },
     "output_type": "execute_result"
    }
   ],
   "source": [
    "%%ai openai-chat:gpt-3.5-turbo\n",
    "I have a table called movies which has columns Year, Average Ticket Price, Total Gross, Number of Movies and #1 Movie. In addition to the columns given, I want to add a column called Tickets Sold. Can you help me calculate that based on the given information? Please use the datascience module in Python."
   ]
  },
  {
   "cell_type": "markdown",
   "id": "daf1333d-3753-4e03-878b-0291bf011b45",
   "metadata": {},
   "source": [
    "That is interesting! Now, let's try out chatgpt's code! "
   ]
  },
  {
   "cell_type": "code",
   "execution_count": 27,
   "id": "5f2e4c35-9f21-4643-b0e1-7a9057475b9b",
   "metadata": {},
   "outputs": [
    {
     "data": {
      "text/html": [
       "<table border=\"1\" class=\"dataframe\">\n",
       "    <thead>\n",
       "        <tr>\n",
       "            <th>Year</th> <th>Average Ticket Price</th> <th>Total Gross</th> <th>Number of Movies</th> <th>#1 Movie</th> <th>Tickets Sold</th>\n",
       "        </tr>\n",
       "    </thead>\n",
       "    <tbody>\n",
       "        <tr>\n",
       "            <td>2019</td> <td>9.16                </td> <td>11237.9    </td> <td>788             </td> <td>Avengers: Endgame                           </td> <td>1226.84     </td>\n",
       "        </tr>\n",
       "        <tr>\n",
       "            <td>2018</td> <td>9.11                </td> <td>11611.3    </td> <td>878             </td> <td>Black Panther                               </td> <td>1274.57     </td>\n",
       "        </tr>\n",
       "        <tr>\n",
       "            <td>2017</td> <td>8.97                </td> <td>11125.4    </td> <td>740             </td> <td>Star Wars: Episode VIII - The Last Jedi     </td> <td>1240.29     </td>\n",
       "        </tr>\n",
       "        <tr>\n",
       "            <td>2016</td> <td>8.65                </td> <td>11373.7    </td> <td>737             </td> <td>Rogue One: A Star Wars Story                </td> <td>1314.88     </td>\n",
       "        </tr>\n",
       "        <tr>\n",
       "            <td>2015</td> <td>8.43                </td> <td>11098.8    </td> <td>706             </td> <td>Star Wars: Episode VII - The Force Awakens  </td> <td>1316.58     </td>\n",
       "        </tr>\n",
       "        <tr>\n",
       "            <td>2014</td> <td>8.17                </td> <td>10436.8    </td> <td>708             </td> <td>American Sniper                             </td> <td>1277.45     </td>\n",
       "        </tr>\n",
       "        <tr>\n",
       "            <td>2013</td> <td>8.13                </td> <td>10955.9    </td> <td>689             </td> <td>The Hunger Games: Catching Fire             </td> <td>1347.59     </td>\n",
       "        </tr>\n",
       "        <tr>\n",
       "            <td>2012</td> <td>7.96                </td> <td>10959.6    </td> <td>669             </td> <td>The Avengers                                </td> <td>1376.83     </td>\n",
       "        </tr>\n",
       "        <tr>\n",
       "            <td>2011</td> <td>7.93                </td> <td>10114.1    </td> <td>601             </td> <td>Harry Potter and the Deathly Hallows: Part 2</td> <td>1275.42     </td>\n",
       "        </tr>\n",
       "        <tr>\n",
       "            <td>2010</td> <td>7.89                </td> <td>10212.7    </td> <td>538             </td> <td>Toy Story 3                                 </td> <td>1294.39     </td>\n",
       "        </tr>\n",
       "    </tbody>\n",
       "</table>\n",
       "<p>... (33 rows omitted)</p>"
      ],
      "text/plain": [
       "Year | Average Ticket Price | Total Gross | Number of Movies | #1 Movie                                     | Tickets Sold\n",
       "2019 | 9.16                 | 11237.9     | 788              | Avengers: Endgame                            | 1226.84\n",
       "2018 | 9.11                 | 11611.3     | 878              | Black Panther                                | 1274.57\n",
       "2017 | 8.97                 | 11125.4     | 740              | Star Wars: Episode VIII - The Last Jedi      | 1240.29\n",
       "2016 | 8.65                 | 11373.7     | 737              | Rogue One: A Star Wars Story                 | 1314.88\n",
       "2015 | 8.43                 | 11098.8     | 706              | Star Wars: Episode VII - The Force Awakens   | 1316.58\n",
       "2014 | 8.17                 | 10436.8     | 708              | American Sniper                              | 1277.45\n",
       "2013 | 8.13                 | 10955.9     | 689              | The Hunger Games: Catching Fire              | 1347.59\n",
       "2012 | 7.96                 | 10959.6     | 669              | The Avengers                                 | 1376.83\n",
       "2011 | 7.93                 | 10114.1     | 601              | Harry Potter and the Deathly Hallows: Part 2 | 1275.42\n",
       "2010 | 7.89                 | 10212.7     | 538              | Toy Story 3                                  | 1294.39\n",
       "... (33 rows omitted)"
      ]
     },
     "execution_count": 27,
     "metadata": {},
     "output_type": "execute_result"
    }
   ],
   "source": [
    "# Calculate the Tickets Sold column\n",
    "tickets_sold = movies.column('Total Gross') / movies.column('Average Ticket Price')\n",
    "\n",
    "# Add the Tickets Sold column to the movies table\n",
    "movies = movies.with_column('Tickets Sold', tickets_sold)\n",
    "\n",
    "# Print the updated movies table\n",
    "movies"
   ]
  },
  {
   "cell_type": "markdown",
   "id": "46640495-9abd-41c8-9e89-7e2311c797be",
   "metadata": {},
   "source": []
  }
 ],
 "metadata": {
  "kernelspec": {
   "display_name": "Python 3 (ipykernel)",
   "language": "python",
   "name": "python3"
  },
  "language_info": {
   "codemirror_mode": {
    "name": "ipython",
    "version": 3
   },
   "file_extension": ".py",
   "mimetype": "text/x-python",
   "name": "python",
   "nbconvert_exporter": "python",
   "pygments_lexer": "ipython3",
   "version": "3.11.5"
  }
 },
 "nbformat": 4,
 "nbformat_minor": 5
}
