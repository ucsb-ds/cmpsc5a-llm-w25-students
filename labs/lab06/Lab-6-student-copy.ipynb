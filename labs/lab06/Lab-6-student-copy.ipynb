{
 "cells": [
  {
   "cell_type": "code",
   "execution_count": 5,
   "id": "1b8e4499-ed34-47f2-885d-61255b2951f2",
   "metadata": {},
   "outputs": [],
   "source": [
    "%load_ext jupyter_ai_magics"
   ]
  },
  {
   "cell_type": "code",
   "execution_count": 3,
   "id": "a5e04e86",
   "metadata": {},
   "outputs": [],
   "source": [
    "from datascience import *\n",
    "import numpy as np\n",
    "\n",
    "# needed for plotting with datascience module\n",
    "%matplotlib inline\n",
    "import matplotlib.pyplot as plots\n",
    "#plots.style.use('fivethirtyeight')\n",
    "\n",
    "from IPython.display import display, Image"
   ]
  },
  {
   "cell_type": "markdown",
   "id": "aa224ea2",
   "metadata": {},
   "source": [
    "# 1.1 Assessing a Model, Decisions and Uncertainty, A/B Testing\n",
    "\n",
    "\n"
   ]
  },
  {
   "cell_type": "markdown",
   "id": "ff92d98c-f131-4462-952d-552f70b8bfb7",
   "metadata": {},
   "source": [
    "We have decided to build 4 different models  that give the probability of an employee being hired by a *medium*-sized company based on his/her experience level. One model for each experience level. According to the first model, there is an **85**% chance that a *Senior* level employee will be hired by a *medium*-sized company. According to the second model, there is an **80%** chance that an *Executive* level employee level will be hired by a *medium*-sized company. According to the third model, there is a **75%** chance that a *Mid* level employee will be hired by a *medium*-sized company. Finally, according to the first model, there is a **60%** chance that an *Entry* level employee will be hired by a *medium*-sized company. "
   ]
  },
  {
   "cell_type": "code",
   "execution_count": 6,
   "id": "c753db1d-fc34-4dcc-b118-6b9610dc1749",
   "metadata": {},
   "outputs": [
    {
     "data": {
      "text/html": [
       "<table border=\"1\" class=\"dataframe\">\n",
       "    <thead>\n",
       "        <tr>\n",
       "            <th>Job Title</th> <th>Employment Type</th> <th>Experience Level</th> <th>Expertise Level</th> <th>Salary</th> <th>Salary Currency</th> <th>Company Location</th> <th>Salary in USD</th> <th>Employee Residence</th> <th>Company Size</th> <th>Year</th>\n",
       "        </tr>\n",
       "    </thead>\n",
       "    <tbody>\n",
       "        <tr>\n",
       "            <td>Data Engineer </td> <td>Full-Time      </td> <td>Senior          </td> <td>Expert         </td> <td>210000</td> <td>United States Dollar  </td> <td>United States   </td> <td>210000       </td> <td>United States     </td> <td>Medium      </td> <td>2023</td>\n",
       "        </tr>\n",
       "        <tr>\n",
       "            <td>Data Engineer </td> <td>Full-Time      </td> <td>Senior          </td> <td>Expert         </td> <td>165000</td> <td>United States Dollar  </td> <td>United States   </td> <td>165000       </td> <td>United States     </td> <td>Medium      </td> <td>2023</td>\n",
       "        </tr>\n",
       "        <tr>\n",
       "            <td>Data Engineer </td> <td>Full-Time      </td> <td>Senior          </td> <td>Expert         </td> <td>185900</td> <td>United States Dollar  </td> <td>United States   </td> <td>185900       </td> <td>United States     </td> <td>Medium      </td> <td>2023</td>\n",
       "        </tr>\n",
       "        <tr>\n",
       "            <td>Data Engineer </td> <td>Full-Time      </td> <td>Senior          </td> <td>Expert         </td> <td>129300</td> <td>United States Dollar  </td> <td>United States   </td> <td>129300       </td> <td>United States     </td> <td>Medium      </td> <td>2023</td>\n",
       "        </tr>\n",
       "        <tr>\n",
       "            <td>Data Scientist</td> <td>Full-Time      </td> <td>Senior          </td> <td>Expert         </td> <td>140000</td> <td>United States Dollar  </td> <td>United States   </td> <td>140000       </td> <td>United States     </td> <td>Medium      </td> <td>2023</td>\n",
       "        </tr>\n",
       "        <tr>\n",
       "            <td>Data Scientist</td> <td>Full-Time      </td> <td>Senior          </td> <td>Expert         </td> <td>126000</td> <td>United States Dollar  </td> <td>United States   </td> <td>126000       </td> <td>United States     </td> <td>Medium      </td> <td>2023</td>\n",
       "        </tr>\n",
       "        <tr>\n",
       "            <td>Data Scientist</td> <td>Full-Time      </td> <td>Senior          </td> <td>Expert         </td> <td>170000</td> <td>United States Dollar  </td> <td>United States   </td> <td>170000       </td> <td>United States     </td> <td>Medium      </td> <td>2023</td>\n",
       "        </tr>\n",
       "        <tr>\n",
       "            <td>Data Scientist</td> <td>Full-Time      </td> <td>Senior          </td> <td>Expert         </td> <td>130000</td> <td>United States Dollar  </td> <td>United States   </td> <td>130000       </td> <td>United States     </td> <td>Medium      </td> <td>2023</td>\n",
       "        </tr>\n",
       "        <tr>\n",
       "            <td>Data Engineer </td> <td>Full-Time      </td> <td>Mid             </td> <td>Intermediate   </td> <td>85000 </td> <td>British Pound Sterling</td> <td>United Kingdom  </td> <td>104584       </td> <td>United Kingdom    </td> <td>Medium      </td> <td>2023</td>\n",
       "        </tr>\n",
       "        <tr>\n",
       "            <td>Data Engineer </td> <td>Full-Time      </td> <td>Mid             </td> <td>Intermediate   </td> <td>75000 </td> <td>British Pound Sterling</td> <td>United Kingdom  </td> <td>92280        </td> <td>United Kingdom    </td> <td>Medium      </td> <td>2023</td>\n",
       "        </tr>\n",
       "    </tbody>\n",
       "</table>\n",
       "<p>... (3290 rows omitted)</p>"
      ],
      "text/plain": [
       "<IPython.core.display.HTML object>"
      ]
     },
     "metadata": {},
     "output_type": "display_data"
    }
   ],
   "source": [
    "salaries = Table.read_table(\"data/Latest_Data_Science_Salaries.csv\")\n",
    "salaries.show(10)"
   ]
  },
  {
   "cell_type": "markdown",
   "id": "a4b80156-1286-46e9-a86c-f8685099b43e",
   "metadata": {},
   "source": [
    "**Q1** Visualise the total number of employees for each experience level with the number of employees that are hired by a Medium-sized company. \n",
    "\n",
    "*Hint 1:* You might need to create a new table containing three columns. One for *'Experience Level'*, one for *'Total Number'* for the total number of employees for each level and one for *'Number in Mid'* for the total number of employees for each level that are hired by a *medium*-sized company.\n",
    "\n",
    "*Hint 2:* Then create a bar chart (`barh`).\n"
   ]
  },
  {
   "cell_type": "code",
   "execution_count": null,
   "id": "0f8070e5-f0eb-4b56-b9f3-553264100571",
   "metadata": {},
   "outputs": [],
   "source": [
    "#SOLUTION"
   ]
  },
  {
   "cell_type": "markdown",
   "id": "811ddc4e-f956-4429-8d63-aa0018139ce2",
   "metadata": {},
   "source": [
    "#### Prompt Here"
   ]
  },
  {
   "cell_type": "code",
   "execution_count": null,
   "id": "b93bbbea-b6dd-460f-aa3b-c501b1373fd4",
   "metadata": {},
   "outputs": [],
   "source": [
    "%%ai openai-chat:gpt-4"
   ]
  },
  {
   "cell_type": "markdown",
   "id": "9e9ed2ee-11b2-4617-b973-9373b02ae7a5",
   "metadata": {},
   "source": [
    "#### Workflow"
   ]
  },
  {
   "cell_type": "markdown",
   "id": "e65ac31e-8180-4433-b93f-18d6e40f5269",
   "metadata": {},
   "source": [
    "*Explain your workflow/thought process here*"
   ]
  },
  {
   "cell_type": "markdown",
   "id": "179afc2d-1ae5-4057-ab45-f1d7af06889c",
   "metadata": {},
   "source": [
    "**Q2** Define the null and alternative hypothesis for each one of the above mentioned models."
   ]
  },
  {
   "cell_type": "code",
   "execution_count": null,
   "id": "398f1741-fe3f-449d-8e44-dd5ca0689e71",
   "metadata": {},
   "outputs": [],
   "source": [
    "#SOLUTION"
   ]
  },
  {
   "cell_type": "markdown",
   "id": "0ea3e9a3-bce0-47c5-97e8-7106840f38b7",
   "metadata": {},
   "source": [
    "#### Prompt Here"
   ]
  },
  {
   "cell_type": "code",
   "execution_count": null,
   "id": "0665b1b3-2b0b-47fd-912e-a7856cd71493",
   "metadata": {},
   "outputs": [],
   "source": [
    "%%ai openai-chat:gpt-4"
   ]
  },
  {
   "cell_type": "markdown",
   "id": "d945adf2-275f-485e-b238-d0097982b967",
   "metadata": {},
   "source": [
    "#### Workflow"
   ]
  },
  {
   "cell_type": "markdown",
   "id": "91cb38cc-1e97-4e4b-b52b-436da6f8ac60",
   "metadata": {},
   "source": [
    "*Explain your workflow/thought process here*"
   ]
  },
  {
   "cell_type": "markdown",
   "id": "73f286fe-77ba-4d4b-870a-555614656f5b",
   "metadata": {},
   "source": [
    "**Q3** Decide on which statistic you will use to assess the models and calculate its observed value for every model and explain your choice.\n",
    "\n",
    "*Hint:* A simple approach could be to base your statistic on the variational distance between two distributions."
   ]
  },
  {
   "cell_type": "code",
   "execution_count": null,
   "id": "3f77c439-240d-4007-82f8-204409303a14",
   "metadata": {},
   "outputs": [],
   "source": [
    "#SOLUTION"
   ]
  },
  {
   "cell_type": "markdown",
   "id": "4de35918-8e1f-4a0b-bb6f-2ae4dea90df2",
   "metadata": {},
   "source": [
    "#### Prompt Here"
   ]
  },
  {
   "cell_type": "code",
   "execution_count": null,
   "id": "25d372f1-c57b-42b8-9574-13704c9e39f6",
   "metadata": {},
   "outputs": [],
   "source": [
    "%%ai openai-chat:gpt-4"
   ]
  },
  {
   "cell_type": "markdown",
   "id": "ca41c806-6cab-45ce-a2a3-48e90d65233c",
   "metadata": {},
   "source": [
    "#### Workflow"
   ]
  },
  {
   "cell_type": "markdown",
   "id": "24e6fa58-3431-41cf-8c47-e9c3680ff737",
   "metadata": {},
   "source": [
    "*Explain your workflow/thought process here*"
   ]
  },
  {
   "cell_type": "markdown",
   "id": "a50e68a1-2fe3-4242-9f6a-ebc91fa7ea42",
   "metadata": {},
   "source": [
    "Now, for each of the models we will decide whether they are good or not (whether the data are consistent with the null hypothesis of each model)."
   ]
  },
  {
   "cell_type": "markdown",
   "id": "8e0943de-d014-478b-86ff-a63015c26037",
   "metadata": {},
   "source": [
    "**Q4.1** For each model calculate the statistic you picked from Q3.\n"
   ]
  },
  {
   "cell_type": "code",
   "execution_count": null,
   "id": "127ef2fc-7fa6-4693-87f3-ff6cfacca8ed",
   "metadata": {},
   "outputs": [],
   "source": [
    "#SOLUTION"
   ]
  },
  {
   "cell_type": "markdown",
   "id": "a057387f-83fb-45f4-9a39-aa24c2f98760",
   "metadata": {},
   "source": [
    "#### Prompt Here"
   ]
  },
  {
   "cell_type": "code",
   "execution_count": null,
   "id": "9a0e04e7-eab3-4ff9-883e-05a8a1a61fcf",
   "metadata": {},
   "outputs": [],
   "source": [
    "%%ai openai-chat:gpt-4"
   ]
  },
  {
   "cell_type": "markdown",
   "id": "a632f964-361d-4400-b265-d7c39f87e755",
   "metadata": {},
   "source": [
    "#### Workflow"
   ]
  },
  {
   "cell_type": "markdown",
   "id": "b94a6a85-c239-45dc-b669-c8d8e84fd32e",
   "metadata": {},
   "source": [
    "*Explain your workflow/thought process here*"
   ]
  },
  {
   "cell_type": "markdown",
   "id": "fdb12381-fd62-4038-9cea-50008d440134",
   "metadata": {},
   "source": [
    "**Q4.2** Now we want to see what the values of the test statistic might be if the null hypothesis were true for each model. For that, we'll need to simulate the statistic for each model and visualize it with a histogram.\n",
    "\n",
    "*Hint 1:* Start by defining a function that returns one simulated value of the test statistic.\n",
    "\n",
    "*Hint 2:* You may need to use `sample_proportion`.\n",
    "\n",
    "*Hint 3:* Then use a `for` loop to collect 10,000 simulated values in an array.\n",
    "\n",
    "*Hint 4:* Draw the histogram for these values i.e. the distribution of the test statistic predicted by the null hypothesis (one for each model)."
   ]
  },
  {
   "cell_type": "code",
   "execution_count": null,
   "id": "3f043bb1-d7ff-4051-9250-a8c3fb3f5467",
   "metadata": {},
   "outputs": [],
   "source": [
    "#SOLUTION"
   ]
  },
  {
   "cell_type": "markdown",
   "id": "ca710072-ca75-4156-8c46-a23c9813661d",
   "metadata": {},
   "source": [
    "#### Prompt Here"
   ]
  },
  {
   "cell_type": "code",
   "execution_count": null,
   "id": "ae524fe5-e4da-4f4a-810b-c68888998f69",
   "metadata": {},
   "outputs": [],
   "source": [
    "%%ai openai-chat:gpt-4"
   ]
  },
  {
   "cell_type": "markdown",
   "id": "4934d49d-7073-4e05-87ff-d3a5770e0925",
   "metadata": {},
   "source": [
    "#### Workflow"
   ]
  },
  {
   "cell_type": "markdown",
   "id": "bf321c7c-7cf2-404d-83de-fa1ba7de3775",
   "metadata": {},
   "source": [
    "*Explain your workflow/thought process here*"
   ]
  },
  {
   "cell_type": "markdown",
   "id": "4242e5b0-818f-4081-953d-5b202738ed63",
   "metadata": {},
   "source": [
    "**Q4.3** Plot the observed value on the histogram."
   ]
  },
  {
   "cell_type": "code",
   "execution_count": null,
   "id": "6ed8f243-bcd5-411f-91bf-113e5ca98a22",
   "metadata": {},
   "outputs": [],
   "source": [
    "#SOLUTION"
   ]
  },
  {
   "cell_type": "markdown",
   "id": "73caee7f-5f68-4af6-9349-65fa3b46e6b6",
   "metadata": {},
   "source": [
    "#### Prompt Here"
   ]
  },
  {
   "cell_type": "code",
   "execution_count": null,
   "id": "15ae73de-dc59-493a-b054-9df0ed7ad5d6",
   "metadata": {},
   "outputs": [],
   "source": [
    "%%ai openai-chat:gpt-4"
   ]
  },
  {
   "cell_type": "markdown",
   "id": "8592b16f-3707-4f11-8ec8-b1dda3c055fb",
   "metadata": {},
   "source": [
    "#### Workflow"
   ]
  },
  {
   "cell_type": "markdown",
   "id": "87d3b6ad-88fe-40db-b1c8-c0bba4979bdd",
   "metadata": {},
   "source": [
    "*Explain your workflow/thought process here*"
   ]
  },
  {
   "cell_type": "markdown",
   "id": "1c1feed7-2f4c-4c68-93ff-09961962158a",
   "metadata": {},
   "source": [
    "**Q4.4** Answer the following question: *Based on your own judgment* and according to the data (the plots above) which of the four models could be considered good, which could be considered bad and why? "
   ]
  },
  {
   "cell_type": "code",
   "execution_count": null,
   "id": "84adc80e-bef7-4a52-ba28-dee56cf3422f",
   "metadata": {},
   "outputs": [],
   "source": [
    "#SOLUTION"
   ]
  },
  {
   "cell_type": "markdown",
   "id": "eac9f384-1d2d-47d4-bd6b-aebf5578f5da",
   "metadata": {},
   "source": [
    "#### Prompt Here"
   ]
  },
  {
   "cell_type": "code",
   "execution_count": null,
   "id": "dd6a79fc-d198-4460-8b65-cf593c08e38c",
   "metadata": {},
   "outputs": [],
   "source": [
    "%%ai openai-chat:gpt-4"
   ]
  },
  {
   "cell_type": "markdown",
   "id": "ff4adfe9-8d89-44ab-b3fa-c460847be3e7",
   "metadata": {},
   "source": [
    "#### Workflow"
   ]
  },
  {
   "cell_type": "markdown",
   "id": "922d8adb-51a7-402d-b346-b10c8ae290cd",
   "metadata": {},
   "source": [
    "*Explain your workflow/thought process here*"
   ]
  },
  {
   "cell_type": "markdown",
   "id": "5f2e44e3-a0c2-456d-b2f0-64f71c5b4c62",
   "metadata": {},
   "source": [
    "**Q5** Calcuate the p-Value for each model.  Now, *based on the p-Value* and according to the data (the plots above) which of the four models could be considered good, which could be considered bad and why? Is your answer here different than the one you gave on the previous question? Why?"
   ]
  },
  {
   "cell_type": "code",
   "execution_count": null,
   "id": "d8aa7379-b8fc-4b35-8f4b-97f96fcfef35",
   "metadata": {},
   "outputs": [],
   "source": [
    "#SOLUTION"
   ]
  },
  {
   "cell_type": "markdown",
   "id": "7885218e-4071-469f-ba02-a3284825f43f",
   "metadata": {},
   "source": [
    "#### Prompt Here"
   ]
  },
  {
   "cell_type": "code",
   "execution_count": null,
   "id": "87e7be1c-a04d-496d-a7e0-a2bc25676bab",
   "metadata": {},
   "outputs": [],
   "source": [
    "%%ai openai-chat:gpt-4"
   ]
  },
  {
   "cell_type": "markdown",
   "id": "d8feb2aa-406e-4b85-941a-b65b9d5c6dfa",
   "metadata": {},
   "source": [
    "#### Workflow"
   ]
  },
  {
   "cell_type": "markdown",
   "id": "1d9c5e97-a6d7-4be7-ab20-86a963c4dd8b",
   "metadata": {},
   "source": [
    "*Explain your workflow/thought process here*"
   ]
  },
  {
   "cell_type": "markdown",
   "id": "4078f0b9-778b-4d8c-8635-e3f9d3db6384",
   "metadata": {},
   "source": [
    "Now we aim to conduct a study to see whether working for a *medium*-sized company is associated with the salary for an *entry* level employee. \n",
    "\n"
   ]
  },
  {
   "cell_type": "markdown",
   "id": "6505cdab-0e12-4912-9ac0-2b5e340b0696",
   "metadata": {},
   "source": [
    "**Q6.1** Does this analysis fall into the category of A/B testing? Why?"
   ]
  },
  {
   "cell_type": "code",
   "execution_count": null,
   "id": "ab2f6b57-8ca3-441d-b056-1edc3e717b84",
   "metadata": {},
   "outputs": [],
   "source": [
    "#SOLUTION"
   ]
  },
  {
   "cell_type": "markdown",
   "id": "67e035fb-beb3-4a6e-b63d-146974f9d9cb",
   "metadata": {},
   "source": [
    "#### Prompt Here"
   ]
  },
  {
   "cell_type": "code",
   "execution_count": null,
   "id": "b188c001-8711-4a76-80e8-938174247278",
   "metadata": {},
   "outputs": [],
   "source": [
    "%%ai openai-chat:gpt-4"
   ]
  },
  {
   "cell_type": "markdown",
   "id": "f02774e5-a6b0-4e9e-bd4a-151998df45a8",
   "metadata": {},
   "source": [
    "#### Workflow"
   ]
  },
  {
   "cell_type": "markdown",
   "id": "04a42e80-83ac-453a-95f2-08fe45f43947",
   "metadata": {},
   "source": [
    "*Explain your workflow/thought process here*"
   ]
  },
  {
   "cell_type": "markdown",
   "id": "26f41832-4445-47c8-ae6a-ea25ceccea3b",
   "metadata": {},
   "source": [
    "**Q6.2** Visualise the distribution of the *entry* level employees who work for *medium*-sized company and have salaries above the average (for the same experience level) compared to the *entry* level employees who work for *medium*-sized company and have salaries below the average (for the same experience level). \n",
    "\n",
    "*Hint:* To generate two overlaid histograms, you might consider using `hist` and `group` methods."
   ]
  },
  {
   "cell_type": "code",
   "execution_count": null,
   "id": "1f58acf0-4359-4927-8c7b-f7df7b1e36e1",
   "metadata": {},
   "outputs": [],
   "source": [
    "#SOLUTION"
   ]
  },
  {
   "cell_type": "markdown",
   "id": "bde3e445-9a34-47e1-a7f3-eadcc6030927",
   "metadata": {},
   "source": [
    "#### Prompt Here"
   ]
  },
  {
   "cell_type": "code",
   "execution_count": null,
   "id": "d46a7502-e7ed-4391-90f5-e389793261ef",
   "metadata": {},
   "outputs": [],
   "source": [
    "%%ai openai-chat:gpt-4"
   ]
  },
  {
   "cell_type": "markdown",
   "id": "77a96180-6ca9-495d-a8bb-99ba1e529166",
   "metadata": {},
   "source": [
    "#### Workflow"
   ]
  },
  {
   "cell_type": "markdown",
   "id": "1b073d3f-681e-4d9b-a1ea-0c928fcb9b84",
   "metadata": {},
   "source": [
    "*Explain your workflow/thought process here*"
   ]
  },
  {
   "cell_type": "markdown",
   "id": "8caae4ac-8c0b-40e0-8277-d003c4e6f022",
   "metadata": {},
   "source": [
    "**Q6.3** Based on the histogram above, conduct a complete analysis to answer the following question:\n",
    "*Could it be that there is no difference between the two distributions in the population, but we are seeing a difference in the samples just because of the employees who happened to be selected?*\n",
    "To test your analysis you will need to conduct a permutation test.\n",
    "\n",
    "*Hint 1:* Define the *Null* and the *Alternative* hypothesis.\n",
    "\n",
    "*Hint 2:* Define the statistic.\n"
   ]
  },
  {
   "cell_type": "code",
   "execution_count": null,
   "id": "3bc77bb3-c017-4166-a9ec-81d0c02a8931",
   "metadata": {},
   "outputs": [],
   "source": [
    "#SOLUTION"
   ]
  },
  {
   "cell_type": "markdown",
   "id": "3973951a-fdea-4b31-be88-66cd37068f3b",
   "metadata": {},
   "source": [
    "#### Prompt Here"
   ]
  },
  {
   "cell_type": "code",
   "execution_count": null,
   "id": "b3921f61-42de-401c-a525-3a3b5bfed505",
   "metadata": {},
   "outputs": [],
   "source": [
    "%%ai openai-chat:gpt-4"
   ]
  },
  {
   "cell_type": "markdown",
   "id": "2220ffc1-94cb-4429-bbb8-9bffa6abba73",
   "metadata": {},
   "source": [
    "#### Workflow"
   ]
  },
  {
   "cell_type": "markdown",
   "id": "2a21fada-5258-4d97-ae30-30d27ae448c6",
   "metadata": {},
   "source": [
    "*Explain your workflow/thought process here*"
   ]
  },
  {
   "cell_type": "markdown",
   "id": "e49f0bf7-c243-4a0c-bc52-3e3f94442f49",
   "metadata": {},
   "source": [
    "**Q6.4** What conclusion could you derive from the ananlysis above?\n",
    "\n",
    "*Hint:* To answer this question you may need to calculate the *p-value*. "
   ]
  },
  {
   "cell_type": "code",
   "execution_count": null,
   "id": "51e162b3-ffdc-4c37-8316-d4aa56ee3908",
   "metadata": {},
   "outputs": [],
   "source": [
    "#SOLUTION"
   ]
  },
  {
   "cell_type": "markdown",
   "id": "2c2ecce8-9e93-42a0-8c36-d169627e94eb",
   "metadata": {},
   "source": [
    "#### Prompt Here"
   ]
  },
  {
   "cell_type": "code",
   "execution_count": null,
   "id": "6a05f699-aeb4-4d12-84dd-97d77a5d3044",
   "metadata": {},
   "outputs": [],
   "source": [
    "%%ai openai-chat:gpt-4"
   ]
  },
  {
   "cell_type": "markdown",
   "id": "b6ff5d6f-6efe-418b-9021-967490f20be9",
   "metadata": {},
   "source": [
    "#### Workflow"
   ]
  },
  {
   "cell_type": "markdown",
   "id": "6d4f25f0-d787-4ce9-a3eb-4c14fdf04731",
   "metadata": {},
   "source": [
    "*Explain your workflow/thought process here*"
   ]
  }
 ],
 "metadata": {
  "kernelspec": {
   "display_name": "Python 3 (ipykernel)",
   "language": "python",
   "name": "python3"
  },
  "language_info": {
   "codemirror_mode": {
    "name": "ipython",
    "version": 3
   },
   "file_extension": ".py",
   "mimetype": "text/x-python",
   "name": "python",
   "nbconvert_exporter": "python",
   "pygments_lexer": "ipython3",
   "version": "3.11.5"
  }
 },
 "nbformat": 4,
 "nbformat_minor": 5
}
