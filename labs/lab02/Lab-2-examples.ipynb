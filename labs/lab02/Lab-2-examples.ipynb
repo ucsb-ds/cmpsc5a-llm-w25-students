{
 "cells": [
  {
   "cell_type": "markdown",
   "id": "ee98a164-67b8-4762-9faa-5dbddafc1a90",
   "metadata": {},
   "source": [
    "# CS 5A Lab 2 Concepts"
   ]
  },
  {
   "cell_type": "code",
   "execution_count": null,
   "id": "b494336b-873b-4d7e-a36b-52569d5d5e34",
   "metadata": {},
   "outputs": [],
   "source": [
    "%load_ext jupyter_ai_magics"
   ]
  },
  {
   "cell_type": "code",
   "execution_count": null,
   "id": "08686ca3-cd44-4e22-8474-3c5c83e2d793",
   "metadata": {},
   "outputs": [],
   "source": [
    "from datascience import *\n",
    "import numpy as np"
   ]
  },
  {
   "cell_type": "markdown",
   "id": "578da250-822f-48c3-9624-7b8393dc80e8",
   "metadata": {},
   "source": [
    "## datascience table"
   ]
  },
  {
   "cell_type": "code",
   "execution_count": null,
   "id": "06ccca34-fe6b-4aa7-8b88-515179910a9c",
   "metadata": {},
   "outputs": [],
   "source": [
    "courses = Table().read_table(\"data/courses.csv\")\n",
    "courses"
   ]
  },
  {
   "cell_type": "code",
   "execution_count": null,
   "id": "2af8ac91-429f-4fbc-a75b-6d589283dd59",
   "metadata": {},
   "outputs": [],
   "source": [
    "type(courses)"
   ]
  },
  {
   "cell_type": "markdown",
   "id": "f17698b7-f534-4613-93e6-0f52dd8c886e",
   "metadata": {},
   "source": [
    "## Lots of things you can do with tables"
   ]
  },
  {
   "cell_type": "code",
   "execution_count": null,
   "id": "5522bc4f-834d-402c-883b-b48bceb089ef",
   "metadata": {},
   "outputs": [],
   "source": [
    "courses.show(3)"
   ]
  },
  {
   "cell_type": "code",
   "execution_count": null,
   "id": "5e5fa4f9-aff4-4403-9cd3-c9f3690bff65",
   "metadata": {},
   "outputs": [],
   "source": [
    "courses.sort(\"Size\", descending=False)"
   ]
  },
  {
   "cell_type": "code",
   "execution_count": null,
   "id": "a6ac786e-5d86-410c-ad39-22f0992e62a5",
   "metadata": {},
   "outputs": [],
   "source": [
    "courses.sort(\"Size\", descending=True)"
   ]
  },
  {
   "cell_type": "code",
   "execution_count": null,
   "id": "242f9077-66b1-4918-a61b-d702b54504be",
   "metadata": {},
   "outputs": [],
   "source": [
    "courses.labels"
   ]
  },
  {
   "cell_type": "code",
   "execution_count": null,
   "id": "4ebfa7d9-a765-4ff5-b246-444a5d8ac127",
   "metadata": {},
   "outputs": [],
   "source": [
    "courses.num_rows"
   ]
  },
  {
   "cell_type": "code",
   "execution_count": null,
   "id": "2f3d83fe-c963-41cc-9837-8164781c11b5",
   "metadata": {},
   "outputs": [],
   "source": [
    "courses.num_columns"
   ]
  },
  {
   "cell_type": "markdown",
   "id": "19763728-24e6-4de8-821c-f6983f938758",
   "metadata": {},
   "source": [
    "### Look at columns"
   ]
  },
  {
   "cell_type": "code",
   "execution_count": null,
   "id": "a3a1c3aa-f623-4a17-8d0f-81d9d8d2dbdd",
   "metadata": {
    "scrolled": true
   },
   "outputs": [],
   "source": [
    "# one column\n",
    "courses.select(\"Course Title\")"
   ]
  },
  {
   "cell_type": "code",
   "execution_count": null,
   "id": "d8862c0f-a57d-45fb-ac2d-4e56fb140ad6",
   "metadata": {},
   "outputs": [],
   "source": [
    "# multiple columns\n",
    "courses.select(\"Course Title\", \"Instructor\")"
   ]
  },
  {
   "cell_type": "markdown",
   "id": "e2e0fa64-ff8e-4740-a060-f0b45ca80e21",
   "metadata": {},
   "source": [
    "### Look at rows"
   ]
  },
  {
   "cell_type": "code",
   "execution_count": null,
   "id": "ebd379b2-4366-4aeb-9def-62ba541e8f2f",
   "metadata": {},
   "outputs": [],
   "source": [
    "# one row\n",
    "courses.take(0)"
   ]
  },
  {
   "cell_type": "code",
   "execution_count": null,
   "id": "e10ba721-ebcc-4e17-90e4-917a6c15bb09",
   "metadata": {},
   "outputs": [],
   "source": [
    "# multiple rows\n",
    "courses.take(2, 1)"
   ]
  },
  {
   "cell_type": "markdown",
   "id": "031a2996-9e25-4bd4-99f9-2717615e938e",
   "metadata": {},
   "source": [
    "### Get column (as table) vs get column (as numpy array)"
   ]
  },
  {
   "cell_type": "code",
   "execution_count": null,
   "id": "f41e81c4-29d8-466a-a898-837b82a7039f",
   "metadata": {},
   "outputs": [],
   "source": [
    "# type datascience.tables.Table\n",
    "courses.select(\"Course Title\")"
   ]
  },
  {
   "cell_type": "code",
   "execution_count": null,
   "id": "2f9e7fa2-4fbd-43d8-9092-34383bc862e7",
   "metadata": {},
   "outputs": [],
   "source": [
    "# type numpy.ndarray\n",
    "courses.column(\"Course Title\")"
   ]
  },
  {
   "cell_type": "markdown",
   "id": "feb7106e-db25-48c3-b591-f9ff19b37afe",
   "metadata": {},
   "source": [
    "### Look at a cell - combo of column and row"
   ]
  },
  {
   "cell_type": "code",
   "execution_count": null,
   "id": "792f6ffb-bfbc-41d3-897d-e52b6440c1c2",
   "metadata": {},
   "outputs": [],
   "source": [
    "# take from a table gives a table\n",
    "courses.select(\"Course Number\").take(1)"
   ]
  },
  {
   "cell_type": "code",
   "execution_count": null,
   "id": "bd13ff10-eb07-4742-8768-837736c28477",
   "metadata": {},
   "outputs": [],
   "source": [
    "# take from a numpy array gives a number\n",
    "courses.column(\"Course Number\").take(1)"
   ]
  },
  {
   "cell_type": "markdown",
   "id": "48d48520-853a-4aa8-9379-e0feaceb3479",
   "metadata": {},
   "source": [
    "### Filtering"
   ]
  },
  {
   "cell_type": "code",
   "execution_count": null,
   "id": "60d7853a-fd6e-4566-acd4-d44c3d8a2800",
   "metadata": {},
   "outputs": [],
   "source": [
    "courses"
   ]
  },
  {
   "cell_type": "code",
   "execution_count": null,
   "id": "f0273495-268a-4531-9571-4a3fc76455a1",
   "metadata": {},
   "outputs": [],
   "source": [
    "courses.where(\"Course Number\", 24)"
   ]
  },
  {
   "cell_type": "code",
   "execution_count": null,
   "id": "91a8ae87-7124-4f5a-9ab5-92e10860aa3f",
   "metadata": {},
   "outputs": [],
   "source": [
    "courses.where(\"Course Number\", are.below(24))"
   ]
  },
  {
   "cell_type": "code",
   "execution_count": null,
   "id": "3a6498cb-d70e-4613-b78c-6add38cfdaed",
   "metadata": {},
   "outputs": [],
   "source": [
    "courses.where(\"Course Number\", are.below_or_equal_to(24))"
   ]
  },
  {
   "cell_type": "markdown",
   "id": "2f008fef-342b-45cc-81bf-1e3abae94bc7",
   "metadata": {},
   "source": [
    "### Grouping"
   ]
  },
  {
   "cell_type": "code",
   "execution_count": null,
   "id": "67187107-5c23-45ed-b10d-0a8b8dd91c23",
   "metadata": {},
   "outputs": [],
   "source": [
    "courses.group(\"Days\")"
   ]
  },
  {
   "cell_type": "markdown",
   "id": "49c011f5-bce7-45c9-9cd9-d5bff5907930",
   "metadata": {},
   "source": [
    "### Chaining functions"
   ]
  },
  {
   "cell_type": "markdown",
   "id": "e4fa6e26-689a-4308-aea7-1e3485ad73e3",
   "metadata": {},
   "source": [
    "### What if I want courses below or equal to 24 and only on Mondays and Wednesdays?"
   ]
  },
  {
   "cell_type": "code",
   "execution_count": null,
   "id": "c32ac1d5-bca3-4a63-9c37-5436dc072460",
   "metadata": {},
   "outputs": [],
   "source": [
    "courses.where(\"Course Number\", are.below_or_equal_to(24)).where(\"Days\", \"MW\")"
   ]
  },
  {
   "cell_type": "markdown",
   "id": "bb093daf-7c42-43a4-90fb-aab88e44d50b",
   "metadata": {},
   "source": [
    "#### You can chain almost anything together..."
   ]
  },
  {
   "cell_type": "markdown",
   "id": "ded8b301-5c7d-4aad-ab19-2e90b121f293",
   "metadata": {},
   "source": [
    "### What if I want to number the courses 1, 2, 3, ..."
   ]
  },
  {
   "cell_type": "code",
   "execution_count": null,
   "id": "cca90ad5-e091-4a66-81da-6cc7d248f1e6",
   "metadata": {},
   "outputs": [],
   "source": [
    "courses"
   ]
  },
  {
   "cell_type": "code",
   "execution_count": null,
   "id": "07c9d179-3fe7-4d1c-b90b-d286aedf23de",
   "metadata": {},
   "outputs": [],
   "source": [
    "ordered_column = np.arange(1, 8)\n",
    "ordered_column"
   ]
  },
  {
   "cell_type": "code",
   "execution_count": null,
   "id": "61616990-fd21-4f81-bb3d-370135c37ecd",
   "metadata": {},
   "outputs": [],
   "source": [
    "courses = courses.with_columns(\"My Course Number\", ordered_column) \n",
    "courses"
   ]
  },
  {
   "cell_type": "markdown",
   "id": "97fc1bfd-c5d4-4f2e-ab56-2aad56f8199f",
   "metadata": {},
   "source": [
    "### Useful fact for challenge question"
   ]
  },
  {
   "cell_type": "code",
   "execution_count": null,
   "id": "b83fb422-7810-47ff-bad7-f1e43e4e3427",
   "metadata": {},
   "outputs": [],
   "source": [
    "# you can multiply numpy arrays by constants, and add them"
   ]
  },
  {
   "cell_type": "code",
   "execution_count": null,
   "id": "99242424-9a9b-4fb6-bad3-137c6a05e55c",
   "metadata": {},
   "outputs": [],
   "source": [
    "ordered_column"
   ]
  },
  {
   "cell_type": "code",
   "execution_count": null,
   "id": "c1c8dc0f-e687-4c2d-ac08-dafca39cc759",
   "metadata": {},
   "outputs": [],
   "source": [
    "two_times = 2*ordered_column\n",
    "two_times"
   ]
  },
  {
   "cell_type": "code",
   "execution_count": null,
   "id": "1e4f5e8c-6bd7-46d7-9c17-64d7d384e876",
   "metadata": {},
   "outputs": [],
   "source": [
    "ordered_column + two_times"
   ]
  },
  {
   "cell_type": "code",
   "execution_count": null,
   "id": "5b7e7e1b-3d69-4e67-bb61-2f11f0c4c7da",
   "metadata": {},
   "outputs": [],
   "source": []
  }
 ],
 "metadata": {
  "kernelspec": {
   "display_name": "base",
   "language": "python",
   "name": "base"
  },
  "language_info": {
   "codemirror_mode": {
    "name": "ipython",
    "version": 3
   },
   "file_extension": ".py",
   "mimetype": "text/x-python",
   "name": "python",
   "nbconvert_exporter": "python",
   "pygments_lexer": "ipython3",
   "version": "3.9.12"
  }
 },
 "nbformat": 4,
 "nbformat_minor": 5
}
