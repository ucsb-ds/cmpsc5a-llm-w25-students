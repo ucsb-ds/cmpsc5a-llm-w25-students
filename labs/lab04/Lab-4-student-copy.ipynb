{
 "cells": [
  {
   "cell_type": "code",
   "execution_count": null,
   "id": "d8668163",
   "metadata": {},
   "outputs": [],
   "source": [
    "%load_ext jupyter_ai_magics"
   ]
  },
  {
   "cell_type": "code",
   "execution_count": null,
   "id": "0e1e0de5",
   "metadata": {},
   "outputs": [],
   "source": [
    "from datascience import *\n",
    "import numpy as np\n",
    "\n",
    "# needed for plotting with datascience module\n",
    "%matplotlib inline\n",
    "\n",
    "from IPython.display import display, Image"
   ]
  },
  {
   "cell_type": "markdown",
   "id": "abb09641",
   "metadata": {},
   "source": [
    "### Data Analysis and Visualization\n",
    "Let us continue analyzing the World University Rankings dataset. We will learn how to ask interesting analytical questions and visualize data! This skillset will help you in the real-world! So let's get more familiar with the concepts we learned!"
   ]
  },
  {
   "cell_type": "code",
   "execution_count": null,
   "id": "738234e0",
   "metadata": {},
   "outputs": [],
   "source": [
    "# Recall the show method\n",
    "ranking = Table.read_table(\"data/world_university_rankings.csv\")\n",
    "ranking.show(5)"
   ]
  },
  {
   "cell_type": "code",
   "execution_count": null,
   "id": "5eb31212",
   "metadata": {},
   "outputs": [],
   "source": [
    "ranking.where('ranking-institution-title',\"University of Massachusetts\")"
   ]
  },
  {
   "cell_type": "code",
   "execution_count": null,
   "id": "bcba63e0",
   "metadata": {},
   "outputs": [],
   "source": [
    "ranking.where('rank',99)"
   ]
  },
  {
   "cell_type": "markdown",
   "id": "77c2205f",
   "metadata": {},
   "source": [
    "Looking at this dataset, what are some of the interesting questions you would want to ask?"
   ]
  },
  {
   "cell_type": "markdown",
   "id": "21a30d53",
   "metadata": {},
   "source": [
    "**Q1**. What are the average Overall scores for countries in the given array below? How can we compare them (visualize them)? Show the new table with average scores as well as the visualization you use. Hint: Think `are.contained_in` https://www.data8.org/datascience/predicates.html#datascience.predicates.are.contained_in and bar charts (`barh`)!"
   ]
  },
  {
   "cell_type": "code",
   "execution_count": null,
   "id": "cc215092",
   "metadata": {},
   "outputs": [],
   "source": [
    "countries = make_array(\"Australia\", \"Canada\", \"China\",\"India\", \"Switzerland\", \"Singapore\", \"United States\")"
   ]
  },
  {
   "cell_type": "code",
   "execution_count": null,
   "id": "58fb6f0a",
   "metadata": {},
   "outputs": [],
   "source": [
    "#SOLUTION"
   ]
  },
  {
   "cell_type": "markdown",
   "id": "d12c0b46",
   "metadata": {},
   "source": [
    "#### Prompt Below"
   ]
  },
  {
   "cell_type": "code",
   "execution_count": null,
   "id": "96e07bfc",
   "metadata": {},
   "outputs": [],
   "source": [
    "%%ai openai-chat:gpt-3.5-turbo"
   ]
  },
  {
   "cell_type": "markdown",
   "id": "3e093e7e",
   "metadata": {},
   "source": [
    "#### Explain workflow here:"
   ]
  },
  {
   "cell_type": "markdown",
   "id": "ff8e6713",
   "metadata": {},
   "source": [
    "*Type your answer here*"
   ]
  },
  {
   "cell_type": "markdown",
   "id": "d12d522e",
   "metadata": {},
   "source": [
    "**Q2.1**. How do the Overall scores relate to Research Quality Scores? How can you compare them visually? What can we say about their relationship? Hint: Think `association` or `causality`. Also, note that the two variables are numerical! Which plot would be appropriate to visualize them?"
   ]
  },
  {
   "cell_type": "code",
   "execution_count": null,
   "id": "b21841fd",
   "metadata": {},
   "outputs": [],
   "source": [
    "#SOLUTION"
   ]
  },
  {
   "cell_type": "markdown",
   "id": "943c131f",
   "metadata": {},
   "source": [
    "#### Prompt Below"
   ]
  },
  {
   "cell_type": "code",
   "execution_count": null,
   "id": "8f175599",
   "metadata": {},
   "outputs": [],
   "source": [
    "%%ai openai-chat:gpt-4o"
   ]
  },
  {
   "cell_type": "markdown",
   "id": "9e79740a",
   "metadata": {},
   "source": [
    "#### Explain workflow here:"
   ]
  },
  {
   "cell_type": "markdown",
   "id": "2cde5ba4",
   "metadata": {},
   "source": [
    "*Type your answer here*"
   ]
  },
  {
   "cell_type": "markdown",
   "id": "7ffd08f8",
   "metadata": {},
   "source": [
    "**Q2.2**. Similarly, how do the Overall scores relate to Industry Scores? How can you compare them? What can we say about their relationship?"
   ]
  },
  {
   "cell_type": "code",
   "execution_count": null,
   "id": "b9c2fc45",
   "metadata": {},
   "outputs": [],
   "source": [
    "#SOLUTION"
   ]
  },
  {
   "cell_type": "markdown",
   "id": "3d81f5d9",
   "metadata": {},
   "source": [
    "#### Prompt Below"
   ]
  },
  {
   "cell_type": "code",
   "execution_count": null,
   "id": "ae4f9336",
   "metadata": {},
   "outputs": [],
   "source": [
    "%%ai openai-chat:gpt-4o"
   ]
  },
  {
   "cell_type": "markdown",
   "id": "9fbd6000",
   "metadata": {},
   "source": [
    "#### Explain workflow here:"
   ]
  },
  {
   "cell_type": "markdown",
   "id": "f08acf15",
   "metadata": {},
   "source": [
    "*Type your answer here*"
   ]
  },
  {
   "cell_type": "markdown",
   "id": "b4e53aa8",
   "metadata": {},
   "source": [
    "**Challenge Question (UNGRADED)** Can you figure out how the Overall scores and all the other scores in the data are related?"
   ]
  },
  {
   "cell_type": "code",
   "execution_count": null,
   "id": "9e20dfe5",
   "metadata": {},
   "outputs": [],
   "source": [
    "# SOLUTION "
   ]
  },
  {
   "cell_type": "markdown",
   "id": "ff433081",
   "metadata": {},
   "source": [
    "**Q3.1**. How can we better represent Overall scores to understand its distribution? Visualize the distribution of Overall score. Hint: Think histograms!"
   ]
  },
  {
   "cell_type": "code",
   "execution_count": null,
   "id": "cc8c44a0",
   "metadata": {},
   "outputs": [],
   "source": [
    "#SOLUTION"
   ]
  },
  {
   "cell_type": "markdown",
   "id": "fdb40c92",
   "metadata": {},
   "source": [
    "#### Prompt Below"
   ]
  },
  {
   "cell_type": "code",
   "execution_count": null,
   "id": "fb82f5c9",
   "metadata": {},
   "outputs": [],
   "source": [
    "%%ai openai-chat:gpt-4o"
   ]
  },
  {
   "cell_type": "markdown",
   "id": "702c36f5",
   "metadata": {},
   "source": [
    "#### Explain workflow here:"
   ]
  },
  {
   "cell_type": "markdown",
   "id": "c8986364",
   "metadata": {},
   "source": [
    "*Type your answer here*"
   ]
  },
  {
   "cell_type": "markdown",
   "id": "cfe5fb0f",
   "metadata": {},
   "source": [
    "**Q3.2**. Now let us look at the range of Overall scores (code given below). Can you come up with a clearer visualization that makes these numbers easier to read/work with? Hint: Think binning!"
   ]
  },
  {
   "cell_type": "code",
   "execution_count": null,
   "id": "102d1ac6",
   "metadata": {},
   "outputs": [],
   "source": [
    "# range of Overall scores\n",
    "min(ranking.column('Overall scores')), max(ranking.column('Overall scores'))"
   ]
  },
  {
   "cell_type": "code",
   "execution_count": null,
   "id": "c695aa60",
   "metadata": {},
   "outputs": [],
   "source": [
    "#SOLUTION"
   ]
  },
  {
   "cell_type": "markdown",
   "id": "4b033335",
   "metadata": {},
   "source": [
    "#### Prompt Below"
   ]
  },
  {
   "cell_type": "code",
   "execution_count": null,
   "id": "80fbd3f8",
   "metadata": {},
   "outputs": [],
   "source": [
    "%%ai openai-chat:gpt-4o"
   ]
  },
  {
   "cell_type": "markdown",
   "id": "46106665",
   "metadata": {},
   "source": [
    "#### Explain workflow here:"
   ]
  },
  {
   "cell_type": "markdown",
   "id": "f0e2a193",
   "metadata": {},
   "source": [
    "*Type your answer here*"
   ]
  },
  {
   "cell_type": "markdown",
   "id": "4590f92a",
   "metadata": {},
   "source": [
    "**Q3.3**. What does the plot from the previous question tell you about the overall scores distribution - how is the shape (bell, uniform, etc.)? Is it skewed (right or left skewed)? Are the scores concentrated within a small range or spread out across a wider range? Is it centered around a particular score range (i.e., mode of the values)?\n",
    "Hint: Mode https://mathworld.wolfram.com/Mode.html. Ask your TAs and ULAs for more help!"
   ]
  },
  {
   "cell_type": "code",
   "execution_count": null,
   "id": "af28cebf",
   "metadata": {},
   "outputs": [],
   "source": [
    "#SOLUTION"
   ]
  },
  {
   "cell_type": "markdown",
   "id": "481b2b2c",
   "metadata": {},
   "source": [
    "#### Prompt Below"
   ]
  },
  {
   "cell_type": "code",
   "execution_count": null,
   "id": "b04bb00a",
   "metadata": {},
   "outputs": [],
   "source": [
    "%%ai openai-chat:gpt-4o"
   ]
  },
  {
   "cell_type": "markdown",
   "id": "58fa185c",
   "metadata": {},
   "source": [
    "#### Explain workflow here:"
   ]
  },
  {
   "cell_type": "markdown",
   "id": "0543d4d4",
   "metadata": {},
   "source": [
    "*Type your answer here*"
   ]
  },
  {
   "cell_type": "markdown",
   "id": "bd699361",
   "metadata": {},
   "source": [
    "**Q4**. Which country has the most universities in the top 10 rankings? Can you visualize the distribution of the locations of the top 20 universities. Order your visualization in descending order (The country with the most universities in the top 20 needs to be at the top).\n",
    "Hint: Think _where_, _group_, _sort_, and _barh_!"
   ]
  },
  {
   "cell_type": "code",
   "execution_count": null,
   "id": "9687771f",
   "metadata": {},
   "outputs": [],
   "source": [
    "#SOLUTION"
   ]
  },
  {
   "cell_type": "markdown",
   "id": "b8d48144",
   "metadata": {},
   "source": [
    "#### Prompt Below"
   ]
  },
  {
   "cell_type": "code",
   "execution_count": null,
   "id": "094b37d9",
   "metadata": {},
   "outputs": [],
   "source": [
    "%%ai openai-chat:gpt-4o"
   ]
  },
  {
   "cell_type": "markdown",
   "id": "eae793fe",
   "metadata": {},
   "source": [
    "#### Explain workflow here:"
   ]
  },
  {
   "cell_type": "markdown",
   "id": "a8fe7b79",
   "metadata": {},
   "source": [
    "*Type your answer here*"
   ]
  },
  {
   "cell_type": "markdown",
   "id": "06043fc9",
   "metadata": {},
   "source": [
    "**Q5.1**. You are at University of California, Santa Barbara. Can you find it in the table (state your answer and show the code)? What are the different UCs present in the dataset (show the code and the table)? Hint: You may benefit from looking at the documentation https://www.data8.org/datascience/predicates.html#datascience.predicates.are.containing. "
   ]
  },
  {
   "cell_type": "code",
   "execution_count": null,
   "id": "478c8d5e",
   "metadata": {},
   "outputs": [],
   "source": [
    "#SOLUTION"
   ]
  },
  {
   "cell_type": "markdown",
   "id": "ab2d5a29",
   "metadata": {},
   "source": [
    "#### Prompt Below"
   ]
  },
  {
   "cell_type": "code",
   "execution_count": null,
   "id": "b2ddaea8",
   "metadata": {},
   "outputs": [],
   "source": [
    "%%ai openai-chat:gpt-3.5-turbo"
   ]
  },
  {
   "cell_type": "markdown",
   "id": "8304932a",
   "metadata": {},
   "source": [
    "#### Explain workflow here:"
   ]
  },
  {
   "cell_type": "markdown",
   "id": "10996d6c",
   "metadata": {},
   "source": [
    "*Type your answer here*"
   ]
  },
  {
   "cell_type": "markdown",
   "id": "b62ab744",
   "metadata": {},
   "source": [
    "**Q5.2**. How do the Overall scores of different UCs compare? Which UC has the highest score? Hint: What type of visualization would you use?"
   ]
  },
  {
   "cell_type": "code",
   "execution_count": null,
   "id": "51867bff",
   "metadata": {},
   "outputs": [],
   "source": [
    "#SOLUTION"
   ]
  },
  {
   "cell_type": "markdown",
   "id": "137d134b",
   "metadata": {},
   "source": [
    "#### Prompt Below"
   ]
  },
  {
   "cell_type": "code",
   "execution_count": null,
   "id": "51c7f1c1",
   "metadata": {},
   "outputs": [],
   "source": [
    "%%ai openai-chat:gpt-4o"
   ]
  },
  {
   "cell_type": "markdown",
   "id": "d0055e46",
   "metadata": {},
   "source": [
    "#### Explain workflow here:"
   ]
  },
  {
   "cell_type": "markdown",
   "id": "be72d668",
   "metadata": {},
   "source": [
    "*Type your answer here*"
   ]
  },
  {
   "cell_type": "markdown",
   "id": "f7f26120",
   "metadata": {},
   "source": [
    "**Q5.3**. Do the rankings among different UCs change if we look at Research Quality instead? Show your results."
   ]
  },
  {
   "cell_type": "code",
   "execution_count": null,
   "id": "e6dd311d",
   "metadata": {},
   "outputs": [],
   "source": [
    "#SOLUTION"
   ]
  },
  {
   "cell_type": "markdown",
   "id": "1ae3b1fd",
   "metadata": {},
   "source": [
    "#### Prompt Below"
   ]
  },
  {
   "cell_type": "code",
   "execution_count": null,
   "id": "943ae5bd",
   "metadata": {},
   "outputs": [],
   "source": [
    "%%ai openai-chat:gpt-4o"
   ]
  },
  {
   "cell_type": "markdown",
   "id": "89818364",
   "metadata": {},
   "source": [
    "#### Explain workflow here:"
   ]
  },
  {
   "cell_type": "markdown",
   "id": "4161cab1",
   "metadata": {},
   "source": [
    "*Type your answer here*"
   ]
  },
  {
   "cell_type": "markdown",
   "id": "d8daaadc",
   "metadata": {},
   "source": [
    "**Q5.4**. How do the rankings among different UCs compare if we look at Industry Score? Show your results."
   ]
  },
  {
   "cell_type": "code",
   "execution_count": null,
   "id": "280f1558",
   "metadata": {},
   "outputs": [],
   "source": [
    "#SOLUTION"
   ]
  },
  {
   "cell_type": "markdown",
   "id": "e688463e",
   "metadata": {},
   "source": [
    "#### Prompt Below"
   ]
  },
  {
   "cell_type": "code",
   "execution_count": null,
   "id": "e6dd42d4",
   "metadata": {},
   "outputs": [],
   "source": [
    "%%ai openai-chat:gpt-4o"
   ]
  },
  {
   "cell_type": "markdown",
   "id": "2f2da4a9",
   "metadata": {},
   "source": [
    "#### Explain workflow here:"
   ]
  },
  {
   "cell_type": "markdown",
   "id": "727560a0",
   "metadata": {},
   "source": [
    "*Type your answer here*"
   ]
  },
  {
   "cell_type": "markdown",
   "id": "1129cc15",
   "metadata": {},
   "source": [
    "**Q6.1**. Now, you have a better hold of the data. You have decided that you are more inclined towards the Industry and you want to apply to some of the schools in the dataset. How can you find the top 10 universities better suited for your applications? Add a column that shows the new rank of every university if it was ranked by Industry Score. Think table methods _sort_, _take_, _with_column_ and use the numpy module!"
   ]
  },
  {
   "cell_type": "code",
   "execution_count": null,
   "id": "ae721821",
   "metadata": {},
   "outputs": [],
   "source": [
    "#SOLUTION"
   ]
  },
  {
   "cell_type": "markdown",
   "id": "4ed2e205",
   "metadata": {},
   "source": [
    "#### Prompt Below"
   ]
  },
  {
   "cell_type": "code",
   "execution_count": null,
   "id": "452c015b",
   "metadata": {},
   "outputs": [],
   "source": [
    "%%ai openai-chat:gpt-4o"
   ]
  },
  {
   "cell_type": "markdown",
   "id": "db5d829f",
   "metadata": {},
   "source": [
    "#### Explain workflow here:"
   ]
  },
  {
   "cell_type": "markdown",
   "id": "a42eabdd",
   "metadata": {},
   "source": [
    "*Type your answer here*"
   ]
  },
  {
   "cell_type": "markdown",
   "id": "97150edf",
   "metadata": {},
   "source": [
    "**Q6.2**. Now that you know which universities rank highest in your area of interest, you have decided to narrow it down to schools only in the US. What are your possible options in that case? Can you better visualize this data? What do you notice about the scores of these universities and how do you think you will rank them now to make a better decision? "
   ]
  },
  {
   "cell_type": "code",
   "execution_count": null,
   "id": "6fc25f65",
   "metadata": {},
   "outputs": [],
   "source": [
    "#SOLUTION"
   ]
  },
  {
   "cell_type": "markdown",
   "id": "6e0df242",
   "metadata": {},
   "source": [
    "#### Prompt Below"
   ]
  },
  {
   "cell_type": "code",
   "execution_count": null,
   "id": "d6780146",
   "metadata": {},
   "outputs": [],
   "source": [
    "%%ai openai-chat:gpt-4o"
   ]
  },
  {
   "cell_type": "markdown",
   "id": "0fd6d840",
   "metadata": {},
   "source": [
    "#### Explain workflow here:"
   ]
  },
  {
   "cell_type": "markdown",
   "id": "227818ba",
   "metadata": {},
   "source": [
    "*Type your answer here*"
   ]
  },
  {
   "cell_type": "markdown",
   "id": "7e822d8a",
   "metadata": {},
   "source": [
    "We just learned how to ask interesting questions to a dataset all while practicing visualizations! If you/your sibling want to apply to universities, you can now analyze a relevant dataset and make a better informed decision based on your personal preferences!"
   ]
  },
  {
   "cell_type": "markdown",
   "id": "c790c916",
   "metadata": {},
   "source": [
    "Congratulations, you're done with Lab 4!  Be sure to \n",
    "- **Keep all your prompts** . \n",
    "- **Save and Download** from the `File` menu.\n",
    "- **Ensure every cell has been run (has a number Ex:[34] beside the cell)**.\n",
    "- Submit to Gradescope!"
   ]
  }
 ],
 "metadata": {
  "kernelspec": {
   "display_name": "Python 3 (ipykernel)",
   "language": "python",
   "name": "python3"
  },
  "language_info": {
   "codemirror_mode": {
    "name": "ipython",
    "version": 3
   },
   "file_extension": ".py",
   "mimetype": "text/x-python",
   "name": "python",
   "nbconvert_exporter": "python",
   "pygments_lexer": "ipython3",
   "version": "3.12.7"
  }
 },
 "nbformat": 4,
 "nbformat_minor": 5
}
