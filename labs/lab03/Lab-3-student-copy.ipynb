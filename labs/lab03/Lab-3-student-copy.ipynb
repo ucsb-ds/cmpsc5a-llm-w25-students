{
 "cells": [
  {
   "cell_type": "code",
   "execution_count": null,
   "id": "78941ea9-7acb-423a-bc64-bc78bc245b70",
   "metadata": {},
   "outputs": [],
   "source": [
    "%load_ext jupyter_ai_magics"
   ]
  },
  {
   "cell_type": "code",
   "execution_count": null,
   "id": "2d9bfdcd-0d9d-40cb-b96a-477e79ab0ae8",
   "metadata": {},
   "outputs": [],
   "source": [
    "from datascience import *\n",
    "import numpy as np"
   ]
  },
  {
   "cell_type": "markdown",
   "id": "00f19d1d-dd3d-47b5-9b52-e2c195204cf3",
   "metadata": {},
   "source": [
    "### Conditionals and Iterations\n",
    "Iteration and conditional statements allow us to work efficiently with data. By iterating over a data set, you can easily apply the same operation(s) to each data point, whereas conditionals help in making decisions about which operations to perform depending on the data. Let's look at a few examples!"
   ]
  },
  {
   "cell_type": "markdown",
   "id": "7182b93a-92b4-4f34-a2ba-fce4c4fda666",
   "metadata": {},
   "source": [
    "**Q1**. Can you find all the numbers from 1 to 100 that are divisible by 2 as well as 3, and print them out? Hint: Think _if_ statement, _for_ loops and expressions in Python!"
   ]
  },
  {
   "cell_type": "code",
   "execution_count": null,
   "id": "6d18f8c8-d355-4535-8cc1-3ff66e634fb6",
   "metadata": {},
   "outputs": [],
   "source": [
    "# SOLUTION"
   ]
  },
  {
   "cell_type": "markdown",
   "id": "b8f18a19",
   "metadata": {},
   "source": [
    "### Prompt Below"
   ]
  },
  {
   "cell_type": "code",
   "execution_count": null,
   "id": "1277d9af-f593-465b-9b77-a4d7e191fa82",
   "metadata": {},
   "outputs": [],
   "source": [
    "%%ai openai-chat:gpt-4.0"
   ]
  },
  {
   "cell_type": "markdown",
   "id": "d4942e5c",
   "metadata": {},
   "source": [
    "### Explain your Workflow Below"
   ]
  },
  {
   "cell_type": "markdown",
   "id": "ea14e931",
   "metadata": {},
   "source": [
    "Explain your answer here"
   ]
  },
  {
   "cell_type": "markdown",
   "id": "7c9b307c-14ae-4110-9751-2dd4bce425d1",
   "metadata": {},
   "source": [
    "**Q2:** You are given some temperature data below. Can you count the number of days where the temperature is above 25 degrees Celsius and check if any day has a temperature below 10 degrees Celsius? Print your results. Hint: Think _for_ loops and conditional statements!"
   ]
  },
  {
   "cell_type": "code",
   "execution_count": null,
   "id": "f46feee7-56d6-4b3c-b035-c716bb408141",
   "metadata": {},
   "outputs": [],
   "source": [
    "temperature_data = [28, 22, 26, 30, 24, 27, 23, 29, 31, 18, 20, 25, 29, 32]"
   ]
  },
  {
   "cell_type": "code",
   "execution_count": null,
   "id": "8058e3d5-5f72-4882-87d0-924a0f2e9386",
   "metadata": {},
   "outputs": [],
   "source": [
    "# SOLUTION\n"
   ]
  },
  {
   "cell_type": "markdown",
   "id": "4edaafc3",
   "metadata": {},
   "source": [
    "### Prompt Below"
   ]
  },
  {
   "cell_type": "code",
   "execution_count": null,
   "id": "e57c5975-a003-47be-8235-6134e05d5b47",
   "metadata": {},
   "outputs": [],
   "source": [
    "%%ai openai-chat:gpt-4.0"
   ]
  },
  {
   "cell_type": "markdown",
   "id": "e0199b85",
   "metadata": {},
   "source": [
    "### Explain your Workflow Below"
   ]
  },
  {
   "cell_type": "markdown",
   "id": "95acbcd5",
   "metadata": {},
   "source": [
    "Explain your answer here"
   ]
  },
  {
   "cell_type": "markdown",
   "id": "9a4872a1-18a6-4b11-86cd-07a95061fe9b",
   "metadata": {},
   "source": [
    "This lab will again use the data set of university rankings, so we need to load it."
   ]
  },
  {
   "cell_type": "code",
   "execution_count": null,
   "id": "ba8d8517-fdea-45da-a39b-45f5cdc8d861",
   "metadata": {},
   "outputs": [],
   "source": [
    "ranking = Table.read_table(\"data/world_university_rankings.csv\")"
   ]
  },
  {
   "cell_type": "markdown",
   "id": "ed76e102-bf84-40e1-a768-86033b35201b",
   "metadata": {},
   "source": [
    "**Q3:** If you look at the columns in the ranking table, you will notice that there are two columns regarding research - Research Quality Score and Research Environment Score. We can define an overall research score as the mean of these two scores. How can you add an additional column to the table that shows this score for each university?"
   ]
  },
  {
   "cell_type": "code",
   "execution_count": null,
   "id": "b8d963e6-333c-4e65-8c7b-f6b6b5a6363d",
   "metadata": {},
   "outputs": [],
   "source": [
    "# Solution\n"
   ]
  },
  {
   "cell_type": "markdown",
   "id": "f71bac7c",
   "metadata": {},
   "source": [
    "### Prompt Below"
   ]
  },
  {
   "cell_type": "code",
   "execution_count": null,
   "id": "27690107-271a-4216-a5e3-6eeed6f7b0ed",
   "metadata": {},
   "outputs": [],
   "source": [
    "%%ai openai-chat:gpt-4.0"
   ]
  },
  {
   "cell_type": "markdown",
   "id": "144b5f42",
   "metadata": {},
   "source": [
    "### Explain your Workflow Below"
   ]
  },
  {
   "cell_type": "markdown",
   "id": "bf00bd94",
   "metadata": {},
   "source": [
    "Explain your answer here"
   ]
  },
  {
   "cell_type": "markdown",
   "id": "04e3d591-dac4-457b-9296-a3edd13f41df",
   "metadata": {},
   "source": [
    "**Q4**: How can you now create a table with only universities that have a Research Quality Score that is higher than the Research Score?"
   ]
  },
  {
   "cell_type": "markdown",
   "id": "57fc52d3-4cc5-497f-9d7d-4137e11f5a7d",
   "metadata": {},
   "source": [
    "*Hint:* Think table methods like where. Ask your TAs and ULAs for help!"
   ]
  },
  {
   "cell_type": "code",
   "execution_count": null,
   "id": "abc94461-efdb-4f52-9b52-2ad5799203cc",
   "metadata": {},
   "outputs": [],
   "source": [
    "# Solution\n"
   ]
  },
  {
   "cell_type": "markdown",
   "id": "137cd1f2",
   "metadata": {},
   "source": [
    "### Prompt Below"
   ]
  },
  {
   "cell_type": "code",
   "execution_count": null,
   "id": "2668b7b4-8097-41ae-9ac0-498dfaf9c403",
   "metadata": {},
   "outputs": [],
   "source": [
    "%%ai openai-chat:gpt-4.0"
   ]
  },
  {
   "cell_type": "markdown",
   "id": "cf9f5699",
   "metadata": {},
   "source": [
    "### Explain your Workflow Below"
   ]
  },
  {
   "cell_type": "markdown",
   "id": "47fff296",
   "metadata": {},
   "source": [
    "Explain your answer here"
   ]
  },
  {
   "cell_type": "markdown",
   "id": "4d97e3f2-02b5-4776-9811-9b8ad9d40ae8",
   "metadata": {},
   "source": [
    "## Functions\n",
    "\n",
    "Functions are a very useful tool to express how a certain task is performed. You can then just call this function instead of copying the code whenever you need it. You can even use functions to make changes to a table."
   ]
  },
  {
   "cell_type": "markdown",
   "id": "554d8d7e-53a2-4d2c-a40c-490a836726eb",
   "metadata": {},
   "source": [
    "**Q1.1**: Let's start by defining a function that creates initials. How can you define a function that returns only the first letters of each word in a string separated by '.' if these letters are upper case? For example, for the string \"Marie Curie Intitute\", the result would be \"M.C.I.\".\n",
    "*Hint:* Think for loop and conditional statement with a function!\n",
    "Check out useful string methods https://www.data8.org/datascience/reference-nb/datascience-reference.html#str.split() and https://www.w3schools.com/python/python_strings.asp to see how to access string elements!"
   ]
  },
  {
   "cell_type": "code",
   "execution_count": null,
   "id": "05279ffc-e3bd-4712-8462-9a870fe67b93",
   "metadata": {},
   "outputs": [],
   "source": [
    "# Solution\n"
   ]
  },
  {
   "cell_type": "markdown",
   "id": "25912404",
   "metadata": {},
   "source": [
    "### Prompt Below"
   ]
  },
  {
   "cell_type": "code",
   "execution_count": null,
   "id": "68a6b253-fc40-483c-8032-c02f4d9f8633",
   "metadata": {},
   "outputs": [],
   "source": [
    "%%ai openai-chat:gpt-4.0"
   ]
  },
  {
   "cell_type": "markdown",
   "id": "12e208f9",
   "metadata": {},
   "source": [
    "### Explain your Workflow Below"
   ]
  },
  {
   "cell_type": "markdown",
   "id": "1aa47f52",
   "metadata": {},
   "source": [
    "Explain your answer here"
   ]
  },
  {
   "cell_type": "markdown",
   "id": "081d8ff8-bb18-4764-a303-e1adcb96deb3",
   "metadata": {},
   "source": [
    "**Q1.2**: Can you write a function that outputs a string interval \"0-10\" for intergers less than or equal to 10, \"11-20\" for integers greater than 10 but less than or equal to 20, and so on upto and including 100? For example: if you define a function called inRange, then inRange(24) should return \"21-30\". We will use this function later to make things interesting. \n",
    "\n",
    "Hint: Think conditional statements! In case the number is greater than 100 or negative, please print “Unknown”."
   ]
  },
  {
   "cell_type": "code",
   "execution_count": null,
   "id": "d98aded3-a8c8-4d50-85e4-bf328bcc043b",
   "metadata": {},
   "outputs": [],
   "source": [
    "# Solution\n"
   ]
  },
  {
   "cell_type": "markdown",
   "id": "60a6bdff",
   "metadata": {},
   "source": [
    "### Prompt Below"
   ]
  },
  {
   "cell_type": "code",
   "execution_count": null,
   "id": "9d37015d-2be0-4372-8ea4-b5a17a07f34f",
   "metadata": {},
   "outputs": [],
   "source": [
    "%%ai openai-chat:gpt-4.0"
   ]
  },
  {
   "cell_type": "markdown",
   "id": "1696142e",
   "metadata": {},
   "source": [
    "### Explain your Workflow Below"
   ]
  },
  {
   "cell_type": "markdown",
   "id": "079fd72f",
   "metadata": {},
   "source": [
    "Explain your answer here"
   ]
  },
  {
   "cell_type": "markdown",
   "id": "20d41d0f-4cbc-4723-a1d8-66223eff5a14",
   "metadata": {},
   "source": [
    "**Q2:** Now, please add a column to the table that contains the initials of each university. For example, \"ETH Zurich\" has the initials \"E.Z.\". Hint: Use the function we wrote in the previous questions!"
   ]
  },
  {
   "cell_type": "code",
   "execution_count": null,
   "id": "f10f483d-4b00-4e4c-8604-6e53366f3e5d",
   "metadata": {},
   "outputs": [],
   "source": [
    "# Solution\n"
   ]
  },
  {
   "cell_type": "markdown",
   "id": "a63a0a20",
   "metadata": {},
   "source": [
    "### Prompt Below"
   ]
  },
  {
   "cell_type": "code",
   "execution_count": null,
   "id": "37a7ddcd-1d05-4408-9fe7-72fbe38da478",
   "metadata": {},
   "outputs": [],
   "source": [
    "%%ai openai-chat:gpt-4.0"
   ]
  },
  {
   "cell_type": "markdown",
   "id": "1cc088ac",
   "metadata": {},
   "source": [
    "### Explain your Workflow Below"
   ]
  },
  {
   "cell_type": "markdown",
   "id": "44327fda",
   "metadata": {},
   "source": [
    "Explain your answer here"
   ]
  },
  {
   "cell_type": "markdown",
   "id": "0b2fb233-3ff5-44d8-b3b8-9fce90d0fd66",
   "metadata": {},
   "source": [
    "**Q3:** Universities from how many countries are included in the ranking? What are those countries? *Hint:* How can you get a list of unique elements in a column?"
   ]
  },
  {
   "cell_type": "code",
   "execution_count": null,
   "id": "1a1188fe-e812-4c37-b859-f47513c1f73b",
   "metadata": {},
   "outputs": [],
   "source": [
    "# Solution\n"
   ]
  },
  {
   "cell_type": "markdown",
   "id": "f249bbee",
   "metadata": {},
   "source": [
    "### Prompt Below"
   ]
  },
  {
   "cell_type": "code",
   "execution_count": null,
   "id": "f2461f56",
   "metadata": {},
   "outputs": [],
   "source": [
    "%%ai openai-chat:gpt-4.0"
   ]
  },
  {
   "cell_type": "markdown",
   "id": "853ac9f4",
   "metadata": {},
   "source": [
    "### Explain your Workflow Below"
   ]
  },
  {
   "cell_type": "markdown",
   "id": "c9c55e1e",
   "metadata": {},
   "source": [
    "Explain your answer here"
   ]
  },
  {
   "cell_type": "markdown",
   "id": "84a39b3b-59aa-412c-95f4-087c38c9a42a",
   "metadata": {},
   "source": [
    "**Q4:** Next, let's find out how many universities are from each of the countries United States, United Kingdom, China, Australia. Additionally, what percentage of all included universities belong to one of the four countries?"
   ]
  },
  {
   "cell_type": "markdown",
   "id": "e71e7401-f91e-4ec3-9c84-dbbe4e346fea",
   "metadata": {},
   "source": [
    "*Hint:* There are many kinds of predicates. https://www.data8.org/datascience/reference-nb/datascience-reference.html#Table.where-Predicates"
   ]
  },
  {
   "cell_type": "code",
   "execution_count": null,
   "id": "8fac38b7-ebe0-4625-ba4d-506332f2bb2d",
   "metadata": {},
   "outputs": [],
   "source": [
    "# Solution\n"
   ]
  },
  {
   "cell_type": "markdown",
   "id": "a15a690e",
   "metadata": {},
   "source": [
    "### Prompt Below"
   ]
  },
  {
   "cell_type": "code",
   "execution_count": null,
   "id": "9613833e-2f51-4e1b-8d7d-6eb8353216b8",
   "metadata": {},
   "outputs": [],
   "source": [
    "%%ai openai-chat:gpt-4.0"
   ]
  },
  {
   "cell_type": "markdown",
   "id": "bd626801",
   "metadata": {},
   "source": [
    "### Explain your Workflow Below"
   ]
  },
  {
   "cell_type": "markdown",
   "id": "81fa0828",
   "metadata": {},
   "source": [
    "Explain your answer here"
   ]
  },
  {
   "cell_type": "markdown",
   "id": "e0d8bbd1-f532-4100-a0dd-fbf360ba4709",
   "metadata": {},
   "source": [
    "**Q5:** Can you create a table showing how many universities are in the top 0-10%, 10%-20%,..., 90%-100% for each country?"
   ]
  },
  {
   "cell_type": "markdown",
   "id": "af2b28c8-de3f-4b3c-9d51-7f532376c858",
   "metadata": {},
   "source": [
    "*Hint:* You can use a previously defined function to help with this question"
   ]
  },
  {
   "cell_type": "markdown",
   "id": "e34627b4-98d7-4e4d-92f0-197307b6a6ab",
   "metadata": {},
   "source": [
    "*Hint:* You will need to *pivot* the table."
   ]
  },
  {
   "cell_type": "code",
   "execution_count": null,
   "id": "ae2e6084-f56d-49a7-b634-9b555bbecfaf",
   "metadata": {},
   "outputs": [],
   "source": [
    "# Solution\n"
   ]
  },
  {
   "cell_type": "markdown",
   "id": "16e0ebe8",
   "metadata": {},
   "source": [
    "### Prompt Below"
   ]
  },
  {
   "cell_type": "code",
   "execution_count": null,
   "id": "0f11b9f8-1c6d-4bdf-8fe5-2a583215f754",
   "metadata": {},
   "outputs": [],
   "source": [
    "%%ai openai-chat:gpt-4.0"
   ]
  },
  {
   "cell_type": "markdown",
   "id": "917d79ac",
   "metadata": {},
   "source": [
    "### Explain your Workflow Below"
   ]
  },
  {
   "cell_type": "markdown",
   "id": "5099200f",
   "metadata": {},
   "source": [
    "Explain your answer here"
   ]
  },
  {
   "cell_type": "markdown",
   "id": "bd42599c-9924-4afb-92c5-7d5cfcc60cbb",
   "metadata": {},
   "source": [
    "**Q6:** The rank of each university in the dataset is a global rank. How can you add a column that contains the national rank for the universities?"
   ]
  },
  {
   "cell_type": "markdown",
   "id": "53fec0e1-2e87-45fc-b415-dc553bf2f089",
   "metadata": {},
   "source": [
    "*Hint:* Remember Q4 and Q5 from lab 2."
   ]
  },
  {
   "cell_type": "markdown",
   "id": "a7e5caad-30b7-47ba-81e7-b311bc6efc95",
   "metadata": {},
   "source": [
    "*Hint:* There can be two universities with the same rank, but they are in different rows. Make sure you assign the national rank to the correct university in the full table."
   ]
  },
  {
   "cell_type": "code",
   "execution_count": null,
   "id": "06d95c28-aa61-474a-8f36-0b933d8b4cf5",
   "metadata": {},
   "outputs": [],
   "source": [
    "# Solution\n"
   ]
  },
  {
   "cell_type": "markdown",
   "id": "fe3a6a7c",
   "metadata": {},
   "source": [
    "### Prompt Below"
   ]
  },
  {
   "cell_type": "code",
   "execution_count": null,
   "id": "6c084945-f809-40bc-97ff-b1c324e4315c",
   "metadata": {},
   "outputs": [],
   "source": [
    "%%ai openai-chat:gpt-4.0"
   ]
  },
  {
   "cell_type": "markdown",
   "id": "c21c6175",
   "metadata": {},
   "source": [
    "### Explain your Workflow Below"
   ]
  },
  {
   "cell_type": "markdown",
   "id": "0c41c929",
   "metadata": {},
   "source": [
    "Explain your answer here"
   ]
  }
 ],
 "metadata": {
  "kernelspec": {
   "display_name": "Python 3 (ipykernel)",
   "language": "python",
   "name": "python3"
  },
  "language_info": {
   "codemirror_mode": {
    "name": "ipython",
    "version": 3
   },
   "file_extension": ".py",
   "mimetype": "text/x-python",
   "name": "python",
   "nbconvert_exporter": "python",
   "pygments_lexer": "ipython3",
   "version": "3.11.4"
  }
 },
 "nbformat": 4,
 "nbformat_minor": 5
}
