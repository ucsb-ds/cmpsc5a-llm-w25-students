{
 "cells": [
  {
   "cell_type": "markdown",
   "metadata": {},
   "source": [
    "# Python Basics\n",
    "\n",
    "## Primitive\n",
    "In Python, the primitive (or built-in) types are:\n",
    "\n",
    "- **int**: Integer numbers (whole numbers)\n",
    "- **float**: Floating-point numbers (decimal numbers)\n",
    "- **str**: Strings (text)\n",
    "- **bool**: Boolean values (True or False)\n",
    "- **complex**: Complex numbers\n",
    "- **None**: Represents the absence of a value\n",
    "\n",
    "Each of these types represents a fundamental data category that can be used to store and manipulate different kinds of data in Python programs.\n",
    "\n",
    "## Variables\n",
    "A Python variable holds a primitive type or an object under a name. You can access this primitive type or object in other sections of your code using the variable's name. (Think box analogy)\n",
    "\n",
    "The below example shows how a variable can be assigned or be reassigned to any primitive type."
   ]
  },
  {
   "cell_type": "code",
   "execution_count": null,
   "metadata": {},
   "outputs": [],
   "source": [
    "x = 15\n",
    "x = 15.2\n",
    "x = \"Apples\"\n",
    "x = True\n",
    "x = None"
   ]
  },
  {
   "cell_type": "markdown",
   "metadata": {},
   "source": [
    "## Lists\n",
    "Python lists are a collection of elements. Elements can be primitive types or objects."
   ]
  },
  {
   "cell_type": "code",
   "execution_count": null,
   "metadata": {},
   "outputs": [],
   "source": [
    "arr = [1, 2, 3, 4]\n",
    "\n",
    "print(arr)\n",
    "\n",
    "arr.append(7)\n",
    "\n",
    "print(arr)\n",
    "\n",
    "arr.pop(4)\n",
    "\n",
    "print(arr)"
   ]
  },
  {
   "cell_type": "markdown",
   "metadata": {},
   "source": [
    "## Functions\n",
    "In Python, functions are blocks of reusable code that perform a specific task. Key characteristics include:\n",
    "\n",
    "- Defined using **def** keyword\n",
    "- Can take parameters/arguments or no parameters/arguments\n",
    "- Return values using return statement\n",
    "\n",
    "Use Case: if you find yourself repeatedly writing the same lines of code at many different points in your notebook, then it might be helpful to put the repeatedly used lines of code inside of a function and call the function instead. (more time efficient and allows for cleaner code)"
   ]
  },
  {
   "cell_type": "code",
   "execution_count": null,
   "metadata": {},
   "outputs": [],
   "source": [
    "import random\n",
    "\n",
    "def greet(name):\n",
    "    return f\"Hello, {name}!\"\n",
    "\n",
    "def printRandomNum():\n",
    "    random_number = random.randint(1, 10)\n",
    "    print(random_number)"
   ]
  },
  {
   "cell_type": "code",
   "execution_count": null,
   "metadata": {},
   "outputs": [],
   "source": [
    "result = greet(\"Python\")\n",
    "print(result)"
   ]
  },
  {
   "cell_type": "code",
   "execution_count": null,
   "metadata": {},
   "outputs": [],
   "source": [
    "printRandomNum()"
   ]
  },
  {
   "cell_type": "code",
   "execution_count": null,
   "metadata": {},
   "outputs": [],
   "source": [
    "def f(x, y):\n",
    "    z = x * y\n",
    "    return z\n",
    "\n",
    "f(2, 3)"
   ]
  },
  {
   "cell_type": "markdown",
   "metadata": {},
   "source": [
    "**HINT**: An easy way to tell if a name is accessing a variable or a function is to see if \"()\" paranthesis follow the name.\n",
    "\n",
    "- x() is calling a function named x\n",
    "- x is accessing a variable named x"
   ]
  },
  {
   "cell_type": "markdown",
   "metadata": {},
   "source": [
    "## Objects in Python\n",
    "\n",
    "In Python, objects are fundamental units that represent data and behavior.\n",
    "\n",
    "Objects have:\n",
    "- State (attributes/data)\n",
    "- Behavior (methods)\n",
    "\n",
    "Tips:\n",
    "- Created from classes i.e an object is an instance of a class.\n",
    "- It is helpful to think of objects as a custom defined type that contains variables and methods.\n",
    "- You can access the variables and methods that are contained within an object using the '.' operator\n",
    "- You can create objects to define many arbritrary things, in a way you can interact with them through code.\n",
    "\n",
    "What are the variables and methods that make up the Table object?"
   ]
  },
  {
   "cell_type": "code",
   "execution_count": null,
   "metadata": {},
   "outputs": [],
   "source": [
    "class Dog:\n",
    "    def __init__(self):\n",
    "        self.name = \"Alfred\"\n",
    "        self.age = 7\n",
    "    \n",
    "    def bark(self):  # method\n",
    "        return f\"{self.name} says Woof!\"\n",
    "\n",
    "my_dog = Dog()\n",
    "my_dog.name = \"Sam\"\n",
    "print(my_dog.bark())"
   ]
  },
  {
   "cell_type": "markdown",
   "metadata": {
    "id": "3HsZnyYDrtrC"
   },
   "source": [
    "# Iterators"
   ]
  },
  {
   "cell_type": "markdown",
   "metadata": {
    "id": "T0-YIxNHahaB"
   },
   "source": [
    "For Loop Logic\n",
    "\n",
    "BEFORE THE FIRST LOOP\n",
    "1. Assign start to the variable i\n",
    "2. Check if i is less than end\n",
    "    1. If TRUE, it will go to LOOP\n",
    "    2. Else, it will go to STOP\n",
    "\n",
    "LOOP\n",
    "1. Run all instructions within the body of the for loop\n",
    "2. it will add step to i\n",
    "3. Check if i is less than end\n",
    "    1. If TRUE, it will go back to start of LOOP\n",
    "    2. Else, it will go to STOP\n",
    "\n",
    "STOP\n",
    "1. Code execution will continue at the instructions after and outside the for loop"
   ]
  },
  {
   "cell_type": "code",
   "execution_count": null,
   "metadata": {},
   "outputs": [],
   "source": [
    "range(0, 5)"
   ]
  },
  {
   "cell_type": "code",
   "execution_count": null,
   "metadata": {
    "id": "GrFB_N4CrtYp"
   },
   "outputs": [],
   "source": [
    "start = 0 #inclusive\n",
    "end = 3 #exclusive\n",
    "step = 1\n",
    "\n",
    "for i in range(start, end, step):\n",
    "  print(i)"
   ]
  },
  {
   "cell_type": "code",
   "execution_count": null,
   "metadata": {
    "colab": {
     "base_uri": "https://localhost:8080/"
    },
    "id": "nwVP492cr2Z9",
    "outputId": "dcf03577-7e4a-4022-aa6c-bcdbd53eb759"
   },
   "outputs": [],
   "source": [
    "#ALL THESE FOR LOOPS ARE LOGICALLY THE SAME\n",
    "for i in range(0, 5, 1):\n",
    "  print(i)\n",
    "print()\n",
    "\n",
    "for i in range(0, 5):\n",
    "  print(i)\n",
    "print()\n",
    "\n",
    "for i in range(5):\n",
    "  print(i)\n",
    "print()"
   ]
  },
  {
   "cell_type": "code",
   "execution_count": null,
   "metadata": {
    "colab": {
     "base_uri": "https://localhost:8080/"
    },
    "id": "GQdk09I2sVvx",
    "outputId": "55b35fa6-30ea-46d8-ca98-23a7ce0b6d16"
   },
   "outputs": [],
   "source": [
    "#ENHANCED FOR LOOPS: Useful for iterating over a list of elements\n",
    "arr = ['antonis', 2, 3, 4, 5]\n",
    "\n",
    "for me in arr:\n",
    "  print(me)"
   ]
  },
  {
   "cell_type": "code",
   "execution_count": null,
   "metadata": {
    "colab": {
     "base_uri": "https://localhost:8080/"
    },
    "id": "Nai5_Vsesgum",
    "outputId": "9f783533-12b1-4003-e8f3-6cd69fdce780"
   },
   "outputs": [],
   "source": [
    "#ENHANCED FOR LOOPS with np.arange\n",
    "import numpy as np\n",
    "\n",
    "start = 1\n",
    "end = 10\n",
    "step = 2\n",
    "\n",
    "arr = np.arange(start, end, step)\n",
    "arr"
   ]
  },
  {
   "cell_type": "code",
   "execution_count": null,
   "metadata": {},
   "outputs": [],
   "source": [
    "for b in arr:\n",
    "    print(b)"
   ]
  },
  {
   "cell_type": "code",
   "execution_count": null,
   "metadata": {
    "colab": {
     "base_uri": "https://localhost:8080/"
    },
    "id": "RYxU4btuunj_",
    "outputId": "27a8c655-99f3-4a68-bb1f-10af4a40f596"
   },
   "outputs": [],
   "source": [
    "for i in np.arange(start, end, step):\n",
    "  print(i)"
   ]
  },
  {
   "cell_type": "code",
   "execution_count": null,
   "metadata": {
    "id": "IXxOcuJgvcH-"
   },
   "outputs": [],
   "source": [
    "#SAME AS\n",
    "for i in range(start, end, step):\n",
    "  print(i)"
   ]
  },
  {
   "cell_type": "markdown",
   "metadata": {},
   "source": [
    "Make sure to understand why the previous three for loops all have the same output, despite a seemingly different header."
   ]
  },
  {
   "cell_type": "markdown",
   "metadata": {
    "id": "7eyFI94Ys5Wm"
   },
   "source": [
    "# Conditionals"
   ]
  },
  {
   "cell_type": "markdown",
   "metadata": {
    "id": "Wd7m4C-7tDwR"
   },
   "source": [
    "An if statement decided what instructions to run, based on the TRUE or FALSE result of some boolean expression.\n",
    "\n",
    "Boolean expressions are made up of logical operators: ==, >, <, !=, and, or"
   ]
  },
  {
   "cell_type": "code",
   "execution_count": null,
   "metadata": {
    "colab": {
     "base_uri": "https://localhost:8080/"
    },
    "id": "lyiIn8i_s8Jm",
    "outputId": "d2851649-8e28-496d-b3b8-796cdf278248"
   },
   "outputs": [],
   "source": [
    "num = 50\n",
    "\n",
    "\"\"\"\n",
    "if\n",
    "else\n",
    "elif\n",
    "\"\"\"\n",
    "\n",
    "if num > 100:\n",
    "  print(\"greater\")\n",
    "else:\n",
    "  print(\"not greater\")"
   ]
  },
  {
   "cell_type": "code",
   "execution_count": null,
   "metadata": {
    "colab": {
     "base_uri": "https://localhost:8080/"
    },
    "id": "kO6mwmBetiVq",
    "outputId": "c3b12c85-2409-4275-87c6-71b2d0014007"
   },
   "outputs": [],
   "source": [
    "#MULTIPLE IFS\n",
    "num = 50\n",
    "\n",
    "if num > 100:\n",
    "  print(\"greater\")\n",
    "if num == 50:\n",
    "  print(\"equal\")\n",
    "else:\n",
    "  print(\"not greater\")"
   ]
  },
  {
   "cell_type": "code",
   "execution_count": null,
   "metadata": {
    "id": "T7yJJl0PtoPY"
   },
   "outputs": [],
   "source": [
    "#ELIF STATEMENTS\n",
    "num = 50\n",
    "\n",
    "if num > 100:\n",
    "  print(\"greater\")\n",
    "elif num == 50:\n",
    "  print(\"equal\")\n",
    "else:\n",
    "  print(\"not greater\")"
   ]
  },
  {
   "cell_type": "markdown",
   "metadata": {
    "id": "gwcxF-vUtwNi"
   },
   "source": [
    "# Combining Conditionals and Iterators\n",
    "Find the *location/index* of the element in numbers that equals target."
   ]
  },
  {
   "cell_type": "code",
   "execution_count": null,
   "metadata": {},
   "outputs": [],
   "source": [
    "numbers =[1, 2, 3]\n",
    "target = 2\n",
    "\n",
    "# if numbers[0] == 2:\n",
    "#     print(\"equal\")\n",
    "# if numbers[1] == 2:\n",
    "#     print(\"equal\")\n",
    "# if numbers[2] == 2:\n",
    "#     print(\"equal\")\n"
   ]
  },
  {
   "cell_type": "markdown",
   "metadata": {},
   "source": [
    "Separate and collect all even and odd integers that lie in the following range [30, 100)."
   ]
  },
  {
   "cell_type": "code",
   "execution_count": null,
   "metadata": {
    "colab": {
     "base_uri": "https://localhost:8080/"
    },
    "id": "zZRzboHFuR5D",
    "outputId": "da869f8a-67da-4e1a-8fc6-c497927945f7"
   },
   "outputs": [],
   "source": [
    "even = []\n",
    "odd = []\n",
    "\n",
    "'''\n",
    "even_integer % 2 -> 0\n",
    "odd_integer % 2 -> 1\n",
    "'''\n",
    "\n",
    "\n",
    "print(even)\n",
    "print(odd)"
   ]
  },
  {
   "cell_type": "markdown",
   "metadata": {},
   "source": [
    "## Connecting to University Rankings Table"
   ]
  },
  {
   "cell_type": "code",
   "execution_count": null,
   "metadata": {},
   "outputs": [],
   "source": [
    "%load_ext jupyter_ai_magics\n",
    "import os\n",
    "import json \n",
    "\n",
    "from datascience import *\n",
    "import numpy as np\n",
    "\n",
    "universities = Table.read_table('data/world_university_rankings.csv')"
   ]
  },
  {
   "cell_type": "code",
   "execution_count": null,
   "metadata": {},
   "outputs": [],
   "source": [
    "universities.show(5)"
   ]
  },
  {
   "cell_type": "markdown",
   "metadata": {},
   "source": [
    "Q3: Create a function that categorizes universities based on their research score: 'Excellent' for scores 90 and above, 'Good' for scores between 80 and 90, and 'Average' for scores below 80."
   ]
  },
  {
   "cell_type": "code",
   "execution_count": null,
   "metadata": {},
   "outputs": [],
   "source": [
    "research_scores = universities.column(\"Overall scores\")\n",
    "research_scores[0:10]"
   ]
  },
  {
   "cell_type": "code",
   "execution_count": null,
   "metadata": {},
   "outputs": [],
   "source": [
    "excellent = []\n",
    "good = []\n",
    "average = []\n",
    "\n",
    "'''\n",
    "Define your function and call your function here. Function should traverse through the research scores, and add each research score to the \n",
    "correct array.\n",
    "'''\n",
    "\n",
    "print(excellent)\n",
    "print(good)\n",
    "print(average)"
   ]
  }
 ],
 "metadata": {
  "colab": {
   "provenance": []
  },
  "kernelspec": {
   "display_name": "Python 3 (ipykernel)",
   "language": "python",
   "name": "python3"
  },
  "language_info": {
   "codemirror_mode": {
    "name": "ipython",
    "version": 3
   },
   "file_extension": ".py",
   "mimetype": "text/x-python",
   "name": "python",
   "nbconvert_exporter": "python",
   "pygments_lexer": "ipython3",
   "version": "3.12.8"
  }
 },
 "nbformat": 4,
 "nbformat_minor": 4
}
