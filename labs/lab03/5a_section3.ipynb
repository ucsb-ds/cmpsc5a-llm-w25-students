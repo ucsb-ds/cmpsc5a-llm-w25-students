{
  "cells": [
    {
      "cell_type": "markdown",
      "metadata": {
        "id": "3HsZnyYDrtrC"
      },
      "source": [
        "# Iterators"
      ]
    },
    {
      "cell_type": "markdown",
      "metadata": {
        "id": "T0-YIxNHahaB"
      },
      "source": [
        "For Loop Logic\n",
        "\n",
        "BEFORE THE FIRST LOOP\n",
        "1. Assign start to the variable i\n",
        "2. Check if i is less than end\n",
        "  i. If TRUE, it will go to LOOP\n",
        "  ii. Else, it will go to STOP\n",
        "\n",
        "LOOP\n",
        "1. Run all instructions within the body of the for loop\n",
        "2. it will add step to i\n",
        "3. Check if i is less than end\n",
        "  i) If TRUE, it will go back to start of LOOP\n",
        "  ii) Else, it will go to STOP\n",
        "\n",
        "STOP\n",
        "1. Code execution will continue at the instructions after and outside the for loop"
      ]
    },
    {
      "cell_type": "code",
      "execution_count": 1,
      "metadata": {},
      "outputs": [
        {
          "data": {
            "text/plain": [
              "range(0, 5)"
            ]
          },
          "execution_count": 1,
          "metadata": {},
          "output_type": "execute_result"
        }
      ],
      "source": [
        "range(0, 5)"
      ]
    },
    {
      "cell_type": "code",
      "execution_count": 21,
      "metadata": {
        "id": "GrFB_N4CrtYp"
      },
      "outputs": [
        {
          "name": "stdout",
          "output_type": "stream",
          "text": [
            "antonis\n",
            "2\n",
            "3\n",
            "4\n",
            "5\n"
          ]
        }
      ],
      "source": [
        "start = 0 #inclusive\n",
        "end = 10 #exclusive\n",
        "step = 1\n",
        "\n",
        "for i in ['antonis', 2, 3, 4, 5]:\n",
        "  print(i)"
      ]
    },
    {
      "cell_type": "code",
      "execution_count": 3,
      "metadata": {
        "colab": {
          "base_uri": "https://localhost:8080/"
        },
        "id": "nwVP492cr2Z9",
        "outputId": "dcf03577-7e4a-4022-aa6c-bcdbd53eb759"
      },
      "outputs": [
        {
          "name": "stdout",
          "output_type": "stream",
          "text": [
            "0\n",
            "1\n",
            "2\n",
            "3\n",
            "4\n",
            "0\n",
            "1\n",
            "2\n",
            "3\n",
            "4\n",
            "0\n",
            "1\n",
            "2\n",
            "3\n",
            "4\n"
          ]
        }
      ],
      "source": [
        "#ALL THESE FOR LOOPS ARE LOGICALLY THE SAME\n",
        "for i in range(0, 5, 1):\n",
        "  print(i)\n",
        "\n",
        "for i in range(0, 5):\n",
        "  print(i)\n",
        "\n",
        "for i in range(5):\n",
        "  print(i)\n"
      ]
    },
    {
      "cell_type": "code",
      "execution_count": 7,
      "metadata": {
        "colab": {
          "base_uri": "https://localhost:8080/"
        },
        "id": "GQdk09I2sVvx",
        "outputId": "55b35fa6-30ea-46d8-ca98-23a7ce0b6d16"
      },
      "outputs": [
        {
          "name": "stdout",
          "output_type": "stream",
          "text": [
            "antonis\n",
            "2\n",
            "3\n",
            "4\n",
            "5\n"
          ]
        }
      ],
      "source": [
        "#ENHANCED FOR LOOPS\n",
        "arr = ['antonis', 2, 3, 4, 5]\n",
        "\n",
        "for me in arr:\n",
        "  print(me)"
      ]
    },
    {
      "cell_type": "code",
      "execution_count": 9,
      "metadata": {
        "colab": {
          "base_uri": "https://localhost:8080/"
        },
        "id": "Nai5_Vsesgum",
        "outputId": "9f783533-12b1-4003-e8f3-6cd69fdce780"
      },
      "outputs": [
        {
          "data": {
            "text/plain": [
              "array([1, 3, 5, 7, 9])"
            ]
          },
          "execution_count": 9,
          "metadata": {},
          "output_type": "execute_result"
        }
      ],
      "source": [
        "#ENHANCED FOR LOOPS with np.arange\n",
        "import numpy as np\n",
        "\n",
        "start = 1\n",
        "end = 10\n",
        "step = 2\n",
        "\n",
        "arr = np.arange(start, end, step)\n",
        "arr"
      ]
    },
    {
      "cell_type": "code",
      "execution_count": 23,
      "metadata": {},
      "outputs": [
        {
          "name": "stdout",
          "output_type": "stream",
          "text": [
            "1\n",
            "3\n",
            "5\n",
            "7\n",
            "9\n"
          ]
        }
      ],
      "source": [
        "for b in arr:\n",
        "    print(b)"
      ]
    },
    {
      "cell_type": "code",
      "execution_count": 10,
      "metadata": {
        "colab": {
          "base_uri": "https://localhost:8080/"
        },
        "id": "RYxU4btuunj_",
        "outputId": "27a8c655-99f3-4a68-bb1f-10af4a40f596"
      },
      "outputs": [
        {
          "name": "stdout",
          "output_type": "stream",
          "text": [
            "1\n",
            "3\n",
            "5\n",
            "7\n",
            "9\n"
          ]
        }
      ],
      "source": [
        "for elem in np.arange(start, end, step):\n",
        "  print(elem)"
      ]
    },
    {
      "cell_type": "code",
      "execution_count": 11,
      "metadata": {
        "id": "IXxOcuJgvcH-"
      },
      "outputs": [
        {
          "name": "stdout",
          "output_type": "stream",
          "text": [
            "1\n",
            "5\n",
            "9\n"
          ]
        }
      ],
      "source": [
        "#SAME AS\n",
        "for i in range(0, len(arr), 2):\n",
        "  elem = arr[i]\n",
        "  print(elem)"
      ]
    },
    {
      "cell_type": "markdown",
      "metadata": {
        "id": "7eyFI94Ys5Wm"
      },
      "source": [
        "# Conditionals"
      ]
    },
    {
      "cell_type": "markdown",
      "metadata": {
        "id": "Wd7m4C-7tDwR"
      },
      "source": [
        "An if statement decided what instructions to run, based on the TRUE or FALSE result of some boolean expression.\n",
        "\n",
        "Boolean expressions are made up of logical operators: ==, >, <, !=, and, or"
      ]
    },
    {
      "cell_type": "code",
      "execution_count": 12,
      "metadata": {
        "colab": {
          "base_uri": "https://localhost:8080/"
        },
        "id": "lyiIn8i_s8Jm",
        "outputId": "d2851649-8e28-496d-b3b8-796cdf278248"
      },
      "outputs": [
        {
          "name": "stdout",
          "output_type": "stream",
          "text": [
            "not greater\n"
          ]
        }
      ],
      "source": [
        "num = 50\n",
        "\n",
        "\"\"\"\n",
        "if\n",
        "else\n",
        "elif\n",
        "\"\"\"\n",
        "\n",
        "if num > 100:\n",
        "  print(\"greater\")\n",
        "else:\n",
        "  print(\"not greater\")"
      ]
    },
    {
      "cell_type": "code",
      "execution_count": 24,
      "metadata": {
        "colab": {
          "base_uri": "https://localhost:8080/"
        },
        "id": "kO6mwmBetiVq",
        "outputId": "c3b12c85-2409-4275-87c6-71b2d0014007"
      },
      "outputs": [
        {
          "name": "stdout",
          "output_type": "stream",
          "text": [
            "equal\n"
          ]
        }
      ],
      "source": [
        "#MULTIPLE IFS\n",
        "num = 50\n",
        "\n",
        "if num > 100:\n",
        "  print(\"greater\")\n",
        "if num == 50:\n",
        "  print(\"equal\")\n",
        "else:\n",
        "  print(\"not greater\")"
      ]
    },
    {
      "cell_type": "code",
      "execution_count": 25,
      "metadata": {
        "id": "T7yJJl0PtoPY"
      },
      "outputs": [
        {
          "name": "stdout",
          "output_type": "stream",
          "text": [
            "equal\n"
          ]
        }
      ],
      "source": [
        "#ELIF STATEMENTS\n",
        "num = 50\n",
        "\n",
        "if num > 100:\n",
        "  print(\"greater\")\n",
        "elif num == 50:\n",
        "  print(\"equal\")\n",
        "else:\n",
        "  print(\"not greater\")"
      ]
    },
    {
      "cell_type": "markdown",
      "metadata": {
        "id": "gwcxF-vUtwNi"
      },
      "source": [
        "# Combining Conditionals and Iterators\n",
        "Store all even numbers and odd numbers between 30 and 100, in seperate arrays. Then, print the arrays."
      ]
    },
    {
      "cell_type": "code",
      "execution_count": 26,
      "metadata": {},
      "outputs": [
        {
          "name": "stdout",
          "output_type": "stream",
          "text": [
            "equal\n"
          ]
        }
      ],
      "source": [
        "numbers =[1, 2, 3]\n",
        "\n",
        "# if numbers[0] == 2:\n",
        "#     print(\"equal\")\n",
        "# if numbers[1] == 2:\n",
        "#     print(\"equal\")\n",
        "# if numbers[2] == 2:\n",
        "#     print(\"equal\")\n",
        "\n",
        "for i in numbers:\n",
        "    if i == 2:\n",
        "        print(\"equal\")"
      ]
    },
    {
      "cell_type": "code",
      "execution_count": 27,
      "metadata": {
        "colab": {
          "base_uri": "https://localhost:8080/"
        },
        "id": "zZRzboHFuR5D",
        "outputId": "da869f8a-67da-4e1a-8fc6-c497927945f7"
      },
      "outputs": [
        {
          "name": "stdout",
          "output_type": "stream",
          "text": [
            "[30, 32, 34, 36, 38, 40, 42, 44, 46, 48, 50, 52, 54, 56, 58, 60, 62, 64, 66, 68, 70, 72, 74, 76, 78, 80, 82, 84, 86, 88, 90, 92, 94, 96, 98]\n",
            "[31, 33, 35, 37, 39, 41, 43, 45, 47, 49, 51, 53, 55, 57, 59, 61, 63, 65, 67, 69, 71, 73, 75, 77, 79, 81, 83, 85, 87, 89, 91, 93, 95, 97, 99]\n"
          ]
        }
      ],
      "source": [
        "even = []\n",
        "odd = []\n",
        "\n",
        "for i in range(30, 100, 1):\n",
        "  if i % 2 == 0:\n",
        "    #this is an even number\n",
        "    even.append(i)\n",
        "  elif i % 2 == 1:\n",
        "    #this is an odd number\n",
        "    odd.append(i)\n",
        "  else:\n",
        "    print('impossible')\n",
        "\n",
        "print(even)\n",
        "print(odd)"
      ]
    },
    {
      "cell_type": "markdown",
      "metadata": {
        "id": "g9TdHIqBv6Ex"
      },
      "source": [
        "# Functions\n",
        "Once a function is defined, you can use it throughout your notebook"
      ]
    },
    {
      "cell_type": "code",
      "execution_count": null,
      "metadata": {},
      "outputs": [],
      "source": [
        "f(x) -> y"
      ]
    },
    {
      "cell_type": "code",
      "execution_count": 28,
      "metadata": {},
      "outputs": [
        {
          "data": {
            "text/plain": [
              "6"
            ]
          },
          "execution_count": 28,
          "metadata": {},
          "output_type": "execute_result"
        }
      ],
      "source": [
        "def f(x, y):\n",
        "    z = x * y\n",
        "    return z\n",
        "\n",
        "f(2, 3)"
      ]
    },
    {
      "cell_type": "code",
      "execution_count": 29,
      "metadata": {},
      "outputs": [
        {
          "data": {
            "text/plain": [
              "4"
            ]
          },
          "execution_count": 29,
          "metadata": {},
          "output_type": "execute_result"
        }
      ],
      "source": [
        "def multiply_by_two(x):\n",
        "    y = x * 2\n",
        "    return y\n",
        "\n",
        "multiply_by_two(2)"
      ]
    },
    {
      "cell_type": "code",
      "execution_count": 32,
      "metadata": {
        "id": "UYJkoVrxwBEn"
      },
      "outputs": [
        {
          "data": {
            "text/plain": [
              "(4, 12, 16)"
            ]
          },
          "execution_count": 32,
          "metadata": {},
          "output_type": "execute_result"
        }
      ],
      "source": [
        "def add(x, y):\n",
        "  z = x + y\n",
        "  return x, y, z\n",
        "\n",
        "add(4, 12)"
      ]
    },
    {
      "cell_type": "code",
      "execution_count": null,
      "metadata": {
        "id": "MeeQmN7iwFOn"
      },
      "outputs": [],
      "source": [
        "add(4, 12)"
      ]
    },
    {
      "cell_type": "code",
      "execution_count": null,
      "metadata": {
        "id": "gWtUjz1zwHIZ"
      },
      "outputs": [],
      "source": []
    }
  ],
  "metadata": {
    "colab": {
      "provenance": []
    },
    "kernelspec": {
      "display_name": "Python 3",
      "name": "python3"
    },
    "language_info": {
      "codemirror_mode": {
        "name": "ipython",
        "version": 3
      },
      "file_extension": ".py",
      "mimetype": "text/x-python",
      "name": "python",
      "nbconvert_exporter": "python",
      "pygments_lexer": "ipython3",
      "version": "3.12.7"
    }
  },
  "nbformat": 4,
  "nbformat_minor": 0
}
