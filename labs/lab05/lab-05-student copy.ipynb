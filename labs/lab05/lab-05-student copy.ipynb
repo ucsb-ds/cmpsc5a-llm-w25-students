{
 "cells": [
  {
   "cell_type": "code",
   "execution_count": 6,
   "id": "4c5bd2ae-fbf8-4412-8f7a-5d24fde4a83a",
   "metadata": {},
   "outputs": [
    {
     "name": "stdout",
     "output_type": "stream",
     "text": [
      "The jupyter_ai_magics extension is already loaded. To reload it, use:\n",
      "  %reload_ext jupyter_ai_magics\n"
     ]
    }
   ],
   "source": [
    "%load_ext jupyter_ai_magics"
   ]
  },
  {
   "cell_type": "code",
   "execution_count": 7,
   "id": "cca9e2d3-14ef-4661-ad1e-13c52f61e68e",
   "metadata": {},
   "outputs": [],
   "source": [
    "from datascience import *\n",
    "import numpy as np\n",
    "\n",
    "# needed for plotting with datascience module\n",
    "%matplotlib inline\n",
    "import matplotlib.pyplot as plots\n",
    "#plots.style.use('fivethirtyeight')\n",
    "\n",
    "from IPython.display import display, Image"
   ]
  },
  {
   "cell_type": "markdown",
   "id": "13a0542a-4609-4d9b-96de-be5e16641be8",
   "metadata": {},
   "source": [
    "# Sampling, Simulations and Probability\n",
    "\n",
    "Statistics is a fundamental discipline that plays a pivotal role in the field of data science. It provides the necessary tools and methodologies for collecting, analyzing, interpreting, and presenting data. In the era of big data, where vast amounts of information are collected and stored every second, the application of statistical principles is crucial for making informed decisions based on this data.\n",
    "\n",
    "Statistics is often considered the base of all the machine learning algorithms. A strong foundation in statistics will not just make us better data scientists, but also will make us more intuitive in real life. As you learn more about statistics and how it is utilised in Machine Learning, you will come to realise that all Machine Learning is just glorified statistics.\n",
    "\n",
    "<img src=\"data/statistics_meme.jpeg\" alt=\"Alt text\" width=\"40%\" height=\"40%\">\n",
    "\n",
    "In this notebook we will be covering the basics of sampling and simulations in statistics, which is very essential for advanced data analysis."
   ]
  },
  {
   "cell_type": "markdown",
   "id": "eaa6c7c4-10ab-45f4-ab97-4196331b537e",
   "metadata": {},
   "source": [
    "# Sampling\n",
    "\n",
    "Statistics is science of inference. So to infer a value, you can infer it from the entire population or from a fraction of the population, which is called the sample. \n",
    "\n",
    "The reason for sampling are:\n",
    "- Few cases it might be impossible to collect data on the entire population\n",
    "- Saves time and money\n",
    "\n",
    "As we might already know, sampling will not be helpful in cases like electing a representative of a country (sample of voters vote instead of entire population of the country), collecting census data of a country\n",
    "\n",
    "We will look at sample statistics as estimators of population parameters in this lab\n",
    "\n",
    "How to represent information in statistics:\n",
    "- Whenever referring to the population parameter, we refer it in Greek letters.\n",
    "- When referring to the sample estimates, we refer it in English alphabets.\n",
    "\n",
    "![image.png](data/parameters.png)"
   ]
  },
  {
   "cell_type": "markdown",
   "id": "9d7db5e4-4549-44ee-afe1-73dc07a80833",
   "metadata": {},
   "source": [
    "# Wine Quality Control\n",
    "\n",
    "Welcome to our exploration of the fascinating world of wine quality analysis! We're going to delve into a dataset from Kaggle that contains detailed information about various wines, including their chemical properties like acidity, sugar content, alcohol level, and more, as well as a quality rating given by wine experts. This dataset is not just a collection of numbers and facts; it's a doorway into understanding how different factors contribute to the taste and quality of wine.\n",
    "\n",
    "Now, you might wonder why we can't just test every bottle to ensure top quality in a wine manufacturing plant. The answer lies in practicality and efficiency. Imagine a plant producing thousands of bottles per day - testing each one would be time-consuming and costly. This is where the concept of sampling comes in. By carefully selecting a representative sample of bottles for quality testing, we can draw reliable conclusions about the overall quality of the wine production without having to test every single bottle. Sampling is a powerful tool in quality control, allowing us to maintain high standards efficiently and effectively. Through this dataset and our analysis, we'll uncover the secrets of what makes a great wine and learn how sampling helps maintain this greatness across batches."
   ]
  },
  {
   "cell_type": "code",
   "execution_count": 8,
   "id": "9656c9e8-e235-49eb-8342-f6b1b49d39fd",
   "metadata": {},
   "outputs": [
    {
     "data": {
      "text/html": [
       "<table border=\"1\" class=\"dataframe\">\n",
       "    <thead>\n",
       "        <tr>\n",
       "            <th>fixed acidity</th> <th>volatile acidity</th> <th>citric acid</th> <th>residual sugar</th> <th>chlorides</th> <th>free sulfur dioxide</th> <th>total sulfur dioxide</th> <th>density</th> <th>pH</th> <th>sulphates</th> <th>alcohol</th> <th>quality</th>\n",
       "        </tr>\n",
       "    </thead>\n",
       "    <tbody>\n",
       "        <tr>\n",
       "            <td>7.4          </td> <td>0.7             </td> <td>0          </td> <td>1.9           </td> <td>0.076    </td> <td>11                 </td> <td>34                  </td> <td>0.9978 </td> <td>3.51</td> <td>0.56     </td> <td>9.4    </td> <td>5      </td>\n",
       "        </tr>\n",
       "        <tr>\n",
       "            <td>7.8          </td> <td>0.88            </td> <td>0          </td> <td>2.6           </td> <td>0.098    </td> <td>25                 </td> <td>67                  </td> <td>0.9968 </td> <td>3.2 </td> <td>0.68     </td> <td>9.8    </td> <td>5      </td>\n",
       "        </tr>\n",
       "        <tr>\n",
       "            <td>7.8          </td> <td>0.76            </td> <td>0.04       </td> <td>2.3           </td> <td>0.092    </td> <td>15                 </td> <td>54                  </td> <td>0.997  </td> <td>3.26</td> <td>0.65     </td> <td>9.8    </td> <td>5      </td>\n",
       "        </tr>\n",
       "        <tr>\n",
       "            <td>11.2         </td> <td>0.28            </td> <td>0.56       </td> <td>1.9           </td> <td>0.075    </td> <td>17                 </td> <td>60                  </td> <td>0.998  </td> <td>3.16</td> <td>0.58     </td> <td>9.8    </td> <td>6      </td>\n",
       "        </tr>\n",
       "        <tr>\n",
       "            <td>7.4          </td> <td>0.7             </td> <td>0          </td> <td>1.9           </td> <td>0.076    </td> <td>11                 </td> <td>34                  </td> <td>0.9978 </td> <td>3.51</td> <td>0.56     </td> <td>9.4    </td> <td>5      </td>\n",
       "        </tr>\n",
       "    </tbody>\n",
       "</table>\n",
       "<p>... (1594 rows omitted)</p>"
      ],
      "text/plain": [
       "<IPython.core.display.HTML object>"
      ]
     },
     "metadata": {},
     "output_type": "display_data"
    }
   ],
   "source": [
    "wine_quality = Table().read_table(\"data/winequality-red.csv\")\n",
    "wine_quality.show(5)"
   ]
  },
  {
   "cell_type": "markdown",
   "id": "f8cfdbff-1a50-4f8a-90b8-e1b1a4f04881",
   "metadata": {},
   "source": [
    "Now as a data scientist, your workflow is the same as usual. What are some interesting insights you could gain from this data?\n",
    "\n",
    "**Q1.** Before we continue with the lab, write down three potential pieces of information we could uncover by analysing this data. Remember, the best insights are usually well hidden and require a good amount of analysis!"
   ]
  },
  {
   "cell_type": "code",
   "execution_count": null,
   "id": "5ac6b4f8-832a-49f5-8d06-d08f409914a3",
   "metadata": {},
   "outputs": [],
   "source": [
    "#SOLUTION"
   ]
  },
  {
   "cell_type": "markdown",
   "id": "52054993-be45-4dbf-8fad-b0a7f08cb248",
   "metadata": {},
   "source": [
    "### Prompt Here"
   ]
  },
  {
   "cell_type": "code",
   "execution_count": null,
   "id": "36567793-d054-44e8-885b-f25978774f93",
   "metadata": {},
   "outputs": [],
   "source": [
    "%%ai openai-chat:gpt-3.5-turbo"
   ]
  },
  {
   "cell_type": "markdown",
   "id": "72f3a312-ee36-4331-9a49-8dbea36a4dc3",
   "metadata": {},
   "source": [
    "**Q1.1** Lets quickly analyze some key columns in our dataset using sampling. Obtain a random sample of 100 wines from the dataset. What is the average quality rating of the sampled wines? Does this average differ significantly from the overall average quality rating in the full dataset?"
   ]
  },
  {
   "cell_type": "code",
   "execution_count": null,
   "id": "62ba5a81-c94d-4067-9048-cf7ec5a6568e",
   "metadata": {},
   "outputs": [],
   "source": [
    "#SOLUTION"
   ]
  },
  {
   "cell_type": "markdown",
   "id": "f16c49f9-051b-4d3a-a804-b6685ca366b5",
   "metadata": {},
   "source": [
    "### Prompt Here"
   ]
  },
  {
   "cell_type": "code",
   "execution_count": null,
   "id": "95d9ab32-5bdd-4eb1-8e3f-490ef4c37b4b",
   "metadata": {},
   "outputs": [],
   "source": [
    "%%ai openai-chat:gpt-3.5-turbo"
   ]
  },
  {
   "cell_type": "markdown",
   "id": "e9a37458-b4aa-4bb9-b51e-33de312017e5",
   "metadata": {},
   "source": [
    "### Workflow"
   ]
  },
  {
   "cell_type": "markdown",
   "id": "3e5cb68c-7642-49d6-81fa-9363cd3eb073",
   "metadata": {},
   "source": [
    "Enter Workflow Here."
   ]
  },
  {
   "cell_type": "markdown",
   "id": "07ab3a33-2e92-44d2-9d7d-8138752ac946",
   "metadata": {},
   "source": [
    "**Q1.2** Using your random sample, identify the top three chemical properties that correlate the most strongly with the wine quality. You must have visualizations supporting your conclusions"
   ]
  },
  {
   "cell_type": "code",
   "execution_count": null,
   "id": "1ac7fc82-6e02-442a-afb1-e3e5b69d94bd",
   "metadata": {},
   "outputs": [],
   "source": [
    "#SOLUTION"
   ]
  },
  {
   "cell_type": "markdown",
   "id": "f48df23d-2427-4635-9065-3060f36d0125",
   "metadata": {},
   "source": [
    "### Prompt Here"
   ]
  },
  {
   "cell_type": "code",
   "execution_count": null,
   "id": "ce707e1e-a8ee-4684-9367-b38fab3de33a",
   "metadata": {},
   "outputs": [],
   "source": [
    "%%ai openai-chat:gpt-3.5-turbo"
   ]
  },
  {
   "cell_type": "markdown",
   "id": "afc45f74-c166-495b-a937-b94a91d2c8df",
   "metadata": {},
   "source": [
    "### Workflow"
   ]
  },
  {
   "cell_type": "markdown",
   "id": "c899c7eb-13bf-4f49-b302-dc12d061ffaf",
   "metadata": {},
   "source": [
    "Enter Workflow Here."
   ]
  },
  {
   "cell_type": "markdown",
   "id": "6e1062f3-33e5-4b7f-8cbf-97a9448e11ce",
   "metadata": {},
   "source": [
    "**Q1.3** Convenience Sampling is the process of using a sampling strategy that best suits your task. The user gets to decide how they want to sample from the dataset. Pick one of the chemical properties you identified in the previous question. Now can you sample 100 wines such that you maximize the correlation between your chemical property and wine quality?"
   ]
  },
  {
   "cell_type": "code",
   "execution_count": null,
   "id": "6efc8528-b09e-42a0-ab2a-f0f227b788d9",
   "metadata": {},
   "outputs": [],
   "source": [
    "#SOLUTION"
   ]
  },
  {
   "cell_type": "markdown",
   "id": "231c8534-f823-45d0-a703-e34b0fa2ea36",
   "metadata": {},
   "source": [
    "### Prompt Here"
   ]
  },
  {
   "cell_type": "code",
   "execution_count": null,
   "id": "4b2244bf-0305-48da-822b-87f5a4729ecc",
   "metadata": {},
   "outputs": [],
   "source": [
    "%%ai openai-chat:gpt-3.5-turbo"
   ]
  },
  {
   "cell_type": "markdown",
   "id": "561db7ec-e1e8-4ac8-9d43-289772128984",
   "metadata": {},
   "source": [
    "### Workflow"
   ]
  },
  {
   "cell_type": "markdown",
   "id": "5a39c904-cb4f-4fe1-8635-33d1b7466c8a",
   "metadata": {},
   "source": [
    "Enter Workflow Here."
   ]
  },
  {
   "cell_type": "markdown",
   "id": "17adf527-318e-4909-ae74-3e9f4330f3e2",
   "metadata": {},
   "source": [
    "**Q2** Pretend you are a wine quality tester. Your job is to identify the best wines given the following information. A high quality wine can be identified by the following factors:\n",
    "\n",
    "1. High **quality** (7 or above)\n",
    "2. Low **pH** value leading to good acidity (3.26 and below)\n",
    "3. Just the right amount of total sulfur dioxide (Between 35 and 50)\n",
    "\n",
    "These three factors are going to help you identify the high quality wines in this data. We are going to see exactly how rare a good high quality red wine is using probability. We will also leverage sampling and simulation to see the law of large numbers in action."
   ]
  },
  {
   "cell_type": "markdown",
   "id": "5da09060-99d8-4397-ab0d-36c5121c2c8d",
   "metadata": {},
   "source": [
    "**Q2.1** What is the probability of getting a wine that satisfies condition 1?"
   ]
  },
  {
   "cell_type": "code",
   "execution_count": null,
   "id": "4208743a-7133-476d-b597-8d09c813002a",
   "metadata": {},
   "outputs": [],
   "source": [
    "#SOLUTION"
   ]
  },
  {
   "cell_type": "markdown",
   "id": "109828d6-e9eb-40ab-9764-8b468bcd326e",
   "metadata": {},
   "source": [
    "### Prompt Here"
   ]
  },
  {
   "cell_type": "code",
   "execution_count": null,
   "id": "7003265c-0894-4a10-825c-158e884eb61b",
   "metadata": {},
   "outputs": [],
   "source": [
    "%%ai openai-chat:gpt-4"
   ]
  },
  {
   "cell_type": "markdown",
   "id": "f36267d8-eee9-43cb-939c-f14d7feffc67",
   "metadata": {},
   "source": [
    "### Workflow"
   ]
  },
  {
   "cell_type": "markdown",
   "id": "db570f90-2706-47db-a444-dd4c71e3a7b2",
   "metadata": {},
   "source": [
    "Enter Workflow Here."
   ]
  },
  {
   "cell_type": "markdown",
   "id": "fc21a29a-4db9-4589-98f7-0fe20ede3959",
   "metadata": {},
   "source": [
    "**Q2.2** What is the probability of getting a wine that satisfies condition 1 and condition 2?"
   ]
  },
  {
   "cell_type": "code",
   "execution_count": null,
   "id": "e5ab4731-9f33-4a3f-bdb1-08449b376343",
   "metadata": {},
   "outputs": [],
   "source": [
    "#SOLUTION"
   ]
  },
  {
   "cell_type": "markdown",
   "id": "120bbe2f-9c5e-4344-907c-0a77a1b8ebf6",
   "metadata": {},
   "source": [
    "### Prompt Here"
   ]
  },
  {
   "cell_type": "code",
   "execution_count": null,
   "id": "aa7cba01-4eed-4d59-8b67-c09e08d17747",
   "metadata": {},
   "outputs": [],
   "source": [
    "%%ai openai-chat:gpt-4"
   ]
  },
  {
   "cell_type": "markdown",
   "id": "95d22c74-dc16-4564-9b67-f3dfcfcbf185",
   "metadata": {},
   "source": [
    "### Workflow"
   ]
  },
  {
   "cell_type": "markdown",
   "id": "3e1c2570-50f5-4e18-a36d-9e7ba903ae7e",
   "metadata": {},
   "source": [
    "Enter Workflow Here."
   ]
  },
  {
   "cell_type": "markdown",
   "id": "1e2fbed8-199d-4c4c-a094-97cf5bbdfc4c",
   "metadata": {},
   "source": [
    "**Q2.3** What is the probability of getting a wine that satisfies all three conditions?"
   ]
  },
  {
   "cell_type": "code",
   "execution_count": null,
   "id": "ec7e639f-6cb7-4118-895d-f686bf061764",
   "metadata": {},
   "outputs": [],
   "source": [
    "#SOLUTION"
   ]
  },
  {
   "cell_type": "markdown",
   "id": "e4c94246-95e2-426c-9579-5e220873c52b",
   "metadata": {},
   "source": [
    "### Prompt Here"
   ]
  },
  {
   "cell_type": "code",
   "execution_count": null,
   "id": "12485904-7bdb-48db-98ae-b6fe7952b473",
   "metadata": {},
   "outputs": [],
   "source": [
    "%%ai openai-chat:gpt-4"
   ]
  },
  {
   "cell_type": "markdown",
   "id": "993e12e5-f820-48af-b745-8fb8a48322fe",
   "metadata": {},
   "source": [
    "### Workflow"
   ]
  },
  {
   "cell_type": "markdown",
   "id": "08884bab-127a-4f5f-8774-c78a2b6c209e",
   "metadata": {},
   "source": [
    "Enter Workflow Here."
   ]
  },
  {
   "cell_type": "markdown",
   "id": "b59af0a0-1940-4747-9310-b03e3d45ccd9",
   "metadata": {},
   "source": [
    "**Q3** The Law of Averages states the following: \n",
    "\n",
    "If a chance experiment is repeated independently and under identical conditions, then, in the long run, the proportion of times that an event occurs gets closer and closer to the theoretical probability of the event.\n",
    "\n",
    "The law above implies that if the chance experiment is repeated a large number of times then the proportion of times that an event occurs is very likely to be close to the theoretical probability of the event."
   ]
  },
  {
   "cell_type": "markdown",
   "id": "d55d6f5b-027c-4dc3-a843-3b9f7ec1b4d8",
   "metadata": {},
   "source": [
    "**Q3.1** Lets observe the law of large numbers in action. Simulate the probability in Q2.2 by sampling 50 wines randomly from the dataset. Run the simulation 10,100,1000 and 10,000 times. Plot a histogram of the probability values you observed during each simulation process and compute the average probability from each simulation."
   ]
  },
  {
   "cell_type": "code",
   "execution_count": null,
   "id": "4cdf010c-0fb1-4582-b7b7-550799ef0c05",
   "metadata": {},
   "outputs": [],
   "source": [
    "#SOLUTION"
   ]
  },
  {
   "cell_type": "markdown",
   "id": "100263d2-2afc-483b-92f1-0c0b03d458e9",
   "metadata": {},
   "source": [
    "### Prompt Here"
   ]
  },
  {
   "cell_type": "code",
   "execution_count": null,
   "id": "06834b26-7506-4f33-834a-6e690a2b9b7d",
   "metadata": {},
   "outputs": [],
   "source": [
    "%%ai openai-chat:gpt-4"
   ]
  },
  {
   "cell_type": "markdown",
   "id": "ea2b9300-15ef-4102-8203-341a4fd5c31e",
   "metadata": {},
   "source": [
    "### Workflow"
   ]
  },
  {
   "cell_type": "markdown",
   "id": "67b047a9-316c-4ac4-b7ea-f0375a77d97d",
   "metadata": {},
   "source": [
    "Enter Workflow Here."
   ]
  },
  {
   "cell_type": "markdown",
   "id": "294d26f3-9b49-4c8d-9c03-81d8586af54c",
   "metadata": {},
   "source": [
    "**Q3.2** How does the value compare to the actual probability computed in Q2.2? Talk about the trend observed as you increased the number of simulations. Feel free to run it more times with different simulation values if you are having a tough time noticing the trend."
   ]
  },
  {
   "cell_type": "code",
   "execution_count": null,
   "id": "f07111ad-55e0-4121-9b1d-813a680ea564",
   "metadata": {},
   "outputs": [],
   "source": [
    "#SOLUTION"
   ]
  },
  {
   "cell_type": "markdown",
   "id": "30f319cc-4229-4d32-b8e8-72be00a235a2",
   "metadata": {},
   "source": [
    "### Prompt Here"
   ]
  },
  {
   "cell_type": "code",
   "execution_count": null,
   "id": "01ca09b7-2271-4996-afc5-b75f5e28234f",
   "metadata": {},
   "outputs": [],
   "source": [
    "%%ai openai-chat:gpt-4"
   ]
  },
  {
   "cell_type": "markdown",
   "id": "9104d688-b943-4772-958c-a8c2f6b75021",
   "metadata": {},
   "source": [
    "### Workflow"
   ]
  },
  {
   "cell_type": "markdown",
   "id": "02d1765e-c067-425c-99b9-e423df271a6e",
   "metadata": {},
   "source": [
    "Enter Workflow Here."
   ]
  },
  {
   "cell_type": "markdown",
   "id": "cfc8fbea-ed97-41c2-afea-d6450c5da15b",
   "metadata": {},
   "source": [
    "**Q3.3** Now lets switch it up a notch. Simulate the probability in Q2.2 again by sampling **500** wines randomly from the dataset. Run the simulation 10, 100, 1000 and 10000 times. Plot a histogram of the probability values you observed during each simulation process and compute the average probability from each simulation."
   ]
  },
  {
   "cell_type": "code",
   "execution_count": 9,
   "id": "cdc8c9f9-adf4-4f79-9203-22db6eba82a2",
   "metadata": {},
   "outputs": [],
   "source": [
    "#SOLUTION"
   ]
  },
  {
   "cell_type": "markdown",
   "id": "713a9bda-589d-4553-a636-6bde6b49051c",
   "metadata": {},
   "source": [
    "### Prompt Here"
   ]
  },
  {
   "cell_type": "code",
   "execution_count": null,
   "id": "501f3894-2669-4890-9dd7-b0b1626cefa0",
   "metadata": {},
   "outputs": [],
   "source": [
    "%%ai openai-chat:gpt-4"
   ]
  },
  {
   "cell_type": "markdown",
   "id": "3e98c169-4ade-40fb-bd8d-b82f9922f1a1",
   "metadata": {},
   "source": [
    "### Workflow"
   ]
  },
  {
   "cell_type": "markdown",
   "id": "26a39a6e-95bd-422c-b5ec-010c37dac06b",
   "metadata": {},
   "source": [
    "Enter Workflow Here."
   ]
  },
  {
   "cell_type": "markdown",
   "id": "1102fd15-cb39-4569-b341-7aa4f5ae6cc9",
   "metadata": {},
   "source": [
    "**Q3.4** Now what changes do you observe? Does the simulated probability converge to the actual probability faster? Slower? Is it more or less accurate?"
   ]
  },
  {
   "cell_type": "code",
   "execution_count": null,
   "id": "a647fb37-a35b-4674-ba44-7a8464078c29",
   "metadata": {},
   "outputs": [],
   "source": [
    "#SOLUTION"
   ]
  },
  {
   "cell_type": "markdown",
   "id": "2b11f590-cc9a-4e48-b900-31ceec4dec0b",
   "metadata": {},
   "source": [
    "### Prompt Here"
   ]
  },
  {
   "cell_type": "code",
   "execution_count": null,
   "id": "6b3cabc2-6442-4677-89be-b92c31ba0dc9",
   "metadata": {},
   "outputs": [],
   "source": [
    "%%ai openai-chat:gpt-4"
   ]
  },
  {
   "cell_type": "code",
   "execution_count": null,
   "id": "59aad223-401f-40b9-8110-03e6ffe0b136",
   "metadata": {},
   "outputs": [],
   "source": []
  },
  {
   "cell_type": "code",
   "execution_count": null,
   "id": "f439bd40-1234-4a52-8095-578e9953f380",
   "metadata": {},
   "outputs": [],
   "source": []
  },
  {
   "cell_type": "markdown",
   "id": "8445a09d-c163-48bd-986f-6a51b6220a55",
   "metadata": {},
   "source": [
    "Congratulations, you're done with Lab 5!  Be sure to \n",
    "- **Keep all your prompts** . \n",
    "- **Save and Checkpoint** from the `File` menu.\n",
    "- **Ensure every cell has been run (has a number Ex:[34] beside the cell)**.\n",
    "- Submit to Gradescope!"
   ]
  }
 ],
 "metadata": {
  "kernelspec": {
   "display_name": "Python 3 (ipykernel)",
   "language": "python",
   "name": "python3"
  },
  "language_info": {
   "codemirror_mode": {
    "name": "ipython",
    "version": 3
   },
   "file_extension": ".py",
   "mimetype": "text/x-python",
   "name": "python",
   "nbconvert_exporter": "python",
   "pygments_lexer": "ipython3",
   "version": "3.11.5"
  }
 },
 "nbformat": 4,
 "nbformat_minor": 5
}
