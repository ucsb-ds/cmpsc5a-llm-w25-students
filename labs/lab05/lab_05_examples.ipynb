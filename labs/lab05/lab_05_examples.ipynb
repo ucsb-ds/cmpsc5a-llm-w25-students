{
  "cells": [
    {
      "cell_type": "markdown",
      "id": "ab5b2597-20fa-4474-beab-7b1738f0ed87",
      "metadata": {
        "id": "ab5b2597-20fa-4474-beab-7b1738f0ed87"
      },
      "source": [
        "# Lab05 examples"
      ]
    },
    {
      "cell_type": "markdown",
      "id": "ce2360ac-ffb0-43e6-8773-6deffc8b9ff8",
      "metadata": {
        "id": "ce2360ac-ffb0-43e6-8773-6deffc8b9ff8"
      },
      "source": [
        "### table.sample()"
      ]
    },
    {
      "cell_type": "code",
      "execution_count": 1,
      "id": "466c6e8d-5f55-442f-bce0-174cd39e3d60",
      "metadata": {
        "id": "466c6e8d-5f55-442f-bce0-174cd39e3d60"
      },
      "outputs": [],
      "source": [
        "from datascience import *\n",
        "import numpy as np\n",
        "\n",
        "# needed for plotting with datascience module\n",
        "%matplotlib inline\n",
        "import matplotlib.pyplot as plots\n",
        "#plots.style.use('fivethirtyeight')\n",
        "\n",
        "from IPython.display import display, Image"
      ]
    },
    {
      "cell_type": "code",
      "execution_count": 2,
      "id": "f76e746f-07fd-4537-b328-ec1eb4c09f49",
      "metadata": {
        "colab": {
          "base_uri": "https://localhost:8080/",
          "height": 392
        },
        "id": "f76e746f-07fd-4537-b328-ec1eb4c09f49",
        "outputId": "1450f1cc-a1ff-4c52-bef9-b22fbc8e0ce3"
      },
      "outputs": [
        {
          "output_type": "execute_result",
          "data": {
            "text/plain": [
              "col1 | col2\n",
              "0    | 100\n",
              "1    | 101\n",
              "2    | 102\n",
              "3    | 103\n",
              "4    | 104\n",
              "5    | 105\n",
              "6    | 106\n",
              "7    | 107\n",
              "8    | 108\n",
              "9    | 109\n",
              "... (90 rows omitted)"
            ],
            "text/html": [
              "<table border=\"1\" class=\"dataframe\">\n",
              "    <thead>\n",
              "        <tr>\n",
              "            <th>col1</th> <th>col2</th>\n",
              "        </tr>\n",
              "    </thead>\n",
              "    <tbody>\n",
              "        <tr>\n",
              "            <td>0   </td> <td>100 </td>\n",
              "        </tr>\n",
              "        <tr>\n",
              "            <td>1   </td> <td>101 </td>\n",
              "        </tr>\n",
              "        <tr>\n",
              "            <td>2   </td> <td>102 </td>\n",
              "        </tr>\n",
              "        <tr>\n",
              "            <td>3   </td> <td>103 </td>\n",
              "        </tr>\n",
              "        <tr>\n",
              "            <td>4   </td> <td>104 </td>\n",
              "        </tr>\n",
              "        <tr>\n",
              "            <td>5   </td> <td>105 </td>\n",
              "        </tr>\n",
              "        <tr>\n",
              "            <td>6   </td> <td>106 </td>\n",
              "        </tr>\n",
              "        <tr>\n",
              "            <td>7   </td> <td>107 </td>\n",
              "        </tr>\n",
              "        <tr>\n",
              "            <td>8   </td> <td>108 </td>\n",
              "        </tr>\n",
              "        <tr>\n",
              "            <td>9   </td> <td>109 </td>\n",
              "        </tr>\n",
              "    </tbody>\n",
              "</table>\n",
              "<p>... (90 rows omitted)</p>"
            ]
          },
          "metadata": {},
          "execution_count": 2
        }
      ],
      "source": [
        "example_table = Table().with_columns(\"col1\", np.arange(100), \"col2\", np.arange(100, 200))\n",
        "example_table"
      ]
    },
    {
      "cell_type": "code",
      "execution_count": 4,
      "id": "8580d94e-d628-4003-b4e9-6d7bf6cd6910",
      "metadata": {
        "colab": {
          "base_uri": "https://localhost:8080/",
          "height": 363
        },
        "id": "8580d94e-d628-4003-b4e9-6d7bf6cd6910",
        "outputId": "28e90f4e-d392-4eeb-8a43-b3df55e37ead"
      },
      "outputs": [
        {
          "output_type": "execute_result",
          "data": {
            "text/plain": [
              "col1 | col2\n",
              "93   | 193\n",
              "31   | 131\n",
              "56   | 156\n",
              "50   | 150\n",
              "1    | 101\n",
              "74   | 174\n",
              "90   | 190\n",
              "50   | 150\n",
              "23   | 123\n",
              "68   | 168"
            ],
            "text/html": [
              "<table border=\"1\" class=\"dataframe\">\n",
              "    <thead>\n",
              "        <tr>\n",
              "            <th>col1</th> <th>col2</th>\n",
              "        </tr>\n",
              "    </thead>\n",
              "    <tbody>\n",
              "        <tr>\n",
              "            <td>93  </td> <td>193 </td>\n",
              "        </tr>\n",
              "        <tr>\n",
              "            <td>31  </td> <td>131 </td>\n",
              "        </tr>\n",
              "        <tr>\n",
              "            <td>56  </td> <td>156 </td>\n",
              "        </tr>\n",
              "        <tr>\n",
              "            <td>50  </td> <td>150 </td>\n",
              "        </tr>\n",
              "        <tr>\n",
              "            <td>1   </td> <td>101 </td>\n",
              "        </tr>\n",
              "        <tr>\n",
              "            <td>74  </td> <td>174 </td>\n",
              "        </tr>\n",
              "        <tr>\n",
              "            <td>90  </td> <td>190 </td>\n",
              "        </tr>\n",
              "        <tr>\n",
              "            <td>50  </td> <td>150 </td>\n",
              "        </tr>\n",
              "        <tr>\n",
              "            <td>23  </td> <td>123 </td>\n",
              "        </tr>\n",
              "        <tr>\n",
              "            <td>68  </td> <td>168 </td>\n",
              "        </tr>\n",
              "    </tbody>\n",
              "</table>"
            ]
          },
          "metadata": {},
          "execution_count": 4
        }
      ],
      "source": [
        "# the argument is just the number of samples to take. notice the rows stick together but only some of them are chosen\n",
        "example_table.sample(10)"
      ]
    },
    {
      "cell_type": "markdown",
      "id": "42624fb1-8249-401c-9184-5220a3fda0ee",
      "metadata": {
        "id": "42624fb1-8249-401c-9184-5220a3fda0ee"
      },
      "source": [
        "### Correlation"
      ]
    },
    {
      "cell_type": "code",
      "execution_count": 5,
      "id": "e50947f5-9389-48af-a437-d84ae56e3870",
      "metadata": {
        "colab": {
          "base_uri": "https://localhost:8080/",
          "height": 175
        },
        "id": "e50947f5-9389-48af-a437-d84ae56e3870",
        "outputId": "5408ffc9-5b71-4fd9-950f-0052fb88c48f"
      },
      "outputs": [
        {
          "output_type": "execute_result",
          "data": {
            "text/plain": [
              "col1 | col2\n",
              "1    | -1\n",
              "2    | -4\n",
              "3    | -9\n",
              "4    | -16"
            ],
            "text/html": [
              "<table border=\"1\" class=\"dataframe\">\n",
              "    <thead>\n",
              "        <tr>\n",
              "            <th>col1</th> <th>col2</th>\n",
              "        </tr>\n",
              "    </thead>\n",
              "    <tbody>\n",
              "        <tr>\n",
              "            <td>1   </td> <td>-1  </td>\n",
              "        </tr>\n",
              "        <tr>\n",
              "            <td>2   </td> <td>-4  </td>\n",
              "        </tr>\n",
              "        <tr>\n",
              "            <td>3   </td> <td>-9  </td>\n",
              "        </tr>\n",
              "        <tr>\n",
              "            <td>4   </td> <td>-16 </td>\n",
              "        </tr>\n",
              "    </tbody>\n",
              "</table>"
            ]
          },
          "metadata": {},
          "execution_count": 5
        }
      ],
      "source": [
        "# Best way is np.corrcoef(column1, column2)[0][1]\n",
        "example_table_2 = Table().with_columns(\"col1\", [1, 2, 3, 4] , \"col2\", [-1, -4, -9, -16])\n",
        "example_table_2"
      ]
    },
    {
      "cell_type": "code",
      "execution_count": 6,
      "id": "3693b316-2188-493c-b0e8-07f85561ffb8",
      "metadata": {
        "colab": {
          "base_uri": "https://localhost:8080/"
        },
        "id": "3693b316-2188-493c-b0e8-07f85561ffb8",
        "outputId": "472b693e-79ff-4103-9c51-c1d198e4ec21"
      },
      "outputs": [
        {
          "output_type": "execute_result",
          "data": {
            "text/plain": [
              "array([[ 1.        , -0.98437404],\n",
              "       [-0.98437404,  1.        ]])"
            ]
          },
          "metadata": {},
          "execution_count": 6
        }
      ],
      "source": [
        "corr_matrix = np.corrcoef(example_table_2.column(\"col1\"), example_table_2.column(\"col2\"))\n",
        "corr_matrix"
      ]
    },
    {
      "cell_type": "code",
      "execution_count": 7,
      "id": "5f6ae61b-0291-4a4c-9ee9-480f6858e3f6",
      "metadata": {
        "colab": {
          "base_uri": "https://localhost:8080/"
        },
        "id": "5f6ae61b-0291-4a4c-9ee9-480f6858e3f6",
        "outputId": "425c7546-3fee-479e-c721-fdea1d65d717"
      },
      "outputs": [
        {
          "output_type": "execute_result",
          "data": {
            "text/plain": [
              "-0.98437403869769724"
            ]
          },
          "metadata": {},
          "execution_count": 7
        }
      ],
      "source": [
        "# don't worry about the whole matrix\n",
        "corr_matrix[0][1]"
      ]
    },
    {
      "cell_type": "code",
      "execution_count": null,
      "id": "18c987a8-9385-4d75-947e-725228919443",
      "metadata": {
        "id": "18c987a8-9385-4d75-947e-725228919443"
      },
      "outputs": [],
      "source": [
        "# correlation is SUM(x_i - avg(x))(y_i - avg(y)) / (std(x) * std(y)) - the function does this for you!"
      ]
    },
    {
      "cell_type": "code",
      "execution_count": null,
      "id": "e8e6743f-1698-4904-a07b-04226f96aaeb",
      "metadata": {
        "id": "e8e6743f-1698-4904-a07b-04226f96aaeb"
      },
      "outputs": [],
      "source": []
    }
  ],
  "metadata": {
    "kernelspec": {
      "display_name": "Python 3 (ipykernel)",
      "language": "python",
      "name": "python3"
    },
    "language_info": {
      "codemirror_mode": {
        "name": "ipython",
        "version": 3
      },
      "file_extension": ".py",
      "mimetype": "text/x-python",
      "name": "python",
      "nbconvert_exporter": "python",
      "pygments_lexer": "ipython3",
      "version": "3.11.5"
    },
    "colab": {
      "provenance": []
    }
  },
  "nbformat": 4,
  "nbformat_minor": 5
}