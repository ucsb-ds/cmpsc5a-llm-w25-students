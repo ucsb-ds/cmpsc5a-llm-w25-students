{
 "cells": [
  {
   "cell_type": "code",
   "execution_count": 3,
   "id": "c2eec419-a511-41dc-849b-ed88d52030d9",
   "metadata": {},
   "outputs": [],
   "source": [
    "%load_ext jupyter_ai_magics"
   ]
  },
  {
   "cell_type": "code",
   "execution_count": 6,
   "id": "2e7036b8-bc20-485e-aeea-580b9b984f90",
   "metadata": {},
   "outputs": [],
   "source": [
    "from datascience import *\n",
    "import numpy as np\n",
    "import math "
   ]
  },
  {
   "cell_type": "markdown",
   "id": "803f071e-9e79-43ce-9e8b-f5837312236a",
   "metadata": {},
   "source": [
    "### Welcome to Introduction to Data Science! \n",
    "\n",
    "You can't learn technical subjects without hands-on practice, so labs are an important part of the course.\n",
    "\n",
    "Before we get started, there are some administrative details.\n",
    "\n",
    "The weekly lab session has two components: questions and discussion (not using the computer) about recent material, and a lab assignment (like this one!) that develops skills with computational and inferential concepts. In addition to that, you will get familiar with Python, interact with LLMs and learn how to write useful prompts, all while analyzing data! These lab assignments are a required part of the course and will be released on Fridays during lab time.\n",
    "\n",
    "Lab sessions are not recorded.\n",
    "\n",
    "Collaborating on labs is more than okay -- it's encouraged! You should rarely remain stuck for more than a few minutes on questions in labs, so ask a neighbor or a ULA (peer tutor) for help. (Explaining things is beneficial, too -- the best way to solidify your knowledge of a subject is to explain it.) Please don't just share answers, though."
   ]
  },
  {
   "cell_type": "markdown",
   "id": "a6c94e50-fed3-4e09-9e2b-e60aef40335a",
   "metadata": {},
   "source": [
    "#### Jupyter AI notebook\n",
    "\n",
    "##### Text cells\n",
    "In a notebook, each rectangle containing text or code is called a cell.\n",
    "\n",
    "Text cells (like this one) can be edited by double-clicking on them. They're written in a simple format called Markdown to add formatting and section headings. You don't need to learn Markdown, but you might want to.\n",
    "\n",
    "After you edit a text cell, click the \"run cell\" button at the top that looks like ▶| or hold down shift + return to confirm any changes. (**Try not to delete the instructions of the lab.**)\n",
    "\n",
    "##### Code cells\n",
    "Other cells contain code in the Python 3 language. Running a code cell will execute all of the code it contains.\n",
    "\n",
    "To run the code in a code cell, first click on that cell to activate it. It'll be highlighted with a little green or blue rectangle. Next, either press ▶| or hold down shift + return.\n",
    "\n",
    "##### AI cells with magic commands\n",
    "In this course, we will be using OpenAI's gpt-4 model. These cells start with `%%ai openai-chat:gpt-4` and are followed by a `prompt` in the next line that works as an input to ChatGPT. This prompt will be sent to the AI assistant which will then respond with an output based on it.\n",
    "\n",
    "Please avoid using extremely lengthy and unnecessary prompts. **Do not change the magic command** and always use `%%ai openai-chat:gpt-4` in this course. In case of rate limiting, you are also allowed to use '%%ai openai-chat:gpt-3.5-turbo' instead. Finalize and submit all your prompts that helped you solve the questions as part of your work.\n",
    "\n",
    "##### The Kernel\n",
    "The kernel is a program that executes the code inside your notebook and outputs the results. In the top right of your window, you can see a circle that indicates the status of your kernel. If the circle is empty (⚪), the kernel is idle and ready to execute code. If the circle is filled in (⚫), the kernel is busy running some code.\n",
    "\n",
    "Next to every code cell, you'll see some text that says In [...]. Before you run the cell, you'll see In [ ]. When the cell is running, you'll see In [`*`]. If you see an asterisk (`*`) next to a cell that doesn't go away, it's likely that the code inside the cell is taking too long to run, and it might be a good time to interrupt the kernel (discussed below). When a cell is finished running, you'll see a number inside the brackets, like so: In [1]. The number corresponds to the order in which you run the cells; so, the first cell you run will show a 1 when it's finished running, the second will show a 2, and so on.\n",
    "\n",
    "You may run into problems where your kernel is stuck for an excessive amount of time, your notebook is very slow and unresponsive, or your kernel loses its connection. If this happens, try the following steps:\n",
    "\n",
    "At the top of your screen, click Kernel, then Interrupt Kernel.\n",
    "If that doesn't help, click Kernel, then Restart Kernel. If you do this, you will have to run your code cells from the start of your notebook up until where you paused your work.\n",
    "If that doesn't help, restart your server. First, save your work by clicking File at the top left of your screen, then Save Notebook. Next, click File, then Hub Control Panel. Choose Stop My Server to shut it down, then Start My Server to start it back up. Then, navigate back to the notebook you were working on. You'll still have to run your code cells again.\n",
    "\n",
    "##### How to submit your work\n",
    "- Make sure you save the notebook first,\n",
    "- Make sure you have run all the cells (Using Run -> Run All Cells or clicking the button at the top that looks like ▶▶). Carefully look through your notebook and verify that all computations execute correctly. You should see no errors; if there are any errors, make sure to correct them before you submit the notebook.\n",
    "- Scroll up to check all cells have a number next to them, e.g, [35]. \n",
    "- Then, go to File -> Download and download the notebook to your own computer. (Please verify that it got saved as an `.ipynb` file.)\n",
    "- Upload the notebook to Gradescope."
   ]
  },
  {
   "cell_type": "markdown",
   "id": "f5b5a0e2-ff0e-44e1-aae6-096ad8dd9c3b",
   "metadata": {},
   "source": [
    "## Solving the labs\n",
    "\n",
    "For each main question, you are expected to submit 3 forms of answers.\n",
    "1. The code to solve the question. Or the answer to a free response question. You can obtain this through chatGPT prompts if you like.\n",
    "2. The prompts you used to obtain the code or answer to the question. Do not delete these cells as it will be hard to get chatGPT to generate the same response again.\n",
    "3. A short paragraph on what you think your code is doing (if it is a code based question) and if the code returned by chatGPT is correct or not (with explanations for either scenario). If the code returned by chatGPT was wrong, also talk about how you fixed the code or rewrote the prompt to get the correct answer.\n",
    "\n",
    "For each question you will be graded on **all 3 components**."
   ]
  },
  {
   "cell_type": "markdown",
   "id": "8f71e21d-3714-4248-a0db-8831ac85504a",
   "metadata": {},
   "source": [
    "### Expressions \n",
    "Programs are made up of expressions, which describe to the computer how to combine pieces of data."
   ]
  },
  {
   "cell_type": "markdown",
   "id": "35b3388f-174b-4aa3-b6b8-4d3e85c0e0fb",
   "metadata": {},
   "source": [
    "**Q1**. You are given an integer number below. Can you find the sum of the digits of the given integer number? Print the final answer. \n",
    "\n",
    "Hint: How can you find the units digit of a number? Now, how can you find the tens digit? **Avoid hard coding** the sum (e.g., `1+2+3+4`)! Use arithmetic operations and operators like `+`, `*`, `%` and `//` to solve the problem. You **WON'T** get points for hard coding. Refer to https://www.w3schools.com/python/python_operators.asp if needed."
   ]
  },
  {
   "cell_type": "code",
   "execution_count": 3,
   "id": "470e8970-b4f1-4cd9-901f-ca62902ba004",
   "metadata": {},
   "outputs": [],
   "source": [
    "my_number = 1234"
   ]
  },
  {
   "cell_type": "code",
   "execution_count": null,
   "id": "9f42196c-3bc1-441b-8347-44c76ef3615a",
   "metadata": {
    "scrolled": true
   },
   "outputs": [],
   "source": [
    "# SOLUTION "
   ]
  },
  {
   "cell_type": "markdown",
   "id": "c9956f01-8f8a-401c-9859-5258bdfac986",
   "metadata": {},
   "source": [
    "#### Prompt below:"
   ]
  },
  {
   "cell_type": "code",
   "execution_count": null,
   "id": "e1cc7670-db2f-4a6f-8f1e-020fb1259b06",
   "metadata": {},
   "outputs": [],
   "source": [
    "%%ai openai-chat:gpt-4"
   ]
  },
  {
   "cell_type": "markdown",
   "id": "59d2daa0-9d5b-43e7-a5ac-f757b8fe2b5d",
   "metadata": {},
   "source": [
    "#### Explain your workflow below:"
   ]
  },
  {
   "cell_type": "markdown",
   "id": "ce59bb95-0ee8-4305-a00c-4a59aedd15ad",
   "metadata": {},
   "source": [
    "*type your answer here*"
   ]
  },
  {
   "cell_type": "markdown",
   "id": "9c288940-d8e2-4895-8efc-bb874eeaf4ac",
   "metadata": {},
   "source": [
    "### Call Expressions \n",
    "Call expressions are how we tell Python to perform operations using functions. A **function** has a name (e.g., `min`) and can take inputs called **arguments**, which go inside parentheses after the function's name.\n",
    "For example:\n",
    "\n",
    "``` Python\n",
    "abs(-3)  # This returns 3\n",
    "```"
   ]
  },
  {
   "cell_type": "markdown",
   "id": "a2006412-84aa-4f54-8008-c6179d56234f",
   "metadata": {},
   "source": [
    "**Q2**. You are given two integers below (they're called `a` and `b`). Can you calculate **(1)** the absolute difference between `a` and `b` and **(2)** the sum of the maximum and minimum of `a` and `b`? Print out results. \n",
    "\n",
    "Hint: use functions `abs`, `min`, `max` as well as operators `*` and `+` to help you finish this task!"
   ]
  },
  {
   "cell_type": "code",
   "execution_count": 11,
   "id": "70633020-c7db-46bd-9d3f-dec7797c510f",
   "metadata": {},
   "outputs": [],
   "source": [
    "a = 7\n",
    "b = -3"
   ]
  },
  {
   "cell_type": "code",
   "execution_count": null,
   "id": "c4d480ad-924b-4057-bb66-c804f19f47c6",
   "metadata": {
    "scrolled": true
   },
   "outputs": [],
   "source": [
    "# SOLUTION "
   ]
  },
  {
   "cell_type": "markdown",
   "id": "0e42f34b-f5cb-45ce-816b-121c5bc16f9b",
   "metadata": {},
   "source": [
    "#### Prompt below:"
   ]
  },
  {
   "cell_type": "code",
   "execution_count": null,
   "id": "7233c4be-41f4-48b5-b7eb-d648aaf7cc15",
   "metadata": {},
   "outputs": [],
   "source": [
    "%%ai openai-chat:gpt-4"
   ]
  },
  {
   "cell_type": "markdown",
   "id": "990481c4-73a3-4256-b7c2-b4151b372709",
   "metadata": {},
   "source": [
    "#### Explain your workflow below:"
   ]
  },
  {
   "cell_type": "markdown",
   "id": "f357ebda-c434-4d3b-ab36-75eb5c8a76c8",
   "metadata": {},
   "source": [
    "*type your answer here*"
   ]
  },
  {
   "cell_type": "markdown",
   "id": "e8c718ac-8971-48fb-8bee-c21f84269b75",
   "metadata": {},
   "source": [
    "### Numbers \n",
    "Integers are called `int` values in the Python language. They can only represent whole numbers (negative, zero, or positive) that don’t have a fractional component.\n",
    "\n",
    "Real numbers are called `float` values (or floating point values) in the Python language. They can represent whole or fractional numbers but have some limitations."
   ]
  },
  {
   "cell_type": "markdown",
   "id": "ee2119c7-8da5-49b2-b474-8267492957e6",
   "metadata": {},
   "source": [
    "**Q3**. Can you find the square root of the integer given below rounded to the nearest integer? Hint: Think `math.sqrt` and `round`. Refer to https://www.w3schools.com/python/ref_func_round.asp for learning about how the `round` function works. "
   ]
  },
  {
   "cell_type": "code",
   "execution_count": 129,
   "id": "74da07bc-d88b-4866-8762-aec64d5c687f",
   "metadata": {},
   "outputs": [],
   "source": [
    "my_square = 76"
   ]
  },
  {
   "cell_type": "code",
   "execution_count": null,
   "id": "52860773-23c8-427d-a30d-08b7b10ba024",
   "metadata": {
    "scrolled": true
   },
   "outputs": [],
   "source": [
    "# SOLUTION "
   ]
  },
  {
   "cell_type": "markdown",
   "id": "c4afe9d3-ec10-455a-ad3e-3bad87ed3c27",
   "metadata": {},
   "source": [
    "#### Prompt below:"
   ]
  },
  {
   "cell_type": "code",
   "execution_count": null,
   "id": "87c11a99-c743-4757-a3e5-5d9118580e8a",
   "metadata": {},
   "outputs": [],
   "source": [
    "%%ai openai-chat:gpt-4"
   ]
  },
  {
   "cell_type": "markdown",
   "id": "185755a8-9f71-41c0-aaf7-dbbd7b0c9de8",
   "metadata": {},
   "source": [
    "#### Explain your workflow below:"
   ]
  },
  {
   "cell_type": "markdown",
   "id": "a9f7cb5c-9135-47d8-a7cc-56c509de3004",
   "metadata": {},
   "source": [
    "*type your answer here*"
   ]
  },
  {
   "cell_type": "markdown",
   "id": "1f9403cb-7083-4593-9f0f-de2c98451fc2",
   "metadata": {},
   "source": [
    "### Text\n",
    "A piece of text represented in a computer is called a `string`. A string can represent a word, a sentence, or even the contents of every book in a library. Since text can include numbers (like this: 5) or truth values (True), a string can also describe those things. \n",
    "\n",
    "Most of the data that you will encounter including in this course is textual data! So let's get comfortable working with strings!"
   ]
  },
  {
   "cell_type": "markdown",
   "id": "9ddd5d7c-8846-487d-89a0-89aab570260e",
   "metadata": {},
   "source": [
    "**Q4**. How would you find the number of occurrences of a **substring**, say \"dance\" in a given text (see the text below)? Note - _Ignore the case_. \n",
    "\n",
    "Hint: Think string methods https://www.w3schools.com/python/python_ref_string.asp.\n",
    "A **substring** is a sequence of characters that appears in the same order within a larger word or just the word itself. For example, \"apple\" is a substring of \"apples\"."
   ]
  },
  {
   "cell_type": "code",
   "execution_count": 5,
   "id": "313094a9-46ce-497f-90c2-a7164e2736e2",
   "metadata": {},
   "outputs": [],
   "source": [
    "text = \"\"\" Dance is an art form that allows individuals to express themselves through rhythmic movement. \n",
    "People of all ages and backgrounds enjoy dance as a means of storytelling, entertainment, and exercise. \n",
    "In many cultures, dance plays a vital role in social gatherings, celebrations, and rituals. \n",
    "From traditional folk dances to contemporary styles, the world offers a rich variety of dance forms that \n",
    "showcase distinct traditions and histories. For some, dance is a profession and a way of life. \n",
    "Professional dancers spend years honing their skills, training rigorously, and performing on grand stages around the globe. \n",
    "They captivate audiences with their grace, athleticism, and storytelling abilities.\"\"\""
   ]
  },
  {
   "cell_type": "code",
   "execution_count": null,
   "id": "38be6c47-7c25-41e0-9f9c-15a9d93e945b",
   "metadata": {
    "scrolled": true
   },
   "outputs": [],
   "source": [
    "# SOLUTION "
   ]
  },
  {
   "cell_type": "markdown",
   "id": "387f9850-4bef-4cb6-a8b3-0133ca99b72a",
   "metadata": {},
   "source": [
    "#### Prompt below:"
   ]
  },
  {
   "cell_type": "code",
   "execution_count": null,
   "id": "f8df2fc6-d714-4486-945c-b5b042f2ada9",
   "metadata": {},
   "outputs": [],
   "source": [
    "%%ai openai-chat:gpt-4"
   ]
  },
  {
   "cell_type": "markdown",
   "id": "207e50e2-b150-4eab-a8d6-cefdc3627b23",
   "metadata": {},
   "source": [
    "#### Explain your workflow below:"
   ]
  },
  {
   "cell_type": "markdown",
   "id": "820ed290-0382-47cd-ad42-2fec39ad6c30",
   "metadata": {},
   "source": [
    "*type your answer here*"
   ]
  },
  {
   "cell_type": "markdown",
   "id": "6e0d72b4-fd78-4dcf-b52e-fddfff599591",
   "metadata": {},
   "source": [
    "**Q5**. How can you check if the string given below is a **palindrome**? Note - _Ignore case_, _punctuation_, and _spaces_!\n",
    "\n",
    "A palindrome is a special word that reads the same way forward and backwards. It's like a mirror word! For example, the word \"mom\" is a palindrome because it looks the same even if you read it from left to right or right to left. \n",
    "\n",
    "Hint: https://www.w3schools.com/python/python_howto_reverse_string.asp"
   ]
  },
  {
   "cell_type": "code",
   "execution_count": 6,
   "id": "74c721eb-a065-4851-a73d-69bc63dff086",
   "metadata": {},
   "outputs": [],
   "source": [
    "text = \"A man, a plan, a canal: Panama\""
   ]
  },
  {
   "cell_type": "code",
   "execution_count": null,
   "id": "ff20946a-0609-485d-bda0-dcf47b2a4a94",
   "metadata": {
    "scrolled": true
   },
   "outputs": [],
   "source": [
    "# SOLUTION "
   ]
  },
  {
   "cell_type": "markdown",
   "id": "79a82a47-c4cc-403c-b090-19e2ed99b2a7",
   "metadata": {},
   "source": [
    "#### Prompt below:"
   ]
  },
  {
   "cell_type": "code",
   "execution_count": null,
   "id": "86b21fd2-78d1-4f39-8d81-94ae7e9eecc9",
   "metadata": {},
   "outputs": [],
   "source": [
    "%%ai openai-chat:gpt-4"
   ]
  },
  {
   "cell_type": "markdown",
   "id": "91e4e386-a524-4245-9dfb-fac10c3e5356",
   "metadata": {},
   "source": [
    "#### Explain your workflow below:"
   ]
  },
  {
   "cell_type": "markdown",
   "id": "04093086-b708-479a-9de8-921eac644317",
   "metadata": {},
   "source": [
    "*type your answer here*"
   ]
  },
  {
   "cell_type": "markdown",
   "id": "1bee199c-5057-44b7-9dfd-4718394b7acc",
   "metadata": {},
   "source": [
    "### Arrays\n",
    "\n",
    "Values can be grouped together into collections, and by grouping values together, we can write code that performs a computation on many pieces of data at once! We will mainly work with `arrays` in this class. Suggested Reading: https://inferentialthinking.com/chapters/05/Sequences.html\n",
    "\n",
    "You will be working with data in the real world and you will see that working with values that are a collection or a group is much easier than operating on every single value individually! So let's get comfortable working with arrays!"
   ]
  },
  {
   "cell_type": "markdown",
   "id": "c8ff9aae-d9d9-4471-bb21-88db61930535",
   "metadata": {},
   "source": [
    "**Q6**. Make an array of the first 100 consecutive integers and find its sum and average. Print the sum and average values. Hint: Think `arange`, `sum`, `mean` from `numpy` module!"
   ]
  },
  {
   "cell_type": "code",
   "execution_count": null,
   "id": "04c790c9-4d1d-4bb5-8ff4-8e5bc69dfb89",
   "metadata": {
    "scrolled": true
   },
   "outputs": [],
   "source": [
    "# SOLUTION "
   ]
  },
  {
   "cell_type": "markdown",
   "id": "fa0eef27-6325-4844-92eb-72832769e13b",
   "metadata": {},
   "source": [
    "#### Prompt below:"
   ]
  },
  {
   "cell_type": "code",
   "execution_count": null,
   "id": "0c1dab75-9041-48b0-9b50-c9b8ca5e78b6",
   "metadata": {},
   "outputs": [],
   "source": [
    "%%ai openai-chat:gpt-4"
   ]
  },
  {
   "cell_type": "markdown",
   "id": "22d88ef2-f052-4829-82b9-e0ab2ae5034f",
   "metadata": {},
   "source": [
    "#### Explain your workflow below:"
   ]
  },
  {
   "cell_type": "markdown",
   "id": "12b8d3d4-3128-466d-ae58-dfec0c72e68b",
   "metadata": {},
   "source": [
    "*type your answer here*"
   ]
  },
  {
   "cell_type": "markdown",
   "id": "e1a0783f-bb3e-4b42-bc81-f1f091a1bf61",
   "metadata": {},
   "source": [
    "**Q7.1**. As you will explore more and more datasets, calculating max, min, average values in an array will become very common. How can you find the largest number in the array given to you below? Hint: Think `max` function from numpy module! "
   ]
  },
  {
   "cell_type": "code",
   "execution_count": 10,
   "id": "01908831-2ecb-49f7-9912-9f38f9eb45b2",
   "metadata": {},
   "outputs": [],
   "source": [
    "my_array = make_array(37.87334103,  52.67853082,  48.19795431,  59.0615374 ,\n",
    "        19.37922958,  71.95206319,  44.17194224,  89.27374132,\n",
    "        82.2277101 ,  65.69739514,  28.45196033,  91.91097133,\n",
    "        80.11130866,  65.37434828,  44.3709821 ,  62.48906599,\n",
    "        62.61102626,  11.42521164,  16.54034865,  40.62224595)"
   ]
  },
  {
   "cell_type": "code",
   "execution_count": null,
   "id": "bf298e47-d314-4c76-ad4d-e0b0c2f5e79f",
   "metadata": {},
   "outputs": [],
   "source": [
    "# SOLUTION"
   ]
  },
  {
   "cell_type": "markdown",
   "id": "0c08f796-4da0-4d87-ac6a-eb70648700d1",
   "metadata": {},
   "source": [
    "**Q7.2**. How can you sort the same array in an ascending order? Hint: Think `sort` function from the numpy module https://www.w3schools.com/python/numpy/numpy_array_sort.asp! "
   ]
  },
  {
   "cell_type": "code",
   "execution_count": null,
   "id": "c8e8cdcf-8eff-4454-821b-b3f553131a5e",
   "metadata": {},
   "outputs": [],
   "source": [
    "# SOLUTION"
   ]
  },
  {
   "cell_type": "markdown",
   "id": "718e6046-ebd6-4288-8a6b-903b03d85949",
   "metadata": {},
   "source": [
    "**Q7.3**. Can you now try to sort the same array in a descending order? Hint: Think `sort` function from the numpy module and note that all numbers in the given array are positive. What would sorting an array of negative numbers using numpy sort do? "
   ]
  },
  {
   "cell_type": "code",
   "execution_count": null,
   "id": "80e5430e-92a6-49b8-a021-ba6b1b9c63ec",
   "metadata": {},
   "outputs": [],
   "source": [
    "# SOLUTION"
   ]
  },
  {
   "cell_type": "markdown",
   "id": "5d6020fc-c531-4d33-aec7-9f20e2533c97",
   "metadata": {},
   "source": [
    "#### Prompt below:"
   ]
  },
  {
   "cell_type": "code",
   "execution_count": null,
   "id": "c9e0fa02-bddd-4a19-82c1-1c6f5da16f12",
   "metadata": {},
   "outputs": [],
   "source": [
    "%%ai openai-chat:gpt-4"
   ]
  },
  {
   "cell_type": "markdown",
   "id": "33123fc7-ad92-4702-a462-b866bfcb34fe",
   "metadata": {},
   "source": [
    "#### Explain your workflow below:"
   ]
  },
  {
   "cell_type": "markdown",
   "id": "405de601-ae9d-46c8-8c13-57833ec8128c",
   "metadata": {},
   "source": [
    "*type your answer here*"
   ]
  },
  {
   "cell_type": "markdown",
   "id": "d37cc516-e1db-41a8-8652-16d2286e9a8d",
   "metadata": {},
   "source": [
    "**Q8**. Look at the array below. I want to replace all the occurrences of 2 by 0. How can you do that? Print the array with the replaced values to show your results. Hint: `Indexing` https://www.w3schools.com/python/numpy/numpy_array_indexing.asp"
   ]
  },
  {
   "cell_type": "code",
   "execution_count": 4,
   "id": "f9ac7830-18cc-407a-878e-69baa3b1b77c",
   "metadata": {},
   "outputs": [],
   "source": [
    "replace_twos = make_array(1,2,3,4,2,3,4,3,4,4)"
   ]
  },
  {
   "cell_type": "code",
   "execution_count": null,
   "id": "84fc2281-b734-4b63-b58f-93f0214bea29",
   "metadata": {
    "scrolled": true
   },
   "outputs": [],
   "source": [
    "# SOLUTION "
   ]
  },
  {
   "cell_type": "markdown",
   "id": "0e578f4b-4b04-44e6-b93f-7efb99b8116b",
   "metadata": {},
   "source": [
    "#### Prompt below:"
   ]
  },
  {
   "cell_type": "code",
   "execution_count": null,
   "id": "63a54c6d-1570-41cc-b240-59ffa598f375",
   "metadata": {},
   "outputs": [],
   "source": [
    "%%ai openai-chat:gpt-4"
   ]
  },
  {
   "cell_type": "markdown",
   "id": "e901ffcb-e738-4b70-8d3d-3100da8dfee4",
   "metadata": {},
   "source": [
    "#### Explain your workflow below:"
   ]
  },
  {
   "cell_type": "markdown",
   "id": "16af6666-e73a-4021-b9a3-f535203a6c05",
   "metadata": {},
   "source": [
    "*type your answer here*"
   ]
  },
  {
   "cell_type": "markdown",
   "id": "167f1def-0e66-4974-9096-bd56357fdab1",
   "metadata": {},
   "source": [
    "**Q9**. A frequent task that you will encounter while processing data is to operate on parts of/all of your data at once, for example, all the elements of an array/column of a table! Can you find the square of all the elements in the array given to you below? Hint: Think of the `numpy` module! https://www.educative.io/answers/how-to-use-the-numpysquare-in-python "
   ]
  },
  {
   "cell_type": "code",
   "execution_count": 107,
   "id": "6e7fad72-ef13-468b-a516-f7017e31a6c7",
   "metadata": {},
   "outputs": [],
   "source": [
    "find_squares = np.arange(1,100,2)"
   ]
  },
  {
   "cell_type": "code",
   "execution_count": null,
   "id": "7c3c0591-e682-47f4-b0a0-bbe22f185761",
   "metadata": {
    "scrolled": true
   },
   "outputs": [],
   "source": [
    "# SOLUTION "
   ]
  },
  {
   "cell_type": "markdown",
   "id": "3c91ac3f-6506-4ca9-a613-d766e9e57d19",
   "metadata": {},
   "source": [
    "#### Prompt below:"
   ]
  },
  {
   "cell_type": "code",
   "execution_count": null,
   "id": "34d2d72e-5917-490a-b1f7-adbe002ffa29",
   "metadata": {},
   "outputs": [],
   "source": [
    "%%ai openai-chat:gpt-4"
   ]
  },
  {
   "cell_type": "markdown",
   "id": "e929f07f-0bd9-47ed-9bf3-cf67f0eec7df",
   "metadata": {},
   "source": [
    "#### Explain your workflow below:"
   ]
  },
  {
   "cell_type": "markdown",
   "id": "d48e7aac-a950-4da3-a39c-e77def559dc1",
   "metadata": {},
   "source": [
    "*type your answer here*"
   ]
  },
  {
   "cell_type": "code",
   "execution_count": null,
   "id": "24ed4397-7ec0-4948-b870-9c97012a3eac",
   "metadata": {},
   "outputs": [],
   "source": []
  },
  {
   "cell_type": "markdown",
   "id": "6c3604a2-90ce-4258-8a12-928b528bd6ea",
   "metadata": {},
   "source": [
    "Congratulations, you're done with Lab 1!  Be sure to \n",
    "- **Keep all your prompts** . \n",
    "- **Save and Checkpoint** from the `File` menu.\n",
    "- **Ensure every cell has been run (has a number Ex:[34] beside the cell)**.\n",
    "- Submit to Gradescope!\n"
   ]
  },
  {
   "cell_type": "code",
   "execution_count": null,
   "id": "59acebd6-9f80-4edd-a4ce-c2d08eafcb0c",
   "metadata": {},
   "outputs": [],
   "source": []
  }
 ],
 "metadata": {
  "kernelspec": {
   "display_name": "watermark",
   "language": "python",
   "name": "python3"
  },
  "language_info": {
   "codemirror_mode": {
    "name": "ipython",
    "version": 3
   },
   "file_extension": ".py",
   "mimetype": "text/x-python",
   "name": "python",
   "nbconvert_exporter": "python",
   "pygments_lexer": "ipython3",
   "version": "3.10.15"
  }
 },
 "nbformat": 4,
 "nbformat_minor": 5
}
