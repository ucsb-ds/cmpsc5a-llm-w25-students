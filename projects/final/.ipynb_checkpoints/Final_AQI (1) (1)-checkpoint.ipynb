{
 "cells": [
  {
   "cell_type": "code",
   "execution_count": 1,
   "id": "f102d109-1882-4406-b615-18f547fabb21",
   "metadata": {},
   "outputs": [],
   "source": [
    "# Run this cell\n",
    "%load_ext jupyter_ai_magics\n",
    "from datascience import *\n",
    "import numpy as np\n",
    "import math\n",
    "%matplotlib inline\n",
    "import matplotlib.pyplot as plt"
   ]
  },
  {
   "cell_type": "markdown",
   "id": "51e25de8-d7dd-4a8a-be52-16cfc6ccd838",
   "metadata": {},
   "source": [
    "# Final: AQI"
   ]
  },
  {
   "cell_type": "markdown",
   "id": "33e43efd-964c-4edd-bf11-9d029e9f6850",
   "metadata": {},
   "source": [
    "The Air Quality Index (AQI) is a standardized indicator used to communicate how polluted the air currently is or how polluted it is forecasted to become. Public health risks increase as the AQI rises, and the index is used by government agencies to determine when to issue health advisories or restrictions on industrial activities.\n",
    "\n",
    "The dataset you will use is AQI by County. This dataset is compiled by the Environmental Protection Agency (EPA). This kind of data could be used for a variety of purposes, including public health analysis, environmental policy-making, and academic research into the effects of air quality on population health. It is also a valuable tool for informing the public about day-to-day variations in air quality and for issuing warnings on days when the air quality is particularly poor. The data contains entries for the years 2017 - 2023.\n",
    "\n",
    "- `State`: The state in the United States where the measurement was taken.\n",
    "- `County`: The specific county within the state where the air quality data was recorded.\n",
    "- `Year`: The year for which the data is relevant.\n",
    "- `Days with AQI`: The number of days in the year when the AQI was recorded.\n",
    "- `Good Days`: The number of days where the AQI indicated that the air quality was good.\n",
    "- `Moderate Days`: The number of days where the AQI indicated a moderate health concern.\n",
    "- `Unhealthy for Sensitive Groups Days`: Days when the AQI suggested health effects for sensitive groups.\n",
    "- `Unhealthy Days`: The number of days where the AQI indicated health effects for everyone.\n",
    "- `Very Unhealthy Days`: Days where the AQI suggested health alert conditions.\n",
    "- `Hazardous Days`: The number of days indicating hazardous air quality.\n",
    "- `Max AQI`: The highest AQI recorded in the county for the year.\n",
    "- `90th Percentile AQI`: The AQI level below which 90% of the AQI values fall.\n",
    "- `Median AQI`: The median AQI value for the year.\n",
    "- `Days CO`: The number of days when carbon monoxide was the predominant pollutant.\n",
    "- `Days NO2`: The number of days when nitrogen dioxide was the predominant pollutant.\n",
    "- `Days Ozone`: The count of days when ozone was the main pollutant.\n",
    "- `Days PM2.5`: The number of days when fine particulate matter (PM2.5) was the main pollutant.\n",
    "- `Days PM10`: The number of days when coarse particulate matter (PM10) was the main pollutant.\n",
    "\n",
    "Please refer to [Chapter 12.1: A/B Testing](https://inferentialthinking.com/chapters/12/1/AB_Testing.html) when completing this final project as many of the questions use concepts covered there!"
   ]
  },
  {
   "cell_type": "code",
   "execution_count": 3,
   "id": "f68d0504-03f7-4a00-a7b3-a7cb9b1f01b1",
   "metadata": {},
   "outputs": [
    {
     "data": {
      "text/html": [
       "<table border=\"1\" class=\"dataframe\">\n",
       "    <thead>\n",
       "        <tr>\n",
       "            <th>State</th> <th>County</th> <th>Year</th> <th>Days with AQI</th> <th>Good Days</th> <th>Moderate Days</th> <th>Unhealthy for Sensitive Groups Days</th> <th>Unhealthy Days</th> <th>Very Unhealthy Days</th> <th>Hazardous Days</th> <th>Max AQI</th> <th>90th Percentile AQI</th> <th>Median AQI</th> <th>Days CO</th> <th>Days NO2</th> <th>Days Ozone</th> <th>Days PM2.5</th> <th>Days PM10</th>\n",
       "        </tr>\n",
       "    </thead>\n",
       "    <tbody>\n",
       "        <tr>\n",
       "            <td>Alabama</td> <td>Baldwin   </td> <td>2023</td> <td>170          </td> <td>143      </td> <td>27           </td> <td>0                                  </td> <td>0             </td> <td>0                  </td> <td>0             </td> <td>90     </td> <td>54                 </td> <td>40        </td> <td>0      </td> <td>0       </td> <td>84        </td> <td>86        </td> <td>0        </td>\n",
       "        </tr>\n",
       "        <tr>\n",
       "            <td>Alabama</td> <td>Clay      </td> <td>2023</td> <td>155          </td> <td>109      </td> <td>46           </td> <td>0                                  </td> <td>0             </td> <td>0                  </td> <td>0             </td> <td>83     </td> <td>61                 </td> <td>40        </td> <td>0      </td> <td>0       </td> <td>0         </td> <td>155       </td> <td>0        </td>\n",
       "        </tr>\n",
       "        <tr>\n",
       "            <td>Alabama</td> <td>DeKalb    </td> <td>2023</td> <td>212          </td> <td>155      </td> <td>55           </td> <td>2                                  </td> <td>0             </td> <td>0                  </td> <td>0             </td> <td>133    </td> <td>63                 </td> <td>43        </td> <td>0      </td> <td>0       </td> <td>141       </td> <td>71        </td> <td>0        </td>\n",
       "        </tr>\n",
       "        <tr>\n",
       "            <td>Alabama</td> <td>Elmore    </td> <td>2023</td> <td>118          </td> <td>102      </td> <td>16           </td> <td>0                                  </td> <td>0             </td> <td>0                  </td> <td>0             </td> <td>90     </td> <td>54                 </td> <td>40        </td> <td>0      </td> <td>0       </td> <td>118       </td> <td>0         </td> <td>0        </td>\n",
       "        </tr>\n",
       "        <tr>\n",
       "            <td>Alabama</td> <td>Etowah    </td> <td>2023</td> <td>181          </td> <td>126      </td> <td>55           </td> <td>0                                  </td> <td>0             </td> <td>0                  </td> <td>0             </td> <td>100    </td> <td>64                 </td> <td>43        </td> <td>0      </td> <td>0       </td> <td>74        </td> <td>107       </td> <td>0        </td>\n",
       "        </tr>\n",
       "        <tr>\n",
       "            <td>Alabama</td> <td>Jefferson </td> <td>2023</td> <td>182          </td> <td>72       </td> <td>98           </td> <td>8                                  </td> <td>3             </td> <td>1                  </td> <td>0             </td> <td>230    </td> <td>91                 </td> <td>54        </td> <td>1      </td> <td>0       </td> <td>63        </td> <td>118       </td> <td>0        </td>\n",
       "        </tr>\n",
       "        <tr>\n",
       "            <td>Alabama</td> <td>Madison   </td> <td>2023</td> <td>181          </td> <td>129      </td> <td>50           </td> <td>2                                  </td> <td>0             </td> <td>0                  </td> <td>0             </td> <td>115    </td> <td>68                 </td> <td>43        </td> <td>0      </td> <td>0       </td> <td>86        </td> <td>95        </td> <td>0        </td>\n",
       "        </tr>\n",
       "        <tr>\n",
       "            <td>Alabama</td> <td>Mobile    </td> <td>2023</td> <td>178          </td> <td>133      </td> <td>45           </td> <td>0                                  </td> <td>0             </td> <td>0                  </td> <td>0             </td> <td>90     </td> <td>59                 </td> <td>43        </td> <td>0      </td> <td>0       </td> <td>68        </td> <td>110       </td> <td>0        </td>\n",
       "        </tr>\n",
       "        <tr>\n",
       "            <td>Alabama</td> <td>Montgomery</td> <td>2023</td> <td>150          </td> <td>97       </td> <td>53           </td> <td>0                                  </td> <td>0             </td> <td>0                  </td> <td>0             </td> <td>93     </td> <td>71                 </td> <td>47        </td> <td>0      </td> <td>0       </td> <td>66        </td> <td>84        </td> <td>0        </td>\n",
       "        </tr>\n",
       "        <tr>\n",
       "            <td>Alabama</td> <td>Morgan    </td> <td>2023</td> <td>181          </td> <td>138      </td> <td>41           </td> <td>2                                  </td> <td>0             </td> <td>0                  </td> <td>0             </td> <td>140    </td> <td>64                 </td> <td>41        </td> <td>0      </td> <td>0       </td> <td>95        </td> <td>86        </td> <td>0        </td>\n",
       "        </tr>\n",
       "    </tbody>\n",
       "</table>\n",
       "<p>... (7014 rows omitted)</p>"
      ],
      "text/plain": [
       "State   | County     | Year | Days with AQI | Good Days | Moderate Days | Unhealthy for Sensitive Groups Days | Unhealthy Days | Very Unhealthy Days | Hazardous Days | Max AQI | 90th Percentile AQI | Median AQI | Days CO | Days NO2 | Days Ozone | Days PM2.5 | Days PM10\n",
       "Alabama | Baldwin    | 2023 | 170           | 143       | 27            | 0                                   | 0              | 0                   | 0              | 90      | 54                  | 40         | 0       | 0        | 84         | 86         | 0\n",
       "Alabama | Clay       | 2023 | 155           | 109       | 46            | 0                                   | 0              | 0                   | 0              | 83      | 61                  | 40         | 0       | 0        | 0          | 155        | 0\n",
       "Alabama | DeKalb     | 2023 | 212           | 155       | 55            | 2                                   | 0              | 0                   | 0              | 133     | 63                  | 43         | 0       | 0        | 141        | 71         | 0\n",
       "Alabama | Elmore     | 2023 | 118           | 102       | 16            | 0                                   | 0              | 0                   | 0              | 90      | 54                  | 40         | 0       | 0        | 118        | 0          | 0\n",
       "Alabama | Etowah     | 2023 | 181           | 126       | 55            | 0                                   | 0              | 0                   | 0              | 100     | 64                  | 43         | 0       | 0        | 74         | 107        | 0\n",
       "Alabama | Jefferson  | 2023 | 182           | 72        | 98            | 8                                   | 3              | 1                   | 0              | 230     | 91                  | 54         | 1       | 0        | 63         | 118        | 0\n",
       "Alabama | Madison    | 2023 | 181           | 129       | 50            | 2                                   | 0              | 0                   | 0              | 115     | 68                  | 43         | 0       | 0        | 86         | 95         | 0\n",
       "Alabama | Mobile     | 2023 | 178           | 133       | 45            | 0                                   | 0              | 0                   | 0              | 90      | 59                  | 43         | 0       | 0        | 68         | 110        | 0\n",
       "Alabama | Montgomery | 2023 | 150           | 97        | 53            | 0                                   | 0              | 0                   | 0              | 93      | 71                  | 47         | 0       | 0        | 66         | 84         | 0\n",
       "Alabama | Morgan     | 2023 | 181           | 138       | 41            | 2                                   | 0              | 0                   | 0              | 140     | 64                  | 41         | 0       | 0        | 95         | 86         | 0\n",
       "... (7014 rows omitted)"
      ]
     },
     "execution_count": 3,
     "metadata": {},
     "output_type": "execute_result"
    }
   ],
   "source": [
    "# Run this cell\n",
    "aqi = Table.read_table(\"data/annual aqi 2017-2023.csv\")\n",
    "aqi"
   ]
  },
  {
   "cell_type": "markdown",
   "id": "3ee43dc5-16ee-4a80-a60e-c7a9b5d20286",
   "metadata": {},
   "source": [
    "**Question 1:** Can you plot a multi-series line graph to compare the trend of `Good Days`, `Moderate Days`, and `Days with AQI` over the months for a particular state? This could help identify if there is a seasonal pattern in AQI ratings."
   ]
  },
  {
   "cell_type": "code",
   "execution_count": null,
   "id": "82e22ccd-d7e3-4bf4-9c64-2a76f42c5bff",
   "metadata": {},
   "outputs": [],
   "source": [
    "#SOLUTION"
   ]
  },
  {
   "cell_type": "markdown",
   "id": "af9a96f1-3559-4c55-8d9d-a207f72d40f3",
   "metadata": {},
   "source": [
    "#### Enter prompt below:"
   ]
  },
  {
   "cell_type": "code",
   "execution_count": null,
   "id": "d8866768-a215-42db-ae55-d693900e98b2",
   "metadata": {},
   "outputs": [],
   "source": [
    "%%ai openai-chat:gpt-3.5-turbo"
   ]
  },
  {
   "cell_type": "markdown",
   "id": "92e5ff38-9e85-4d87-8dcd-cf253d55c4ba",
   "metadata": {},
   "source": [
    "#### Explain your answer below:"
   ]
  },
  {
   "cell_type": "markdown",
   "id": "d5a6217a-b449-4fec-9c1c-23fbcc90ea2d",
   "metadata": {},
   "source": [
    "_type your answer here_"
   ]
  },
  {
   "cell_type": "markdown",
   "id": "02a0a100-d073-4b77-9009-08c6e01f9168",
   "metadata": {},
   "source": [
    "**Question 2:** **Select a single year** and create a stacked bar graph for any 3 counties within a single state where the number of `Unhealthy for Sensitive Groups Days` > 4. **Do this for any 3 states**. Show the composition of `Good Days`, `Moderate Days`, `Unhealthy for Sensitive Groups Days`, `Unhealthy Days`, `Very Unhealthy Days`, and `Hazardous Days`. This will visually indicate the overall air quality profile for each county.\n",
    "\n",
    "NOTE: Your final answer should have 9 individual stacked bars: 3 states x 3 counties. You can either have them condensed into less than 9 graphs or show 9 separate graphs."
   ]
  },
  {
   "cell_type": "code",
   "execution_count": null,
   "id": "a2b46f7b-4b88-4ef0-8b8a-eb7ca51bc64d",
   "metadata": {},
   "outputs": [],
   "source": [
    "#SOLUTION"
   ]
  },
  {
   "cell_type": "markdown",
   "id": "d2ee198f-4b24-4c70-ba81-a0368e0e6060",
   "metadata": {},
   "source": [
    "#### Enter prompt below:"
   ]
  },
  {
   "cell_type": "code",
   "execution_count": null,
   "id": "1be5f009-d240-42ed-996f-6f1fcf65e1c1",
   "metadata": {},
   "outputs": [],
   "source": [
    "%%ai openai-chat:gpt-3.5-turbo"
   ]
  },
  {
   "cell_type": "markdown",
   "id": "75552949-e89c-4a0a-a7ad-d73cdfadfa4b",
   "metadata": {},
   "source": [
    "#### Explain your answer below:"
   ]
  },
  {
   "cell_type": "markdown",
   "id": "06643333-87a4-4097-a216-95129a5339f6",
   "metadata": {},
   "source": [
    "_type your answer here_"
   ]
  },
  {
   "cell_type": "markdown",
   "id": "ee3f82ad-6fa7-4759-8eb2-17d469e40948",
   "metadata": {},
   "source": [
    "**Question 3:** What is the probability, based on the data for 2023, that the County of Santa Barbara in California will have a good day? What about moderate days? Visualize the probability and also create a supplement graph that show the `Median AQI` over time in Santa Barbara."
   ]
  },
  {
   "cell_type": "code",
   "execution_count": null,
   "id": "eed4f921-a1dc-4cee-ac07-d76edbe77968",
   "metadata": {},
   "outputs": [],
   "source": [
    "#SOLUTION"
   ]
  },
  {
   "cell_type": "markdown",
   "id": "802f98a7-d88b-4156-8621-b0483fe68ac3",
   "metadata": {},
   "source": [
    "#### Enter prompt below:"
   ]
  },
  {
   "cell_type": "code",
   "execution_count": null,
   "id": "c1e994c5-3fa1-42a0-b5bd-f5ca235858c4",
   "metadata": {},
   "outputs": [],
   "source": [
    "%%ai openai-chat:gpt-3.5-turbo"
   ]
  },
  {
   "cell_type": "markdown",
   "id": "b67a8a48-d72b-4c51-a5bb-64e0a42eecfc",
   "metadata": {},
   "source": [
    "#### Explain your answer below:"
   ]
  },
  {
   "cell_type": "markdown",
   "id": "a4f7aedf-bc11-4c5e-974a-807348bdea82",
   "metadata": {},
   "source": [
    "_type your answer here_"
   ]
  },
  {
   "cell_type": "markdown",
   "id": "1ef26b12-4253-4fbb-a10f-79ab3692a79a",
   "metadata": {},
   "source": [
    "**Question 4:** Let's investigate AQI trends by state. First, define a table that contains the sum of Median AQIs for each state, and categorize each state by whether it is North or South. The categorizations are given to you, so delete any rows whose states are not included. The table should contain two columns:\n",
    "- `Label`: Denotes if a state is North or South\n",
    "- `Total Median AQI`: The sum of the total median AQI for each state.\n",
    "\n",
    "Then, construct an overlaid histogram of two observed distributions: the total median AQI in Northern States and the total median AQI in Southern States."
   ]
  },
  {
   "cell_type": "code",
   "execution_count": 53,
   "id": "d7b97d7c-ad1f-41e8-b5ab-c95fb1070c5e",
   "metadata": {},
   "outputs": [],
   "source": [
    "# Run this cell\n",
    "north_states = [\n",
    "    'Washington', 'Oregon', 'Idaho', 'Montana', 'Wyoming', 'North Dakota', 'South Dakota', \n",
    "    'Minnesota', 'Wisconsin', 'Michigan', 'New York', 'Maine', 'Vermont', 'New Hampshire', \n",
    "    'Massachusetts', 'Rhode Island', 'Connecticut', 'Pennsylvania', 'New Jersey', 'Ohio', \n",
    "    'Indiana', 'Illinois', 'Iowa', 'Nebraska', 'Colorado', 'Utah', 'Nevada', 'California', 'Alaska'\n",
    "]\n",
    "\n",
    "south_states = [\n",
    "    'Arizona', 'New Mexico', 'Texas', 'Oklahoma', 'Kansas', 'Missouri', 'Arkansas', 'Louisiana', \n",
    "    'Mississippi', 'Alabama', 'Georgia', 'Florida', 'South Carolina', 'North Carolina', 'Tennessee', \n",
    "    'Kentucky', 'Virginia', 'West Virginia', 'Maryland', 'Delaware', 'Hawaii'\n",
    "]"
   ]
  },
  {
   "cell_type": "code",
   "execution_count": 54,
   "id": "3894b025-8420-4e2b-80d0-bda5cb113e6f",
   "metadata": {},
   "outputs": [
    {
     "data": {
      "image/png": "[encoded data removed]",
      "text/plain": [
       "<Figure size 600x400 with 1 Axes>"
      ]
     },
     "metadata": {},
     "output_type": "display_data"
    }
   ],
   "source": [
    "#SOLUTION\n",
    "totals = aqi.group(\"State\", sum)\n",
    "empty_list = []\n",
    "for entry in totals.column(\"State\"):\n",
    "    if entry in north_states:\n",
    "        empty_list.append(\"North\")\n",
    "    elif entry in south_states:\n",
    "        empty_list.append(\"South\")\n",
    "    else:\n",
    "        empty_list.append(None)\n",
    "        \n",
    "totals['Label'] = empty_list\n",
    "totals = totals.where('Label', are.not_equal_to(None))\n",
    "totals\n",
    "aqi_4 = totals.select('Label', \"Median AQI sum\") # SOLUTION\n",
    "aqi_4.hist(\"Median AQI sum\", group=\"Label\", bins = 10) # SOLUTION"
   ]
  },
  {
   "cell_type": "markdown",
   "id": "56448fc1-229b-4a97-9503-59a0bbc69a25",
   "metadata": {},
   "source": [
    "#### Enter prompt below:"
   ]
  },
  {
   "cell_type": "code",
   "execution_count": null,
   "id": "f911ab89-8ab7-4aa6-9a67-900f28f0ebb2",
   "metadata": {},
   "outputs": [],
   "source": [
    "%%ai openai-chat:gpt-3.5-turbo"
   ]
  },
  {
   "cell_type": "markdown",
   "id": "24509c1f-4859-4116-8ca6-633543b86408",
   "metadata": {},
   "source": [
    "#### Explain your answer below:"
   ]
  },
  {
   "cell_type": "markdown",
   "id": "b8dbe520-7e22-4e2a-831e-9b819c7bce04",
   "metadata": {},
   "source": [
    "_type your answer here_"
   ]
  },
  {
   "cell_type": "markdown",
   "id": "9f02d4b4-d271-403a-8012-d250a644358a",
   "metadata": {},
   "source": [
    "**Question 5:** You are now helping out a researcher conduct an in-progress A/B test about the differences in Median AQI in Northern States and Southern States.\n",
    "\n",
    "The researcher is interested in analyzing the following observed test statistic:\n",
    "$$\\text{average total Median AQI across Northern States} - \\text{average total Median AQI across Southern States}$$\n",
    "\n",
    "Create a function to compute and return the test statistic. The function should take in a 2 column table only as an argument. Then, write another function to simulate the test statistic under the null hypothesis once and return the value of the test statistic for that simulated sample. Then, use a loop to run your function 5000 times and store each sample test statistic in an array. Create a visualization to display the distribution of sample test statistics.\n"
   ]
  },
  {
   "cell_type": "code",
   "execution_count": 57,
   "id": "9b48c45e-b091-4e27-bbc6-541a074e642b",
   "metadata": {},
   "outputs": [
    {
     "name": "stdout",
     "output_type": "stream",
     "text": [
      "-217.14449917898128\n"
     ]
    }
   ],
   "source": [
    "# SOLUTION\n",
    "def test_statistic(t):\n",
    "    means = t.group(\"Label\", np.mean).column(1) \n",
    "    return means.item(0) - means.item(1) \n",
    "\n",
    "observed_statistic = test_statistic(aqi_4)\n",
    "print(observed_statistic)"
   ]
  },
  {
   "cell_type": "code",
   "execution_count": 64,
   "id": "217e1062-5305-4f9a-a16b-50870149105c",
   "metadata": {},
   "outputs": [
    {
     "name": "stdout",
     "output_type": "stream",
     "text": [
      "-319.44334975369475\n"
     ]
    }
   ],
   "source": [
    "# SOLUTION\n",
    "def simulate_precipitation_null():\n",
    "    # BEGIN SOLUTION\n",
    "    shuffled_frame = aqi_4.sample(with_replacement=False)\n",
    "    permuted_table = aqi_4.with_column('Label', shuffled_frame.column('Label'))\n",
    "    return test_statistic(permuted_table)\n",
    "    # END SOLUTION\n",
    "\n",
    "# Run your function a couple times to make sure that it works\n",
    "print(simulate_precipitation_null())"
   ]
  },
  {
   "cell_type": "code",
   "execution_count": 68,
   "id": "ab4d6c07-5423-49b5-b8b1-3f4a75eaadcd",
   "metadata": {},
   "outputs": [
    {
     "data": {
      "image/png": "[encoded data removed]",
      "text/plain": [
       "<Figure size 600x400 with 1 Axes>"
      ]
     },
     "metadata": {},
     "output_type": "display_data"
    }
   ],
   "source": [
    "# SOLUTION\n",
    "sampled_stats = make_array() # SOLUTION\n",
    "\n",
    "repetitions = 5000 # SOLUTION\n",
    "for i in np.arange(repetitions):\n",
    "    # BEGIN SOLUTION\n",
    "    new_difference = simulate_precipitation_null()\n",
    "    sampled_stats = np.append(sampled_stats, new_difference)\n",
    "    # END SOLUTION\n",
    "\n",
    "# Do not change these lines\n",
    "Table().with_column('Difference Between Means', sampled_stats).hist()"
   ]
  },
  {
   "cell_type": "markdown",
   "id": "3ca8ed50-200a-4b61-9e3d-a6fff7674642",
   "metadata": {},
   "source": [
    "#### Enter prompt below:"
   ]
  },
  {
   "cell_type": "code",
   "execution_count": null,
   "id": "d9ba1e22-8a0b-41af-a4c1-5026f068b614",
   "metadata": {},
   "outputs": [],
   "source": [
    "%%ai openai-chat:gpt-3.5-turbo"
   ]
  },
  {
   "cell_type": "markdown",
   "id": "c7d96fdb-f9d8-4aa0-9ee3-5b0e6a192241",
   "metadata": {},
   "source": [
    "#### Explain your answer below:"
   ]
  },
  {
   "cell_type": "markdown",
   "id": "318ed863-eaaa-4319-acaf-ccd1b045ba40",
   "metadata": {},
   "source": [
    "_type your answer here_"
   ]
  },
  {
   "cell_type": "markdown",
   "id": "f5e3200b-d50d-4125-b824-70bca8157aaf",
   "metadata": {},
   "source": [
    "**Question 6:** \n",
    "What could a possible null and alternate hypotheses for Question 5 be? State them.\n",
    "\n",
    "Using the observed test statistic and the array of sample test statistics, compute the p-value for the hypothesis test. Remember, we introduce p-values and how to compute them in [Ch 11.3 Decisions and Uncertainty](https://inferentialthinking.com/chapters/11/3/Decisions_and_Uncertainty.html). State a conclusion from this test using a p-value cutoff of 5%."
   ]
  },
  {
   "cell_type": "code",
   "execution_count": 72,
   "id": "09a6752d-1c4a-4bb9-a854-2cd1ba317e8d",
   "metadata": {},
   "outputs": [
    {
     "name": "stdout",
     "output_type": "stream",
     "text": [
      "0.4082\n",
      "Null: There is no difference in average total Median AQI among Northern States and Southern States\n",
      "Alternate: There is a significant difference in the average total Median AQI between Northern and Southern States.\n",
      "Because the p-value is greater than the 5% p-value cutoff, our results are not statistically significant and we fail to reject the null hypothesis.\n"
     ]
    }
   ],
   "source": [
    "#SOLUTION\n",
    "p_val = np.count_nonzero(sampled_stats <= observed_statistic) / repetitions # SOLUTION\n",
    "print(p_val)\n",
    "print(\"Null: There is no difference in average total Median AQI among Northern States and Southern States\")\n",
    "print(\"Alternate: There is a significant difference in the average total Median AQI between Northern and Southern States.\")  \n",
    "print(\"Because the p-value is greater than the 5% p-value cutoff, our results are not statistically significant and we fail to reject the null hypothesis.\")"
   ]
  },
  {
   "cell_type": "markdown",
   "id": "595b48ee-8f9e-411c-b2b1-c205d8c4ab84",
   "metadata": {},
   "source": [
    "#### Enter prompt below:"
   ]
  },
  {
   "cell_type": "code",
   "execution_count": null,
   "id": "6eaa9715-87f1-4571-b454-e03104dff8df",
   "metadata": {},
   "outputs": [],
   "source": [
    "%%ai openai-chat:gpt-3.5-turbo"
   ]
  },
  {
   "cell_type": "markdown",
   "id": "38ac8907-13ef-4491-9dee-e0e89b0577bb",
   "metadata": {},
   "source": [
    "#### Explain your answer below:"
   ]
  },
  {
   "cell_type": "markdown",
   "id": "becbaef0-0bf9-43e4-8864-8f3bc1a52e00",
   "metadata": {},
   "source": [
    "_type your answer here_"
   ]
  },
  {
   "cell_type": "markdown",
   "id": "643ddfd7-11e0-4961-8186-8d1a9cd32d24",
   "metadata": {},
   "source": [
    "**Question 7:**  Choose multiple specific states you want to analyze and divide the counties into West Coast and East Coast counties based on their state [U.S. Map](https://upload.wikimedia.org/wikipedia/commons/a/a4/Map_of_USA_with_state_and_territory_names_2.png). Create a table that has one row for each county in 2023 with its average `Days Ozone`. You should not use all the states. Let's begin the process of conducting an A/B test investigating the differences in average `Median AQI` between West Coast and East Coast States. Please define a null and alternate hypothesis, create appropriate visuals to display and compare the two distributions, and compute your test statistic. What does your test statistic mean in context?"
   ]
  },
  {
   "cell_type": "code",
   "execution_count": 156,
   "id": "1690bcf5-1c8b-4356-9106-db42f737c5c3",
   "metadata": {},
   "outputs": [
    {
     "data": {
      "image/png": "[encoded data removed]",
      "text/plain": [
       "<Figure size 600x400 with 1 Axes>"
      ]
     },
     "metadata": {},
     "output_type": "display_data"
    }
   ],
   "source": [
    "#SOLUTION\n",
    "west_states = [\"New York\"]\n",
    "east_states = [\"New Jersey\"]\n",
    "\n",
    "\n",
    "def test_statistic(t):\n",
    "    means = t.group(\"Label\", np.mean).column(1) \n",
    "    return means.item(0) - means.item(1) \n",
    "\n",
    "observed_statistic = test_statistic(aqi_4)\n",
    "totals1 = aqi.group([\"County\", \"State\"], sum)\n",
    "empty_list1 = []\n",
    "for entry in totals1.column(\"State\"):\n",
    "    if entry in west_states:\n",
    "        empty_list1.append(\"West\")\n",
    "    elif entry in east_states:\n",
    "        empty_list1.append(\"East\")\n",
    "    else:\n",
    "        empty_list1.append(None)\n",
    "\n",
    "observed_statistic1 = test_statistic(aqi_7)\n",
    "        \n",
    "totals1['Label'] = empty_list1\n",
    "totals1 = totals1.where('Label', are.not_equal_to(None))\n",
    "totals1\n",
    "aqi_7 = totals1.select('Label', \"Moderate Days sum\") # SOLUTION\n",
    "aqi_7.hist(\"Moderate Days sum\", group=\"Label\", bins = 10) # SOLUTION"
   ]
  },
  {
   "cell_type": "code",
   "execution_count": 157,
   "id": "6bca9d8c-7ec3-42f0-b488-d6bfbf21f41b",
   "metadata": {},
   "outputs": [
    {
     "name": "stdout",
     "output_type": "stream",
     "text": [
      "169.44612068965517\n"
     ]
    }
   ],
   "source": [
    "observed_statistic = test_statistic(aqi_7)\n",
    "print(observed_statistic)"
   ]
  },
  {
   "cell_type": "code",
   "execution_count": 167,
   "id": "91643147-42b7-4c69-94fd-934811306fa3",
   "metadata": {},
   "outputs": [
    {
     "name": "stdout",
     "output_type": "stream",
     "text": [
      "71.39655172413791\n"
     ]
    },
    {
     "data": {
      "image/png": "[encoded data removed]",
      "text/plain": [
       "<Figure size 600x400 with 1 Axes>"
      ]
     },
     "metadata": {},
     "output_type": "display_data"
    }
   ],
   "source": [
    "# SOLUTION\n",
    "sampled_stats1 = make_array() # SOLUTION\n",
    "\n",
    "repetitions1 = 5000 # SOLUTION\n",
    "for i in np.arange(repetitions1):\n",
    "    # BEGIN SOLUTION\n",
    "    new_difference1 = simulate_precipitation_null()\n",
    "    sampled_stats1 = np.append(sampled_stats1, new_difference1)\n",
    "    # END SOLUTION\n",
    "\n",
    "def simulate_precipitation_null():\n",
    "    # BEGIN SOLUTION\n",
    "    shuffled_frame = aqi_7.sample(with_replacement=False)\n",
    "    permuted_table = aqi_7.with_column('Label', shuffled_frame.column('Label'))\n",
    "    return test_statistic(permuted_table)\n",
    "    # END SOLUTION\n",
    "\n",
    "# Run your function a couple times to make sure that it works\n",
    "print(simulate_precipitation_null())\n",
    "\n",
    "# Do not change these lines\n",
    "Table().with_column('Difference Between Means', sampled_stats1).hist()"
   ]
  },
  {
   "cell_type": "code",
   "execution_count": 169,
   "id": "a3194390-d00d-468a-bf43-ce4d575fab3d",
   "metadata": {},
   "outputs": [
    {
     "name": "stdout",
     "output_type": "stream",
     "text": [
      "0.5656\n"
     ]
    }
   ],
   "source": [
    "p_val = np.count_nonzero(sampled_stats <= observed_statistic) / repetitions # SOLUTION\n",
    "print(p_val)"
   ]
  },
  {
   "cell_type": "markdown",
   "id": "b30c0fa2-65f2-4bde-8e00-d70bcab69128",
   "metadata": {},
   "source": [
    "#### Enter prompt below:"
   ]
  },
  {
   "cell_type": "code",
   "execution_count": null,
   "id": "761848fe-520a-4d23-8cdd-6c13661bc501",
   "metadata": {},
   "outputs": [],
   "source": [
    "%%ai openai-chat:gpt-3.5-turbo"
   ]
  },
  {
   "cell_type": "markdown",
   "id": "8c402e09-7c20-40c1-ac00-42ea027942ca",
   "metadata": {},
   "source": [
    "#### Explain your answer below:"
   ]
  },
  {
   "cell_type": "markdown",
   "id": "7a46c80f-3c8e-431f-86b2-6c3cd9b4e1c8",
   "metadata": {},
   "source": [
    "_type your answer here_"
   ]
  },
  {
   "cell_type": "markdown",
   "id": "51b5ec14-8045-48d3-8857-b413a224f619",
   "metadata": {},
   "source": [
    "**Question 8:** Continue the A/B test from Question 7. Simulate the test statistic under the null hypotheses and visualize the results. Compute the p-value for the test and state the conclusion of the hypothesis test.\n"
   ]
  },
  {
   "cell_type": "code",
   "execution_count": 137,
   "id": "efe645d9-487c-4ecd-a4b0-5c61c626da84",
   "metadata": {},
   "outputs": [
    {
     "name": "stdout",
     "output_type": "stream",
     "text": [
      "15.631465517241395\n"
     ]
    }
   ],
   "source": [
    "#SOLUTION\n",
    "# SOLUTION\n",
    "def simulate_precipitation_null():\n",
    "    # BEGIN SOLUTION\n",
    "    shuffled_frame = aqi_7.sample(with_replacement=False)\n",
    "    permuted_table = aqi_7.with_column('Label', shuffled_frame.column('Label'))\n",
    "    return test_statistic(permuted_table)\n",
    "    # END SOLUTION\n",
    "\n",
    "# Run your function a couple times to make sure that it works\n",
    "print(simulate_precipitation_null())"
   ]
  },
  {
   "cell_type": "markdown",
   "id": "5c57e752-8854-4685-9dee-98924813931a",
   "metadata": {},
   "source": [
    "#### Enter prompt below:"
   ]
  },
  {
   "cell_type": "code",
   "execution_count": null,
   "id": "eeee1415-9149-4799-8eda-300fe3101d83",
   "metadata": {},
   "outputs": [],
   "source": [
    "%%ai openai-chat:gpt-3.5-turbo"
   ]
  },
  {
   "cell_type": "markdown",
   "id": "d725fdc9-a25a-44af-a7fd-3f0e249c449b",
   "metadata": {},
   "source": [
    "#### Explain your answer below:"
   ]
  },
  {
   "cell_type": "markdown",
   "id": "4f30a1fc-3130-40bd-823c-576977193e2f",
   "metadata": {},
   "source": [
    "_type your answer here_"
   ]
  },
  {
   "cell_type": "markdown",
   "id": "cf4c30d9-89da-4ccd-8cb7-133acb1bf8d4",
   "metadata": {},
   "source": [
    "**Question 9 (Novel Analysis Part 1):**\n",
    "\n",
    "Design your own A/B test! Choose one variable whose trends you would like to investigate, and create a new table with that variable's data for the years and states you would like to analyze. Remember to divide the overall table into two groups that you want to compare for the test, and conduct an A/B test investigating the differences between the two groups.\n",
    "\n",
    "Let's begin the process.\r\n",
    "\r\n",
    "a) Define null and alternate hypotheses.\r\n",
    "\r\n",
    "b) Create a new table with state grouping and the average Median AQI for the states you choseCreate a\r\n",
    "\r\n",
    "c) Appropriate visuals to display and compare the two distr.ypothesis test"
   ]
  },
  {
   "cell_type": "code",
   "execution_count": null,
   "id": "a026b6b8-6336-44a7-a36c-c6b4384b6393",
   "metadata": {},
   "outputs": [],
   "source": [
    "#SOLUTION"
   ]
  },
  {
   "cell_type": "markdown",
   "id": "bc232860-b7a4-465c-b015-047ae03c7ff0",
   "metadata": {},
   "source": [
    "#### Enter prompt below:"
   ]
  },
  {
   "cell_type": "code",
   "execution_count": null,
   "id": "2b638ac1-5184-4ed3-a9a9-fb3a01460b12",
   "metadata": {},
   "outputs": [],
   "source": [
    "%%ai openai-chat:gpt-3.5-turbo"
   ]
  },
  {
   "cell_type": "markdown",
   "id": "029ea2d2-be56-4887-b781-8a8f88059876",
   "metadata": {},
   "source": [
    "#### Explain your answer below:"
   ]
  },
  {
   "cell_type": "markdown",
   "id": "e8763c9f-7505-491a-8ae6-6547ccb82a67",
   "metadata": {},
   "source": [
    "_type your answer here_"
   ]
  },
  {
   "cell_type": "markdown",
   "id": "92eb495c-66f3-4cdf-83cd-36dac88b1f5f",
   "metadata": {},
   "source": [
    "**Question 10 (Novel Analysis Part 2)**"
   ]
  },
  {
   "cell_type": "markdown",
   "id": "7de2e2f2-bc35-4b8b-b7f6-356117f24850",
   "metadata": {},
   "source": [
    "Continue the A/B Test from Question 9!\n",
    "\n",
    "a) State your test statistic value and what it means in context.\n",
    "\n",
    "b) Simulate the test statistic under the null hypotheses and visualize the results.\n",
    "\n",
    "c) Compute the p-value for the test and state the conclusion of the hypothesis test."
   ]
  },
  {
   "cell_type": "code",
   "execution_count": null,
   "id": "4265c8a2-7a46-4aab-93a1-3565ad75a7f8",
   "metadata": {},
   "outputs": [],
   "source": [
    "#SOLUTION"
   ]
  },
  {
   "cell_type": "markdown",
   "id": "f0c8c186-ae99-4110-ac4d-d3cd7dda85cd",
   "metadata": {},
   "source": [
    "#### Enter prompt below:"
   ]
  },
  {
   "cell_type": "code",
   "execution_count": null,
   "id": "828c79cc-fc16-4064-a5e9-cffd0d2f8dd6",
   "metadata": {},
   "outputs": [],
   "source": [
    "%%ai openai-chat:gpt-3.5-turbo"
   ]
  },
  {
   "cell_type": "markdown",
   "id": "eb583122-39b8-40fe-bbe7-b4da1e861cf8",
   "metadata": {},
   "source": [
    "#### Explain your answer below:"
   ]
  },
  {
   "cell_type": "markdown",
   "id": "54a31bc4-3a3e-445a-a5ce-9b746e35fb48",
   "metadata": {},
   "source": [
    "_type your answer here_"
   ]
  }
 ],
 "metadata": {
  "kernelspec": {
   "display_name": "Python 3 (ipykernel)",
   "language": "python",
   "name": "python3"
  },
  "language_info": {
   "codemirror_mode": {
    "name": "ipython",
    "version": 3
   },
   "file_extension": ".py",
   "mimetype": "text/x-python",
   "name": "python",
   "nbconvert_exporter": "python",
   "pygments_lexer": "ipython3",
   "version": "3.11.5"
  }
 },
 "nbformat": 4,
 "nbformat_minor": 5
}
