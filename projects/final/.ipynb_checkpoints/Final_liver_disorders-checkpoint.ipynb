{
 "cells": [
  {
   "cell_type": "code",
   "execution_count": 8,
   "id": "46f7b5a2-34a8-4076-99dd-76b7232b13d7",
   "metadata": {},
   "outputs": [
    {
     "name": "stdout",
     "output_type": "stream",
     "text": [
      "The jupyter_ai_magics extension is already loaded. To reload it, use:\n",
      "  %reload_ext jupyter_ai_magics\n"
     ]
    }
   ],
   "source": [
    "%load_ext jupyter_ai_magics\n",
    "from datascience import *\n",
    "import numpy as np\n",
    "import math\n",
    "import matplotlib.pyplot as plt\n",
    "%matplotlib inline"
   ]
  },
  {
   "cell_type": "markdown",
   "id": "8a9a667a-d89f-4d88-952e-e75350ecc37b",
   "metadata": {},
   "source": [
    "# CMPSC 5A Final — Liver Disorders\n",
    "\n"
   ]
  },
  {
   "cell_type": "markdown",
   "id": "80dc3de0-df2b-476f-b023-9cd3668f8ff1",
   "metadata": {},
   "source": [
    "## Names\n",
    "Please list all students who worked on this project.\n",
    "1. Student Name 1\n",
    "2. Student Name 2\n",
    "3. Student Name 3"
   ]
  },
  {
   "cell_type": "markdown",
   "id": "c78c06c3-605d-4654-8c81-72103e96bc6f",
   "metadata": {},
   "source": [
    "## Liver Disorders Dataset"
   ]
  },
  {
   "cell_type": "markdown",
   "id": "819519cc-0f68-48fa-8be0-ab7e0fc79172",
   "metadata": {},
   "source": [
    "Death by liver cirrhosis continues to increase, given the increase in alcohol consumption rates, chronic hepatitis infections, and obesity-related liver disease. Notwithstanding the high mortality of this disease, liver diseases do not affect all sub-populations equally. The early detection of pathology is a determinant of patient outcomes. The dataset comprises 584 patient records collected from the NorthEast of Andhra Pradesh, India. \n",
    "* **Age**: Patient's age.\n",
    "* **Gender**: Patient's gender.\n",
    "* **Total Bilirubin**: The total amount of bilirubin in the blood, a yellow pigment produced by the breakdown of red blood cells.\n",
    "* **Direct Bilirubin**: The direct fraction of bilirubin, specifically associated with liver function.\n",
    "* **Total Proteins**: The total amount of proteins in the blood, including albumin and globulins.\n",
    "* **Albumin**: A protein synthesized by the liver, crucial for maintaining blood volume and pressure.\n",
    "* **A/G Ratio**: The ratio of albumin to globulins, providing insights into liver and kidney function.\n",
    "* **SGPT (Serum Glutamic Pyruvic Transaminase)**: An enzyme indicating liver health; elevated levels may suggest liver damage.\n",
    "* **SGOT (Serum Glutamic Oxaloacetic Transaminase)**: Another liver enzyme reflecting liver function; elevated levels may indicate liver problems.\n",
    "* **Alkphos (Alkaline Phosphatase)**: An enzyme associated with the biliary system; elevated levels may indicate liver or bone issues.\n",
    "*  **Selector**: Class labels for healthy (*1*) vs diagnosed with liver desease (*2*) patients."
   ]
  },
  {
   "cell_type": "markdown",
   "id": "8bc965af-e5e8-4ff7-aad3-9be160bb78a5",
   "metadata": {},
   "source": [
    "Please refer to Chapter [12.1: A/B Testing](https://inferentialthinking.com/chapters/12/1/AB_Testing.html) when completing this final project as many of the questions use concepts covered there!"
   ]
  },
  {
   "cell_type": "code",
   "execution_count": 2,
   "id": "fdeffad4-c7f0-4e73-b85d-3c7d52dba336",
   "metadata": {},
   "outputs": [
    {
     "data": {
      "text/html": [
       "<table border=\"1\" class=\"dataframe\">\n",
       "    <thead>\n",
       "        <tr>\n",
       "            <th>Age</th> <th>Gender</th> <th>TB</th> <th>DB</th> <th>Alkphos</th> <th>Sgpt</th> <th>Sgot</th> <th>TP</th> <th>ALB</th> <th>A/G Ratio</th> <th>Selector</th>\n",
       "        </tr>\n",
       "    </thead>\n",
       "    <tbody>\n",
       "        <tr>\n",
       "            <td>65  </td> <td>Female</td> <td>0.7 </td> <td>0.1 </td> <td>187    </td> <td>16  </td> <td>18  </td> <td>6.8 </td> <td>3.3 </td> <td>0.9      </td> <td>1       </td>\n",
       "        </tr>\n",
       "        <tr>\n",
       "            <td>62  </td> <td>Male  </td> <td>10.9</td> <td>5.5 </td> <td>699    </td> <td>64  </td> <td>100 </td> <td>7.5 </td> <td>3.2 </td> <td>0.74     </td> <td>1       </td>\n",
       "        </tr>\n",
       "        <tr>\n",
       "            <td>62  </td> <td>Male  </td> <td>7.3 </td> <td>4.1 </td> <td>490    </td> <td>60  </td> <td>68  </td> <td>7   </td> <td>3.3 </td> <td>0.89     </td> <td>1       </td>\n",
       "        </tr>\n",
       "        <tr>\n",
       "            <td>58  </td> <td>Male  </td> <td>1   </td> <td>0.4 </td> <td>182    </td> <td>14  </td> <td>20  </td> <td>6.8 </td> <td>3.4 </td> <td>1        </td> <td>1       </td>\n",
       "        </tr>\n",
       "        <tr>\n",
       "            <td>72  </td> <td>Male  </td> <td>3.9 </td> <td>2   </td> <td>195    </td> <td>27  </td> <td>59  </td> <td>7.3 </td> <td>2.4 </td> <td>0.4      </td> <td>1       </td>\n",
       "        </tr>\n",
       "        <tr>\n",
       "            <td>46  </td> <td>Male  </td> <td>1.8 </td> <td>0.7 </td> <td>208    </td> <td>19  </td> <td>14  </td> <td>7.6 </td> <td>4.4 </td> <td>1.3      </td> <td>1       </td>\n",
       "        </tr>\n",
       "        <tr>\n",
       "            <td>26  </td> <td>Female</td> <td>0.9 </td> <td>0.2 </td> <td>154    </td> <td>16  </td> <td>12  </td> <td>7   </td> <td>3.5 </td> <td>1        </td> <td>1       </td>\n",
       "        </tr>\n",
       "        <tr>\n",
       "            <td>29  </td> <td>Female</td> <td>0.9 </td> <td>0.3 </td> <td>202    </td> <td>14  </td> <td>11  </td> <td>6.7 </td> <td>3.6 </td> <td>1.1      </td> <td>1       </td>\n",
       "        </tr>\n",
       "        <tr>\n",
       "            <td>17  </td> <td>Male  </td> <td>0.9 </td> <td>0.3 </td> <td>202    </td> <td>22  </td> <td>19  </td> <td>7.4 </td> <td>4.1 </td> <td>1.2      </td> <td>2       </td>\n",
       "        </tr>\n",
       "        <tr>\n",
       "            <td>55  </td> <td>Male  </td> <td>0.7 </td> <td>0.2 </td> <td>290    </td> <td>53  </td> <td>58  </td> <td>6.8 </td> <td>3.4 </td> <td>1        </td> <td>1       </td>\n",
       "        </tr>\n",
       "    </tbody>\n",
       "</table>\n",
       "<p>... (573 rows omitted)</p>"
      ],
      "text/plain": [
       "<IPython.core.display.HTML object>"
      ]
     },
     "metadata": {},
     "output_type": "display_data"
    }
   ],
   "source": [
    "# Read the dataset\n",
    "patients_uncleaned = Table.read_table(\"data/Indian Liver Patient Dataset (ILPD).csv\")\n",
    "\n",
    "# Display the first few rows of the table\n",
    "patients_uncleaned.show(10)"
   ]
  },
  {
   "cell_type": "markdown",
   "id": "4edbe877-1e0e-4363-878f-cc04a488f270",
   "metadata": {},
   "source": [
    "**Question 1.** As you you've already learned while working on your midterm project, real-world datasets do not always have complete information! Missing values (`nan`) can be spotted in the dataset that was provided. Let's do some data cleaning first and then understand what each of the columns means.\n",
    "\n",
    "There are many ways to work with missing or skewed data. For now, we will just choose to delete any rows that have missing information. Name the final table something meaningful - like `patients`. This will be the table we use to answer all the other questions.\n",
    "\n",
    "Hint: One way you can do this is by writing a function and then using the `apply()` function."
   ]
  },
  {
   "cell_type": "code",
   "execution_count": 3,
   "id": "2c304fcf-f911-41d2-af9c-ba10c11380be",
   "metadata": {},
   "outputs": [],
   "source": [
    "# SOLUTION\n",
    "\n",
    "def count_nan(row):\n",
    "    count = 0\n",
    "    for value in row:\n",
    "        #NaN values\n",
    "        if value!=value:\n",
    "            count=count+1\n",
    "        if value=='nan':\n",
    "            count=count+1\n",
    "    return count\n",
    "\n",
    "patients = patients_uncleaned.with_column('all_nan_count', patients_uncleaned.apply(count_nan))\n",
    "patients_data_clean  = patients.where('all_nan_count',are.equal_to(0))"
   ]
  },
  {
   "cell_type": "markdown",
   "id": "14de6f19-3584-44ec-adce-35fd02e7722e",
   "metadata": {},
   "source": [
    "### Enter prompt below:\n"
   ]
  },
  {
   "cell_type": "code",
   "execution_count": 4,
   "id": "62f3c267-df0f-44a0-95a4-d0d449cfc10a",
   "metadata": {},
   "outputs": [
    {
     "name": "stderr",
     "output_type": "stream",
     "text": [
      "UsageError: %%ai is a cell magic, but the cell body is empty. Did you mean the line magic %ai (single %)?\n"
     ]
    }
   ],
   "source": [
    "%%ai openai-chat:gpt-3.5-turbo"
   ]
  },
  {
   "cell_type": "markdown",
   "id": "0755b1ed-233a-4b06-b25f-1bf780239a87",
   "metadata": {},
   "source": [
    "### Explain your answer below:\n",
    "\n",
    "*type your answer here*\n",
    "\n"
   ]
  },
  {
   "cell_type": "markdown",
   "id": "adac24a5-0988-44b6-9f5b-d0cb9895adc9",
   "metadata": {},
   "source": [
    "**Question 2.** Explore the relationship between the *Total Proteins* and *Albumin*. Is there a correlation between the total amount of proteins in the blood and albumin? Think about what kind of plots you can make to show a correlation between two columns? What do you infer from this plot?"
   ]
  },
  {
   "cell_type": "code",
   "execution_count": 105,
   "id": "be5920ad-bc7f-4035-84f7-42ba262e0290",
   "metadata": {},
   "outputs": [
    {
     "data": {
      "image/png": "[encoded data removed]",
      "text/plain": [
       "<Figure size 500x500 with 1 Axes>"
      ]
     },
     "metadata": {},
     "output_type": "display_data"
    }
   ],
   "source": [
    "#apps_data_clean=apps_data_clean.apply(price_int,'Price')\n",
    "patients_data_clean.scatter('TP','ALB')"
   ]
  },
  {
   "cell_type": "markdown",
   "id": "00e232e5-b5eb-40f3-89d4-4eeb5a2c9958",
   "metadata": {},
   "source": [
    "### Enter prompt below:\n"
   ]
  },
  {
   "cell_type": "code",
   "execution_count": null,
   "id": "05886ae5-3c16-43c6-8f3a-311b1b712d44",
   "metadata": {},
   "outputs": [],
   "source": [
    "%%ai openai-chat:gpt-3.5-turbo"
   ]
  },
  {
   "cell_type": "markdown",
   "id": "0b0d1681-1510-42a1-bc28-90dd570c9120",
   "metadata": {},
   "source": [
    "### Explain your answer below:\n",
    "\n",
    "*type your answer here*\n",
    "\n"
   ]
  },
  {
   "cell_type": "markdown",
   "id": "d8dc4ebb-c6ed-4e69-a168-167d21a56bad",
   "metadata": {},
   "source": [
    "**Question 3.** Analyze the distribution of the ages of subjects in the dataset. Are most of the subjects young, old, or is there a uniform distribution across different ages?"
   ]
  },
  {
   "cell_type": "code",
   "execution_count": 115,
   "id": "62766ead-1553-46b1-9770-bbc537e07f69",
   "metadata": {},
   "outputs": [
    {
     "data": {
      "image/png": "[encoded data removed]",
      "text/plain": [
       "<Figure size 1000x600 with 1 Axes>"
      ]
     },
     "metadata": {},
     "output_type": "display_data"
    }
   ],
   "source": [
    "# SOLUTION\n",
    "\n",
    "dist = patients_data_clean.sort('Age', descending=True)\n",
    "dist = dist.group('Age')\n",
    "dist = dist.sort('count', descending=True)\n",
    "\n",
    "\n",
    "age = temp2.column('Age')\n",
    "count = temp2.column('count')\n",
    "\n",
    "plt.figure(figsize=(10, 6))\n",
    "plt.bar(age, count)\n",
    "plt.xlabel('Age')\n",
    "plt.ylabel('Count')\n",
    "plt.title('Frequency of subjects age')\n",
    "plt.show()"
   ]
  },
  {
   "cell_type": "markdown",
   "id": "2d99e145-049e-43ea-a2ff-d10b0f4ba9c1",
   "metadata": {},
   "source": [
    "### Enter prompt below:\n"
   ]
  },
  {
   "cell_type": "code",
   "execution_count": null,
   "id": "c842a000-5a36-456b-aa2c-f55d39746087",
   "metadata": {},
   "outputs": [],
   "source": [
    "%%ai openai-chat:gpt-3.5-turbo"
   ]
  },
  {
   "cell_type": "markdown",
   "id": "22d03c8a-2c65-4f21-b766-68af6afc200b",
   "metadata": {},
   "source": [
    "### Explain your answer below:\n",
    "\n",
    "*type your answer here*\n",
    "\n"
   ]
  },
  {
   "cell_type": "markdown",
   "id": "fd50a651-faed-4db4-9ebf-2f064536ce18",
   "metadata": {},
   "source": [
    "**Question 4.** What is the probability of a man under the age of 60 being diagnosed with liver disease? What about a woman under the same age? Visualize the two probabilities.\n"
   ]
  },
  {
   "cell_type": "code",
   "execution_count": 7,
   "id": "83f87e1d-62cb-4e36-b498-12f97e11f645",
   "metadata": {},
   "outputs": [],
   "source": [
    "# SOLUTION "
   ]
  },
  {
   "cell_type": "markdown",
   "id": "293b37ea-eea8-4839-a4b3-5408d71a8708",
   "metadata": {},
   "source": [
    "### Enter prompt below:\n"
   ]
  },
  {
   "cell_type": "code",
   "execution_count": null,
   "id": "b41ca234-83c6-4809-9289-af737ed84d37",
   "metadata": {},
   "outputs": [],
   "source": [
    "%%ai openai-chat:gpt-3.5-turbo"
   ]
  },
  {
   "cell_type": "markdown",
   "id": "b9024949-22b7-4b77-859e-672322ee1c6e",
   "metadata": {},
   "source": [
    "### Explain your answer below:\n",
    "\n",
    "*type your answer here*\n",
    "\n"
   ]
  },
  {
   "cell_type": "markdown",
   "id": "ee5de9b7-2bd7-4f69-9c92-b888decbfba8",
   "metadata": {},
   "source": [
    "**Question 5.** Plot a graph that shows how the total amount of bilirubin (TB) in the blood changes with respect to the direct fraction of bilirubin (DB) for female subjects who suffer from liver cirrhosis. Is a high concentration of bilirubin in the blood associated with an elevated direct fraction of bilirubin?"
   ]
  },
  {
   "cell_type": "code",
   "execution_count": 1,
   "id": "d4a49a01-cee9-4afc-bc84-6a6f993e8a4a",
   "metadata": {},
   "outputs": [
    {
     "ename": "NameError",
     "evalue": "name 'patients_data_clean' is not defined",
     "output_type": "error",
     "traceback": [
      "\u001b[0;31m---------------------------------------------------------------------------\u001b[0m",
      "\u001b[0;31mNameError\u001b[0m                                 Traceback (most recent call last)",
      "Cell \u001b[0;32mIn[1], line 2\u001b[0m\n\u001b[1;32m      1\u001b[0m \u001b[38;5;66;03m# Soloution incorrect - Scatter plot expected\u001b[39;00m\n\u001b[0;32m----> 2\u001b[0m temp\u001b[38;5;241m=\u001b[39mpatients_data_clean\u001b[38;5;241m.\u001b[39mwhere(\u001b[38;5;124m'\u001b[39m\u001b[38;5;124mGender\u001b[39m\u001b[38;5;124m'\u001b[39m,\u001b[38;5;124m'\u001b[39m\u001b[38;5;124mFemale\u001b[39m\u001b[38;5;124m'\u001b[39m)\u001b[38;5;241m.\u001b[39mwhere(\u001b[38;5;124m'\u001b[39m\u001b[38;5;124mSelector\u001b[39m\u001b[38;5;124m'\u001b[39m,\u001b[38;5;241m2\u001b[39m)\u001b[38;5;241m.\u001b[39msort(\u001b[38;5;124m'\u001b[39m\u001b[38;5;124mTB\u001b[39m\u001b[38;5;124m'\u001b[39m)\n\u001b[1;32m      3\u001b[0m created_year \u001b[38;5;241m=\u001b[39m temp\u001b[38;5;241m.\u001b[39mcolumn(\u001b[38;5;124m'\u001b[39m\u001b[38;5;124mTB\u001b[39m\u001b[38;5;124m'\u001b[39m)\n\u001b[1;32m      4\u001b[0m count \u001b[38;5;241m=\u001b[39m temp\u001b[38;5;241m.\u001b[39mcolumn(\u001b[38;5;124m'\u001b[39m\u001b[38;5;124mDB\u001b[39m\u001b[38;5;124m'\u001b[39m)\n",
      "\u001b[0;31mNameError\u001b[0m: name 'patients_data_clean' is not defined"
     ]
    }
   ],
   "source": [
    "# Soloution incorrect - Scatter plot expected\n",
    "temp=patients_data_clean.where('Gender','Female').where('Selector',2).sort('TB')\n",
    "created_year = temp.column('TB')\n",
    "count = temp.column('DB')\n",
    "\n",
    "plt.plot(created_year, count)\n",
    "plt.xlabel('Created Year')\n",
    "plt.ylabel('Count')\n",
    "plt.title('Trend of Count over Created Years')\n",
    "plt.show()"
   ]
  },
  {
   "cell_type": "markdown",
   "id": "dd1b89a2-fc5c-4b51-81af-93597caaa6c6",
   "metadata": {},
   "source": [
    "### Enter prompt below:\n"
   ]
  },
  {
   "cell_type": "code",
   "execution_count": null,
   "id": "1c35be2a-402a-458a-9227-19dc8aa4af9f",
   "metadata": {},
   "outputs": [],
   "source": [
    "%%ai openai-chat:gpt-3.5-turbo"
   ]
  },
  {
   "cell_type": "markdown",
   "id": "e036e59e-393a-41c6-b2fb-658c605a567f",
   "metadata": {},
   "source": [
    "### Explain your answer below:\n",
    "\n",
    "*type your answer here*\n",
    "\n"
   ]
  },
  {
   "cell_type": "markdown",
   "id": "43086de2-9989-40c0-9dbd-301e692628ff",
   "metadata": {},
   "source": [
    "**Question 6.** We will now perform a hypothesis test. A new study has recently been published saying liver cirrhosis is way more likely for men than it is for women. Evaluate the validity of this model based on your dataset. What could the null and alternate hypotheses be? Create a visualization to display the distribution of test statistic.\n",
    "\n",
    "*Hint*: Assume the prevalence of liver cirrhosis is the same for both men and women in the dataset, meaning that individual probabilities will not depend on various factors and can be derived directly from the patients' gender ratio."
   ]
  },
  {
   "cell_type": "code",
   "execution_count": 11,
   "id": "507608a8-8cee-4631-95ae-14f4c035d15f",
   "metadata": {},
   "outputs": [
    {
     "data": {
      "text/html": [
       "<table border=\"1\" class=\"dataframe\">\n",
       "    <thead>\n",
       "        <tr>\n",
       "            <th>Age</th> <th>Gender</th> <th>TB</th> <th>DB</th> <th>Alkphos</th> <th>Sgpt</th> <th>Sgot</th> <th>TP</th> <th>ALB</th> <th>A/G Ratio</th> <th>Selector</th> <th>all_nan_count</th>\n",
       "        </tr>\n",
       "    </thead>\n",
       "    <tbody>\n",
       "        <tr>\n",
       "            <td>65  </td> <td>Female</td> <td>0.7 </td> <td>0.1 </td> <td>187    </td> <td>16  </td> <td>18  </td> <td>6.8 </td> <td>3.3 </td> <td>0.9      </td> <td>1       </td> <td>0            </td>\n",
       "        </tr>\n",
       "        <tr>\n",
       "            <td>62  </td> <td>Male  </td> <td>10.9</td> <td>5.5 </td> <td>699    </td> <td>64  </td> <td>100 </td> <td>7.5 </td> <td>3.2 </td> <td>0.74     </td> <td>1       </td> <td>0            </td>\n",
       "        </tr>\n",
       "        <tr>\n",
       "            <td>62  </td> <td>Male  </td> <td>7.3 </td> <td>4.1 </td> <td>490    </td> <td>60  </td> <td>68  </td> <td>7   </td> <td>3.3 </td> <td>0.89     </td> <td>1       </td> <td>0            </td>\n",
       "        </tr>\n",
       "        <tr>\n",
       "            <td>58  </td> <td>Male  </td> <td>1   </td> <td>0.4 </td> <td>182    </td> <td>14  </td> <td>20  </td> <td>6.8 </td> <td>3.4 </td> <td>1        </td> <td>1       </td> <td>0            </td>\n",
       "        </tr>\n",
       "        <tr>\n",
       "            <td>72  </td> <td>Male  </td> <td>3.9 </td> <td>2   </td> <td>195    </td> <td>27  </td> <td>59  </td> <td>7.3 </td> <td>2.4 </td> <td>0.4      </td> <td>1       </td> <td>0            </td>\n",
       "        </tr>\n",
       "        <tr>\n",
       "            <td>46  </td> <td>Male  </td> <td>1.8 </td> <td>0.7 </td> <td>208    </td> <td>19  </td> <td>14  </td> <td>7.6 </td> <td>4.4 </td> <td>1.3      </td> <td>1       </td> <td>0            </td>\n",
       "        </tr>\n",
       "        <tr>\n",
       "            <td>26  </td> <td>Female</td> <td>0.9 </td> <td>0.2 </td> <td>154    </td> <td>16  </td> <td>12  </td> <td>7   </td> <td>3.5 </td> <td>1        </td> <td>1       </td> <td>0            </td>\n",
       "        </tr>\n",
       "        <tr>\n",
       "            <td>29  </td> <td>Female</td> <td>0.9 </td> <td>0.3 </td> <td>202    </td> <td>14  </td> <td>11  </td> <td>6.7 </td> <td>3.6 </td> <td>1.1      </td> <td>1       </td> <td>0            </td>\n",
       "        </tr>\n",
       "        <tr>\n",
       "            <td>17  </td> <td>Male  </td> <td>0.9 </td> <td>0.3 </td> <td>202    </td> <td>22  </td> <td>19  </td> <td>7.4 </td> <td>4.1 </td> <td>1.2      </td> <td>2       </td> <td>0            </td>\n",
       "        </tr>\n",
       "        <tr>\n",
       "            <td>55  </td> <td>Male  </td> <td>0.7 </td> <td>0.2 </td> <td>290    </td> <td>53  </td> <td>58  </td> <td>6.8 </td> <td>3.4 </td> <td>1        </td> <td>1       </td> <td>0            </td>\n",
       "        </tr>\n",
       "    </tbody>\n",
       "</table>\n",
       "<p>... (569 rows omitted)</p>"
      ],
      "text/plain": [
       "Age  | Gender | TB   | DB   | Alkphos | Sgpt | Sgot | TP   | ALB  | A/G Ratio | Selector | all_nan_count\n",
       "65   | Female | 0.7  | 0.1  | 187     | 16   | 18   | 6.8  | 3.3  | 0.9       | 1        | 0\n",
       "62   | Male   | 10.9 | 5.5  | 699     | 64   | 100  | 7.5  | 3.2  | 0.74      | 1        | 0\n",
       "62   | Male   | 7.3  | 4.1  | 490     | 60   | 68   | 7    | 3.3  | 0.89      | 1        | 0\n",
       "58   | Male   | 1    | 0.4  | 182     | 14   | 20   | 6.8  | 3.4  | 1         | 1        | 0\n",
       "72   | Male   | 3.9  | 2    | 195     | 27   | 59   | 7.3  | 2.4  | 0.4       | 1        | 0\n",
       "46   | Male   | 1.8  | 0.7  | 208     | 19   | 14   | 7.6  | 4.4  | 1.3       | 1        | 0\n",
       "26   | Female | 0.9  | 0.2  | 154     | 16   | 12   | 7    | 3.5  | 1         | 1        | 0\n",
       "29   | Female | 0.9  | 0.3  | 202     | 14   | 11   | 6.7  | 3.6  | 1.1       | 1        | 0\n",
       "17   | Male   | 0.9  | 0.3  | 202     | 22   | 19   | 7.4  | 4.1  | 1.2       | 2        | 0\n",
       "55   | Male   | 0.7  | 0.2  | 290     | 53   | 58   | 6.8  | 3.4  | 1         | 1        | 0\n",
       "... (569 rows omitted)"
      ]
     },
     "execution_count": 11,
     "metadata": {},
     "output_type": "execute_result"
    }
   ],
   "source": [
    "patients_data_clean"
   ]
  },
  {
   "cell_type": "code",
   "execution_count": 55,
   "id": "b407b923-98de-4a89-a049-b0ee66f745f6",
   "metadata": {},
   "outputs": [
    {
     "data": {
      "text/html": [
       "<table border=\"1\" class=\"dataframe\">\n",
       "    <thead>\n",
       "        <tr>\n",
       "            <th>Gender</th> <th>Total Number</th> <th>Number of Patients per Gender</th>\n",
       "        </tr>\n",
       "    </thead>\n",
       "    <tbody>\n",
       "        <tr>\n",
       "            <td>Female</td> <td>140         </td> <td>49                           </td>\n",
       "        </tr>\n",
       "        <tr>\n",
       "            <td>Male  </td> <td>439         </td> <td>116                          </td>\n",
       "        </tr>\n",
       "    </tbody>\n",
       "</table>"
      ],
      "text/plain": [
       "<IPython.core.display.HTML object>"
      ]
     },
     "metadata": {},
     "output_type": "display_data"
    },
    {
     "data": {
      "text/plain": [
       "0.08576309794988607"
      ]
     },
     "execution_count": 55,
     "metadata": {},
     "output_type": "execute_result"
    },
    {
     "data": {
      "image/png": "[encoded data removed]",
      "text/plain": [
       "<Figure size 600x400 with 1 Axes>"
      ]
     },
     "metadata": {},
     "output_type": "display_data"
    }
   ],
   "source": [
    "# SOLUTION\n",
    "\n",
    "gender_counts = patients_data_clean.group('Gender').relabel('count', 'Total Number')\n",
    "gender_counts_lc = patients_data_clean.where('Selector', 2).group('Gender').relabel('count', 'Number of Patients per Gender')\n",
    "\n",
    "# Merge the two tables on 'Gender'\n",
    "gender_counts = gender_counts.join('Gender', gender_counts_lc, 'Gender')\n",
    "\n",
    "gender_counts.show()\n",
    "\n",
    "gender_counts.barh('Gender')\n",
    "\n",
    "#prob_ w=49/140\n",
    "#prob_w==0.35 => prob_m=0.175\n",
    "\n",
    "observed_statistic = (49/140) - (116/439)\n",
    "observed_statistic\n"
   ]
  },
  {
   "cell_type": "markdown",
   "id": "2c0dcd8f-fc69-4b4d-90e3-ea3a8ae6c4a9",
   "metadata": {},
   "source": [
    "**Question 7.** Now use the information you have to conduct an A/B Test. Run simulations and use a p-value cutoff of 5% to determine if your observation is statistically significant"
   ]
  },
  {
   "cell_type": "code",
   "execution_count": 49,
   "id": "ab907411-eb00-4d7c-80de-25c7bbe67a9c",
   "metadata": {},
   "outputs": [],
   "source": [
    "def simulate_once():\n",
    "        shuffled_gender=patients_data_clean.sample(with_replacement=False).column(\"Gender\")\n",
    "        temp = patients_data_clean.select(\"Age\",\"Selector\").with_column(\"Gender\",shuffled_gender)\n",
    "        temp = temp.group([\"Gender\",\"Selector\"])\n",
    "        female_ratio = temp.where(\"Gender\",\"Female\").column('count').item(1)/temp.where(\"Gender\",\"Female\").column('count').item(0)\n",
    "        male_ratio = temp.where(\"Gender\",\"Male\").column('count').item(1)/temp.where(\"Gender\",\"Male\").column('count').item(0)\n",
    "        return male_ratio - female_ratio"
   ]
  },
  {
   "cell_type": "code",
   "execution_count": 50,
   "id": "fa5ffe4a-2eb6-418f-abbe-bf603b473787",
   "metadata": {},
   "outputs": [
    {
     "data": {
      "text/plain": [
       "0.016417296681744853"
      ]
     },
     "execution_count": 50,
     "metadata": {},
     "output_type": "execute_result"
    }
   ],
   "source": [
    "simulate_once()"
   ]
  },
  {
   "cell_type": "code",
   "execution_count": 56,
   "id": "225c44be-4f22-4515-b031-8bc3da2c3b73",
   "metadata": {},
   "outputs": [
    {
     "data": {
      "text/plain": [
       "(array([    6.,    55.,   257.,   831.,  1754.,  2417.,  2427.,  1724.,\n",
       "          465.,    64.]),\n",
       " array([-0.360463  , -0.29933309, -0.23820318, -0.17707326, -0.11594335,\n",
       "        -0.05481344,  0.00631647,  0.06744638,  0.1285763 ,  0.18970621,\n",
       "         0.25083612]),\n",
       " <BarContainer object of 10 artists>)"
      ]
     },
     "execution_count": 56,
     "metadata": {},
     "output_type": "execute_result"
    },
    {
     "data": {
      "image/png": "[encoded data removed]",
      "text/plain": [
       "<Figure size 640x480 with 1 Axes>"
      ]
     },
     "metadata": {},
     "output_type": "display_data"
    }
   ],
   "source": [
    "# Random sampling\n",
    "\n",
    "repetitions = 10000\n",
    "distances = make_array()\n",
    "for i in np.arange(repetitions):\n",
    "    distances = np.append(distances, simulate_once())\n",
    "\n",
    "plt.hist(distances)\n",
    "\n",
    "# Plot the observed value on the histogram/\n",
    "# plt.scatter(observed_statistic, 0, color='red', s=40);\n",
    "\n",
    "# plt.title('Prediction Made by the Null Hypothesis')\n"
   ]
  },
  {
   "cell_type": "code",
   "execution_count": 59,
   "id": "f0f56cdc-82c8-490c-95ba-4ff3e18451fd",
   "metadata": {},
   "outputs": [
    {
     "data": {
      "text/plain": [
       "0.166"
      ]
     },
     "execution_count": 59,
     "metadata": {},
     "output_type": "execute_result"
    }
   ],
   "source": [
    "# Calculate the p-value\n",
    "\n",
    "np.count_nonzero(distances >= observed_statistic) / repetitions"
   ]
  },
  {
   "cell_type": "markdown",
   "id": "3735b64a-8bd6-4231-8981-e8c75ff1d1f7",
   "metadata": {},
   "source": [
    "### Enter prompt below:\n"
   ]
  },
  {
   "cell_type": "code",
   "execution_count": null,
   "id": "9e6940fe-3445-4a15-9cbc-7227bcd571da",
   "metadata": {},
   "outputs": [],
   "source": [
    "%%ai openai-chat:gpt-3.5-turbo"
   ]
  },
  {
   "cell_type": "markdown",
   "id": "38b36490-6af3-4dc6-9925-f1b4e75973d2",
   "metadata": {},
   "source": [
    "### Explain your answer below:\n",
    "\n",
    "*type your answer here*\n",
    "\n"
   ]
  },
  {
   "cell_type": "code",
   "execution_count": 38,
   "id": "296b71cf-ce1e-414c-a678-92a06e9d75c1",
   "metadata": {},
   "outputs": [
    {
     "data": {
      "text/html": [
       "<table border=\"1\" class=\"dataframe\">\n",
       "    <thead>\n",
       "        <tr>\n",
       "            <th>Age</th> <th>Gender</th> <th>TB</th> <th>DB</th> <th>Alkphos</th> <th>Sgpt</th> <th>Sgot</th> <th>TP</th> <th>ALB</th> <th>A/G Ratio</th> <th>Selector</th> <th>all_nan_count</th>\n",
       "        </tr>\n",
       "    </thead>\n",
       "    <tbody>\n",
       "        <tr>\n",
       "            <td>62  </td> <td>Male  </td> <td>10.9</td> <td>5.5 </td> <td>699    </td> <td>64  </td> <td>100 </td> <td>7.5 </td> <td>3.2 </td> <td>0.74     </td> <td>1       </td> <td>0            </td>\n",
       "        </tr>\n",
       "        <tr>\n",
       "            <td>62  </td> <td>Male  </td> <td>7.3 </td> <td>4.1 </td> <td>490    </td> <td>60  </td> <td>68  </td> <td>7   </td> <td>3.3 </td> <td>0.89     </td> <td>1       </td> <td>0            </td>\n",
       "        </tr>\n",
       "        <tr>\n",
       "            <td>58  </td> <td>Male  </td> <td>1   </td> <td>0.4 </td> <td>182    </td> <td>14  </td> <td>20  </td> <td>6.8 </td> <td>3.4 </td> <td>1        </td> <td>1       </td> <td>0            </td>\n",
       "        </tr>\n",
       "        <tr>\n",
       "            <td>72  </td> <td>Male  </td> <td>3.9 </td> <td>2   </td> <td>195    </td> <td>27  </td> <td>59  </td> <td>7.3 </td> <td>2.4 </td> <td>0.4      </td> <td>1       </td> <td>0            </td>\n",
       "        </tr>\n",
       "        <tr>\n",
       "            <td>46  </td> <td>Male  </td> <td>1.8 </td> <td>0.7 </td> <td>208    </td> <td>19  </td> <td>14  </td> <td>7.6 </td> <td>4.4 </td> <td>1.3      </td> <td>1       </td> <td>0            </td>\n",
       "        </tr>\n",
       "    </tbody>\n",
       "</table>\n",
       "<p>... (434 rows omitted)</p>"
      ],
      "text/plain": [
       "<IPython.core.display.HTML object>"
      ]
     },
     "metadata": {},
     "output_type": "display_data"
    },
    {
     "data": {
      "image/png": "[encoded data removed]",
      "text/plain": [
       "<Figure size 600x400 with 1 Axes>"
      ]
     },
     "metadata": {},
     "output_type": "display_data"
    }
   ],
   "source": [
    "# SOLUTION\n",
    "\n",
    "men_subjects=patients_data_clean.where(\"Gender\",\"Male\")\n",
    "men_subjects.group(\"Selector\")\n",
    "men_subjects.show(5)\n",
    "\n",
    "men_subjects.hist('A/G Ratio', group = 'Selector')"
   ]
  },
  {
   "cell_type": "code",
   "execution_count": 45,
   "id": "b011b146-b031-4f82-86a1-6a67e1c2b587",
   "metadata": {},
   "outputs": [
    {
     "name": "stdout",
     "output_type": "stream",
     "text": [
      "Observed Difference: 0.1257457029998933\n"
     ]
    },
    {
     "data": {
      "image/png": "[encoded data removed]",
      "text/plain": [
       "<Figure size 600x400 with 1 Axes>"
      ]
     },
     "metadata": {},
     "output_type": "display_data"
    }
   ],
   "source": [
    "# Step 1: Compute the means for the male subjects who have liver cirrhosis and male subjects who have not liver cirrhosis groups\n",
    "\n",
    "means_table = men_subjects.group('Selector', np.average).select(2, 10)\n",
    "means = means_table.column(1)\n",
    "observed_difference = means.item(1) - means.item(0)\n",
    "\n",
    "\n",
    "\n",
    "\n",
    "# Step 2: Define a function to calculate the difference of means for a given group label\n",
    "def difference_of_means(table, group_label):\n",
    "    \"\"\"Takes: name of table,\n",
    "    column label that indicates the group to which the row belongs\n",
    "    Returns: Difference of mean salaries of the two groups\"\"\"\n",
    "    reduced = table.select('A/G Ratio', group_label)\n",
    "    means_table = reduced.group(group_label, np.average)\n",
    "    means = means_table.column(1)\n",
    "    return means.item(1) - means.item(0)\n",
    "\n",
    "\n",
    "\n",
    "\n",
    "# Step 3: Prepare the data for simulation by shuffling the employment labels\n",
    "emp = men_subjects.select(-2, 9)\n",
    "shuffled_labels = emp.sample(with_replacement=False).column(0)\n",
    "original_and_shuffled = emp.with_column('Shuffled Label', shuffled_labels)\n",
    "\n",
    "\n",
    "\n",
    "# Step 4: Define a function to simulate one difference of means under the null hypothesis\n",
    "def one_simulated_difference_of_means():\n",
    "    \"\"\"Returns: Difference between mean salaries\n",
    "    of the '1' and '2' groups after shuffling labels\"\"\"\n",
    "    \n",
    "    # Array of shuffled labels\n",
    "    shuffled_labels = emp.sample(with_replacement=False).column('Selector')\n",
    "    \n",
    "    # Table of A/G Ratio and shuffled labels\n",
    "    shuffled_table = emp.select('A/G Ratio').with_column(\n",
    "        'Shuffled Label', shuffled_labels)\n",
    "    \n",
    "    return difference_of_means(shuffled_table, 'Shuffled Label')   \n",
    "\n",
    "# Step 5: Simulate differences of means under the null hypothesis and store them in an array\n",
    "differences = make_array()\n",
    "repetitions = 5000\n",
    "for i in np.arange(repetitions):\n",
    "    new_difference = one_simulated_difference_of_means()\n",
    "    differences = np.append(differences, new_difference) \n",
    "\n",
    "# Step 6: Visualize the distribution of simulated differences of means\n",
    "Table().with_column('Difference Between Group Means', differences).hist()\n",
    "print('Observed Difference:', observed_difference)\n",
    "plt.scatter(observed_difference, 0, color='red', s=40);\n",
    "plt.title('Prediction Under the Null Hypothesis');\n",
    "\n",
    "\n",
    "\n",
    "\n",
    "\n",
    "# P-VALUE\n",
    "empirical_p = np.count_nonzero(differences <= observed_difference) / repetitions"
   ]
  },
  {
   "cell_type": "markdown",
   "id": "e14c72bf-d2d1-4cc7-9ce7-2612752b7fe1",
   "metadata": {},
   "source": [
    "### Enter prompt below:\n"
   ]
  },
  {
   "cell_type": "code",
   "execution_count": null,
   "id": "c1500458-5246-486d-8af8-57c6146e8ec3",
   "metadata": {},
   "outputs": [],
   "source": [
    "%%ai openai-chat:gpt-3.5-turbo"
   ]
  },
  {
   "cell_type": "markdown",
   "id": "72d1aaa0-b7b0-4d29-99ac-866aed3073b8",
   "metadata": {},
   "source": [
    "### Explain your answer below:\n",
    "\n",
    "*type your answer here*\n",
    "\n"
   ]
  },
  {
   "cell_type": "markdown",
   "id": "0e5986c6-380a-4458-98c5-b6f6c2e70561",
   "metadata": {},
   "source": [
    "**Question 8.** Now we aim to conduct a study to see whether the concentration of albumin is associated with liver cirrhosis in female subjects. You should evaluate your results by demonstrating a complete A/B testing analysis. State a conclusion from this test using a p-value cutoff of 5%."
   ]
  },
  {
   "cell_type": "code",
   "execution_count": 13,
   "id": "7eea8910-c3c4-4fb0-bc1c-e1458508b716",
   "metadata": {},
   "outputs": [
    {
     "data": {
      "text/html": [
       "<table border=\"1\" class=\"dataframe\">\n",
       "    <thead>\n",
       "        <tr>\n",
       "            <th>Age</th> <th>Gender</th> <th>TB</th> <th>DB</th> <th>Alkphos</th> <th>Sgpt</th> <th>Sgot</th> <th>TP</th> <th>ALB</th> <th>A/G Ratio</th> <th>Selector</th> <th>all_nan_count</th>\n",
       "        </tr>\n",
       "    </thead>\n",
       "    <tbody>\n",
       "        <tr>\n",
       "            <td>65  </td> <td>Female</td> <td>0.7 </td> <td>0.1 </td> <td>187    </td> <td>16  </td> <td>18  </td> <td>6.8 </td> <td>3.3 </td> <td>0.9      </td> <td>1       </td> <td>0            </td>\n",
       "        </tr>\n",
       "        <tr>\n",
       "            <td>26  </td> <td>Female</td> <td>0.9 </td> <td>0.2 </td> <td>154    </td> <td>16  </td> <td>12  </td> <td>7   </td> <td>3.5 </td> <td>1        </td> <td>1       </td> <td>0            </td>\n",
       "        </tr>\n",
       "        <tr>\n",
       "            <td>29  </td> <td>Female</td> <td>0.9 </td> <td>0.3 </td> <td>202    </td> <td>14  </td> <td>11  </td> <td>6.7 </td> <td>3.6 </td> <td>1.1      </td> <td>1       </td> <td>0            </td>\n",
       "        </tr>\n",
       "        <tr>\n",
       "            <td>74  </td> <td>Female</td> <td>1.1 </td> <td>0.4 </td> <td>214    </td> <td>22  </td> <td>30  </td> <td>8.1 </td> <td>4.1 </td> <td>1        </td> <td>1       </td> <td>0            </td>\n",
       "        </tr>\n",
       "        <tr>\n",
       "            <td>40  </td> <td>Female</td> <td>0.9 </td> <td>0.3 </td> <td>293    </td> <td>232 </td> <td>245 </td> <td>6.8 </td> <td>3.1 </td> <td>0.8      </td> <td>1       </td> <td>0            </td>\n",
       "        </tr>\n",
       "    </tbody>\n",
       "</table>\n",
       "<p>... (135 rows omitted)</p>"
      ],
      "text/plain": [
       "<IPython.core.display.HTML object>"
      ]
     },
     "metadata": {},
     "output_type": "display_data"
    },
    {
     "data": {
      "image/png": "[encoded data removed]",
      "text/plain": [
       "<Figure size 600x400 with 1 Axes>"
      ]
     },
     "metadata": {},
     "output_type": "display_data"
    }
   ],
   "source": [
    "female_subjects=patients_data_clean.where(\"Gender\",\"Female\")\n",
    "female_subjects.group(\"Selector\")\n",
    "female_subjects.show(5)\n",
    "\n",
    "female_subjects.hist('ALB', group = 'Selector')"
   ]
  },
  {
   "cell_type": "code",
   "execution_count": 22,
   "id": "5d2bd2aa-b00f-4ef3-92b5-3c8dd68ffec0",
   "metadata": {},
   "outputs": [],
   "source": [
    "means_table = female_subjects.group('Selector', np.average)"
   ]
  },
  {
   "cell_type": "code",
   "execution_count": 23,
   "id": "d4a8a5f5-c2f8-4350-a0b8-00be6e5fcd2e",
   "metadata": {},
   "outputs": [
    {
     "data": {
      "text/html": [
       "<table border=\"1\" class=\"dataframe\">\n",
       "    <thead>\n",
       "        <tr>\n",
       "            <th>Selector</th> <th>Age average</th> <th>Gender average</th> <th>TB average</th> <th>DB average</th> <th>Alkphos average</th> <th>Sgpt average</th> <th>Sgot average</th> <th>TP average</th> <th>ALB average</th> <th>A/G Ratio average</th> <th>all_nan_count average</th>\n",
       "        </tr>\n",
       "    </thead>\n",
       "    <tbody>\n",
       "        <tr>\n",
       "            <td>1       </td> <td>43.3297    </td> <td>              </td> <td>3.11648   </td> <td>1.39341   </td> <td>358.011        </td> <td>68.044      </td> <td>89.8791     </td> <td>6.69451   </td> <td>3.22418    </td> <td>0.917582         </td> <td>0                    </td>\n",
       "        </tr>\n",
       "        <tr>\n",
       "            <td>2       </td> <td>42.898     </td> <td>              </td> <td>0.912245  </td> <td>0.269388  </td> <td>203.755        </td> <td>30.102      </td> <td>32.1837     </td> <td>6.60816   </td> <td>3.36327    </td> <td>1.00735          </td> <td>0                    </td>\n",
       "        </tr>\n",
       "    </tbody>\n",
       "</table>"
      ],
      "text/plain": [
       "Selector | Age average | Gender average | TB average | DB average | Alkphos average | Sgpt average | Sgot average | TP average | ALB average | A/G Ratio average | all_nan_count average\n",
       "1        | 43.3297     |                | 3.11648    | 1.39341    | 358.011         | 68.044       | 89.8791      | 6.69451    | 3.22418     | 0.917582          | 0\n",
       "2        | 42.898      |                | 0.912245   | 0.269388   | 203.755         | 30.102       | 32.1837      | 6.60816    | 3.36327     | 1.00735           | 0"
      ]
     },
     "execution_count": 23,
     "metadata": {},
     "output_type": "execute_result"
    }
   ],
   "source": [
    "means_table"
   ]
  },
  {
   "cell_type": "code",
   "execution_count": 56,
   "id": "246d8f7b-4c4c-4078-ae83-7b973904a453",
   "metadata": {},
   "outputs": [
    {
     "name": "stdout",
     "output_type": "stream",
     "text": [
      "Observed Difference: 0.08976452119309253\n"
     ]
    },
    {
     "data": {
      "image/png": "[encoded data removed]",
      "text/plain": [
       "<Figure size 600x400 with 1 Axes>"
      ]
     },
     "metadata": {},
     "output_type": "display_data"
    }
   ],
   "source": [
    "means_table = female_subjects.group('Selector', np.average).select(2, 10)\n",
    "means = means_table.column(1)\n",
    "observed_difference = means.item(1) - means.item(0)\n",
    "\n",
    "\n",
    "\n",
    "\n",
    "# Step 2: Define a function to calculate the difference of means for a given group label\n",
    "def difference_of_means(table, group_label):\n",
    "    \"\"\"Takes: name of table,\n",
    "    column label that indicates the group to which the row belongs\n",
    "    Returns: Difference of mean salaries of the two groups\"\"\"\n",
    "    reduced = table.select('ALB', group_label)\n",
    "    means_table = reduced.group(group_label, np.average)\n",
    "    means = means_table.column(1)\n",
    "    return means.item(1) - means.item(0)\n",
    "\n",
    "\n",
    "\n",
    "\n",
    "# Step 3: Prepare the data for simulation by shuffling the employment labels\n",
    "emp = female_subjects.select(-2, 8)\n",
    "shuffled_labels = emp.sample(with_replacement=False).column(0)\n",
    "original_and_shuffled = emp.with_column('Shuffled Label', shuffled_labels)\n",
    "\n",
    "\n",
    "\n",
    "# Step 4: Define a function to simulate one difference of means under the null hypothesis\n",
    "def one_simulated_difference_of_means():\n",
    "    \"\"\"Returns: Difference between mean salaries\n",
    "    of the '1' and '2' groups after shuffling labels\"\"\"\n",
    "    \n",
    "    # Array of shuffled labels\n",
    "    shuffled_labels = emp.sample(with_replacement=False).column('Selector')\n",
    "    \n",
    "    # Table of A/G Ratio and shuffled labels\n",
    "    shuffled_table = emp.select('ALB').with_column(\n",
    "        'Shuffled Label', shuffled_labels)\n",
    "    \n",
    "    return difference_of_means(shuffled_table, 'Shuffled Label')   \n",
    "\n",
    "# Step 5: Simulate differences of means under the null hypothesis and store them in an array\n",
    "differences = make_array()\n",
    "repetitions = 5000\n",
    "for i in np.arange(repetitions):\n",
    "    new_difference = one_simulated_difference_of_means()\n",
    "    differences = np.append(differences, new_difference) \n",
    "\n",
    "# Step 6: Visualize the distribution of simulated differences of means\n",
    "Table().with_column('Difference Between Group Means', differences).hist()\n",
    "print('Observed Difference:', observed_difference)\n",
    "plt.scatter(observed_difference, 0, color='red', s=40);\n",
    "plt.title('Prediction Under the Null Hypothesis');\n",
    "\n",
    "\n",
    "\n",
    "\n",
    "\n",
    "# P-VALUE\n",
    "empirical_p = np.count_nonzero(differences <= observed_difference) / repetitions"
   ]
  },
  {
   "cell_type": "markdown",
   "id": "60e68690-fad4-4d72-8df4-793231ef9bfb",
   "metadata": {},
   "source": [
    "### Enter prompt below:\n"
   ]
  },
  {
   "cell_type": "code",
   "execution_count": null,
   "id": "37605db3-d765-490a-804f-1a4273dac2b7",
   "metadata": {},
   "outputs": [],
   "source": [
    "%%ai openai-chat:gpt-3.5-turbo"
   ]
  },
  {
   "cell_type": "markdown",
   "id": "1f96c320-b02c-4a88-948c-39d23e05f025",
   "metadata": {},
   "source": [
    "### Explain your answer below:\n",
    "\n",
    "*type your answer here*\n",
    "\n"
   ]
  },
  {
   "cell_type": "markdown",
   "id": "5faa31ce-fd2e-4397-88d6-023fc6f53157",
   "metadata": {},
   "source": [
    "### Question 9 (Novel Analysis Part 1):"
   ]
  },
  {
   "cell_type": "markdown",
   "id": "ccc494d2-3063-48f1-9073-0b46c42343a7",
   "metadata": {},
   "source": [
    "Choose one variable whose trends you would like to investigate and design your own A/B test! \n",
    "\n",
    "1. Define null and alternate hypotheses.\n",
    "\n",
    "2. Visualize the appropriate plots for the distributions that you would like to compare."
   ]
  },
  {
   "cell_type": "code",
   "execution_count": 9,
   "id": "93c48488-5aff-45b8-b9b4-6db70895ade9",
   "metadata": {},
   "outputs": [],
   "source": [
    "# SOLUTION"
   ]
  },
  {
   "cell_type": "markdown",
   "id": "f70b1434-c9ac-42ab-8d41-3bede8b0d652",
   "metadata": {},
   "source": [
    "### Enter prompt below:\n"
   ]
  },
  {
   "cell_type": "code",
   "execution_count": null,
   "id": "1fe27a37-fae3-4cf7-9557-48eba90ae3bf",
   "metadata": {},
   "outputs": [],
   "source": [
    "%%ai openai-chat:gpt-3.5-turbo"
   ]
  },
  {
   "cell_type": "markdown",
   "id": "29c8e959-b883-491f-bfb9-9666100398cb",
   "metadata": {},
   "source": [
    "### Explain your answer below:\n",
    "\n",
    "*type your answer here*\n",
    "\n"
   ]
  },
  {
   "cell_type": "markdown",
   "id": "3156ddcf-d17c-40a0-a17d-368c5d366a3a",
   "metadata": {},
   "source": [
    "### Question 10 (Novel Analysis Part 2):"
   ]
  },
  {
   "cell_type": "markdown",
   "id": "4ece1388-3f63-4400-8823-29598a7c6d0d",
   "metadata": {},
   "source": [
    "Continue the A/B Test from Question 9!\n",
    "\n",
    "1. State your test statistic value and what it means in context.\n",
    "\n",
    "2. Simulate the test statistic under the null hypotheses and visualize the results.\n",
    "\n",
    "3. Compute the p-value for the test and state the conclusion of the hypothesis test."
   ]
  },
  {
   "cell_type": "code",
   "execution_count": 10,
   "id": "3bf0b7c4-bd07-431c-8fd9-c7da631b7962",
   "metadata": {},
   "outputs": [],
   "source": [
    "# SOLUTION "
   ]
  },
  {
   "cell_type": "markdown",
   "id": "0ca24526-8ac5-49a1-b0df-3c3cbad99d9c",
   "metadata": {},
   "source": [
    "### Enter prompt below:\n"
   ]
  },
  {
   "cell_type": "code",
   "execution_count": null,
   "id": "2702c96c-aa75-4a10-9ef8-b756701a5a64",
   "metadata": {},
   "outputs": [],
   "source": [
    "%%ai openai-chat:gpt-3.5-turbo"
   ]
  },
  {
   "cell_type": "markdown",
   "id": "142fecb4-11b2-403a-b170-323a40b624a6",
   "metadata": {},
   "source": [
    "### Explain your answer below:\n",
    "\n",
    "*type your answer here*\n",
    "\n"
   ]
  }
 ],
 "metadata": {
  "kernelspec": {
   "display_name": "Python 3 (ipykernel)",
   "language": "python",
   "name": "python3"
  },
  "language_info": {
   "codemirror_mode": {
    "name": "ipython",
    "version": 3
   },
   "file_extension": ".py",
   "mimetype": "text/x-python",
   "name": "python",
   "nbconvert_exporter": "python",
   "pygments_lexer": "ipython3",
   "version": "3.12.3"
  }
 },
 "nbformat": 4,
 "nbformat_minor": 5
}
