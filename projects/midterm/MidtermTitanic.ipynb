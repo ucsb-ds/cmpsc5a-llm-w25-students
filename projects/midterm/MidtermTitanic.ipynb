{
 "cells": [
  {
   "cell_type": "code",
   "execution_count": null,
   "id": "af594058-3c3c-4f79-972b-e520ce788795",
   "metadata": {},
   "outputs": [],
   "source": [
    "# Run this cell\n",
    "import matplotlib.pyplot as plt\n",
    "%matplotlib inline\n",
    "%load_ext jupyter_ai_magics\n",
    "from datascience import *\n",
    "import numpy as np\n",
    "import math"
   ]
  },
  {
   "cell_type": "markdown",
   "id": "f65e3e59-90ad-450e-8a9b-9b66066bb331",
   "metadata": {},
   "source": [
    "# CMPSC 5A Midterm — Titanic\n",
    "\n",
    "In this project, you will learn to apply all the concepts you have learned in the class so far. This includes table manipulation (all table functions), iteration (for loops), conditional (if statements), data cleaning, etc."
   ]
  },
  {
   "cell_type": "markdown",
   "id": "b0b4e7d6-d58e-46c0-b050-6362423014f1",
   "metadata": {},
   "source": [
    "## Names\n",
    "Please list all students who worked on this project.\n",
    "1. Student Name 1\n",
    "2. Student Name 2\n",
    "3. Student Name 3"
   ]
  },
  {
   "cell_type": "markdown",
   "id": "e140d900",
   "metadata": {},
   "source": [
    "## Member Responsibilities\n",
    "To make sure every member of your team contributes fairly, you should split up responsibilities before starting in writing. This should be a couple sentences. Here’s two examples of what that could look like for a hypothetical team of 2 (Alice and Bob):\n",
    "- “Alice will work on Q1-5 and Bob will do Q6-10. Each of us will make the slides that correspond to the problems we did.” \n",
    "- “We will meet in person to do the whole assignment as a team, switching up who is typing. Whoever is not currently typing will still help by checking documentation pages for the typist and advising the typist as they write code. Alice will make the first half of the slides, Bob will make the second half.” \n",
    "\n",
    "As these examples show, everyone should contribute to the notebook and presentation roughly equally.\n",
    "\n",
    "After presentations are complete, we will send out a survey where you say what you ended up doing and whether your teammate(s) held up their end of the bargain. Your self-evaluation and your teammates evaluation of you is not directly part of the rubric. \n",
    "\n",
    "This does not mean you can't help each other!!! It’s a group project. Please please please reach out to your teammate(s) if you’re struggling with questions that are assigned to you!! The survey evaluation is not a competition. We do not care if someone thinks they did 55% of the work and their partner did 45%. We care a lot if someone is not doing their work, not communicating with their team, and generally not contributing in good faith.\n"
   ]
  },
  {
   "cell_type": "markdown",
   "id": "ab8d6f0b",
   "metadata": {},
   "source": [
    "*Write your team member responsibility distribution here*"
   ]
  },
  {
   "cell_type": "markdown",
   "id": "9588244f-45cc-41f6-af51-4c0ad6ae821d",
   "metadata": {},
   "source": [
    "## Logistics\n",
    "\n",
    "**Deadline:** The midterm project notebook is due Thursday, February 13th, 2025 at 11:59pm PT. The midterm project presentation slides are due by 10:00am PT on Friday, February 14th. Unlike labs, **no late submissions are allowed**.\n",
    "\n",
    "**Submission:** For full credit, you must complete all the questions and submit to Gradescope. You may still change your answers before the project deadline - only your final submission will be graded for correctness. Only one partner needs to submit the notebook to Gradescope, and they will need to add the other two group members as members on Gradescope. See [How to Add Group Member in Gradescope](https://help.gradescope.com/article/m5qz2xsnjy-student-add-group-members). **After they submit, all group members should open their Gradescope accounts and see that a submission has been processed. Be sure that the final notebook has all the ChatGPT prompts used by all the team members**.\n",
    "\n",
    "**Presentation:** Your group will need to create a presentation slide deck and give a 6-8 minute oral presentation during your assigned time slot. Presentations must use slides. Your group is not allowed to scroll through your notebook during the presentation. All slides must be uploaded to https://drive.google.com/drive/folders/19zNx7JWtwSde3cDNeCT3gLOdBJ7Kuset?usp=drive_link.\n",
    "\n",
    "**IMPORTANT NOTES:** \n",
    "- You are not limited to just one solution code cell, one prompt cell and one workflow cell for each question. Use as many of each as you like to ensure your notebook is presented well, easy-to-read, and has all the required plots and intermediate tables visible to show how you deduced that answer.\n",
    "- None of the questions are created in a way that will allow you to just give a one line answer. Remember, if your answer is just a one line answer, you are probably missing something.\n",
    "- Every group's answers may be different based on the approach you take for data analysis. Others may have visually presented it with a graph that may be different from yours, or filtered the table in a different way. That does not mean yours is wrong. We are looking for diversity in how information is displayed and there are more than one correct answers for each question.\n",
    "\n",
    "**Partners:** You will work with two other partners (total three in a group); your partners can be from any lab section. \n",
    "\n",
    "**Rules:** Don't share your code with anybody but your partners. You are welcome to discuss questions with other students, but don't share the answers. The experience of solving the problems in this project will prepare you for exams (and life). If someone asks you for the answer, resist! Instead, you can demonstrate how you would solve a similar problem. Since the problems are open-ended, they can have various different answers. What is important is the approach you take to solve your task.\n",
    "\n",
    "**Support:** You are not alone! Come to office hours, post on Ed, and talk to your classmates. If you want to ask about the details of your solution to a problem, make a private Ed post and the staff will respond. If you're ever feeling overwhelmed or don't know how to make progress, email your TA or ULA.\n",
    "\n",
    "**Advice:** Develop your answers incrementally. To perform a complicated table manipulation, break it up into steps, perform each step on a different line, give a new name to each result, and check that each intermediate result is what you expect. You can add any additional names or functions you want to the provided cells. Make sure that you are using distinct and meaningful variable names throughout the notebook. Along that line, **DO NOT** reuse the variable names.\n",
    "\n",
    "You **never** have to use just one line in this project or any others. Use intermediate variables and multiple lines as much as you would like!"
   ]
  },
  {
   "cell_type": "markdown",
   "id": "cee913c4",
   "metadata": {},
   "source": [
    "## Titanic Dataset\n",
    "The *R.M.S. Titanic* was a British luxury passenger and mail carrying ocean liner that was operated by the White Star Line. It was the largest ship afloat at the time of its creation, and the ship was thought to be unsinkable. The *Titanic* began its maiden voyage from Southampton, United Kingdom on April 10, 1912 en route to New York City. However, the *Titanic* struck an iceberg at 11:40 p.m. on April 14, 1912, and the ship sank in the Atlantic Ocean during the morning of April 15, 1912.\n",
    "\n",
    "The *Titanic* dataset was created by Thomas Cason of the University of Virginia and reflects information known as of August 2, 1999. The dataset contains information of 1309 passengers, and it does not contain information about the *Titanic* crew. A total of 2240 people (passengers and crew) sailed on the *Titanic*. The dataset originated from the [Encyclopedia Titanica](https://www.encyclopedia-titanica.org/), which has a goal of telling the story of every single person that traveled on the *Titanic*. The dataset is consistently being evolved, and therefore some data is missing, which is common in many real-world datasets. The missing data are marked by `nan`.\n",
    "\n",
    "Below are the descriptions of the variables in the dataset.\n",
    "\n",
    "- `Pclass`: Passenger Class (1 = 1st; 2 = 2nd; 3 = 3rd)\n",
    "\n",
    "- `survived`: Survival (0 = No; 1 = Yes)\n",
    "\n",
    "- `name`: Name\n",
    "\n",
    "- `sex`: Sex\n",
    "\n",
    "- `age`: Age (years)\n",
    "\n",
    "- `sibsp`: Number of Siblings/Spouses Aboard\n",
    "\n",
    "- `parch`: Number of Parents/Children Aboard\n",
    "\n",
    "- `ticket`: Ticket Number\n",
    "\n",
    "- `fare`: Passenger Fare (British pound)\n",
    "\n",
    "- `embarked`: Port of Embarkation (C = Cherbourg; Q = Queenstown; S = Southampton)\n",
    "\n",
    "- `boat`: Lifeboat\n",
    "\n",
    "- `body`: Body Identification Number\n",
    "\n",
    "- `home.dest`: Home/Destination"
   ]
  },
  {
   "cell_type": "code",
   "execution_count": null,
   "id": "d125d061-d828-4eac-9c44-49a150ef7b4f",
   "metadata": {
    "scrolled": true
   },
   "outputs": [],
   "source": [
    "# Run This Cell\n",
    "\n",
    "# Read the dataset\n",
    "titanic_unclean = Table.read_table(\"data/titanic.csv\")\n",
    "\n",
    "# Display the first few rows of the table\n",
    "titanic_unclean.show(10)"
   ]
  },
  {
   "cell_type": "markdown",
   "id": "529d11c6-854a-4dfc-89d4-7804b195da83",
   "metadata": {},
   "source": [
    "**Question 1:** Real-world datasets do not always have complete information! If you observe some of the rows above, you will find a `nan` (Not a Number). **`nan` values are not strings in the case of this dataset**. They are of type `None` (another kind of data type). These are missing values that can cause issues if we try to use their corresponding rows to do any kind of arithmetic. There are many ways to work with missing or skewed data. For now, we will just choose to delete any rows that have missing information. Name the final table something meaningful - like `titanic`. This will be the table we use to answer all the other questions.\n",
    "\n",
    "*Hint:*\n",
    "- One way you can do this is by writing a function and then using the `.apply()` function.\n",
    "- **Your final dataset should have roughly 1000-1100 rows.**\n",
    "- In Python, `nan` is equal to *nothing*, not even itself. So, to check if a variable x is `nan`, you can test x != x.\n",
    "\n",
    "**Note: Do not remove rows if they are only missing values in the `boat`, `body` and `home.dest` columns. Missing values in `boat` and `body` are deliberately missing. They correspond to those who did not get on the lifeboat and did not die or were not found respectively. We are okay to work with `home.dest` as it is.**"
   ]
  },
  {
   "cell_type": "code",
   "execution_count": null,
   "id": "5c5c1638-b976-4404-bdb7-4a558df29da5",
   "metadata": {},
   "outputs": [],
   "source": [
    "# SOLUTION"
   ]
  },
  {
   "cell_type": "markdown",
   "id": "4ebba60c-d158-45cf-9597-1ea01bd0cf93",
   "metadata": {},
   "source": [
    "#### Prompt below:"
   ]
  },
  {
   "cell_type": "code",
   "execution_count": null,
   "id": "4fe6e083-bf8f-4ac7-b2df-7c823c43e01c",
   "metadata": {},
   "outputs": [],
   "source": [
    "%%ai openai-chat:gpt-4"
   ]
  },
  {
   "cell_type": "markdown",
   "id": "9807bc37-54ac-44e6-a8c0-1198221f5af1",
   "metadata": {},
   "source": [
    "#### Explain your answer below:"
   ]
  },
  {
   "cell_type": "markdown",
   "id": "fe05046d-c1b4-4ed8-96ab-0c6e133c5176",
   "metadata": {},
   "source": [
    "*Type your answer here*"
   ]
  },
  {
   "cell_type": "markdown",
   "id": "d580c0a0-7657-4b44-a6d5-f598a27f9015",
   "metadata": {},
   "source": [
    "We now have the final dataset ready to use!"
   ]
  },
  {
   "cell_type": "markdown",
   "id": "ebaad064-aad3-4586-8140-64f902ee4928",
   "metadata": {
    "jp-MarkdownHeadingCollapsed": true
   },
   "source": [
    "**Question 2:** Exploratory data analysis is one of the first steps data scientists conduct to identify and analyze patterns in the data. Investigate the passengers aboard the *Titanic* so you can get to know your data better. What was the average age of the passengers? What was the sum of all the passenger fares? How many males and females were on board? Which was the most common port of embarkation?\n"
   ]
  },
  {
   "cell_type": "code",
   "execution_count": null,
   "id": "4010ffe8-1ed6-4d2f-91bd-04cf0759b1e4",
   "metadata": {},
   "outputs": [],
   "source": [
    "# SOLUTION"
   ]
  },
  {
   "cell_type": "markdown",
   "id": "964d979c-3921-4dee-9921-5326df3dde48",
   "metadata": {},
   "source": [
    "#### Prompt below:"
   ]
  },
  {
   "cell_type": "code",
   "execution_count": null,
   "id": "270edd11-08bc-4f7f-a66e-ba9650cfa677",
   "metadata": {},
   "outputs": [],
   "source": [
    "%%ai openai-chat:gpt-4"
   ]
  },
  {
   "cell_type": "markdown",
   "id": "26795921-e251-4137-839a-e012265e31e5",
   "metadata": {},
   "source": [
    "#### Explain your answer below:"
   ]
  },
  {
   "cell_type": "markdown",
   "id": "3472bfe0-fbca-48de-90b4-2b1fe9f79a34",
   "metadata": {},
   "source": [
    "*Type your answer here*"
   ]
  },
  {
   "cell_type": "markdown",
   "id": "d42cd25e-79f3-4045-ba94-8cf1bdbc4a23",
   "metadata": {},
   "source": [
    "**Question 3:** Explore the relationship between `Age` and `Fare`. Is there a correlation between the two variables? Think about what kind of plot you could make to show a correlation between two variables, and produce that below. What can you infer from this plot?"
   ]
  },
  {
   "cell_type": "code",
   "execution_count": null,
   "id": "73a1381c-7245-4c0a-ad0d-e12faea4115c",
   "metadata": {},
   "outputs": [],
   "source": [
    "# SOLUTION"
   ]
  },
  {
   "cell_type": "markdown",
   "id": "32011d7c-3587-4faf-8803-7467eb6a8ed6",
   "metadata": {},
   "source": [
    "#### Prompt below:"
   ]
  },
  {
   "cell_type": "code",
   "execution_count": null,
   "id": "30853ab2-5cf3-4902-8578-2e1a3d0aab55",
   "metadata": {},
   "outputs": [],
   "source": [
    "%%ai openai-chat:gpt-4"
   ]
  },
  {
   "cell_type": "markdown",
   "id": "58bd8ce8-a520-4f1b-afa0-efc481aab3ac",
   "metadata": {},
   "source": [
    "#### Explain your answer below:"
   ]
  },
  {
   "cell_type": "markdown",
   "id": "d76eacbc-321b-46d3-9706-e3d639f2de24",
   "metadata": {},
   "source": [
    "*Type your answer here*"
   ]
  },
  {
   "cell_type": "markdown",
   "id": "2ca3316b-bd53-43e7-baf0-7bb108e881f6",
   "metadata": {},
   "source": [
    "**Question 4:** Examine the relationship between passenger class (`Pclass`), which serves as a proxy for socio-economic status, and survival (`survived`). Calculate the survival rate for each passenger class. What percentage of first-class passengers survived? What percentage of third-class passengers survived? What could be possible reasons for the discrepancy? What might this tell us about the socio-economic disparities in survival rates? Support your answer with statistics."
   ]
  },
  {
   "cell_type": "code",
   "execution_count": null,
   "id": "486d03f5-c344-4f45-abf0-ea29df7628d7",
   "metadata": {},
   "outputs": [],
   "source": [
    "# SOLUTION"
   ]
  },
  {
   "cell_type": "markdown",
   "id": "679bd1db-7438-495b-9b36-10e367dda749",
   "metadata": {},
   "source": [
    "#### Prompt below:"
   ]
  },
  {
   "cell_type": "code",
   "execution_count": null,
   "id": "f292992b-be4e-4222-b16d-ffe73ea655ec",
   "metadata": {},
   "outputs": [],
   "source": [
    "%%ai openai-chat:gpt-4"
   ]
  },
  {
   "cell_type": "markdown",
   "id": "30fccf2e-b96b-4979-8fea-cc6ab00a13fb",
   "metadata": {},
   "source": [
    "#### Explain your answer below:"
   ]
  },
  {
   "cell_type": "markdown",
   "id": "86c9e38a-13b3-48ca-8bd0-7276f26303aa",
   "metadata": {},
   "source": [
    "*Type your answer here*"
   ]
  },
  {
   "cell_type": "markdown",
   "id": "06c8d019-69af-44e5-b013-083e628145c7",
   "metadata": {},
   "source": [
    "**Question 5:** Create an age profile of the passengers on board. You can categorize the ages into different groups (e.g., 0-12, 13-19, 20-35, etc.) and then calculate the proportion of each age group within the total number of passengers. Using this, you should also find the most common class amongst each age range. Discuss any interesting findings and how this age profile might reflect the demographics of early 20th-century travelers."
   ]
  },
  {
   "cell_type": "code",
   "execution_count": null,
   "id": "f7e1a590-29b6-4ff3-a7dc-aae97cf9c0f0",
   "metadata": {},
   "outputs": [],
   "source": [
    "# SOLUTION"
   ]
  },
  {
   "cell_type": "markdown",
   "id": "3d2a7917-b0ad-49ae-b1e8-6e45c05bdd45",
   "metadata": {},
   "source": [
    "#### Prompt below:"
   ]
  },
  {
   "cell_type": "code",
   "execution_count": null,
   "id": "6654c82f-0113-4275-99f5-864bebb35170",
   "metadata": {},
   "outputs": [],
   "source": [
    "%%ai openai-chat:gpt-4"
   ]
  },
  {
   "cell_type": "markdown",
   "id": "98a74437-1912-4c64-b618-b1ce50e6a9c5",
   "metadata": {},
   "source": [
    "#### Explain your answer below:"
   ]
  },
  {
   "cell_type": "markdown",
   "id": "3535ca53-fc36-4afa-b2a9-aa8542d18d1f",
   "metadata": {},
   "source": [
    "*Type your answer here*"
   ]
  },
  {
   "cell_type": "markdown",
   "id": "e957a4cb-b4e5-4376-9516-68dc920fcd32",
   "metadata": {},
   "source": [
    "**Question 6:** Explore how the number of siblings/spouses (`sibsp`) and parents/children (`parch`) aboard might relate to a passenger's chance of survival. Start by creating new variables to represent family size, and then group the passengers by their family size to calculate survival rates. What trends do you notice?"
   ]
  },
  {
   "cell_type": "code",
   "execution_count": null,
   "id": "fd73f63c-37b5-4ed9-9448-01f38bc779d9",
   "metadata": {},
   "outputs": [],
   "source": [
    "# SOLUTION"
   ]
  },
  {
   "cell_type": "markdown",
   "id": "779561a5-63fc-4f63-bfe5-9ebae82450bb",
   "metadata": {},
   "source": [
    "#### Prompt below:"
   ]
  },
  {
   "cell_type": "code",
   "execution_count": null,
   "id": "627d5b9c-0d6e-4341-a66b-7092d5c2f1ec",
   "metadata": {},
   "outputs": [],
   "source": [
    "%%ai openai-chat:gpt-4"
   ]
  },
  {
   "cell_type": "markdown",
   "id": "62b037a7-720d-47ff-b081-af4f67d4d2ee",
   "metadata": {},
   "source": [
    "#### Explain your answer below:"
   ]
  },
  {
   "cell_type": "markdown",
   "id": "0216dd56-453c-4e43-b31d-fc6450e6d851",
   "metadata": {},
   "source": [
    "*Type your answer here*"
   ]
  },
  {
   "cell_type": "markdown",
   "id": "811904f2-0cc0-4a05-bcc8-f1419b8e1ff6",
   "metadata": {},
   "source": [
    "**Question 7:** Investigate the passengers on the *Titanic* who got on a lifeboat. How many were there? How many were males, and how many were females? What were their top three home destinations? How many survived?\n",
    "\n",
    "Think about how you can best display the distribution of ages in equal size bins among those who escaped and those who didn't, and make appropriate plots. What can you infer from the plots? "
   ]
  },
  {
   "cell_type": "code",
   "execution_count": null,
   "id": "a05b7c0b-ad1b-464a-950a-f4e32573b265",
   "metadata": {},
   "outputs": [],
   "source": [
    "# SOLUTION"
   ]
  },
  {
   "cell_type": "markdown",
   "id": "8db72a11-d9ca-4fc9-8c70-75a36e9a153b",
   "metadata": {},
   "source": [
    "#### Prompt below:"
   ]
  },
  {
   "cell_type": "code",
   "execution_count": null,
   "id": "a6d84273-aa17-49a1-a9df-2c4e01f13b08",
   "metadata": {},
   "outputs": [],
   "source": [
    "%%ai openai-chat:gpt-4"
   ]
  },
  {
   "cell_type": "markdown",
   "id": "4aac7a38-bef4-4589-a177-33dbe44456fc",
   "metadata": {},
   "source": [
    "#### Explain your answer below:"
   ]
  },
  {
   "cell_type": "markdown",
   "id": "9ca3d7e2-1c48-4688-b9c7-b9d2b03bf168",
   "metadata": {},
   "source": [
    "*Type your answer here*"
   ]
  },
  {
   "cell_type": "markdown",
   "id": "79bfc48f-53cc-46c7-9df7-227eac139553",
   "metadata": {},
   "source": [
    "**Question 8:** Investigate and plot the frequency of the titles (ex: Mr, Mrs, etc.) of the passengers. What are the names of the passengers aboard the ship whose title was unique? Then, analyze and explain the relationship between passenger title and at least 2 variables in the dataset of your choice that you believe would give the best insights. Are there any patterns? What could be the reasons for such patterns? Support your answer with data and use comparative charts.\n",
    "\n",
    "Hint: Python has functions/methods like `append()` and `split()` that you can potentially use to extract a passenger's title."
   ]
  },
  {
   "cell_type": "code",
   "execution_count": null,
   "id": "8cd6c542-806c-4cc6-9e28-6e3dfba60e10",
   "metadata": {},
   "outputs": [],
   "source": [
    "# SOLUTION"
   ]
  },
  {
   "cell_type": "markdown",
   "id": "5f7ea5a4-1df1-4b43-b49e-30beaeb75113",
   "metadata": {},
   "source": [
    "#### Prompt below:"
   ]
  },
  {
   "cell_type": "code",
   "execution_count": null,
   "id": "ca7a2c3e-1aed-4487-81f6-25221384b2ea",
   "metadata": {},
   "outputs": [],
   "source": [
    "%%ai openai-chat:gpt-4"
   ]
  },
  {
   "cell_type": "markdown",
   "id": "47cd0c70-2687-410c-9b55-c16371b155e6",
   "metadata": {},
   "source": [
    "#### Explain your answer below:"
   ]
  },
  {
   "cell_type": "markdown",
   "id": "e6a34a0e-0630-4881-9664-849d868ce275",
   "metadata": {},
   "source": [
    "*Type your answer here*"
   ]
  },
  {
   "cell_type": "markdown",
   "id": "0dab05d2-25b5-4a73-9445-f012b8e4f8b5",
   "metadata": {},
   "source": [
    "## Novel analysis\n",
    "For the last section of your midterm project, you are expected to think like a data scientist. Formulate **TWO** unique questions/problems/insights that you can solve or obtain from the dataset given to you. **You need to come up with the problem and present the solution in the notebook**. The problems you come up with will be graded on novelty and the work necessary to obtain them. **DO NOT** reuse problems that are already covered in the midterm or those that could be solved or visualized with a single line of code."
   ]
  },
  {
   "cell_type": "markdown",
   "id": "903ac917-9646-49b1-9887-05e1ea4499b2",
   "metadata": {},
   "source": [
    "**Question 9. *Type your question here***"
   ]
  },
  {
   "cell_type": "code",
   "execution_count": null,
   "id": "d74efd23-ab4f-48c6-a1e9-66de77dff302",
   "metadata": {},
   "outputs": [],
   "source": [
    "# SOLUTION"
   ]
  },
  {
   "cell_type": "markdown",
   "id": "47bb26ec-8c52-4c22-ac0e-c4c9e7b6370c",
   "metadata": {},
   "source": [
    "#### Prompt below:"
   ]
  },
  {
   "cell_type": "code",
   "execution_count": null,
   "id": "62bbb67d-ea79-4655-b661-e7dbb82492d4",
   "metadata": {},
   "outputs": [],
   "source": [
    "%%ai openai-chat:gpt-4"
   ]
  },
  {
   "cell_type": "markdown",
   "id": "f744621b-d840-4912-9d18-942a69f48377",
   "metadata": {},
   "source": [
    "#### Explain your answer below:"
   ]
  },
  {
   "cell_type": "markdown",
   "id": "0919d362-d154-4ef0-86ff-73a0f0623e9f",
   "metadata": {},
   "source": [
    "*Type your answer here*"
   ]
  },
  {
   "cell_type": "markdown",
   "id": "00640c16-d72d-489c-b8a1-07b8f2dcf8d0",
   "metadata": {},
   "source": [
    "**Question 10. *Type your question here***"
   ]
  },
  {
   "cell_type": "code",
   "execution_count": null,
   "id": "9a3c2bd6-6921-4240-87af-4e6f855e96e6",
   "metadata": {},
   "outputs": [],
   "source": [
    "# SOLUTION"
   ]
  },
  {
   "cell_type": "markdown",
   "id": "762df0e3-00f6-4830-8ab2-d38b96b7691b",
   "metadata": {},
   "source": [
    "#### Prompt below:"
   ]
  },
  {
   "cell_type": "code",
   "execution_count": null,
   "id": "799b0a9c-c129-4086-a39c-2b7e9d8435de",
   "metadata": {},
   "outputs": [],
   "source": [
    "%%ai openai-chat:gpt-4"
   ]
  },
  {
   "cell_type": "markdown",
   "id": "c1f90672-d52c-4dc1-8c7d-baedb10765c6",
   "metadata": {},
   "source": [
    "#### Explain your answer below:"
   ]
  },
  {
   "cell_type": "markdown",
   "id": "c410e685-8367-4c2c-b036-5ce2691313be",
   "metadata": {},
   "source": [
    "*Type your answer here*"
   ]
  },
  {
   "cell_type": "markdown",
   "id": "0926cbdb-31c8-4e0b-8e84-86a9d1993855",
   "metadata": {},
   "source": [
    "### Full Submission (due Thursday, February 13th at 11:59pm PT)\n",
    "\n",
    "To submit:\n",
    "- **save the notebook** first (press the icon on the top left)\n",
    "- go up to the `Kernel` menu and select `Restart & Clear Output` (make sure the notebook is saved first, because otherwise, you will lose all your work!). \n",
    "- go to `Cell -> Run All`. Carefully look through your notebook and verify that all computations execute correctly. You should see **no errors**; if there are any errors, make sure to correct them before you submit the notebook.\n",
    "- go to `File -> Download as -> Notebook` and download the notebook to your own computer. ([Please verify](https://ucsb-ds.github.io/ds1-f20/troubleshooting/#i-downloaded-the-notebook-file-but-it-saves-as-the-ipynbjson-extension-so-whenever-i-upload-it-to-gradescope-it-fails) that it got saved as an .ipynb file.)\n",
    "- Upload the notebook to [Gradescope](https://www.gradescope.com/). You can drag and drop the file too.\n",
    "- One submission per group. After you submit your notebook, you can Add Group Member. [How to Add Group Member in Gradescope](https://help.gradescope.com/article/m5qz2xsnjy-student-add-group-members)"
   ]
  }
 ],
 "metadata": {
  "kernelspec": {
   "display_name": "Python 3 (ipykernel)",
   "language": "python",
   "name": "python3"
  },
  "language_info": {
   "codemirror_mode": {
    "name": "ipython",
    "version": 3
   },
   "file_extension": ".py",
   "mimetype": "text/x-python",
   "name": "python",
   "nbconvert_exporter": "python",
   "pygments_lexer": "ipython3",
   "version": "3.11.5"
  }
 },
 "nbformat": 4,
 "nbformat_minor": 5
}
