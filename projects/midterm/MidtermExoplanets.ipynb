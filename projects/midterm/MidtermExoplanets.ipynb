{
 "cells": [
  {
   "cell_type": "code",
   "execution_count": null,
   "id": "6ad28ae7-2e04-4d17-a3b2-aca72a8f998f",
   "metadata": {},
   "outputs": [],
   "source": [
    "# Run this cell\n",
    "import matplotlib.pyplot as plt\n",
    "%matplotlib inline\n",
    "%load_ext jupyter_ai_magics\n",
    "from datascience import *\n",
    "import numpy as np\n",
    "import math"
   ]
  },
  {
   "cell_type": "markdown",
   "id": "c1813b17-0153-4b57-a0b5-284351f0c12d",
   "metadata": {},
   "source": [
    "# CMPSC 5A Midterm — Exoplanets\n",
    "\n",
    "In this project, you will learn to apply all the concepts you have learnt in the class for far. This includes table manipulation (all table functions), iteration (for loops), conditional (if statements), data cleaning, etc."
   ]
  },
  {
   "cell_type": "markdown",
   "id": "fb628b80-9a09-4416-aa52-8091e651e658",
   "metadata": {},
   "source": [
    "## Names\n",
    "Please list all students who worked on this project.\n",
    "1. Student Name 1\n",
    "2. Student Name 2\n",
    "3. Student Name 3"
   ]
  },
  {
   "cell_type": "markdown",
   "id": "b16c7130",
   "metadata": {},
   "source": [
    "## Member Responsibilities\n",
    "To make sure every member of your team contributes fairly, you should split up responsibilities before starting in writing. This should be a couple sentences. Here’s two examples of what that could look like for a hypothetical team of 2 (Alice and Bob):\n",
    "- “Alice will work on Q1-5 and Bob will do Q6-10. Each of us will make the slides that correspond to the problems we did.” \n",
    "- “We will meet in person to do the whole assignment as a team, switching up who is typing. Whoever is not currently typing will still help by checking documentation pages for the typist and advising the typist as they write code. Alice will make the first half of the slides, Bob will make the second half.” \n",
    "\n",
    "As these examples show, everyone should contribute to the notebook and presentation roughly equally.\n",
    "\n",
    "After presentations are complete, we will send out a survey where you say what you ended up doing and whether your teammate(s) held up their end of the bargain. Your self-evaluation and your teammates evaluation of you is not directly part of the rubric. \n",
    "\n",
    "This does not mean you can't help each other!!! It’s a group project. Please please please reach out to your teammate(s) if you’re struggling with questions that are assigned to you!! The survey evaluation is not a competition. We do not care if someone thinks they did 55% of the work and their partner did 45%. We care a lot if someone is not doing their work, not communicating with their team, and generally not contributing in good faith."
   ]
  },
  {
   "cell_type": "markdown",
   "id": "f2ca30bb",
   "metadata": {},
   "source": [
    "*Write your team member responsibility distribution here*"
   ]
  },
  {
   "cell_type": "markdown",
   "id": "517fc079-a505-4295-a565-33fc27ee1c2f",
   "metadata": {},
   "source": [
    "## Logistics\n",
    "\n",
    "**Deadline:** The midterm project notebook is due Thursday, February 13th, 2025 at 11:59pm PT. The midterm project presentation slides are due by 10:00am PT on Friday, February 14th. Unlike labs, **no late submissions are allowed**.\n",
    "\n",
    "**Submission:** For full credit, you must complete all the questions and submit to Gradescope. You may still change your answers before the project deadline - only your final submission will be graded for correctness. Only one partner needs to submit the notebook to Gradescope, and they will need to add the other two group members as members on Gradescope. See [How to Add Group Member in Gradescope](https://help.gradescope.com/article/m5qz2xsnjy-student-add-group-members). **After they submit, all group members should open their Gradescope accounts and see that a submission has been processed. Be sure that the final notebook has all the ChatGPT prompts used by all the team members**.\n",
    "\n",
    "**Presentation:** Your group will need to create a presentation slide deck and give a 6-8 minute oral presentation during your assigned time slot. Presentations must use slides. Your group is not allowed to scroll through your notebook during the presentation. All slides must be uploaded to https://drive.google.com/drive/folders/19zNx7JWtwSde3cDNeCT3gLOdBJ7Kuset?usp=drive_link.\n",
    "\n",
    "**IMPORTANT NOTES:** \n",
    "- You are not limited to just one solution code cell, one prompt cell and one workflow cell for each question. Use as many of each as you like to ensure your notebook is presented well, easy-to-read, and has all the required plots and intermediate tables visible to show how you deduced that answer.\n",
    "- None of the questions are created in a way that will allow you to just give a one line answer. Remember, if your answer is just a one line answer, you are probably missing something.\n",
    "- Every group's answers may be different based on the approach you take for data analysis. Others may have visually presented it with a graph that may be different from yours, or filtered the table in a different way. That does not mean yours is wrong. We are looking for diversity in how information is displayed and there are more than one correct answers for each question.\n",
    "\n",
    "**Partners:** You will work with two other partners (total three in a group); your partners can be from any lab section. \n",
    "\n",
    "**Rules:** Don't share your code with anybody but your partners. You are welcome to discuss questions with other students, but don't share the answers. The experience of solving the problems in this project will prepare you for exams (and life). If someone asks you for the answer, resist! Instead, you can demonstrate how you would solve a similar problem. Since the problems are open-ended, they can have various different answers. What is important is the approach you take to solve your task.\n",
    "\n",
    "**Support:** You are not alone! Come to office hours, post on Ed, and talk to your classmates. If you want to ask about the details of your solution to a problem, make a private Ed post and the staff will respond. If you're ever feeling overwhelmed or don't know how to make progress, email your TA or ULA.\n",
    "\n",
    "**Advice:** Develop your answers incrementally. To perform a complicated table manipulation, break it up into steps, perform each step on a different line, give a new name to each result, and check that each intermediate result is what you expect. You can add any additional names or functions you want to the provided cells. Make sure that you are using distinct and meaningful variable names throughout the notebook. Along that line, **DO NOT** reuse the variable names.\n",
    "\n",
    "You **never** have to use just one line in this project or any others. Use intermediate variables and multiple lines as much as you would like!"
   ]
  },
  {
   "cell_type": "markdown",
   "id": "337bbcd3-d114-404c-a50b-3522706ce3ba",
   "metadata": {},
   "source": [
    "## NASA Exoplanet Science Institute's Planetary Systems Composite Planet Dataset"
   ]
  },
  {
   "cell_type": "markdown",
   "id": "051bc5a3-21a9-4761-8184-a07d612402a8",
   "metadata": {},
   "source": [
    "The Planetary Systems Composite Parameters Planet Data table is an extensive collection of data regarding known [Confirmed Exoplanets](https://exoplanetarchive.ipac.caltech.edu/docs/exoplanet_criteria.html). It includes a range of parameters related to the planetary systems, stars, and the planets themselves. The primary goal of this table is to offer a comprehensive statistical perspective on the population of known exoplanets and their respective hosting environments.\n",
    "\n",
    "Managed by the NASA Exoplanet Archive, this resource compiles a variety of parameters that have been documented in peer-reviewed scientific literature. The Planetary Systems Table presents this data in a unified format, where each exoplanet's information is consolidated into a single row. This row encompasses a complete set of parameters, incorporating details about the planet, its star, and the overall system, with each reference providing a unique row in the table."
   ]
  },
  {
   "cell_type": "markdown",
   "id": "59d3a183-2b49-4f47-87fd-e3cd592c38cd",
   "metadata": {},
   "source": [
    "The NASA Exoplanet Archive has adopted a policy of including and classifying all objects as planetary that meet the following criteria:\n",
    "\n",
    "- The mass (or minimum mass) is equal to or less than 30 Jupiter masses.\n",
    "- The planet is not free floating.\n",
    "- Sufficient follow-up observations and validation have been undertaken to deem the possibility of the object being a false positive as unlikely.\n",
    "- The above information, along with further orbital and/or physical properties, are available in peer-reviewed publications.\n",
    "- The results must be peer reviewed and be accepted for publication in the astrophysical literature.\n"
   ]
  },
  {
   "cell_type": "code",
   "execution_count": null,
   "id": "89ba795d-9945-4d1d-9002-9760fffca714",
   "metadata": {},
   "outputs": [],
   "source": [
    "# Read the dataset\n",
    "planets_uncleaned = Table.read_table(\"data/PSCompPars.csv\")\n",
    "\n",
    "# Display the first few rows of the table\n",
    "planets_uncleaned.show(15)"
   ]
  },
  {
   "cell_type": "markdown",
   "id": "8771092a-6b60-4339-a4cd-753e0e075159",
   "metadata": {},
   "source": [
    "**Question 1.** Real-world datasets do not always have complete information! If you observe some of the rows above, you will find a `nan` (Not a Number). `nan` values are **NOT** strings. They are of type `None` (another kind of data type). These are missing values that can cause issues if we try to use their corresponding rows to do any kind of arithmetic. Let's do some data cleaning first and then understand what each of the columns mean.\n",
    "\n",
    "There are many ways to work with missing or skewed data. For now, we will just choose to delete any rows thats that have missing information. Name the final table something meaningful - like `planets`. This will be the table we use to answer all the other questions.\n",
    "\n",
    "Hint: One way you can do this is by writing a function and then using the apply() function.\n",
    "\n",
    "Hint: In Python, `nan` is equal to *nothing*, not even itself. So, to check if a variable x is `nan`, you can test x != x."
   ]
  },
  {
   "cell_type": "code",
   "execution_count": null,
   "id": "241957dd-8ba7-4644-b534-62e33b3468f9",
   "metadata": {},
   "outputs": [],
   "source": [
    "# SOLUTION"
   ]
  },
  {
   "attachments": {},
   "cell_type": "markdown",
   "id": "d1ed2412-f9cc-42d0-b7fc-bac3bfcc8093",
   "metadata": {},
   "source": [
    "#### Enter prompt below:"
   ]
  },
  {
   "cell_type": "code",
   "execution_count": null,
   "id": "c09082ce-20c9-487e-8cac-ab8fa95d1aa2",
   "metadata": {},
   "outputs": [],
   "source": [
    "%%ai openai-chat:gpt-4"
   ]
  },
  {
   "cell_type": "markdown",
   "id": "b6db3487-4795-4b12-be0d-cb3a927ff319",
   "metadata": {},
   "source": [
    "#### Explain your workflow below:"
   ]
  },
  {
   "cell_type": "markdown",
   "id": "4f4986cb-7467-4445-89af-0e349579035e",
   "metadata": {},
   "source": [
    "*type your answer here*"
   ]
  },
  {
   "cell_type": "markdown",
   "id": "dcc66088-609f-424e-9afc-2a0cdc9f67e3",
   "metadata": {},
   "source": [
    "Check that all the rows that had `nan` are now deleted.\n",
    "\n",
    "We now have the final dataset that we will work with."
   ]
  },
  {
   "cell_type": "markdown",
   "id": "9ece1405-da4c-43be-b675-c0f0f788cfdb",
   "metadata": {},
   "source": [
    "The column names don't make too much sense right now. We should relabel them before we start working on the data for it to make more sense for us and anyone looking through our data analysis. Given below is a list of what the existing column names correspond to:\n",
    "\n",
    "- pl_name: Planet Name\n",
    "- sy_snum: Number of Stars\n",
    "- sy_pnum: Number of Planets\n",
    "- discoverymethod: Discovery Method\n",
    "- disc_year: Discovery Year\n",
    "- disc_facility: Discovery Facility\n",
    "- pl_orbper: Orbital Period (days)\n",
    "- pl_orbsmax: Orbit Semi-Major Axis\n",
    "- pl_rade: Planet Radius (Earth Radius)\n",
    "- pl_bmasse: Planet Mass (Earth Mass)\n",
    "- st_age: Stellar Age (gigayear)\n",
    "- sy_dist: Distance (parsec)\n",
    "\n",
    "You should also read up about what each of these columns mean and in what units they are measured: https://exoplanetarchive.ipac.caltech.edu/docs/API_PS_columns.html\n",
    "\n",
    "**UNCOMMENT AND COMPLETE THE CODE WRITTEN BELOW. ADD YOUR TABLE NAME IN PLACE OF THE <>.**"
   ]
  },
  {
   "cell_type": "code",
   "execution_count": null,
   "id": "9e75323c-a6b8-4842-b392-9bcc5620f134",
   "metadata": {},
   "outputs": [],
   "source": [
    "#<TABLE_NAME> = <TABLE_NAME>.relabeled('pl_name', 'Planet Name').relabeled('sy_snum', 'Number of Stars').relabeled('sy_pnum', 'Number of Planets').relabeled('discoverymethod', 'Discovery Method').relabeled('disc_year', 'Discovery Year').relabeled('disc_facility', 'Discovery Facility').relabeled('pl_orbper', 'Orbital Period (days)').relabeled('pl_orbsmax', 'Orbit Semi-Major Axis').relabeled('pl_rade', 'Planet Radius (Earth Radius)').relabeled('pl_bmasse', 'Planet Mass (Earth Mass)').relabeled('st_age', 'Stellar Age (gigayear)').relabeled('sy_dist', 'Distance (parsec)')\n",
    "#<TABLE_NAME>"
   ]
  },
  {
   "cell_type": "markdown",
   "id": "300cbe26-5678-4c70-b59e-c272438cb137",
   "metadata": {},
   "source": [
    "We are now ready to perform some Exploratory Data Analysis (EDA)!\n",
    "\n",
    "All the questions are open-ended and you have the freedom to present as much information as you think will make a case for your arguments. You are also free to add columns if it will aid in presenting your results. Try to be as clear with any correlations you make. Use as many markdown or code cells as you need to explain your analysis in depth."
   ]
  },
  {
   "cell_type": "markdown",
   "id": "8424a1d9-7d67-4523-9ede-5c112e1f4795",
   "metadata": {},
   "source": [
    "**Question 2.** Explore the relationship between the Planet Mass and its Orbital Semi-Major Axis. Is there a correlation between the distance of a planet from its star and its mass? Think about what kind of plots you can make to show a correlation between two columns? What do you infer from this plot?"
   ]
  },
  {
   "cell_type": "code",
   "execution_count": null,
   "id": "f89e0b7b-a68c-4067-bbe9-397ab0ab918f",
   "metadata": {},
   "outputs": [],
   "source": [
    "# SOLUTION"
   ]
  },
  {
   "attachments": {},
   "cell_type": "markdown",
   "id": "ba71933c-8900-4e66-974f-35e3b5f6c7fa",
   "metadata": {},
   "source": [
    "#### Enter prompt below:"
   ]
  },
  {
   "cell_type": "code",
   "execution_count": null,
   "id": "6375b8dc-7321-4b8c-ba36-223649b11de3",
   "metadata": {},
   "outputs": [],
   "source": [
    "%%ai openai-chat:gpt-4"
   ]
  },
  {
   "cell_type": "markdown",
   "id": "88ca411d-1ded-486a-8c79-c9b0f5c61d92",
   "metadata": {},
   "source": [
    "#### Explain your workflow below:"
   ]
  },
  {
   "cell_type": "markdown",
   "id": "cc93998e-f810-4117-ba39-71d65cbb2668",
   "metadata": {},
   "source": [
    "*type your answer here*"
   ]
  },
  {
   "cell_type": "markdown",
   "id": "525e04d4-0fd6-4bee-a319-a338b95637cd",
   "metadata": {},
   "source": [
    "**Question 3.** How has the discovery of planets evolved over time? Are there trends in the number of planets discovered each year, the methods used, or the types of planets discovered (e.g., comparing the radius or mass)?"
   ]
  },
  {
   "cell_type": "code",
   "execution_count": null,
   "id": "29602b46-56d1-456d-b019-1050b6f9b6e4",
   "metadata": {},
   "outputs": [],
   "source": [
    "# SOLUTION"
   ]
  },
  {
   "attachments": {},
   "cell_type": "markdown",
   "id": "a310607a-ae93-4268-af37-a18150076753",
   "metadata": {},
   "source": [
    "#### Enter prompt below:"
   ]
  },
  {
   "cell_type": "code",
   "execution_count": null,
   "id": "d2d831f5-ebb4-4bac-9446-fde00f17d7e9",
   "metadata": {},
   "outputs": [],
   "source": [
    "%%ai openai-chat:gpt-4"
   ]
  },
  {
   "cell_type": "markdown",
   "id": "dfb890a2-4aab-4f9c-9fd2-47348fbce0ab",
   "metadata": {},
   "source": [
    "#### Explain your workflow below:"
   ]
  },
  {
   "cell_type": "markdown",
   "id": "4c7f7bf7-4199-4d0c-9f8e-fded6f9054d8",
   "metadata": {},
   "source": [
    "*type your answer here*"
   ]
  },
  {
   "cell_type": "markdown",
   "id": "08596284-ef92-469a-8545-ed1861018702",
   "metadata": {},
   "source": [
    "**Question 4.** Analyze the distribution of the ages of stars in the dataset. Are most of the stars young, old, or is there a uniform distribution across different ages?"
   ]
  },
  {
   "cell_type": "code",
   "execution_count": null,
   "id": "42f55e47-ac5f-45df-90c8-35622e0a298b",
   "metadata": {},
   "outputs": [],
   "source": [
    "# SOLUTION"
   ]
  },
  {
   "attachments": {},
   "cell_type": "markdown",
   "id": "b57d970e-b0b8-4ed3-b719-6f83f86dbcd7",
   "metadata": {},
   "source": [
    "#### Enter prompt below:"
   ]
  },
  {
   "cell_type": "code",
   "execution_count": null,
   "id": "4f37f3e0-2d7b-4608-bf59-ef151b0fffc1",
   "metadata": {},
   "outputs": [],
   "source": [
    "%%ai openai-chat:gpt-4"
   ]
  },
  {
   "cell_type": "markdown",
   "id": "45a951ca-8490-4069-ac81-520427a1d17e",
   "metadata": {},
   "source": [
    "#### Explain your workflow below:"
   ]
  },
  {
   "cell_type": "markdown",
   "id": "1f9106fe-b0ee-4824-a694-47b63da8ab3a",
   "metadata": {},
   "source": [
    "*type your answer here*"
   ]
  },
  {
   "cell_type": "markdown",
   "id": "2e381a83-0203-4e6e-8bef-f6817d5b6ceb",
   "metadata": {},
   "source": [
    "**Question 5.** Plot a line graph that shows how the average or median distance of discovered planets from Earth (sy_dist) has changed over the years (disc_year). Are we finding more distant planets as time goes on?"
   ]
  },
  {
   "cell_type": "code",
   "execution_count": null,
   "id": "47b4a3fc-3da7-41f2-9850-fc73f285c267",
   "metadata": {},
   "outputs": [],
   "source": [
    "# SOLUTION"
   ]
  },
  {
   "attachments": {},
   "cell_type": "markdown",
   "id": "8fe7559a-99c5-4215-9e1e-acbe7d96f9bc",
   "metadata": {},
   "source": [
    "#### Enter prompt below:"
   ]
  },
  {
   "cell_type": "code",
   "execution_count": null,
   "id": "ef15824e-dc3b-453e-be20-e48545aea8bf",
   "metadata": {},
   "outputs": [],
   "source": [
    "%%ai openai-chat:gpt-4"
   ]
  },
  {
   "cell_type": "markdown",
   "id": "4df58429-fd7f-4736-961e-ea3f1a1a79bc",
   "metadata": {},
   "source": [
    "#### Explain your workflow below:"
   ]
  },
  {
   "cell_type": "markdown",
   "id": "dce36c61-e03f-47e2-8d39-f657e591ae9b",
   "metadata": {},
   "source": [
    "*type your answer here*"
   ]
  },
  {
   "cell_type": "markdown",
   "id": "c95702fd-10a0-46cf-b4aa-18f33ce77479",
   "metadata": {},
   "source": [
    "**Question 6.** Investigate the occurrence rate of multi-planet systems (planetary systems with more than one planet) in the context of stellar age. Are younger or older stars more likely to host multiple planets?"
   ]
  },
  {
   "cell_type": "code",
   "execution_count": null,
   "id": "71ca798e-465b-49ae-9cd4-8890349ca53a",
   "metadata": {},
   "outputs": [],
   "source": [
    "# SOLUTION"
   ]
  },
  {
   "attachments": {},
   "cell_type": "markdown",
   "id": "9115c184-016c-412d-9c47-0c12518ccc02",
   "metadata": {},
   "source": [
    "#### Enter prompt below:"
   ]
  },
  {
   "cell_type": "code",
   "execution_count": null,
   "id": "87c8d7f7-6494-49e7-b2cf-5bded755097b",
   "metadata": {},
   "outputs": [],
   "source": [
    "%%ai openai-chat:gpt-4"
   ]
  },
  {
   "cell_type": "markdown",
   "id": "321958db-ac82-4fc3-aa5c-08604b95650f",
   "metadata": {},
   "source": [
    "#### Explain your workflow below:"
   ]
  },
  {
   "cell_type": "markdown",
   "id": "c4e29286-34c4-4b70-9899-523d7b11a818",
   "metadata": {},
   "source": [
    "*type your answer here*"
   ]
  },
  {
   "cell_type": "markdown",
   "id": "70da3377-9c35-4ec5-8934-5f5bf5b476ab",
   "metadata": {},
   "source": [
    "**Question 7.** Compare the discovery methods used for the planets in the dataset. Which methods have been the most successful in terms of number of planets discovered? Are certain types of planets (e.g., Planet Radius or Planet Mass) more likely to be discovered by one method over another?\n",
    "\n",
    "Hint: To answer this question consider placing the values of your choice (for example: Planet Radius) into buckets/bins with a given range. How would you make these buckets? Take the minimum and maximum values of size and divide it into equal buckets. Now that you have these buckets, what type of visualization would be appropriate? How many visualizations would be appropriate to make your case? As many as the number of unique values in 'Discovery Method'.\n",
    "\n",
    "You are free to use anything apart from Planet Radius as well, if you think there could be some correlation between that column and Discovery Method."
   ]
  },
  {
   "cell_type": "code",
   "execution_count": null,
   "id": "5e29623a-0ff4-4afe-9dd2-d80871c15373",
   "metadata": {},
   "outputs": [],
   "source": [
    "# SOLUTION"
   ]
  },
  {
   "attachments": {},
   "cell_type": "markdown",
   "id": "427c2baa-77a2-45d1-b7df-351cf2a828ed",
   "metadata": {},
   "source": [
    "#### Enter prompt below:"
   ]
  },
  {
   "cell_type": "code",
   "execution_count": null,
   "id": "c037b9a1-4127-4838-a34e-a8254b9685e9",
   "metadata": {},
   "outputs": [],
   "source": [
    "%%ai openai-chat:gpt-4"
   ]
  },
  {
   "cell_type": "markdown",
   "id": "34125b31-42f6-4dab-87b5-87e4b0983e6f",
   "metadata": {},
   "source": [
    "#### Explain your workflow below:"
   ]
  },
  {
   "cell_type": "markdown",
   "id": "97fe8b72-dbbc-4d0b-b9f8-bcb6ab55b8dd",
   "metadata": {},
   "source": [
    "*type your answer here*"
   ]
  },
  {
   "cell_type": "markdown",
   "id": "b835b58a-d54c-4a74-95b5-b6ecd1bcc79e",
   "metadata": {},
   "source": [
    "**Question 8.** Examine if there is any geographical pattern to where planets are discovered based on the location of the discovery facility. Is there a predominance of discoveries in certain parts of the world, and if so, what might be contributing factors (e.g., technological advancement, number of observatories, geographical reasons)? Note: You will need to look up the locations of the top observatories."
   ]
  },
  {
   "cell_type": "code",
   "execution_count": null,
   "id": "22cba652-d3a9-4a29-812b-268587fe1817",
   "metadata": {},
   "outputs": [],
   "source": [
    "# SOLUTION"
   ]
  },
  {
   "attachments": {},
   "cell_type": "markdown",
   "id": "da49bbfd-1401-4f92-8b55-0a2e6a7b06e7",
   "metadata": {},
   "source": [
    "#### Enter prompt below:"
   ]
  },
  {
   "cell_type": "code",
   "execution_count": null,
   "id": "b18f5a77-03cb-4767-b0b9-5605569aaaf3",
   "metadata": {},
   "outputs": [],
   "source": [
    "%%ai openai-chat:gpt-4"
   ]
  },
  {
   "cell_type": "markdown",
   "id": "ed747476-586e-4253-a713-cc09c4b404ff",
   "metadata": {},
   "source": [
    "#### Explain your workflow below:"
   ]
  },
  {
   "cell_type": "markdown",
   "id": "55addc0d-be31-46e2-a361-ac4343d3a58f",
   "metadata": {},
   "source": [
    "*type your answer here*"
   ]
  },
  {
   "cell_type": "markdown",
   "id": "f5e88686-830a-49bf-abf9-aa546206ca82",
   "metadata": {},
   "source": [
    "## Novel analysis\n",
    "For the last section of your midterm project, you are expected to think like a data scientist. Formulate **TWO** unique questions/problems/insights that you can solve or obtain from the dataset given to you. **You need to come up with the problem and present the solution in the notebook**. The problems you come up with will be graded on novelty and the work necessary to obtain them. **DO NOT** reuse problems that are already covered in the midterm or those that could be solved or visualized with a single line of code."
   ]
  },
  {
   "cell_type": "markdown",
   "id": "8a4a633b-1ba5-4a93-b122-b8f2beb7ad73",
   "metadata": {},
   "source": [
    "**Question 9. *Type your question here***"
   ]
  },
  {
   "cell_type": "code",
   "execution_count": null,
   "id": "1775708b-f272-4b73-8158-de0e9bf20148",
   "metadata": {},
   "outputs": [],
   "source": [
    "# SOLUTION"
   ]
  },
  {
   "attachments": {},
   "cell_type": "markdown",
   "id": "bb6722d9-41ce-4cc6-89db-fc2d7081a802",
   "metadata": {},
   "source": [
    "#### Enter prompt below:"
   ]
  },
  {
   "cell_type": "code",
   "execution_count": null,
   "id": "07eb1236-f4c9-4e8f-964b-ea558c9ff0b8",
   "metadata": {},
   "outputs": [],
   "source": [
    "%%ai openai-chat:gpt-4"
   ]
  },
  {
   "cell_type": "markdown",
   "id": "1b221292-c76a-4d56-bcd3-144d5d61c080",
   "metadata": {},
   "source": [
    "#### Explain your workflow below:"
   ]
  },
  {
   "cell_type": "markdown",
   "id": "1eb6423c-dc50-48f4-992c-aac74b1402f6",
   "metadata": {},
   "source": [
    "*type your answer here*"
   ]
  },
  {
   "cell_type": "markdown",
   "id": "4a01aedd-54a3-4cc8-9bb8-87cbe81fdd26",
   "metadata": {},
   "source": [
    "**Question 10. *Type your question here***"
   ]
  },
  {
   "cell_type": "code",
   "execution_count": null,
   "id": "47cd5454-abfe-4d26-a860-d380a46ef0f0",
   "metadata": {},
   "outputs": [],
   "source": [
    "# SOLUTION"
   ]
  },
  {
   "attachments": {},
   "cell_type": "markdown",
   "id": "bd889d54-2433-43b8-a39d-4d02c73c4406",
   "metadata": {},
   "source": [
    "#### Enter prompt below:"
   ]
  },
  {
   "cell_type": "code",
   "execution_count": null,
   "id": "9ba8b9ce-de23-4833-b77e-ec73825647e5",
   "metadata": {},
   "outputs": [],
   "source": [
    "%%ai openai-chat:gpt-4"
   ]
  },
  {
   "cell_type": "markdown",
   "id": "dd3370b4-8da5-42db-bf11-c245ce9ada81",
   "metadata": {},
   "source": [
    "#### Explain your workflow below:"
   ]
  },
  {
   "cell_type": "markdown",
   "id": "caa67b1f-d184-49b3-9636-5f62f0aa3b30",
   "metadata": {},
   "source": [
    "*type your answer here*"
   ]
  },
  {
   "cell_type": "markdown",
   "id": "d7ee0214-9c6c-4c3e-ac22-d325abecf431",
   "metadata": {},
   "source": [
    "### Full Submission (due Thursday, February 13 at 11:59pm PT)\n",
    "\n",
    "To submit:\n",
    "- **save the notebook** first (press the icon on the top left)\n",
    "- go up to the `Kernel` menu and select `Restart & Clear Output` (make sure the notebook is saved first, because otherwise, you will lose all your work!). \n",
    "- go to `Cell -> Run All`. Carefully look through your notebook and verify that all computations execute correctly. You should see **no errors**; if there are any errors, make sure to correct them before you submit the notebook.\n",
    "- go to `File -> Download as -> Notebook` and download the notebook to your own computer. ([Please verify](https://ucsb-ds.github.io/ds1-f20/troubleshooting/#i-downloaded-the-notebook-file-but-it-saves-as-the-ipynbjson-extension-so-whenever-i-upload-it-to-gradescope-it-fails) that it got saved as an .ipynb file.)\n",
    "- Upload the notebook to [Gradescope](https://www.gradescope.com/). You can drag and drop the file too.\n",
    "- One submission per group. After you submit your notebook, you can Add Group Member. [How to Add Group Member in Gradescope](https://help.gradescope.com/article/m5qz2xsnjy-student-add-group-members)"
   ]
  },
  {
   "cell_type": "code",
   "execution_count": null,
   "id": "fd4970c6-4b1c-4512-aa7e-886536c85109",
   "metadata": {},
   "outputs": [],
   "source": []
  }
 ],
 "metadata": {
  "kernelspec": {
   "display_name": "Python 3 (ipykernel)",
   "language": "python",
   "name": "python3"
  },
  "language_info": {
   "codemirror_mode": {
    "name": "ipython",
    "version": 3
   },
   "file_extension": ".py",
   "mimetype": "text/x-python",
   "name": "python",
   "nbconvert_exporter": "python",
   "pygments_lexer": "ipython3",
   "version": "3.11.5"
  }
 },
 "nbformat": 4,
 "nbformat_minor": 5
}
